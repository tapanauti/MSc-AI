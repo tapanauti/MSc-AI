{
 "cells": [
  {
   "cell_type": "markdown",
   "metadata": {
    "slideshow": {
     "slide_type": "slide"
    }
   },
   "source": [
    "<center><img src=img/MScAI_brand.png width=70%></center>\n",
    "\n",
    "# Numpy: Input/Output"
   ]
  },
  {
   "cell_type": "markdown",
   "metadata": {
    "slideshow": {
     "slide_type": "slide"
    }
   },
   "source": [
    "### Reading and writing data with Numpy\n",
    "\n",
    "\n",
    "To read and write Numpy arrays, we use `np.load()` and `np.save()` like this:\n",
    "\n"
   ]
  },
  {
   "cell_type": "code",
   "execution_count": 1,
   "metadata": {
    "slideshow": {
     "slide_type": "subslide"
    }
   },
   "outputs": [
    {
     "name": "stdout",
     "output_type": "stream",
     "text": [
      "[[0.41738414 0.50075328]\n",
      " [0.22414113 0.54842202]\n",
      " [0.64288255 0.01291776]\n",
      " [0.39759689 0.31183326]\n",
      " [0.264635   0.17048049]]\n"
     ]
    }
   ],
   "source": [
    "import numpy as np\n",
    "X = np.random.random((5, 2))\n",
    "# .npy is a convention for the suffix\n",
    "np.save(\"data/mytest.npy\", X) \n",
    "Y = np.load(\"data/mytest.npy\")\n",
    "print(Y)"
   ]
  },
  {
   "cell_type": "markdown",
   "metadata": {
    "slideshow": {
     "slide_type": "subslide"
    }
   },
   "source": [
    "The above stores the data in a compressed format, not human-readable. Sometimes it's nice to store in a CSV or similar format instead. `np.savetxt()` and `np.loadtxt()` have lots of options for controlling formatting."
   ]
  },
  {
   "cell_type": "code",
   "execution_count": 2,
   "metadata": {
    "slideshow": {
     "slide_type": "fragment"
    }
   },
   "outputs": [],
   "source": [
    "np.savetxt(\"data/mytest.csv\", X, \n",
    "           delimiter=',', header=\"a, b\", \n",
    "           fmt=\"%.3f\") "
   ]
  },
  {
   "cell_type": "code",
   "execution_count": 3,
   "metadata": {
    "slideshow": {
     "slide_type": "subslide"
    }
   },
   "outputs": [
    {
     "name": "stdout",
     "output_type": "stream",
     "text": [
      "# a, b\r\n",
      "0.417,0.501\r\n",
      "0.224,0.548\r\n",
      "0.643,0.013\r\n",
      "0.398,0.312\r\n",
      "0.265,0.170\r\n"
     ]
    }
   ],
   "source": [
    "# let's look at the file itself:\n",
    "# if this doesn't work, just open \n",
    "# data/mytest.csv in a text editor\n",
    "# the ! syntax allows us to type a \n",
    "# shell command in IPython. \n",
    "# 'cat' is not a Python command\n",
    "!cat \"data/mytest.csv\""
   ]
  },
  {
   "cell_type": "code",
   "execution_count": 4,
   "metadata": {
    "slideshow": {
     "slide_type": "subslide"
    }
   },
   "outputs": [
    {
     "name": "stdout",
     "output_type": "stream",
     "text": [
      "[[0.417 0.501]\n",
      " [0.224 0.548]\n",
      " [0.643 0.013]\n",
      " [0.398 0.312]\n",
      " [0.265 0.17 ]]\n"
     ]
    }
   ],
   "source": [
    "Y = np.loadtxt(\"data/mytest.csv\", \n",
    "               delimiter=',', comments=\"#\") # now load it\n",
    "print(Y)"
   ]
  },
  {
   "cell_type": "markdown",
   "metadata": {
    "slideshow": {
     "slide_type": "subslide"
    }
   },
   "source": [
    "**Exercises**: Here are 100 Numpy exercises. Many of these are far too difficult for our purposes here.\n",
    "\n",
    "https://github.com/rougier/numpy-100"
   ]
  }
 ],
 "metadata": {
  "anaconda-cloud": {},
  "celltoolbar": "Slideshow",
  "kernelspec": {
   "display_name": "Python 3",
   "language": "python",
   "name": "python3"
  },
  "language_info": {
   "codemirror_mode": {
    "name": "ipython",
    "version": 3
   },
   "file_extension": ".py",
   "mimetype": "text/x-python",
   "name": "python",
   "nbconvert_exporter": "python",
   "pygments_lexer": "ipython3",
   "version": "3.7.3"
  }
 },
 "nbformat": 4,
 "nbformat_minor": 1
}
