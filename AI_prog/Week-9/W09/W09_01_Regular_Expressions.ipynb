{
 "cells": [
  {
   "cell_type": "markdown",
   "metadata": {
    "slideshow": {
     "slide_type": "slide"
    }
   },
   "source": [
    "<center><img src=img/MScAI_brand.png width=70%></center>\n",
    "\n",
    "# Regular Expressions\n"
   ]
  },
  {
   "cell_type": "markdown",
   "metadata": {
    "slideshow": {
     "slide_type": "slide"
    }
   },
   "source": [
    "In Computer Science, a (formal) **language** is defined as *a set of strings*. \n",
    "\n",
    "`L = {\"b\", \"ab\", \"aab\", \"aaab\"}` is a language defined by enumeration."
   ]
  },
  {
   "cell_type": "markdown",
   "metadata": {},
   "source": [
    "\n",
    "`L = {strings of length 1...4, starting with zero or more 'a's and ending in exactly 1 'b'}` is the same language defined by a rule."
   ]
  },
  {
   "cell_type": "markdown",
   "metadata": {
    "slideshow": {
     "slide_type": "subslide"
    }
   },
   "source": [
    "\n",
    "`L = {valid email addresses according to RFC2822}` is a language. https://tools.ietf.org/html/rfc2822"
   ]
  },
  {
   "cell_type": "markdown",
   "metadata": {},
   "source": [
    "\n",
    "`L = {valid Python files}` is a language too, defined partly by Python docs and also, partly, perhaps implicitly by the behaviour of the Python interpreter."
   ]
  },
  {
   "cell_type": "markdown",
   "metadata": {
    "slideshow": {
     "slide_type": "subslide"
    }
   },
   "source": [
    "There are two main things we might want to do with languages.\n",
    "1. *Recognize* strings, i.e. check whether a given string is in the language;\n",
    "\n",
    "  a. Just check, i.e. return True/False;\n",
    "  \n",
    "  b. Check, and (assuming True), extract some of the structure or contents of the string;\n",
    "2. *Generate* strings, i.e. generate 1 or more random strings from the language."
   ]
  },
  {
   "cell_type": "markdown",
   "metadata": {
    "slideshow": {
     "slide_type": "subslide"
    }
   },
   "source": [
    "There are several different techniques suitable for *recognising* different types of languages:\n",
    "\n",
    "* manual testing against explicit rules;\n",
    "* regular expressions;\n",
    "* grammars;\n",
    "* finite state machines."
   ]
  },
  {
   "cell_type": "markdown",
   "metadata": {
    "slideshow": {
     "slide_type": "subslide"
    }
   },
   "source": [
    "### Recognising and extracting structure: some problems\n",
    "\n",
    "* Validate user IDs, credit card numbers, post-codes, etc.\n",
    "* Extract all email addresses from a text document\n",
    "* Extract all the html tags from a html document\n",
    "* Extract all the docstrings from Python code\n",
    "* Check whether a URL is blacklisted\n",
    "* Syntax-highlighting code\n",
    "* Detecting repeated words in text, e.g. common typo \"the the\", \"an an\"\n",
    "* Advanced find and replace mode in text editors/IDEs."
   ]
  },
  {
   "cell_type": "markdown",
   "metadata": {
    "slideshow": {
     "slide_type": "slide"
    }
   },
   "source": [
    "### Regular expressions\n"
   ]
  },
  {
   "cell_type": "markdown",
   "metadata": {
    "slideshow": {
     "slide_type": "subslide"
    }
   },
   "source": [
    "In the 1960s and 1970s programmers realised that they were solving\n",
    "problems like this over and over, so they started to use regular\n",
    "expressions - a powerful, general method for matching strings against patterns, i.e. recognising (a certain type of) formal language."
   ]
  },
  {
   "cell_type": "markdown",
   "metadata": {
    "slideshow": {
     "slide_type": "subslide"
    }
   },
   "source": [
    "\n",
    "Replace: manually-written, error-prone, wheel-reinventing code\n",
    "\n",
    "$\\rightarrow$ a single formalism, a purpose-built mini-language, a single library implementation"
   ]
  },
  {
   "cell_type": "markdown",
   "metadata": {
    "slideshow": {
     "slide_type": "subslide"
    }
   },
   "source": [
    "\"Some people, when confronted with a problem, think “I know,\n",
    "I'll use regular expressions.”  Now they have two problems.\" -- Jamie Zawinski"
   ]
  },
  {
   "cell_type": "code",
   "execution_count": 1,
   "metadata": {
    "slideshow": {
     "slide_type": "subslide"
    }
   },
   "outputs": [],
   "source": [
    "# the module is just called re\n",
    "import re"
   ]
  },
  {
   "cell_type": "markdown",
   "metadata": {
    "slideshow": {
     "slide_type": "slide"
    }
   },
   "source": [
    "### A quick example: detect all opening HTML tags"
   ]
  },
  {
   "cell_type": "code",
   "execution_count": 7,
   "metadata": {},
   "outputs": [
    {
     "data": {
      "text/plain": [
       "['<a href=test.com>', '<font size=1>']"
      ]
     },
     "execution_count": 7,
     "metadata": {},
     "output_type": "execute_result"
    }
   ],
   "source": [
    "p = \"<[^/].*?>\"\n",
    "s = \"<a href=test.com><font size=1>Some text></font></a>\"\n",
    "re.findall(p, s)"
   ]
  },
  {
   "cell_type": "markdown",
   "metadata": {
    "slideshow": {
     "slide_type": "fragment"
    }
   },
   "source": [
    "What we see: the **pattern** `p` is a string in a \"domain-specific language\" (a small language with its own, specialised syntax).\n",
    "\n",
    "`s` is the target string to be matched."
   ]
  },
  {
   "cell_type": "markdown",
   "metadata": {
    "slideshow": {
     "slide_type": "slide"
    }
   },
   "source": [
    "### Ways of using REs\n",
    "\n",
    "* `re.match(p, s)`: check whether pattern `p` matches part of string `s` **from the start**\n",
    "* `re.search(p, s)`: check whether `p` matches any part of `s`\n",
    "* `re.findall(p, s)`: find all matches of `p` in `s`\n",
    "* `re.split(p, s)`: like `str.split` but splits wherever `p` matches part of `s`\n",
    "* `re.sub(p, r, s)`: for every match `p` in `s`, replace by `r` (`r` could be a string or function)."
   ]
  },
  {
   "cell_type": "markdown",
   "metadata": {
    "slideshow": {
     "slide_type": "slide"
    }
   },
   "source": [
    "### Raw strings\n",
    "\n",
    "We previously saw f-strings `f\"\"` which are useful for formatted output: \n",
    "```python\n",
    "f\"a = {a}\"\n",
    "```\n",
    "\n",
    "A **raw string** uses a similar syntax `r\"\"`. Inside a raw string, backslash-escapes such as `\\n` and `\\t` are not processed, they just remain as-is."
   ]
  },
  {
   "cell_type": "code",
   "execution_count": 10,
   "metadata": {
    "slideshow": {
     "slide_type": "subslide"
    }
   },
   "outputs": [
    {
     "name": "stdout",
     "output_type": "stream",
     "text": [
      "not raw a\tb\tc\n",
      "d\\e\n",
      "raw a\\tb\\tc\\nd\\\\e\n"
     ]
    }
   ],
   "source": [
    "print(\"not raw\", 'a\\tb\\tc\\nd\\\\e')\n",
    "print(\"raw\",    r'a\\tb\\tc\\nd\\\\e')"
   ]
  },
  {
   "cell_type": "markdown",
   "metadata": {
    "slideshow": {
     "slide_type": "notes"
    }
   },
   "source": [
    "This is handy when writing RE patterns, because they often contain backslashes anyway. In a normal string, to write a backslash, we'd need to write a double-backslash. It would get confusing."
   ]
  },
  {
   "cell_type": "markdown",
   "metadata": {
    "slideshow": {
     "slide_type": "slide"
    }
   },
   "source": [
    "### RE syntax\n",
    "\n",
    "* Most characters just match themselves\n",
    "* Wildcard `.` matches any one character\n",
    "* Repetition markers `?`, `*`, `+`, `{n}`\n",
    "* Match one of several alternatives marked with `|`\n",
    "* Abbreviations like `\\d`, `\\s`, `\\w` for character sets\n",
    "* Custom sets like `[0-9a-f]` for hexadecimal\n",
    "* Non-greedy marker `?`\n",
    "* Backslash-escapes for special chars, e.g. `\\.`\n",
    "* Match beginning `^` or end `$`"
   ]
  },
  {
   "cell_type": "markdown",
   "metadata": {
    "slideshow": {
     "slide_type": "slide"
    }
   },
   "source": [
    "(In the video presentation of this notebook, we will now go to https://regex101.com/, an amazing resource for learning, writing, and debugging REs.)"
   ]
  },
  {
   "cell_type": "markdown",
   "metadata": {
    "slideshow": {
     "slide_type": "slide"
    }
   },
   "source": [
    "### Literals, wildcards, and repetition"
   ]
  },
  {
   "cell_type": "code",
   "execution_count": 49,
   "metadata": {
    "slideshow": {
     "slide_type": "subslide"
    }
   },
   "outputs": [],
   "source": [
    "s = \"ax abx abbx abbbx abbbbx\""
   ]
  },
  {
   "cell_type": "code",
   "execution_count": 56,
   "metadata": {
    "slideshow": {
     "slide_type": "fragment"
    }
   },
   "outputs": [
    {
     "data": {
      "text/plain": [
       "['ab', 'ab', 'ab', 'ab']"
      ]
     },
     "execution_count": 56,
     "metadata": {},
     "output_type": "execute_result"
    }
   ],
   "source": [
    "p = r\"ab\"\n",
    "re.findall(p, s)"
   ]
  },
  {
   "cell_type": "code",
   "execution_count": 57,
   "metadata": {
    "slideshow": {
     "slide_type": "fragment"
    }
   },
   "outputs": [
    {
     "data": {
      "text/plain": [
       "['ax', 'abx']"
      ]
     },
     "execution_count": 57,
     "metadata": {},
     "output_type": "execute_result"
    }
   ],
   "source": [
    "p = r\"ab?x\"\n",
    "re.findall(p, s)"
   ]
  },
  {
   "cell_type": "code",
   "execution_count": 49,
   "metadata": {
    "slideshow": {
     "slide_type": "subslide"
    }
   },
   "outputs": [],
   "source": [
    "s = \"ax abx abbx abbbx abbbbx\""
   ]
  },
  {
   "cell_type": "code",
   "execution_count": 59,
   "metadata": {
    "slideshow": {
     "slide_type": "fragment"
    }
   },
   "outputs": [
    {
     "data": {
      "text/plain": [
       "['ax', 'abx', 'abbx', 'abbbx', 'abbbbx']"
      ]
     },
     "execution_count": 59,
     "metadata": {},
     "output_type": "execute_result"
    }
   ],
   "source": [
    "p = r\"ab*x\"\n",
    "re.findall(p, s)"
   ]
  },
  {
   "cell_type": "code",
   "execution_count": 58,
   "metadata": {
    "slideshow": {
     "slide_type": "fragment"
    }
   },
   "outputs": [
    {
     "data": {
      "text/plain": [
       "['abx', 'abbx', 'abbbx', 'abbbbx']"
      ]
     },
     "execution_count": 58,
     "metadata": {},
     "output_type": "execute_result"
    }
   ],
   "source": [
    "p = r\"ab+x\"\n",
    "re.findall(p, s)"
   ]
  },
  {
   "cell_type": "code",
   "execution_count": 49,
   "metadata": {
    "slideshow": {
     "slide_type": "subslide"
    }
   },
   "outputs": [],
   "source": [
    "s = \"ax abx abbx abbbx abbbbx\""
   ]
  },
  {
   "cell_type": "code",
   "execution_count": 60,
   "metadata": {
    "slideshow": {
     "slide_type": "fragment"
    }
   },
   "outputs": [
    {
     "data": {
      "text/plain": [
       "['abx']"
      ]
     },
     "execution_count": 60,
     "metadata": {},
     "output_type": "execute_result"
    }
   ],
   "source": [
    "p = r\"a.x\"\n",
    "re.findall(p, s)"
   ]
  },
  {
   "cell_type": "code",
   "execution_count": 61,
   "metadata": {
    "slideshow": {
     "slide_type": "fragment"
    }
   },
   "outputs": [
    {
     "data": {
      "text/plain": [
       "['ax abx abbx abbbx abbbbx']"
      ]
     },
     "execution_count": 61,
     "metadata": {},
     "output_type": "execute_result"
    }
   ],
   "source": [
    "p = r\"a.*x\"\n",
    "re.findall(p, s)"
   ]
  },
  {
   "cell_type": "code",
   "execution_count": 49,
   "metadata": {
    "slideshow": {
     "slide_type": "subslide"
    }
   },
   "outputs": [],
   "source": [
    "s = \"ax abx abbx abbbx abbbbx\""
   ]
  },
  {
   "cell_type": "code",
   "execution_count": 63,
   "metadata": {
    "slideshow": {
     "slide_type": "fragment"
    }
   },
   "outputs": [
    {
     "data": {
      "text/plain": [
       "['abbbbx']"
      ]
     },
     "execution_count": 63,
     "metadata": {},
     "output_type": "execute_result"
    }
   ],
   "source": [
    "p = r\"ab{4}x\"\n",
    "re.findall(p, s)"
   ]
  },
  {
   "cell_type": "markdown",
   "metadata": {
    "slideshow": {
     "slide_type": "subslide"
    }
   },
   "source": [
    "### Custom classes\n",
    "\n",
    "It is common to want to match any character from a particular set. We do that using `[]`."
   ]
  },
  {
   "cell_type": "code",
   "execution_count": 4,
   "metadata": {
    "slideshow": {
     "slide_type": "subslide"
    }
   },
   "outputs": [
    {
     "data": {
      "text/plain": [
       "['+=', '+', '/']"
      ]
     },
     "execution_count": 4,
     "metadata": {},
     "output_type": "execute_result"
    }
   ],
   "source": [
    "p = r\"[-=+/*]+\"\n",
    "s = \"x += 5 + 3 / 17\"\n",
    "re.findall(p, s)"
   ]
  },
  {
   "cell_type": "markdown",
   "metadata": {
    "slideshow": {
     "slide_type": "subslide"
    }
   },
   "source": [
    "The syntax `a-z` or similar inside the `[]` means to take `a`, `z`, and all characters between. It works for `A-Z` and `0-9` also. \n",
    "\n",
    "(In the previous example, we saw `-` inside `[]` but not inside a range like `a-z`.)"
   ]
  },
  {
   "cell_type": "code",
   "execution_count": 66,
   "metadata": {
    "slideshow": {
     "slide_type": "fragment"
    }
   },
   "outputs": [
    {
     "data": {
      "text/plain": [
       "['true', 'false']"
      ]
     },
     "execution_count": 66,
     "metadata": {},
     "output_type": "execute_result"
    }
   ],
   "source": [
    "p = r\"[a-zA-Z]+\"\n",
    "s = \"9080true6030false\"\n",
    "re.findall(p, s)"
   ]
  },
  {
   "cell_type": "markdown",
   "metadata": {
    "slideshow": {
     "slide_type": "subslide"
    }
   },
   "source": [
    "The character `^` as the **first** character inside `[]` means **not**, i.e. we now match anything **other than** what is inside `[]`."
   ]
  },
  {
   "cell_type": "code",
   "execution_count": 112,
   "metadata": {
    "slideshow": {
     "slide_type": "fragment"
    }
   },
   "outputs": [
    {
     "data": {
      "text/plain": [
       "['<a href=test.com>', '<font size=1>']"
      ]
     },
     "execution_count": 112,
     "metadata": {},
     "output_type": "execute_result"
    }
   ],
   "source": [
    "p = \"<[^/].*?>\" # reject closing tags </\n",
    "s = \"<a href=test.com><font size=1>Some text></font></a>\"\n",
    "re.findall(p, s)"
   ]
  },
  {
   "cell_type": "markdown",
   "metadata": {
    "slideshow": {
     "slide_type": "subslide"
    }
   },
   "source": [
    "### Example: hexadecimal\n",
    "\n",
    "As we know, a hexadecimal digit is a digit 0-9 or letter a-f (or A-F). Here is an RE to match 1 or more hexadecimal digits."
   ]
  },
  {
   "cell_type": "code",
   "execution_count": 77,
   "metadata": {},
   "outputs": [
    {
     "data": {
      "text/plain": [
       "['ACDC1979', 'Bac', '1741', 'ABBA1980']"
      ]
     },
     "execution_count": 77,
     "metadata": {},
     "output_type": "execute_result"
    }
   ],
   "source": [
    "p = r\"[0-9a-fA-F]+\"\n",
    "s = \"ACDC1979, Bach1741, ABBA1980\"\n",
    "re.findall(p, s)"
   ]
  },
  {
   "cell_type": "markdown",
   "metadata": {
    "slideshow": {
     "slide_type": "subslide"
    }
   },
   "source": [
    "### Abbreviations for common classes\n",
    "* `\\d`: any digit, i.e `[0-9]`; \n",
    "* `\\D`: any nondigit, i.e. `[^0-9]`;\n",
    "* `\\s`: any whitespace;\n",
    "* `\\S`: any non-whitespace;\n",
    "* `\\w`: \"alphanumeric\" (including `_`) suitable for use in variable names;\n",
    "* `\\W`: non-\"alphanumeric\"."
   ]
  },
  {
   "cell_type": "markdown",
   "metadata": {
    "slideshow": {
     "slide_type": "slide"
    }
   },
   "source": [
    "**Exercise**: Strong Password Detection. Given a password as a string, say how strong it is. Give it \"+20% strength\" for each:\n",
    "* Longer than 8 characters\n",
    "* Contains lower-case\n",
    "* Contains upper-case\n",
    "* Contains one or more digits\n",
    "* Contains one or more non-alphanumerical characters\n"
   ]
  },
  {
   "cell_type": "code",
   "execution_count": 114,
   "metadata": {
    "slideshow": {
     "slide_type": "subslide"
    }
   },
   "outputs": [
    {
     "data": {
      "text/plain": [
       "100"
      ]
     },
     "execution_count": 114,
     "metadata": {},
     "output_type": "execute_result"
    }
   ],
   "source": [
    "import re\n",
    "def strong_pw(s):\n",
    "    strength = 0\n",
    "    if len(s) > 8:\n",
    "        strength += 20\n",
    "    if re.search(r\"\\d\", s) is not None:\n",
    "        strength += 20\n",
    "    if re.search(r\"[a-z]\", s) is not None:\n",
    "        strength += 20\n",
    "    if re.search(r\"[A-Z]\", s) is not None:\n",
    "        strength += 20\n",
    "    if re.search(r\"\\W\", s) is not None or \"_\" in s:\n",
    "        strength += 20\n",
    "    return strength\n",
    "strong_pw(\"MyTe$tPassw0rd\")"
   ]
  },
  {
   "cell_type": "markdown",
   "metadata": {
    "slideshow": {
     "slide_type": "slide"
    }
   },
   "source": [
    "### Anchors `^` and `$`\n",
    "These characters \"anchor\" the match to the start and the end of a line respectively."
   ]
  },
  {
   "cell_type": "code",
   "execution_count": 91,
   "metadata": {
    "slideshow": {
     "slide_type": "fragment"
    }
   },
   "outputs": [
    {
     "data": {
      "text/plain": [
       "['b']"
      ]
     },
     "execution_count": 91,
     "metadata": {},
     "output_type": "execute_result"
    }
   ],
   "source": [
    "s = \"a b c\"\n",
    "p = r\"b\"\n",
    "re.findall(p, s)"
   ]
  },
  {
   "cell_type": "code",
   "execution_count": 92,
   "metadata": {
    "slideshow": {
     "slide_type": "fragment"
    }
   },
   "outputs": [
    {
     "data": {
      "text/plain": [
       "[]"
      ]
     },
     "execution_count": 92,
     "metadata": {},
     "output_type": "execute_result"
    }
   ],
   "source": [
    "s = \"a b c\"\n",
    "p = r\"^b\"\n",
    "re.findall(p, s)"
   ]
  },
  {
   "cell_type": "markdown",
   "metadata": {
    "slideshow": {
     "slide_type": "subslide"
    }
   },
   "source": [
    "### Example: valid variable names\n",
    "\n",
    "Which of these are valid variable names in Python?"
   ]
  },
  {
   "cell_type": "code",
   "execution_count": 83,
   "metadata": {
    "slideshow": {
     "slide_type": "-"
    }
   },
   "outputs": [],
   "source": [
    "ss = [\"x\", \"x17\", \"n_chars\", \"n chars\", \"_\", \"_iters\", \"17x\"]"
   ]
  },
  {
   "cell_type": "markdown",
   "metadata": {
    "slideshow": {
     "slide_type": "fragment"
    }
   },
   "source": [
    "The first character must be a letter or underscore, and after that letters, digits and underscores are allowed."
   ]
  },
  {
   "cell_type": "code",
   "execution_count": 97,
   "metadata": {
    "slideshow": {
     "slide_type": "subslide"
    }
   },
   "outputs": [
    {
     "name": "stdout",
     "output_type": "stream",
     "text": [
      "'x' : <re.Match object; span=(0, 1), match='x'>\n",
      "'x17' : <re.Match object; span=(0, 3), match='x17'>\n",
      "'n_chars' : <re.Match object; span=(0, 7), match='n_chars'>\n",
      "'n chars' : None\n",
      "'_' : <re.Match object; span=(0, 1), match='_'>\n",
      "'_iters' : <re.Match object; span=(0, 6), match='_iters'>\n",
      "'17x' : None\n"
     ]
    }
   ],
   "source": [
    "ss = [\"x\", \"x17\", \"n_chars\", \"n chars\", \"_\", \"_iters\", \"17x\"]\n",
    "p = r\"^[a-zA-Z_]\\w*$\"\n",
    "for s in ss:\n",
    "    print(repr(s), \":\", re.match(p, s))"
   ]
  },
  {
   "cell_type": "markdown",
   "metadata": {
    "slideshow": {
     "slide_type": "fragment"
    }
   },
   "source": [
    "To correctly reject `\"n chars\"` which contains a space, we must avoid matching *part* of the string, so we use anchors to insist we match all of the string."
   ]
  },
  {
   "cell_type": "markdown",
   "metadata": {
    "slideshow": {
     "slide_type": "slide"
    }
   },
   "source": [
    "### Backslash-escapes\n",
    "\n",
    "As we have seen, in the RE domain-specific language, many \"metacharacters\" have special meanings, e.g. `. ^ $ * + ? { } [ ] \\ | ( )`.\n",
    "\n",
    "Just like in Python strings, if we want to write a special character we have to escape it with `\\`. "
   ]
  },
  {
   "cell_type": "markdown",
   "metadata": {
    "slideshow": {
     "slide_type": "subslide"
    }
   },
   "source": [
    "Below is a simple/incomplete email address pattern. As you can see it matches any alphanumeric string followed by `@` followed by an alphanumeric string followed by `\\.ie` to match the literal `.ie`. "
   ]
  },
  {
   "cell_type": "code",
   "execution_count": 100,
   "metadata": {
    "slideshow": {
     "slide_type": "-"
    }
   },
   "outputs": [
    {
     "data": {
      "text/plain": [
       "<re.Match object; span=(0, 18), match='james@nuigalway.ie'>"
      ]
     },
     "execution_count": 100,
     "metadata": {},
     "output_type": "execute_result"
    }
   ],
   "source": [
    "s = \"james@nuigalway.ie\"\n",
    "p = r\"\\w+@\\w+\\.ie\"\n",
    "re.match(p, s)"
   ]
  },
  {
   "cell_type": "markdown",
   "metadata": {
    "slideshow": {
     "slide_type": "slide"
    }
   },
   "source": [
    "### Groups\n",
    "\n",
    "Remember, sometimes we want not just to validate/match the string, but to extract some structure it. We can use **groups** for this, with the syntax `()`."
   ]
  },
  {
   "cell_type": "markdown",
   "metadata": {
    "slideshow": {
     "slide_type": "subslide"
    }
   },
   "source": [
    "In the email address, let's extract the username, i.e. the part before `@`."
   ]
  },
  {
   "cell_type": "code",
   "execution_count": 103,
   "metadata": {},
   "outputs": [
    {
     "data": {
      "text/plain": [
       "'james'"
      ]
     },
     "execution_count": 103,
     "metadata": {},
     "output_type": "execute_result"
    }
   ],
   "source": [
    "s = \"james@nuigalway.ie\"\n",
    "p = r\"(\\w+)@\\w+\\.ie\"\n",
    "re.match(p, s).group(1)"
   ]
  },
  {
   "cell_type": "markdown",
   "metadata": {
    "slideshow": {
     "slide_type": "subslide"
    }
   },
   "source": [
    "Group 0 is the whole match. Group 1 is the first group. \n",
    "\n",
    "Groups can even be nested!"
   ]
  },
  {
   "cell_type": "markdown",
   "metadata": {
    "slideshow": {
     "slide_type": "subslide"
    }
   },
   "source": [
    "Groups are also useful when we want to apply a repetition operator to a sub-pattern rather than a single character."
   ]
  },
  {
   "cell_type": "code",
   "execution_count": 121,
   "metadata": {
    "slideshow": {
     "slide_type": "fragment"
    }
   },
   "outputs": [
    {
     "data": {
      "text/plain": [
       "<re.Match object; span=(0, 5), match='abccc'>"
      ]
     },
     "execution_count": 121,
     "metadata": {},
     "output_type": "execute_result"
    }
   ],
   "source": [
    "s = \"abccc\"\n",
    "p = r\"abc{3}\"\n",
    "re.match(p, s)"
   ]
  },
  {
   "cell_type": "code",
   "execution_count": 122,
   "metadata": {
    "slideshow": {
     "slide_type": "fragment"
    }
   },
   "outputs": [
    {
     "data": {
      "text/plain": [
       "<re.Match object; span=(0, 9), match='abcabcabc'>"
      ]
     },
     "execution_count": 122,
     "metadata": {},
     "output_type": "execute_result"
    }
   ],
   "source": [
    "s = \"abcabcabc\"\n",
    "p = r\"(abc){3}\"\n",
    "re.match(p, s)"
   ]
  },
  {
   "cell_type": "markdown",
   "metadata": {
    "slideshow": {
     "slide_type": "subslide"
    }
   },
   "source": [
    "However, beware -- `re.findall` changes behaviour if it sees any group syntax `()`, and will return the groups it finds, instead of the full matches."
   ]
  },
  {
   "cell_type": "markdown",
   "metadata": {
    "slideshow": {
     "slide_type": "slide"
    }
   },
   "source": [
    "### Alternatives with `|`\n",
    "\n",
    "The \"Or\" symbol `|` allows a match of either its left- or right-hand side. If you want to match something, and then one of two alternatives, put the alternatives inside a group. (Otherwise the \"something\" becomes part of the left-hand side.)"
   ]
  },
  {
   "cell_type": "code",
   "execution_count": 123,
   "metadata": {},
   "outputs": [
    {
     "name": "stdout",
     "output_type": "stream",
     "text": [
      "'10a' <re.Match object; span=(0, 3), match='10a'>\n",
      "'10b' <re.Match object; span=(0, 3), match='10b'>\n",
      "'11a' <re.Match object; span=(0, 3), match='11a'>\n",
      "'11b' <re.Match object; span=(0, 3), match='11b'>\n",
      "'11c' None\n"
     ]
    }
   ],
   "source": [
    "ss = [\"10a\", \"10b\", \"11a\", \"11b\", \"11c\"]\n",
    "p = r\"\\d+(a|b)\"\n",
    "for s in ss:\n",
    "    print(repr(s), re.match(p, s))"
   ]
  },
  {
   "cell_type": "markdown",
   "metadata": {
    "slideshow": {
     "slide_type": "slide"
    }
   },
   "source": [
    "### Example: MAC address\n",
    "\n",
    "As we know, a MAC address or hardware address is a string like `00:A0:C9:14:C8:29` -- 6 pairs of hexadecimal digits. Write an RE to match MAC addresses.\n"
   ]
  },
  {
   "cell_type": "code",
   "execution_count": 19,
   "metadata": {
    "slideshow": {
     "slide_type": "fragment"
    }
   },
   "outputs": [
    {
     "data": {
      "text/plain": [
       "<re.Match object; span=(0, 17), match='00:A0:C9:14:C8:29'>"
      ]
     },
     "execution_count": 19,
     "metadata": {},
     "output_type": "execute_result"
    }
   ],
   "source": [
    "p = r\"([0-9a-fA-F]{2}:){5}[0-9a-fA-F]{2}\"\n",
    "s = \"00:A0:C9:14:C8:29\"\n",
    "re.match(p, s)"
   ]
  },
  {
   "cell_type": "markdown",
   "metadata": {
    "slideshow": {
     "slide_type": "slide"
    }
   },
   "source": [
    "### Greedy expressions\n",
    "\n",
    "\n",
    "As we know, the the `?` character means \"zero or one repetition of preceding\", e.g.: `ab?` matches `a` and matches `ab`.\n",
    "\n",
    "The `?` character can be used as a **non-greedy** modifier to `*` or to `+`. It tells them: instead of matching **as much as possible**, match **as little as possible**. \n",
    "\n",
    "(The following example from [Stackoverflow](https://stackoverflow.com/questions/2301285/what-do-lazy-and-greedy-mean-in-the-context-of-regular-expressions))."
   ]
  },
  {
   "cell_type": "code",
   "execution_count": 22,
   "metadata": {
    "slideshow": {
     "slide_type": "subslide"
    }
   },
   "outputs": [
    {
     "data": {
      "text/plain": [
       "['<em>Hello World</em>']"
      ]
     },
     "execution_count": 22,
     "metadata": {},
     "output_type": "execute_result"
    }
   ],
   "source": [
    "s = \"<em>Hello World</em>\"\n",
    "p = r\"<.+>\"\n",
    "re.findall(p, s)"
   ]
  },
  {
   "cell_type": "code",
   "execution_count": 124,
   "metadata": {
    "slideshow": {
     "slide_type": "fragment"
    }
   },
   "outputs": [
    {
     "data": {
      "text/plain": [
       "['<em>', '</em>']"
      ]
     },
     "execution_count": 124,
     "metadata": {},
     "output_type": "execute_result"
    }
   ],
   "source": [
    "s = \"<em>Hello World</em>\"\n",
    "p = r\"<.+?>\"\n",
    "re.findall(p, s)"
   ]
  },
  {
   "cell_type": "markdown",
   "metadata": {
    "slideshow": {
     "slide_type": "slide"
    }
   },
   "source": [
    "### Ways of using REs\n",
    "\n",
    "* `re.match(p, s)`: check whether pattern `p` matches part of string `s` **from the start**\n",
    "* `re.search(p, s)`: check whether `p` matches any part of `s`\n",
    "* `re.findall(p, s)`: find all matches of `p` in `s`\n",
    "* `re.split(p, s)`: like `str.split` but splits wherever `p` matches part of `s`\n",
    "* `re.sub(p, r, s)`: for every match `p` in `s`, replace by `r` (`r` could be a string or function)."
   ]
  },
  {
   "cell_type": "markdown",
   "metadata": {
    "slideshow": {
     "slide_type": "slide"
    }
   },
   "source": [
    "### Example: tokenizing text\n",
    "\n",
    "Write a pattern which matches a single word, and thus use `re.findall` to tokenize this text, discarding punctuation."
   ]
  },
  {
   "cell_type": "code",
   "execution_count": 108,
   "metadata": {
    "slideshow": {
     "slide_type": "subslide"
    }
   },
   "outputs": [
    {
     "data": {
      "text/plain": [
       "['It',\n",
       " 'was',\n",
       " 'the',\n",
       " 'best',\n",
       " 'of',\n",
       " 'times',\n",
       " 'it',\n",
       " 'was',\n",
       " 'the',\n",
       " 'worst',\n",
       " 'of',\n",
       " 'times']"
      ]
     },
     "execution_count": 108,
     "metadata": {},
     "output_type": "execute_result"
    }
   ],
   "source": [
    "s = \"It was the best of times, it was the worst of times.\"\n",
    "p = r\"\\w+\"\n",
    "re.findall(p, s)"
   ]
  },
  {
   "cell_type": "markdown",
   "metadata": {
    "slideshow": {
     "slide_type": "subslide"
    }
   },
   "source": [
    "Do the same thing the other way round: write a pattern that matches any non-word stuff, and use `re.split`."
   ]
  },
  {
   "cell_type": "code",
   "execution_count": 110,
   "metadata": {
    "slideshow": {
     "slide_type": "fragment"
    }
   },
   "outputs": [
    {
     "data": {
      "text/plain": [
       "['It',\n",
       " 'was',\n",
       " 'the',\n",
       " 'best',\n",
       " 'of',\n",
       " 'times',\n",
       " 'it',\n",
       " 'was',\n",
       " 'the',\n",
       " 'worst',\n",
       " 'of',\n",
       " 'times',\n",
       " '']"
      ]
     },
     "execution_count": 110,
     "metadata": {},
     "output_type": "execute_result"
    }
   ],
   "source": [
    "p = r\"[^\\w]+\"\n",
    "re.split(p, s)"
   ]
  },
  {
   "cell_type": "markdown",
   "metadata": {
    "slideshow": {
     "slide_type": "slide"
    }
   },
   "source": [
    "Further reading/reference: \n",
    "\n",
    "* Python RE HOWTO https://docs.python.org/3/howto/regex.html\n",
    "* Vanderplas, pp 76-83\n",
    "* Python `re` module docs https://docs.python.org/3/library/re.html\n",
    "* https://blog.codinghorror.com/regular-expressions-now-you-have-two-problems/\n",
    "* Automate the Boring Stuff, ch 7 https://automatetheboringstuff.com/chapter7/\n"
   ]
  }
 ],
 "metadata": {
  "celltoolbar": "Slideshow",
  "kernelspec": {
   "display_name": "Python 3",
   "language": "python",
   "name": "python3"
  },
  "language_info": {
   "codemirror_mode": {
    "name": "ipython",
    "version": 3
   },
   "file_extension": ".py",
   "mimetype": "text/x-python",
   "name": "python",
   "nbconvert_exporter": "python",
   "pygments_lexer": "ipython3",
   "version": "3.7.3"
  }
 },
 "nbformat": 4,
 "nbformat_minor": 2
}
