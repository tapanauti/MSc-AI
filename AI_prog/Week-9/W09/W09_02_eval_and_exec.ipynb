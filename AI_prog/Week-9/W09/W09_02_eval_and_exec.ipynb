{
 "cells": [
  {
   "cell_type": "markdown",
   "metadata": {
    "slideshow": {
     "slide_type": "slide"
    }
   },
   "source": [
    "<center><img src=img/MScAI_brand.png width=70%></center>\n",
    "\n",
    "# `eval` and `exec`"
   ]
  },
  {
   "cell_type": "markdown",
   "metadata": {
    "slideshow": {
     "slide_type": "slide"
    }
   },
   "source": [
    "If we have a string `s = \"5\"` and we type `i = int(s)`, it converts `s` to `int`."
   ]
  },
  {
   "cell_type": "markdown",
   "metadata": {
    "slideshow": {
     "slide_type": "fragment"
    }
   },
   "source": [
    "\n",
    "If we have a string `s = \"5.0\"` and we type `x = float(s)`, it converts `s` to `float`."
   ]
  },
  {
   "cell_type": "markdown",
   "metadata": {
    "slideshow": {
     "slide_type": "subslide"
    }
   },
   "source": [
    "But if we're **at the command line** (IPython or Jupyter notebook) and we just type `i = 5`, \"it just works\" -- `i` gets the right type without any special conversion step."
   ]
  },
  {
   "cell_type": "markdown",
   "metadata": {
    "slideshow": {
     "slide_type": "fragment"
    }
   },
   "source": [
    "Since Python knows how to do this, we might ask: why can't we get Python to convert *any* string\n",
    "to **whatever value and type it would have been**, if we had just typed that string as input on the command-line?"
   ]
  },
  {
   "cell_type": "markdown",
   "metadata": {
    "slideshow": {
     "slide_type": "subslide"
    }
   },
   "source": [
    "That's what `eval` does. If `s = \"5\"`, then `eval(s)` is the same as `int(s)`. If `s = \"5.0\"`, then `eval(s)` is the same as `float(s)`. If `s` is a complex expression then `eval(s)` will evaluate `s` just as if it had been typed at the command-line."
   ]
  },
  {
   "cell_type": "markdown",
   "metadata": {
    "slideshow": {
     "slide_type": "subslide"
    }
   },
   "source": [
    "<center><img src=img/repl.svg width=30%></center>\n",
    "\n",
    "In fact, a command-line (not only in Python) is often called a *read-eval-print* loop for this reason."
   ]
  },
  {
   "cell_type": "markdown",
   "metadata": {
    "slideshow": {
     "slide_type": "subslide"
    }
   },
   "source": [
    "### An `eval` application\n",
    "\n",
    "Remember we mentioned when studying Scikit-Learn that when we create a logistic regression `lr = LogisticRegression()`, that object has a string representation like this:\n",
    "\n",
    "```python\n",
    "LogisticRegression(C=1.0, class_weight=None, dual=False, fit_intercept=True,\n",
    "                   intercept_scaling=1, l1_ratio=None, max_iter=100,\n",
    "                   multi_class='warn', n_jobs=None, penalty='l2',\n",
    "                   random_state=None, solver='warn', tol=0.0001, verbose=0,\n",
    "                   warm_start=False)\n",
    "```"
   ]
  },
  {
   "cell_type": "markdown",
   "metadata": {
    "slideshow": {
     "slide_type": "subslide"
    }
   },
   "source": [
    "\n",
    "That string has a nice property: we could copy and paste it into IPython or Jupyter Notebook to re-create the object: `lr = <copy and paste here!>`"
   ]
  },
  {
   "cell_type": "markdown",
   "metadata": {
    "slideshow": {
     "slide_type": "fragment"
    }
   },
   "source": [
    "\n",
    "That doesn't seem much more useful than just typing `lr = LogisticRegression()`. "
   ]
  },
  {
   "cell_type": "markdown",
   "metadata": {
    "slideshow": {
     "slide_type": "subslide"
    }
   },
   "source": [
    "But if we had set many parameters with non-default values it could be very useful:\n",
    "\n",
    "`lr = LogisticRegression(C=10.0, solver='lbfgs', max_iter=1000)`"
   ]
  },
  {
   "cell_type": "markdown",
   "metadata": {
    "slideshow": {
     "slide_type": "fragment"
    }
   },
   "source": [
    "Then just typing `lr` will give us a nice, simple textual representation of the model we created. We could save it and later copy-and-paste it into IPython to recreate the model with the same hyperparameters."
   ]
  },
  {
   "cell_type": "markdown",
   "metadata": {
    "slideshow": {
     "slide_type": "subslide"
    }
   },
   "source": [
    "However, what if we wanted to do this for many models in a loop with different hyperparameters? In other words we have created many models and saved their text representations, and later want to do something else with them. We can't just copy-and-paste them in a loop."
   ]
  },
  {
   "cell_type": "markdown",
   "metadata": {
    "slideshow": {
     "slide_type": "subslide"
    }
   },
   "source": [
    "But that's where `eval` comes in:\n",
    "\n",
    "```python\n",
    "for fname in fnames:\n",
    "    s = open(fname).read()\n",
    "    lr = eval(s)\n",
    "```"
   ]
  },
  {
   "cell_type": "markdown",
   "metadata": {
    "slideshow": {
     "slide_type": "slide"
    }
   },
   "source": [
    "### Python ~ JSON"
   ]
  },
  {
   "cell_type": "markdown",
   "metadata": {
    "slideshow": {
     "slide_type": "subslide"
    }
   },
   "source": [
    "`eval` works well with all sorts of Python *literals*, e.g. `int`s, `float`s, `str`s, `{}` for dictionaries, `[]` for lists, and so on. Therefore, we might save a Python object to disk just by taking the string representation, and then load it back in later, effectively treating Python as if it was JSON. This can be very useful in **logging** from a long-running program."
   ]
  },
  {
   "cell_type": "code",
   "execution_count": 9,
   "metadata": {
    "slideshow": {
     "slide_type": "subslide"
    }
   },
   "outputs": [
    {
     "data": {
      "text/plain": [
       "{'a': [3, 4, 5], 'b': [5, 6, 7]}"
      ]
     },
     "execution_count": 9,
     "metadata": {},
     "output_type": "execute_result"
    }
   ],
   "source": [
    "x = {\"a\": [3, 4, 5], \"b\": [5, 6, 7]}\n",
    "open(\"data/eval_test.txt\", \"w\").write(repr(x))\n",
    "y = eval(open(\"data/eval_test.txt\").read())\n",
    "y"
   ]
  },
  {
   "cell_type": "markdown",
   "metadata": {
    "slideshow": {
     "slide_type": "subslide"
    }
   },
   "source": [
    "(There is also the `json` module in the standard library if we want to deal with JSON properly.)"
   ]
  },
  {
   "cell_type": "markdown",
   "metadata": {
    "slideshow": {
     "slide_type": "subslide"
    }
   },
   "source": [
    "### `__str__` and `__repr__`\n",
    "\n",
    "Notice that above we used `repr(x)`, not `str(x)`.\n",
    "\n",
    "* `__str__` is supposed to give a descriptive string for human consumption;\n",
    "* `__repr__` is supposed to give a string which can usually be `eval`-ed to recreate the original object."
   ]
  },
  {
   "cell_type": "markdown",
   "metadata": {
    "slideshow": {
     "slide_type": "fragment"
    }
   },
   "source": [
    "For many classes, including `dict`, these are just the same thing. If an object `c` has `__repr__` but not `__str__`, then `str(c)` will default to calling `c.__repr__()`. "
   ]
  },
  {
   "cell_type": "markdown",
   "metadata": {
    "slideshow": {
     "slide_type": "slide"
    }
   },
   "source": [
    "### Security with `eval`\n",
    "\n",
    "`eval` is dangerous, because it executes a piece of code. If you write a program with `eval` and provide the input, e.g. from a file you saved earlier, that's fine. If you write a program with `eval` and accept input from anonymous users over the internet, you might have some problems.\n",
    "\n"
   ]
  },
  {
   "cell_type": "markdown",
   "metadata": {
    "slideshow": {
     "slide_type": "slide"
    }
   },
   "source": [
    "### `exec`\n",
    "\n",
    "As we have seen, `eval` allows us to evaluate a Python **expression**. \n",
    "\n",
    "An expression in Python that has a single value, like a generalisation of a **formula** in maths. It can have arithmetic, Boolean operators, function calls, object constructors, and so on. It does not have assignment statements, conditionals, loops, function definitions (except maybe `lambda`)."
   ]
  },
  {
   "cell_type": "markdown",
   "metadata": {
    "slideshow": {
     "slide_type": "subslide"
    }
   },
   "source": [
    "But sometimes, we might have Python code `s` which is not a single expression. In such a case, `eval` doesn't work. It expects a single expression only:"
   ]
  },
  {
   "cell_type": "code",
   "execution_count": 3,
   "metadata": {
    "slideshow": {
     "slide_type": "subslide"
    }
   },
   "outputs": [
    {
     "ename": "SyntaxError",
     "evalue": "invalid syntax (<string>, line 2)",
     "output_type": "error",
     "traceback": [
      "Traceback \u001b[0;36m(most recent call last)\u001b[0m:\n",
      "  File \u001b[1;32m\"/home/jmmcd/anaconda3/lib/python3.7/site-packages/IPython/core/interactiveshell.py\"\u001b[0m, line \u001b[1;32m3325\u001b[0m, in \u001b[1;35mrun_code\u001b[0m\n    exec(code_obj, self.user_global_ns, self.user_ns)\n",
      "\u001b[0;36m  File \u001b[0;32m\"<ipython-input-3-2583246614cb>\"\u001b[0;36m, line \u001b[0;32m8\u001b[0;36m, in \u001b[0;35m<module>\u001b[0;36m\u001b[0m\n\u001b[0;31m    c = eval(s)\u001b[0m\n",
      "\u001b[0;36m  File \u001b[0;32m\"<string>\"\u001b[0;36m, line \u001b[0;32m2\u001b[0m\n\u001b[0;31m    def f(x):\u001b[0m\n\u001b[0m      ^\u001b[0m\n\u001b[0;31mSyntaxError\u001b[0m\u001b[0;31m:\u001b[0m invalid syntax\n"
     ]
    }
   ],
   "source": [
    "s = \"\"\"\n",
    "def f(x):\n",
    "    if x > 3:\n",
    "        print(\"the result is excessive\")\n",
    "for i in range(5):\n",
    "    f(i)\n",
    "\"\"\"\n",
    "c = eval(s)\n"
   ]
  },
  {
   "cell_type": "markdown",
   "metadata": {
    "slideshow": {
     "slide_type": "subslide"
    }
   },
   "source": [
    "There is another function, `exec`, which **executes** arbitrary Python code."
   ]
  },
  {
   "cell_type": "code",
   "execution_count": 4,
   "metadata": {
    "slideshow": {
     "slide_type": "fragment"
    }
   },
   "outputs": [
    {
     "name": "stdout",
     "output_type": "stream",
     "text": [
      "the result is excessive\n"
     ]
    }
   ],
   "source": [
    "exec(s)"
   ]
  },
  {
   "cell_type": "markdown",
   "metadata": {
    "slideshow": {
     "slide_type": "subslide"
    }
   },
   "source": [
    "An arbitrary piece of code doesn't have a value, in contrast to an expression. So, `exec` doesn't return a value. (There is a simple hack to access values calculated inside `exec`, but we won't go any further with this.)"
   ]
  },
  {
   "cell_type": "markdown",
   "metadata": {
    "slideshow": {
     "slide_type": "subslide"
    }
   },
   "source": [
    "Everything we said about `eval` security applies even more so to `exec`, because it has even greater flexibility!"
   ]
  },
  {
   "cell_type": "markdown",
   "metadata": {
    "slideshow": {
     "slide_type": "slide"
    }
   },
   "source": [
    "### Exercise\n",
    "\n",
    "* Can you think of a Python object which is *not* correctly and fully re-created if we write out its `repr` and then read it in and `eval` the result?"
   ]
  },
  {
   "cell_type": "markdown",
   "metadata": {
    "slideshow": {
     "slide_type": "subslide"
    }
   },
   "source": [
    "### Solution\n",
    "\n",
    "* E.g. in Scikit-Learn we can recreate a `LogisticRegression` in this way, but if we have `fit()`ted then the internal parameters won't be part of the `repr`. Use `pickle` or similar instead."
   ]
  }
 ],
 "metadata": {
  "celltoolbar": "Slideshow",
  "kernelspec": {
   "display_name": "Python 3",
   "language": "python",
   "name": "python3"
  },
  "language_info": {
   "codemirror_mode": {
    "name": "ipython",
    "version": 3
   },
   "file_extension": ".py",
   "mimetype": "text/x-python",
   "name": "python",
   "nbconvert_exporter": "python",
   "pygments_lexer": "ipython3",
   "version": "3.7.3"
  }
 },
 "nbformat": 4,
 "nbformat_minor": 2
}
