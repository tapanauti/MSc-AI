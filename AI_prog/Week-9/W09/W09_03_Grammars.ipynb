{
 "cells": [
  {
   "cell_type": "markdown",
   "metadata": {
    "slideshow": {
     "slide_type": "slide"
    }
   },
   "source": [
    "<center><img src=img/MScAI_brand.png width=70%></center>\n",
    "\n",
    "# Grammars"
   ]
  },
  {
   "cell_type": "markdown",
   "metadata": {
    "slideshow": {
     "slide_type": "subslide"
    }
   },
   "source": [
    "A **grammar** is a computational device which can:\n",
    "* *generate* strings from a given formal language, or\n",
    "* *parse* strings to check that they come from a given language."
   ]
  },
  {
   "cell_type": "markdown",
   "metadata": {
    "slideshow": {
     "slide_type": "subslide"
    }
   },
   "source": [
    "There are a few different types of grammar, but we will only study the **context-free grammar**, written in the **Backus-Naur Form** (BNF) notation."
   ]
  },
  {
   "cell_type": "markdown",
   "metadata": {
    "slideshow": {
     "slide_type": "subslide"
    }
   },
   "source": [
    "A grammar is a set of *rewrite rules*. Here is an example in BNF:"
   ]
  },
  {
   "cell_type": "code",
   "execution_count": 15,
   "metadata": {
    "scrolled": true,
    "slideshow": {
     "slide_type": "-"
    }
   },
   "outputs": [
    {
     "name": "stdout",
     "output_type": "stream",
     "text": [
      "<expr> ::= (<expr> <biop> <expr>) | <uop> <expr> | <var> | <const>\n",
      "<biop> ::= and | or\n",
      "<uop> ::= not\n",
      "<var> ::= x[0] | x[1] | x[2]\n",
      "<const> ::= True | False\n"
     ]
    }
   ],
   "source": [
    "fname = \"code/boolean.bnf\"\n",
    "print(open(fname).read())"
   ]
  },
  {
   "cell_type": "markdown",
   "metadata": {
    "slideshow": {
     "slide_type": "subslide"
    }
   },
   "source": [
    "Each rule has a left-hand side and a right-hand side separated by the symbol `::=` interpreted as *rewrites to*. The LHS is a single string enclosed in angle brackets. The RHS consists of one or more *productions*, separated by the pipe symbol `|`, interpreted as \"or\"."
   ]
  },
  {
   "cell_type": "markdown",
   "metadata": {
    "slideshow": {
     "slide_type": "subslide"
    }
   },
   "source": [
    "A *non-terminal* is a string enclosed in angle brackets. A *terminal* is any other string.\n",
    "\n",
    "One of the non-terminals is the *start symbol*. In our convention, the non-terminal of the first rule is the start symbol."
   ]
  },
  {
   "cell_type": "markdown",
   "metadata": {
    "slideshow": {
     "slide_type": "slide"
    }
   },
   "source": [
    "### Parsing a string\n",
    "\n",
    "Parsing a string means starting with a string, and iteratively finding out what rule could have given rise to it, until either:\n",
    "\n",
    "* We find the complete structure -- a *parsing* -- of the string, showing that it is a valid string in the language; or\n",
    "* We find that the string is not in the language."
   ]
  },
  {
   "cell_type": "markdown",
   "metadata": {
    "slideshow": {
     "slide_type": "subslide"
    }
   },
   "source": [
    "Compilers and interpreters use grammars in this way, e.g. the Python interpreter **parses** your code using a grammar. You can see the Python grammar here: https://docs.python.org/3/reference/grammar.html."
   ]
  },
  {
   "cell_type": "markdown",
   "metadata": {
    "slideshow": {
     "slide_type": "subslide"
    }
   },
   "source": [
    "Recall that a piece of Python code corresponds to an Abstract Syntax Tree, like the one shown here. When we say that the Python interpreter parses a piece of code according to the Python grammar, and **finds its structure**, what we mean is that it creates an AST."
   ]
  },
  {
   "cell_type": "markdown",
   "metadata": {
    "slideshow": {
     "slide_type": "subslide"
    }
   },
   "source": [
    "<center><img src=img/ast.svg width=35%></center>\n",
    "\n"
   ]
  },
  {
   "cell_type": "markdown",
   "metadata": {
    "slideshow": {
     "slide_type": "slide"
    }
   },
   "source": [
    "### Generating a string from a grammar"
   ]
  },
  {
   "cell_type": "markdown",
   "metadata": {
    "slideshow": {
     "slide_type": "subslide"
    }
   },
   "source": [
    "Going in the opposite direction also has many applications in AI (we'll see one shortly). By this we mean starting with a grammar and generating a random string from the language:"
   ]
  },
  {
   "cell_type": "markdown",
   "metadata": {
    "slideshow": {
     "slide_type": "fragment"
    }
   },
   "source": [
    "\n",
    "1. We start with a *derivation* (a string) consisting of just the start symbol;\n",
    "2. We find the first (left-most) non-terminal in the derivation, and find the rule where that non-terminal is the LHS.\n",
    "3. We choose one of the productions on the RHS of that rule, and in the derivation, replace the non-terminal with that production.\n",
    "4. If there are now no non-terminals in the derivation, we stop, else go to 2."
   ]
  },
  {
   "cell_type": "markdown",
   "metadata": {
    "slideshow": {
     "slide_type": "subslide"
    }
   },
   "source": [
    "For example (just making **random** choices):\n",
    "1. `   <expr>`\n",
    "2. `-> (<expr> <biop> <expr>)`\n",
    "3. `-> (<var> <biop> <expr>)`\n",
    "4. `-> (x[0] <biop> <expr>)`\n",
    "5. `-> (x[0] and <expr>)`\n",
    "6. `-> (x[0] and <const>)`\n",
    "7. `-> (x[0] and False)`"
   ]
  },
  {
   "cell_type": "markdown",
   "metadata": {
    "slideshow": {
     "slide_type": "subslide"
    }
   },
   "source": [
    "The result is a string in the language. We see that this grammar defines a language consisting of Boolean expressions in up to three variables."
   ]
  },
  {
   "cell_type": "markdown",
   "metadata": {
    "slideshow": {
     "slide_type": "slide"
    }
   },
   "source": [
    "### Implementing a grammar for generating strings"
   ]
  },
  {
   "cell_type": "markdown",
   "metadata": {},
   "source": [
    "The file `code/grammar.py` contains code for reading a grammar in `.bnf` form in, and generating strings from it."
   ]
  },
  {
   "cell_type": "code",
   "execution_count": 5,
   "metadata": {
    "slideshow": {
     "slide_type": "subslide"
    }
   },
   "outputs": [],
   "source": [
    "# this is just a hack so we can import from a file in the code directory.\n",
    "# you don't need to understand this!\n",
    "import sys\n",
    "sys.path.insert(1, \"code\") "
   ]
  },
  {
   "cell_type": "code",
   "execution_count": null,
   "metadata": {
    "slideshow": {
     "slide_type": "subslide"
    }
   },
   "outputs": [],
   "source": [
    "from grammar import Grammar # import from code/grammar.py"
   ]
  },
  {
   "cell_type": "code",
   "execution_count": 2,
   "metadata": {
    "slideshow": {
     "slide_type": "subslide"
    }
   },
   "outputs": [],
   "source": [
    "fname = \"code/boolean.bnf\"\n",
    "g = Grammar(file_name=fname)"
   ]
  },
  {
   "cell_type": "code",
   "execution_count": 3,
   "metadata": {
    "slideshow": {
     "slide_type": "subslide"
    }
   },
   "outputs": [
    {
     "name": "stdout",
     "output_type": "stream",
     "text": [
      "Grammar(terminals={'x[1]', 'and', 'or', 'x[2]', '(', 'True', ')', 'not', ' ', 'False', 'x[0]'}, non_terminals={'<expr>', '<var>', '<const>', '<uop>', '<biop>'}, rules={'<expr>': [['(', '<expr>', ' ', '<biop>', ' ', '<expr>', ')'], ['<uop>', ' ', '<expr>'], ['<var>'], ['<const>']], '<biop>': [['and'], ['or']], '<uop>': [['not']], '<var>': [['x[0]'], ['x[1]'], ['x[2]']], '<const>': [['True'], ['False']]}, start_rule='<expr>')\n"
     ]
    }
   ],
   "source": [
    "print(g) # notice repr gives a useful output!"
   ]
  },
  {
   "cell_type": "code",
   "execution_count": null,
   "metadata": {},
   "outputs": [],
   "source": []
  },
  {
   "cell_type": "markdown",
   "metadata": {
    "slideshow": {
     "slide_type": "subslide"
    }
   },
   "source": [
    "We can now derive (generate) a string at random:"
   ]
  },
  {
   "cell_type": "code",
   "execution_count": 19,
   "metadata": {},
   "outputs": [
    {
     "name": "stdout",
     "output_type": "stream",
     "text": [
      "x[0]\n",
      "True\n",
      "False\n",
      "(False and True)\n",
      "(x[1] and False)\n"
     ]
    }
   ],
   "source": [
    "for i in range(5):\n",
    "    print(g.derive_string())"
   ]
  },
  {
   "cell_type": "markdown",
   "metadata": {
    "slideshow": {
     "slide_type": "subslide"
    }
   },
   "source": [
    "In fact, we can even turn a string into a piece of code, using `eval` as before, and then run it with appropriate arguments:"
   ]
  },
  {
   "cell_type": "code",
   "execution_count": 36,
   "metadata": {},
   "outputs": [
    {
     "name": "stdout",
     "output_type": "stream",
     "text": [
      "(not True and (not not False and x[1]))\n"
     ]
    },
    {
     "data": {
      "text/plain": [
       "False"
      ]
     },
     "execution_count": 36,
     "metadata": {},
     "output_type": "execute_result"
    }
   ],
   "source": [
    "s = g.derive_string()\n",
    "print(s)\n",
    "f = eval(\"lambda x: \" + s)\n",
    "f((False, True, False))"
   ]
  },
  {
   "cell_type": "markdown",
   "metadata": {
    "slideshow": {
     "slide_type": "slide"
    }
   },
   "source": [
    "### Grammars in natural language\n",
    "\n",
    "Grammars are used in natural language too. For example, this grammar can generate a few simple sentences."
   ]
  },
  {
   "cell_type": "markdown",
   "metadata": {
    "slideshow": {
     "slide_type": "subslide"
    }
   },
   "source": [
    "```\n",
    "<sentence>     ::= <noun_phrase> <verb_phrase>\n",
    "<noun_phrase>  ::= <noun> | <determiner> <noun>\n",
    "<determiner>   ::= the | a\n",
    "<noun>         ::= lion | tiger | antelope\n",
    "<verb_phrase>  ::= <trans_verb> <noun_phrase> | <intrans_verb>\n",
    "<trans_verb>   ::= ate | saw | chased\n",
    "<intrans_verb> ::= slept | rested\n",
    "```"
   ]
  },
  {
   "cell_type": "code",
   "execution_count": 38,
   "metadata": {
    "slideshow": {
     "slide_type": "subslide"
    }
   },
   "outputs": [],
   "source": [
    "g = Grammar(file_name=\"code/animal_sentences.bnf\")"
   ]
  },
  {
   "cell_type": "code",
   "execution_count": 39,
   "metadata": {},
   "outputs": [
    {
     "name": "stdout",
     "output_type": "stream",
     "text": [
      "a lion saw antelope\n",
      "a tiger ate lion\n",
      "the lion chased the lion\n",
      "lion saw a antelope\n",
      "a lion saw tiger\n"
     ]
    }
   ],
   "source": [
    "for i in range(5):\n",
    "    print(g.derive_string())"
   ]
  },
  {
   "cell_type": "markdown",
   "metadata": {
    "slideshow": {
     "slide_type": "slide"
    }
   },
   "source": [
    "### Randomness and `random.seed`"
   ]
  },
  {
   "cell_type": "markdown",
   "metadata": {
    "slideshow": {
     "slide_type": "subslide"
    }
   },
   "source": [
    "The `derive_string` generates a string at random. At each step it uses `random.choice(productions)` to choose a random production.\n",
    "\n"
   ]
  },
  {
   "cell_type": "markdown",
   "metadata": {
    "slideshow": {
     "slide_type": "fragment"
    }
   },
   "source": [
    "That is often useful, just as generating random numbers is often useful. But in a scientific context, we often want **replicability** as well. How can we reconcile these ideas?"
   ]
  },
  {
   "cell_type": "markdown",
   "metadata": {
    "slideshow": {
     "slide_type": "subslide"
    }
   },
   "source": [
    "The good news is that internally, the random number generator (RNG) is deterministic -- it is only **pseudo-random**. An arithmetical transform is applied to each number it outputs, to get the next. That transform is complicated but deterministic."
   ]
  },
  {
   "cell_type": "markdown",
   "metadata": {
    "slideshow": {
     "slide_type": "fragment"
    }
   },
   "source": [
    "That allows us to achieve replicability. If we start twice from the same state, we'll get the same sequence of random numbers both times.\n",
    "\n"
   ]
  },
  {
   "cell_type": "markdown",
   "metadata": {
    "slideshow": {
     "slide_type": "subslide"
    }
   },
   "source": [
    "We can start from a fixed state by **setting the random seed**. The random seed is a number which is like the \"start state\" of the random number generator (RNG). "
   ]
  },
  {
   "cell_type": "code",
   "execution_count": 44,
   "metadata": {},
   "outputs": [
    {
     "name": "stdout",
     "output_type": "stream",
     "text": [
      "antelope slept\n",
      "the tiger slept\n",
      "lion rested\n",
      "a antelope rested\n",
      "lion slept\n"
     ]
    }
   ],
   "source": [
    "random.seed(73)\n",
    "for i in range(5):\n",
    "    print(g.derive_string())"
   ]
  },
  {
   "cell_type": "markdown",
   "metadata": {
    "slideshow": {
     "slide_type": "subslide"
    }
   },
   "source": [
    "By the way, the `random` module has several other useful functions:\n",
    "\n",
    "* `random.random()` - a random `float` in $[0, 1]$\n",
    "* `random.randrange(a, b)` - a random `int` in $[a, b)$\n",
    "* `random.choice(L)` - a random element of the `list` `L`\n",
    "* `random.shuffle(L)` - shuffle the `list` `L` in-place"
   ]
  },
  {
   "cell_type": "markdown",
   "metadata": {
    "slideshow": {
     "slide_type": "slide"
    }
   },
   "source": [
    "### Generative art - by hand\n",
    "\n",
    "Let's make a piece of generative art by inventing a formula $p(x, y)$ and simply plotting $p$ over the unit square.\n",
    "\n",
    "$p$ should be purely numerical, e.g. $p(x, y) = \\sin(20x)$. \n",
    "\n",
    "We'll use `linspace`, `meshgrid`, and `imshow` (recall our notebook/video on fractals in an earlier week) to make the grid. Here we won't iterate a formula and calculate escape time or anything like that."
   ]
  },
  {
   "cell_type": "code",
   "execution_count": 15,
   "metadata": {
    "slideshow": {
     "slide_type": "subslide"
    }
   },
   "outputs": [],
   "source": [
    "import numpy as np\n",
    "import matplotlib.pyplot as plt\n",
    "import matplotlib.cm as cm"
   ]
  },
  {
   "cell_type": "code",
   "execution_count": 16,
   "metadata": {
    "slideshow": {
     "slide_type": "subslide"
    }
   },
   "outputs": [],
   "source": [
    "n = 200\n",
    "xs = np.linspace(0, 1, n)\n",
    "ys = np.linspace(0, 1, n)\n",
    "x, y = np.meshgrid(xs, ys)"
   ]
  },
  {
   "cell_type": "code",
   "execution_count": 17,
   "metadata": {
    "slideshow": {
     "slide_type": "subslide"
    }
   },
   "outputs": [
    {
     "data": {
      "image/png": "[encoded data removed]",
      "text/plain": [
       "<Figure size 432x288 with 1 Axes>"
      ]
     },
     "metadata": {
      "needs_background": "light"
     },
     "output_type": "display_data"
    }
   ],
   "source": [
    "def p(x, y): return np.sin(20 * x)\n",
    "plt.axis('off'); plt.imshow(p(x, y), cmap=cm.viridis); "
   ]
  },
  {
   "cell_type": "markdown",
   "metadata": {
    "slideshow": {
     "slide_type": "slide"
    }
   },
   "source": [
    "### Generative art - using grammars"
   ]
  },
  {
   "cell_type": "markdown",
   "metadata": {
    "slideshow": {
     "slide_type": "subslide"
    }
   },
   "source": [
    "\"I'd rather write programs that write programs than write programs\" -- Richard Sites"
   ]
  },
  {
   "cell_type": "markdown",
   "metadata": {
    "slideshow": {
     "slide_type": "subslide"
    }
   },
   "source": [
    "Notice that we can also write functions like `p(x, y)` as pure strings, using `eval` as follows:"
   ]
  },
  {
   "cell_type": "code",
   "execution_count": 18,
   "metadata": {
    "slideshow": {
     "slide_type": "-"
    }
   },
   "outputs": [
    {
     "data": {
      "image/png": "[encoded data removed]",
      "text/plain": [
       "<Figure size 432x288 with 1 Axes>"
      ]
     },
     "metadata": {
      "needs_background": "light"
     },
     "output_type": "display_data"
    }
   ],
   "source": [
    "ps = \"np.sin(40 * x) * np.sin(30 * (y+0.5)) * x * y\"\n",
    "p = eval(\"lambda x, y: \" + ps)\n",
    "plt.axis('off'); plt.imshow(p(x, y));"
   ]
  },
  {
   "cell_type": "markdown",
   "metadata": {
    "slideshow": {
     "slide_type": "subslide"
    }
   },
   "source": [
    "### Exercise\n",
    "\n",
    "Make a new grammar for *arithmetical expressions in x and y*. Start by copying `code/boolean.bnf` to a new file `code/arithmetic.bnf`. Generate random expressions from that, turn them into functions using `eval`, and visualise them. Try out different colormaps with `cmap`. Think of some more interesting primitive functions to use other than `*`, `sin`, and friends. You can even create more variables (beyond $x$ and $y$), e.g. polar coordinates $r$ and $\\theta$."
   ]
  },
  {
   "cell_type": "markdown",
   "metadata": {
    "slideshow": {
     "slide_type": "subslide"
    }
   },
   "source": [
    "### Solution\n",
    "\n",
    "The file `code/arithmetic.bnf` file is supplied with this week's materials."
   ]
  }
 ],
 "metadata": {
  "celltoolbar": "Slideshow",
  "kernelspec": {
   "display_name": "Python 3",
   "language": "python",
   "name": "python3"
  },
  "language_info": {
   "codemirror_mode": {
    "name": "ipython",
    "version": 3
   },
   "file_extension": ".py",
   "mimetype": "text/x-python",
   "name": "python",
   "nbconvert_exporter": "python",
   "pygments_lexer": "ipython3",
   "version": "3.7.3"
  }
 },
 "nbformat": 4,
 "nbformat_minor": 2
}
