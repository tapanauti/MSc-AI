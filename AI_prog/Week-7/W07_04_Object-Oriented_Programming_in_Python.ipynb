{
 "cells": [
  {
   "cell_type": "markdown",
   "metadata": {
    "slideshow": {
     "slide_type": "slide"
    }
   },
   "source": [
    "<center><img src=img/MScAI_brand.png width=70%></center>\n",
    "\n",
    "# OOP in Python"
   ]
  },
  {
   "cell_type": "markdown",
   "metadata": {
    "slideshow": {
     "slide_type": "subslide"
    }
   },
   "source": [
    "This notebook is about OOP in Python. Students who have not studied OOP concepts such as objects, class, constructors, methods, inheritance, and polymorphism in another language should refer to Downey, Chapters 15--18, and feel free to contact me for further resources and help. "
   ]
  },
  {
   "cell_type": "markdown",
   "metadata": {
    "slideshow": {
     "slide_type": "subslide"
    }
   },
   "source": [
    "### Contents\n",
    "\n",
    "* Defining classes\n",
    "* Special double-underscore methods\n",
    "* Inheritance and duck-typing"
   ]
  },
  {
   "cell_type": "markdown",
   "metadata": {
    "slideshow": {
     "slide_type": "slide"
    }
   },
   "source": [
    "In Python, we define a class using `class`. The following, believe it or not, is a working class which can be instantiated."
   ]
  },
  {
   "cell_type": "code",
   "execution_count": 6,
   "metadata": {},
   "outputs": [],
   "source": [
    "class C:\n",
    "    pass"
   ]
  },
  {
   "cell_type": "markdown",
   "metadata": {
    "slideshow": {
     "slide_type": "subslide"
    }
   },
   "source": [
    "Now we can make an object `c` of type `C`:"
   ]
  },
  {
   "cell_type": "code",
   "execution_count": 3,
   "metadata": {},
   "outputs": [],
   "source": [
    "c = C() # call the constructor"
   ]
  },
  {
   "cell_type": "code",
   "execution_count": 4,
   "metadata": {
    "slideshow": {
     "slide_type": "fragment"
    }
   },
   "outputs": [
    {
     "name": "stdout",
     "output_type": "stream",
     "text": [
      "<__main__.C object at 0x7f7de4273160>\n"
     ]
    }
   ],
   "source": [
    "print(c)"
   ]
  },
  {
   "cell_type": "markdown",
   "metadata": {
    "slideshow": {
     "slide_type": "subslide"
    }
   },
   "source": [
    "Now let's make a constructor. The `self` is the first argument of all methods and it refers to the object itself -- the equivalent of `this` in some languages."
   ]
  },
  {
   "cell_type": "code",
   "execution_count": 8,
   "metadata": {
    "slideshow": {
     "slide_type": "-"
    }
   },
   "outputs": [
    {
     "name": "stdout",
     "output_type": "stream",
     "text": [
      "17\n"
     ]
    }
   ],
   "source": [
    "class C:\n",
    "    def __init__(self, data=17):\n",
    "        self.data = data\n",
    "c = C()\n",
    "print(c.data)"
   ]
  },
  {
   "cell_type": "markdown",
   "metadata": {
    "slideshow": {
     "slide_type": "subslide"
    }
   },
   "source": [
    "In Python, we don't have any restrictions on accessing fields:"
   ]
  },
  {
   "cell_type": "code",
   "execution_count": 9,
   "metadata": {},
   "outputs": [
    {
     "name": "stdout",
     "output_type": "stream",
     "text": [
      "18\n"
     ]
    }
   ],
   "source": [
    "c.data += 1\n",
    "print(c.data)"
   ]
  },
  {
   "cell_type": "markdown",
   "metadata": {
    "slideshow": {
     "slide_type": "subslide"
    }
   },
   "source": [
    "A class has its own namespace. So it's fine to have a variable called `data` and a variable called `c.data` at the same time with different values."
   ]
  },
  {
   "cell_type": "markdown",
   "metadata": {
    "slideshow": {
     "slide_type": "subslide"
    }
   },
   "source": [
    "### Double-underscore methods\n",
    "\n",
    "The `__init__` constructor is just one of several special double-underscore methods in Python. When we use some common Python things like `len` and `<`, it results in a call to a particular \"dunder\" method, for example:\n",
    "\n",
    "call      |  translation\n",
    "----------|-------------------------\n",
    "`C(data)` |  `C.__init__(data)`\n",
    "`len(c)`  |  `c.__len__()`\n",
    "`str(c)`  |  `c.__str__()`\n",
    "`c < d`   |  `c.__lt__(d)` "
   ]
  },
  {
   "cell_type": "markdown",
   "metadata": {
    "slideshow": {
     "slide_type": "notes"
    }
   },
   "source": [
    "So, let's implement some of these."
   ]
  },
  {
   "cell_type": "code",
   "execution_count": 2,
   "metadata": {
    "slideshow": {
     "slide_type": "subslide"
    }
   },
   "outputs": [
    {
     "name": "stdout",
     "output_type": "stream",
     "text": [
      "True\n"
     ]
    }
   ],
   "source": [
    "class C:\n",
    "    def __init__(self, data=17):\n",
    "        self.data = data\n",
    "    def __str__(self):\n",
    "        return f\"C({self.data})\"\n",
    "    def __lt__(self, other):\n",
    "        return self.data < other.data\n",
    "c1 = C()\n",
    "c2 = C(18)\n",
    "print(c1 < c2)"
   ]
  },
  {
   "cell_type": "markdown",
   "metadata": {
    "slideshow": {
     "slide_type": "subslide"
    }
   },
   "source": [
    "### A free lunch\n",
    "\n",
    "Sometimes implementing one special method is enough to get others \"for free\". We implemented `__lt__` for \"less than\", allowing `c1 < c2` to work. We didn't implement `__gt__`. Nevertheless, it works:"
   ]
  },
  {
   "cell_type": "code",
   "execution_count": 12,
   "metadata": {},
   "outputs": [
    {
     "data": {
      "text/plain": [
       "True"
      ]
     },
     "execution_count": 12,
     "metadata": {},
     "output_type": "execute_result"
    }
   ],
   "source": [
    "c1 > c2"
   ]
  },
  {
   "cell_type": "markdown",
   "metadata": {
    "slideshow": {
     "slide_type": "subslide"
    }
   },
   "source": [
    "That's because Python knows that these operators are symmetric. If we wanted to define `>` to be non-symmetric to `<`, we could do so, just by implementing both `__lt__` and `__gt__` separately."
   ]
  },
  {
   "cell_type": "markdown",
   "metadata": {
    "slideshow": {
     "slide_type": "subslide"
    }
   },
   "source": [
    "### Inheritance\n",
    "\n",
    "We can make a new class which has some behaviour (methods and fields) of its own, and inherit other behaviour from a superclass. The syntax is: put the parent (superclass) in parenthesis after `class C`."
   ]
  },
  {
   "cell_type": "code",
   "execution_count": 17,
   "metadata": {
    "slideshow": {
     "slide_type": "-"
    }
   },
   "outputs": [],
   "source": [
    "class D(C):\n",
    "    def hello(self):\n",
    "        print(f\"Hello, my value is {self.data}\")"
   ]
  },
  {
   "cell_type": "markdown",
   "metadata": {
    "slideshow": {
     "slide_type": "subslide"
    }
   },
   "source": [
    "This new class has composite behaviour:"
   ]
  },
  {
   "cell_type": "code",
   "execution_count": 23,
   "metadata": {},
   "outputs": [
    {
     "name": "stdout",
     "output_type": "stream",
     "text": [
      "C(12)\n",
      "Hello, my value is 12\n"
     ]
    }
   ],
   "source": [
    "d = D(12)\n",
    "print(d) # inherited from C\n",
    "d.hello() # in D itself"
   ]
  },
  {
   "cell_type": "markdown",
   "metadata": {
    "slideshow": {
     "slide_type": "subslide"
    }
   },
   "source": [
    "### `super`\n",
    "\n",
    "Sometimes we want to inherit a method, but also add to it. This is especially common in `__init__`."
   ]
  },
  {
   "cell_type": "code",
   "execution_count": 30,
   "metadata": {
    "slideshow": {
     "slide_type": "subslide"
    }
   },
   "outputs": [
    {
     "name": "stdout",
     "output_type": "stream",
     "text": [
      "specific to D\n"
     ]
    }
   ],
   "source": [
    "class D(C):\n",
    "    def __init__(self, data=17):\n",
    "        super().__init__(data)\n",
    "        self.config = \"specific to D\"\n",
    "    def hello(self):\n",
    "        print(f\"Hello, my value is {self.data}\")\n",
    "d = D(15)\n",
    "print(d.config)"
   ]
  },
  {
   "cell_type": "markdown",
   "metadata": {
    "slideshow": {
     "slide_type": "subslide"
    }
   },
   "source": [
    "### Duck typing\n",
    "\n",
    "Don't forget, we have duck typing! In fact, duck typing is the Python approach to *polymorphism*. For example:"
   ]
  },
  {
   "cell_type": "code",
   "execution_count": 24,
   "metadata": {},
   "outputs": [
    {
     "data": {
      "text/plain": [
       "True"
      ]
     },
     "execution_count": 24,
     "metadata": {},
     "output_type": "execute_result"
    }
   ],
   "source": [
    "d < c"
   ]
  },
  {
   "cell_type": "markdown",
   "metadata": {
    "slideshow": {
     "slide_type": "subslide"
    }
   },
   "source": [
    "We can understand this by the substitution model:\n",
    "\n",
    "```\n",
    "d < c\n",
    "d.__lt__(c)\n",
    "d.data < c.data\n",
    "12 < 17\n",
    "True\n",
    "```"
   ]
  },
  {
   "cell_type": "markdown",
   "metadata": {
    "slideshow": {
     "slide_type": "subslide"
    }
   },
   "source": [
    "### Multiple inheritance\n",
    "\n",
    "It is fairly common to use inheritance, and even chains of inheritance: class D inherits from C which inherits from B, etc. Any class which doesn't explicitly inherit from another class implicitly inherits from `object` -- a kind of null class which is \"the root of the inheritance hierarchy\"."
   ]
  },
  {
   "cell_type": "markdown",
   "metadata": {
    "slideshow": {
     "slide_type": "subslide"
    }
   },
   "source": [
    "However, we can also have *multiple inheritance*, where class D inherits from both B and C (and neither B nor C inherits from the other)."
   ]
  },
  {
   "cell_type": "markdown",
   "metadata": {
    "slideshow": {
     "slide_type": "fragment"
    }
   },
   "source": [
    "<center><img src=img/multiple_inheritance.png width=35%></center>"
   ]
  },
  {
   "cell_type": "code",
   "execution_count": 26,
   "metadata": {
    "slideshow": {
     "slide_type": "subslide"
    }
   },
   "outputs": [],
   "source": [
    "class B:\n",
    "    def bzzz(self):\n",
    "        print(\"bzzz\")\n",
    "class D(B, C):\n",
    "    def hello(self):\n",
    "        print(f\"Hello, my value is {self.data}\")    "
   ]
  },
  {
   "cell_type": "code",
   "execution_count": 27,
   "metadata": {
    "slideshow": {
     "slide_type": "subslide"
    }
   },
   "outputs": [
    {
     "name": "stdout",
     "output_type": "stream",
     "text": [
      "bzzz\n",
      "Hello, my value is 17\n"
     ]
    }
   ],
   "source": [
    "d = D()\n",
    "d.bzzz()\n",
    "d.hello()"
   ]
  },
  {
   "cell_type": "markdown",
   "metadata": {
    "slideshow": {
     "slide_type": "subslide"
    }
   },
   "source": [
    "(A minor point: what happens if both B and C have a function with the same name? The Python *Method Resolution Order* comes into play to decide. We won't discuss this.)"
   ]
  },
  {
   "cell_type": "markdown",
   "metadata": {
    "slideshow": {
     "slide_type": "subslide"
    }
   },
   "source": [
    "### Exercise\n",
    "\n",
    "Try running this code, to observe what happens. Then edit the definition of `C`, implementing `__eq__` and `__le__`, to fix it.\n",
    "\n",
    "```python\n",
    "C(17) == C(17)\n",
    "C(17) <= C(18)\n",
    "```"
   ]
  },
  {
   "cell_type": "markdown",
   "metadata": {
    "slideshow": {
     "slide_type": "subslide"
    }
   },
   "source": [
    "### Solution"
   ]
  },
  {
   "cell_type": "markdown",
   "metadata": {},
   "source": [
    "```python\n",
    "C(17) == C(17)\n",
    "```\n",
    "\n",
    "is `False` because if an object doesn't have `__eq__`, Python will fall back to `id`:\n",
    "\n",
    "```python\n",
    "id(C(17)) == ID(C(17)) # False\n",
    "```"
   ]
  },
  {
   "cell_type": "code",
   "execution_count": 33,
   "metadata": {
    "slideshow": {
     "slide_type": "subslide"
    }
   },
   "outputs": [],
   "source": [
    "class C:\n",
    "    def __init__(self, data=17):\n",
    "        self.data = data\n",
    "    def __str__(self):\n",
    "        return f\"C({self.data})\"\n",
    "    def __lt__(self, other):\n",
    "        return self.data < other.data\n",
    "    def __eq__(self, other):\n",
    "        return self.data == other.data\n",
    "    def __le__(self, other):\n",
    "        return self.data <= other.data"
   ]
  }
 ],
 "metadata": {
  "celltoolbar": "Slideshow",
  "kernelspec": {
   "display_name": "Python 3",
   "language": "python",
   "name": "python3"
  },
  "language_info": {
   "codemirror_mode": {
    "name": "ipython",
    "version": 3
   },
   "file_extension": ".py",
   "mimetype": "text/x-python",
   "name": "python",
   "nbconvert_exporter": "python",
   "pygments_lexer": "ipython3",
   "version": "3.7.3"
  }
 },
 "nbformat": 4,
 "nbformat_minor": 2
}
