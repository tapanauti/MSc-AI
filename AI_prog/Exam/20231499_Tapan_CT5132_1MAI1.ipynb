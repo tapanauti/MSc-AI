{
 "metadata": {
  "language_info": {
   "codemirror_mode": {
    "name": "ipython",
    "version": 3
   },
   "file_extension": ".py",
   "mimetype": "text/x-python",
   "name": "python",
   "nbconvert_exporter": "python",
   "pygments_lexer": "ipython3",
   "version": "3.8.3-final"
  },
  "orig_nbformat": 2,
  "kernelspec": {
   "name": "python3",
   "display_name": "Python 3",
   "language": "python"
  }
 },
 "nbformat": 4,
 "nbformat_minor": 2,
 "cells": [
  {
   "source": [
    "## Name - Tapan Auti\n",
    "\n",
    "## ID - 20231499\n",
    "\n",
    "## course - 1MAI1"
   ],
   "cell_type": "markdown",
   "metadata": {}
  },
  {
   "source": [
    "### Question 1 - A"
   ],
   "cell_type": "markdown",
   "metadata": {}
  },
  {
   "cell_type": "code",
   "execution_count": null,
   "metadata": {},
   "outputs": [],
   "source": [
    "def _print():\n",
    "    print(10 + 5)\n",
    "\n",
    "def _return():\n",
    "    return 10 + 5"
   ]
  },
  {
   "source": [
    "Here in the both cases the answer will be 15 but in the `_print()` function if we check the `type(_print())` then we'll get 15 NoneType while in case of `_return()` we'll get int.\n",
    "\n",
    "This is because the print only prints the value on console and does not return i.e we are not assigning the value anywhere.\n",
    "\n",
    "In case of `_return()` we get the value back i.e we can assign the value to another variable or reuse it. we can use this value outside the function as well."
   ],
   "cell_type": "markdown",
   "metadata": {}
  },
  {
   "source": [
    "### Question 1 - B"
   ],
   "cell_type": "markdown",
   "metadata": {}
  },
  {
   "cell_type": "code",
   "execution_count": null,
   "metadata": {},
   "outputs": [],
   "source": [
    "def snooker(n):\n",
    "    if n == 0:\n",
    "        return 0\n",
    "    else:\n",
    "        return n + snooker(n-1)\n",
    "        n = 5\n",
    "        m = snooker(n)\n",
    "        print(m)"
   ]
  },
  {
   "source": [
    "### Question 1 - C"
   ],
   "cell_type": "markdown",
   "metadata": {}
  },
  {
   "source": [
    "When we want to store ordered collection of items we can use this Data Structure.\n",
    "\n",
    "To retrive information like account name etc is difficult from the list, here the account name is associating the count so it would be better to use dictionary in this case.\n",
    "\n",
    "The following dictionary might be a better method to store these values.\n",
    "\n",
    "`{\"StephenFry\":1000, \"BillGates\": 2000, \"NYT\": 1500}`"
   ],
   "cell_type": "markdown",
   "metadata": {}
  },
  {
   "source": [
    "### Question 1 - D"
   ],
   "cell_type": "markdown",
   "metadata": {}
  },
  {
   "source": [
    "In Duck Typing the operaions are not specified with requirements , they just try out what is given.\n",
    "\n",
    "The name comes from the quote 'If it quacks and looks like a duck , it's a duck'.\n",
    "\n",
    "The meaning is that to invoke the method you don't need type of it, if it is defined you can invoke it.\n",
    "\n",
    "To run the function `count_zero(x)` we don't need to know the type of x , it'll run anyway as it's am iterable."
   ],
   "cell_type": "markdown",
   "metadata": {}
  },
  {
   "source": [
    "### Question 1 - E"
   ],
   "cell_type": "markdown",
   "metadata": {}
  },
  {
   "source": [
    "We specify random seed to a start state of Random Number Generator\n",
    "\n",
    "In code 1 , the seed is initialsed to 0 every time the `for loop ` is run, while in code 2 the seed is initialsed to 0 once before the loop.\n",
    "\n",
    "The code will have the same result for both 1 and 2.\n",
    "\n",
    "In code 3 , the seed changes to 0 to 99 evrytime after loop, this gives us random result after `run_experiment ()` is called.\n",
    "\n",
    "In case we want a different random seed everytime you run the code then code 3 is right choice for us.\n",
    "\n",
    "\n",
    "\n"
   ],
   "cell_type": "markdown",
   "metadata": {}
  },
  {
   "source": [
    "### Question 2 - A"
   ],
   "cell_type": "markdown",
   "metadata": {}
  },
  {
   "source": [
    "Regex is as follows - \n",
    "\n",
    "- _ matched 'underscore'\n",
    "- \\w* matches letter (a-zA-Z0-9) any no of times\n",
    "- \\( matches the character '('\n",
    "-(.*) matches  any character any no of times\n",
    "- \\) matches the character ')'\n",
    "- : mathches the character ':'\n",
    "\n",
    "This regex is used to match magic methods\n",
    "\n",
    "the example of strings might be\n",
    "\n",
    "-  `_getparam`\n",
    "- `__init__`\n",
    "-  `_setparam`\n"
   ],
   "cell_type": "markdown",
   "metadata": {}
  },
  {
   "source": [
    "### Question 2 - B"
   ],
   "cell_type": "markdown",
   "metadata": {}
  },
  {
   "source": [
    "The names in scope are\n",
    "\n",
    "- randrange\n",
    "- f\n",
    "- y"
   ],
   "cell_type": "markdown",
   "metadata": {}
  },
  {
   "source": [
    "### Question 2 - C"
   ],
   "cell_type": "markdown",
   "metadata": {}
  },
  {
   "source": [
    "f can be suitable for memoisation if function was called externally \n",
    "\n",
    "f would suitable for memoisation if function was recursive\n",
    "\n",
    "In the example there is no need for memoisation"
   ],
   "cell_type": "markdown",
   "metadata": {}
  },
  {
   "source": [
    "### Question 2 - D"
   ],
   "cell_type": "markdown",
   "metadata": {}
  },
  {
   "cell_type": "code",
   "execution_count": null,
   "metadata": {},
   "outputs": [],
   "source": [
    "x = {'n_connections': 100, 'port': 8080}\n",
    "\n",
    "open(\"test1.txt\",\"w\").write(repr(x))\n",
    "\n",
    "y = eval(open(\"test1.txt\").read())\n",
    "print(f\"y = {y}, type of y = {type(y)}\")"
   ]
  },
  {
   "source": [
    "y = {'n_connections': 100, 'port': 8080}, type of y = <class 'dict'>"
   ],
   "cell_type": "markdown",
   "metadata": {}
  },
  {
   "source": [
    "### Question 2 - E\n"
   ],
   "cell_type": "markdown",
   "metadata": {}
  },
  {
   "source": [
    "- Time Complexity of function with respect to `text`: O(n)\n",
    "- Time Complexity of function with respect to length of `targets`: O(n)"
   ],
   "cell_type": "markdown",
   "metadata": {}
  },
  {
   "source": [
    "### Question 3 - A\n"
   ],
   "cell_type": "markdown",
   "metadata": {}
  },
  {
   "source": [
    "The array b will be \n",
    "\n",
    "`b = np.array([[10],[100]])`\n",
    "\n",
    "Numpy broadcasting is the ability of numpy to treat arrays of different shapes during arithmetic operations.Operations are done on the corresponding elements.\n",
    "If the array size is not same the smaller array is broadcast to size of bigger array so that they have compatible shapes.\n",
    "\n",
    "so when performing the mltiplcation a * b the smaller array b is broadcasted on larger array a and hence we get the output as \n",
    "`array([[[ 10, 20, 30],\n",
    "[ 400, 500, 600]],\n",
    "[[ 70, 80, 90],\n",
    "[1000, 1100, 1200]]])`   after the operation.\n",
    "\n"
   ],
   "cell_type": "markdown",
   "metadata": {}
  },
  {
   "source": [
    "### Question 3 - B"
   ],
   "cell_type": "markdown",
   "metadata": {}
  },
  {
   "source": [
    "All sckiti learn estimators are python objects, all estimators inherit from `sklearn.base.BaseEstimator` and have methods such as get_params, set_params etc which also sometimes point to a subestimator which can have any name that can contain a trailing underscore. So yes the scikit-learn estimator definitely contains a named variable with trailing underscore.\n",
    "\n",
    "The trailing underscore (coef_) in class attributes is a scikit-learn convention to denote \"estimated\" or \"fitted\" attributes, the estimated attributes from the data must end with trailing underscore, eg - regression estimator coef_ after fit has been called.\n",
    "\n",
    "The estimated attributes are expected to be overridden after we call fit.\n"
   ],
   "cell_type": "markdown",
   "metadata": {}
  },
  {
   "source": [
    "### Question 3 - C"
   ],
   "cell_type": "markdown",
   "metadata": {}
  },
  {
   "source": [
    "`D % > % mutate(a=0.4a, b=0.4b)%>% select(year, a, b)\n",
    " `"
   ],
   "cell_type": "markdown",
   "metadata": {}
  },
  {
   "source": [
    "### Question 3 - D"
   ],
   "cell_type": "markdown",
   "metadata": {}
  },
  {
   "source": [
    "In tidy data  \n",
    " 1. Each variable forms a column.\n",
    " 2. Each observation forms a row.\n",
    " 3. Each type of observational unit forms a table.\n",
    "\n",
    "So if we check the data it doesn't match the rules for tidy data and hence it's not tidy .\n",
    "In tidy form it'll look like -  \n",
    "\n",
    "| n \t| m \t| Elapsed Time \t| Accuracy \t|\n",
    "|---\t|---\t|--------------\t|----------\t|\n",
    "| 3 \t| 3 \t| 122          \t| 90       \t|\n",
    "| 2 \t| 4 \t| 150          \t| 95       \t|\n",
    "| 4 \t| 3 \t| 143          \t| 87       \t|\n",
    "| 4 \t| 4 \t| 190          \t| 91       \t|\n",
    "\n",
    "\n",
    "\n"
   ],
   "cell_type": "markdown",
   "metadata": {}
  },
  {
   "source": [
    "### Question 3 - E"
   ],
   "cell_type": "markdown",
   "metadata": {}
  },
  {
   "source": [
    "For this we could use group by on location which will sort the datframe based on location, group by takes in to account the column specified and then makes a unique column based on that and after that the numeric column in the dataframe is gone through arithmetic operation specified based on the unique column.\n",
    "\n",
    "If we want sum of saled based on location we would simply group by based on the location and after that have to specify sum(), we would get a dataframe of only two columns i.e location and sales in which location will have unique values and sales will be added based on the location respectively.\n",
    "\n",
    "The query would look like `df.groupby(\"location\").sum()`\n",
    "\n"
   ],
   "cell_type": "markdown",
   "metadata": {}
  },
  {
   "source": [
    "### Question 4 - A"
   ],
   "cell_type": "markdown",
   "metadata": {}
  },
  {
   "source": [
    "4 grams for the bitstring 001000100011 is\n",
    "\n",
    "0010 \n",
    "\n",
    "0100\n",
    "\n",
    "1000\n",
    " \n",
    "0001 \n",
    "\n",
    "0011\n"
   ],
   "cell_type": "markdown",
   "metadata": {}
  },
  {
   "source": [
    "### Question 4 - C"
   ],
   "cell_type": "markdown",
   "metadata": {}
  },
  {
   "source": [
    "The FSA is used to get the 4 consequtive occurances of ‘a’ inputs , if there is a b it returns to the start state.\n",
    "\n",
    "below is the \n",
    "SISA {\n",
    "\n",
    "    '0,a' : 1,\n",
    "\n",
    "    '1,a' : 2,\n",
    "\n",
    "    '2,a' : 3,\n",
    "\n",
    "    '3,a' : 'end'\n",
    "\n",
    "    '1,b' : 0 \n",
    "\n",
    "    '2,b' : 0\n",
    "\n",
    "    '3,b' : 0\n",
    "    \n",
    "}"
   ],
   "cell_type": "markdown",
   "metadata": {}
  }
 ]
}