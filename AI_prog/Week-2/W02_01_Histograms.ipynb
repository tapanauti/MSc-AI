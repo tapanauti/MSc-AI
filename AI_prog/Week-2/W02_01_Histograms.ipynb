{
 "cells": [
  {
   "cell_type": "markdown",
   "metadata": {
    "slideshow": {
     "slide_type": "slide"
    }
   },
   "source": [
    "<center><img src=img/MScAI_brand.png width=70%></center>\n",
    "\n",
    "# Example: histograms"
   ]
  },
  {
   "cell_type": "markdown",
   "metadata": {
    "slideshow": {
     "slide_type": "slide"
    }
   },
   "source": [
    "As we know, a *histogram* is a graph representing the frequency of occurrence of data, segregated into categories. If the data are real numbers, the categories are *bins*, e.g. $[0, 10]$, $[10, 20]$, $[20, 30]$. If the data are discrete, then the data values may be the categories, e.g. `A`, `B`, `C`."
   ]
  },
  {
   "cell_type": "markdown",
   "metadata": {
    "slideshow": {
     "slide_type": "notes"
    }
   },
   "source": [
    "In fact, a histogram is really the underlying data structure -- a number representing frequency of occurrence, for each category -- not the graphical representation of it.\n",
    "\n",
    "In this notebook we'll develop a histogram and refine it a bit, illustrating several useful Python features and good Python style. "
   ]
  },
  {
   "cell_type": "code",
   "execution_count": 1,
   "metadata": {
    "slideshow": {
     "slide_type": "slide"
    }
   },
   "outputs": [],
   "source": [
    "def histogram(s):\n",
    "    h = {} # represent histogram as a dict\n",
    "    for c in s: # assume s is iterable\n",
    "        if c in h:\n",
    "            h[c] += 1 # increment\n",
    "        else:\n",
    "            h[c] = 1  # create key\n",
    "    return h"
   ]
  },
  {
   "cell_type": "code",
   "execution_count": 2,
   "metadata": {
    "slideshow": {
     "slide_type": "fragment"
    }
   },
   "outputs": [
    {
     "data": {
      "text/plain": [
       "{31: 7, 28: 1, 30: 4}"
      ]
     },
     "execution_count": 2,
     "metadata": {},
     "output_type": "execute_result"
    }
   ],
   "source": [
    "# test our histogram out\n",
    "histogram([31, 28, 31, 30, 31, 30, 31, 31, 30, 31, 30, 31])"
   ]
  },
  {
   "cell_type": "markdown",
   "metadata": {
    "slideshow": {
     "slide_type": "slide"
    }
   },
   "source": [
    "### Duck typing\n",
    "\n",
    "One nice feature of Python is *duck typing*. \"If it looks like a duck, and walks like a duck, and quacks like a duck, then treat it like a duck\". "
   ]
  },
  {
   "cell_type": "markdown",
   "metadata": {
    "slideshow": {
     "slide_type": "notes"
    }
   },
   "source": [
    "Contrary to some misunderstandings, Python objects do have types and these types never change. But a variable is really a *name* which points to an object. A variable can point to one object, and later on in the same program, to a different object of a different type. So *objects* have permanent types but *names* don't. \n"
   ]
  },
  {
   "cell_type": "markdown",
   "metadata": {
    "slideshow": {
     "slide_type": "slide"
    }
   },
   "source": [
    "This becomes very useful when we write functions like `histogram(s)`. Here, the object referred to by the name `s` can be any iterable type. We don't care whether it's a string, list, tuple, or some other type we've never even heard of. As long as it knows how to iterate (\"quacks like a duck\"), then our code\n",
    "```for c in s``` will work ok."
   ]
  },
  {
   "cell_type": "code",
   "execution_count": 3,
   "metadata": {
    "slideshow": {
     "slide_type": "fragment"
    }
   },
   "outputs": [
    {
     "data": {
      "text/plain": [
       "{'m': 1, 'i': 4, 's': 4, 'p': 2}"
      ]
     },
     "execution_count": 3,
     "metadata": {},
     "output_type": "execute_result"
    }
   ],
   "source": [
    "histogram(\"mississippi\") # can iterate over a string"
   ]
  },
  {
   "cell_type": "markdown",
   "metadata": {
    "slideshow": {
     "slide_type": "slide"
    }
   },
   "source": [
    "### `collections.defaultdict`\n",
    "\n",
    "A common pattern occurred above: we had to use an `if-else` (four lines) to take care of the special case where the key didn't already exist.\n",
    "```python\n",
    "        if c in h:\n",
    "            h[c] += 1 # increment\n",
    "        else:\n",
    "            h[c] = 1  # create key\n",
    "```"
   ]
  },
  {
   "cell_type": "markdown",
   "metadata": {
    "slideshow": {
     "slide_type": "notes"
    }
   },
   "source": [
    "This pattern is so common that they created a special `dict`-like type, `collections.defaultdict`, which can make our definition a bit nicer. When creating it, we pass in a function (of no arguments) which will be called to create a default when needed."
   ]
  },
  {
   "cell_type": "code",
   "execution_count": 4,
   "metadata": {
    "slideshow": {
     "slide_type": "subslide"
    }
   },
   "outputs": [],
   "source": [
    "from collections import defaultdict\n",
    "def histogram(s):\n",
    "    h = defaultdict(int) # int() -> 0\n",
    "    for c in s: # assume s is iterable\n",
    "        h[c] += 1\n",
    "    return h"
   ]
  },
  {
   "cell_type": "code",
   "execution_count": 5,
   "metadata": {
    "slideshow": {
     "slide_type": "fragment"
    }
   },
   "outputs": [
    {
     "data": {
      "text/plain": [
       "0"
      ]
     },
     "execution_count": 5,
     "metadata": {},
     "output_type": "execute_result"
    }
   ],
   "source": [
    "int() # what does int mean as a function?"
   ]
  },
  {
   "cell_type": "markdown",
   "metadata": {
    "slideshow": {
     "slide_type": "slide"
    }
   },
   "source": [
    "### Canonicalisation"
   ]
  },
  {
   "cell_type": "markdown",
   "metadata": {
    "slideshow": {
     "slide_type": "notes"
    }
   },
   "source": [
    "Suppose we wanted to use our histogram to count letter frequencies in a large corpus."
   ]
  },
  {
   "cell_type": "code",
   "execution_count": 6,
   "metadata": {},
   "outputs": [
    {
     "name": "stdout",
     "output_type": "stream",
     "text": [
      "defaultdict(<class 'int'>, {'I': 1, 't': 8, ' ': 11, 'w': 3, 'a': 2, 's': 6, 'h': 2, 'e': 5, 'b': 1, 'o': 3, 'f': 2, 'i': 3, 'm': 2, ',': 1, 'r': 1, '.': 3})\n"
     ]
    }
   ],
   "source": [
    "s = \"It was the best of times, it was the worst of times...\"\n",
    "print(histogram(s))"
   ]
  },
  {
   "cell_type": "markdown",
   "metadata": {
    "slideshow": {
     "slide_type": "fragment"
    }
   },
   "source": [
    "Look what happened: the count for `I` and for `i` are separate! "
   ]
  },
  {
   "cell_type": "markdown",
   "metadata": {
    "slideshow": {
     "slide_type": "subslide"
    }
   },
   "source": [
    "How to fix this? One solution is to *canonicalise* the data, that is for any data which can occur in multiple forms, map them all to a single, \"canonical\", form."
   ]
  },
  {
   "cell_type": "code",
   "execution_count": 7,
   "metadata": {
    "slideshow": {
     "slide_type": "-"
    }
   },
   "outputs": [],
   "source": [
    "def histogram(s):\n",
    "    h = defaultdict(int) # int() -> 0\n",
    "    for c in s: # assume s is iterable\n",
    "        c = c.lower() # canonicalise. doesn't change s\n",
    "        h[c] += 1\n",
    "    return h"
   ]
  },
  {
   "cell_type": "code",
   "execution_count": 8,
   "metadata": {
    "scrolled": true
   },
   "outputs": [
    {
     "name": "stdout",
     "output_type": "stream",
     "text": [
      "defaultdict(<class 'int'>, {'i': 4, 't': 8, ' ': 11, 'w': 3, 'a': 2, 's': 6, 'h': 2, 'e': 5, 'b': 1, 'o': 3, 'f': 2, 'm': 2, ',': 1, 'r': 1, '.': 3})\n"
     ]
    }
   ],
   "source": [
    "print(histogram(s))"
   ]
  },
  {
   "cell_type": "markdown",
   "metadata": {
    "slideshow": {
     "slide_type": "notes"
    }
   },
   "source": [
    "This works, but now our function is less general than before: it assumes that the elements of `s` are strings, or at least they quack like strings (they have a `.lower()` method). We can fix our problem and still retain generality like this:"
   ]
  },
  {
   "cell_type": "code",
   "execution_count": 9,
   "metadata": {
    "slideshow": {
     "slide_type": "subslide"
    }
   },
   "outputs": [],
   "source": [
    "def histogram(s, canonicalise=None):\n",
    "    h = defaultdict(int) # int() -> 0\n",
    "    for c in s: # assume s is iterable\n",
    "        if canonicalise:\n",
    "            c = canonicalise(c)\n",
    "        h[c] += 1\n",
    "    return h"
   ]
  },
  {
   "cell_type": "code",
   "execution_count": 10,
   "metadata": {
    "slideshow": {
     "slide_type": "fragment"
    }
   },
   "outputs": [
    {
     "name": "stdout",
     "output_type": "stream",
     "text": [
      "defaultdict(<class 'int'>, {'i': 4, 't': 8, ' ': 11, 'w': 3, 'a': 2, 's': 6, 'h': 2, 'e': 5, 'b': 1, 'o': 3, 'f': 2, 'm': 2, ',': 1, 'r': 1, '.': 3})\n"
     ]
    }
   ],
   "source": [
    "def canonicalise_case(s): return s.lower()\n",
    "print(histogram(s, canonicalise=canonicalise_case))"
   ]
  },
  {
   "cell_type": "markdown",
   "metadata": {
    "slideshow": {
     "slide_type": "notes"
    }
   },
   "source": [
    "This is neat, because our function becomes much more *combinable* -- more *lego-like*. For example:"
   ]
  },
  {
   "cell_type": "code",
   "execution_count": 11,
   "metadata": {
    "slideshow": {
     "slide_type": "subslide"
    }
   },
   "outputs": [
    {
     "data": {
      "text/plain": [
       "defaultdict(int, {17: 2, 19: 2, 20: 1, 21: 2})"
      ]
     },
     "execution_count": 11,
     "metadata": {},
     "output_type": "execute_result"
    }
   ],
   "source": [
    "histogram([17.3, 17.4, 19.1, 19.2, 20.5, 20.6, 20.7], \n",
    "          canonicalise=round)"
   ]
  },
  {
   "cell_type": "markdown",
   "metadata": {
    "slideshow": {
     "slide_type": "slide"
    }
   },
   "source": [
    "### Normalisation\n",
    "\n",
    "Mapping numerical data from one range to another:\n",
    "* 0-1 Normalisation: map $[a, b]$ to $[0, 1]$\n",
    "* -1 to 1: map $[a, b]$ to $[-1, 1]$\n",
    "* $z$-scores: map so that data has mean 0 and variance 1\n",
    "* vector-length normalisation: map so that resulting data, treated as vector, has length 1\n",
    "* map to probabilities: map so that sum of resulting vector is 1"
   ]
  },
  {
   "cell_type": "markdown",
   "metadata": {
    "slideshow": {
     "slide_type": "notes"
    }
   },
   "source": [
    "Normalisation means a few different things (sometimes the same as canonicalisation!), but one possible meaning is to map numerical data from by dividing by the sum, so that the new sum is 1. In a histogram, that means that instead of counting *occurences*, we will count *frequencies*. We can implement this as below."
   ]
  },
  {
   "cell_type": "code",
   "execution_count": 12,
   "metadata": {
    "slideshow": {
     "slide_type": "subslide"
    }
   },
   "outputs": [],
   "source": [
    "def histogram(s, normalise=False, canonicalise=None):\n",
    "    h = defaultdict(int) # int() -> 0\n",
    "    for c in s: # assume s is iterable\n",
    "        if canonicalise:\n",
    "            c = canonicalise(c)\n",
    "        h[c] += 1 \n",
    "    if normalise:\n",
    "        total = len(s)\n",
    "        for c in h:\n",
    "            h[c] /= total # normalise\n",
    "    return h"
   ]
  },
  {
   "cell_type": "code",
   "execution_count": 13,
   "metadata": {
    "slideshow": {
     "slide_type": "subslide"
    }
   },
   "outputs": [
    {
     "data": {
      "text/plain": [
       "defaultdict(int,\n",
       "            {'m': 0.09090909090909091,\n",
       "             'i': 0.36363636363636365,\n",
       "             's': 0.36363636363636365,\n",
       "             'p': 0.18181818181818182})"
      ]
     },
     "execution_count": 13,
     "metadata": {},
     "output_type": "execute_result"
    }
   ],
   "source": [
    "histogram(\"mississippi\", normalise=True)"
   ]
  },
  {
   "cell_type": "markdown",
   "metadata": {
    "slideshow": {
     "slide_type": "notes"
    }
   },
   "source": [
    "As before, we are able to add new functionality but retain generality, because this normalisation is optional. We are taking advantage of Python's optional keyword arguments.\n",
    "\n",
    "By the way, it is the common idiom to use a `bool` argument to switch behaviours on or off (like `normalise`), but to provide `None` as the default value for an optional *function* (like `canonicalise`)."
   ]
  },
  {
   "cell_type": "markdown",
   "metadata": {
    "slideshow": {
     "slide_type": "slide"
    }
   },
   "source": [
    "### Sampling from a histogram\n",
    "\n",
    "To *sample from a histogram* means to choose one of the keys with probability *weighted by the count*. "
   ]
  },
  {
   "cell_type": "markdown",
   "metadata": {
    "slideshow": {
     "slide_type": "notes"
    }
   },
   "source": [
    "A common idea in AI is to learn a distribution from data and then sample from it. If the data is purely numerical, then of course that is familiar to us in statistics. The data could also be characters, words, tuples, or something else. Our histogram function can \"learn\" the distribution of any of these. But how can we then sample from it?"
   ]
  },
  {
   "cell_type": "markdown",
   "metadata": {
    "slideshow": {
     "slide_type": "subslide"
    }
   },
   "source": [
    "Recall that in a (normalised) histogram, the frequencies will sum to 1. Imagine the interval from 0 to 1 divided up into slots of different lengths. In the following algorithm, we choose a random value `r` $\\in [0, 1]$ and see which slot it falls into:\n",
    "\n",
    "`[ m |    s    |    i   |  p  ]`\n",
    "\n",
    "`0                            1`\n",
    "\n",
    "`[                 r          ]`"
   ]
  },
  {
   "cell_type": "code",
   "execution_count": 14,
   "metadata": {
    "slideshow": {
     "slide_type": "subslide"
    }
   },
   "outputs": [],
   "source": [
    "import random\n",
    "def hist_sample(h):\n",
    "    # we will assume h is normalised, and so sum(h.values()) == 1\n",
    "    r = random.random() # in [0, 1]\n",
    "    accum = 0\n",
    "    for c in h:\n",
    "        accum += h[c]\n",
    "        if accum >= r:\n",
    "            return c\n",
    "    raise ValueError"
   ]
  },
  {
   "cell_type": "code",
   "execution_count": 15,
   "metadata": {
    "slideshow": {
     "slide_type": "fragment"
    }
   },
   "outputs": [
    {
     "name": "stdout",
     "output_type": "stream",
     "text": [
      "s\n",
      "s\n",
      "m\n",
      "s\n",
      "i\n",
      "s\n",
      "p\n",
      "i\n",
      "i\n",
      "i\n"
     ]
    }
   ],
   "source": [
    "h = histogram(\"mississippi\", normalise=True)\n",
    "for i in range(10):\n",
    "    print(hist_sample(h))"
   ]
  },
  {
   "cell_type": "markdown",
   "metadata": {
    "slideshow": {
     "slide_type": "notes"
    }
   },
   "source": [
    "We can now generate individual letters and they'll be in the right frequencies. If we \"learn\" from a large corpus of English text, we'll see `e` as the most common letter.\n",
    "\n",
    "But we might prefer to generate text at the *word level*. We can do it easily! We need to split our input sequence up into tokens and get rid of any punctuation."
   ]
  },
  {
   "cell_type": "code",
   "execution_count": 16,
   "metadata": {
    "slideshow": {
     "slide_type": "subslide"
    }
   },
   "outputs": [
    {
     "name": "stdout",
     "output_type": "stream",
     "text": [
      "the times of the of times was worst times of "
     ]
    }
   ],
   "source": [
    "s = \"It was the best of times, it was the worst of times...\"\n",
    "def canonicalise_word(w):\n",
    "    return w.lower().strip(\" .,?'()\")\n",
    "h = histogram(s.split(), normalise=True, \n",
    "              canonicalise=canonicalise_word)\n",
    "\n",
    "for i in range(10):\n",
    "    print(hist_sample(h), end=\" \")"
   ]
  },
  {
   "cell_type": "markdown",
   "metadata": {
    "slideshow": {
     "slide_type": "notes"
    }
   },
   "source": [
    "The text is still nonsense, of course. $n$-grams is one technique which could be used to make it a bit more realistic."
   ]
  },
  {
   "cell_type": "markdown",
   "metadata": {
    "slideshow": {
     "slide_type": "slide"
    }
   },
   "source": [
    "# File input/output\n",
    "\n",
    "So far we have processed very small amounts of data. Let's process a whole book. We can get one in plain text from Project Gutenberg."
   ]
  },
  {
   "cell_type": "markdown",
   "metadata": {
    "slideshow": {
     "slide_type": "notes"
    }
   },
   "source": [
    "We'll use some shell commands to do so. We can execute shell commands directly in a Jupyter Notebook, using the `!` prefix. If you don't have `wget` on your system, don't worry -- just download the file manually and put it in the current directory (if you are running in Spyder, you might need to tell Spyder to change the current directory also)."
   ]
  },
  {
   "cell_type": "code",
   "execution_count": 17,
   "metadata": {
    "slideshow": {
     "slide_type": "subslide"
    }
   },
   "outputs": [
    {
     "name": "stdout",
     "output_type": "stream",
     "text": [
      "--2019-09-19 08:23:28--  https://www.gutenberg.org/files/98/98-0.txt\n",
      "Resolving www.gutenberg.org... 152.19.134.47\n",
      "Connecting to www.gutenberg.org|152.19.134.47|:443... connected.\n",
      "HTTP request sent, awaiting response... 200 OK\n",
      "Length: 804335 (785K) [text/plain]\n",
      "Saving to: ‘98-0.txt’\n",
      "\n",
      "98-0.txt            100%[===================>] 785.48K  1.10MB/s    in 0.7s    \n",
      "\n",
      "2019-09-19 08:23:29 (1.10 MB/s) - ‘98-0.txt’ saved [804335/804335]\n",
      "\n"
     ]
    }
   ],
   "source": [
    "!wget https://www.gutenberg.org/files/98/98-0.txt\n",
    "!mv 98-0.txt data/tale.txt"
   ]
  },
  {
   "cell_type": "code",
   "execution_count": 20,
   "metadata": {
    "slideshow": {
     "slide_type": "subslide"
    }
   },
   "outputs": [
    {
     "name": "stdout",
     "output_type": "stream",
     "text": [
      "imposing passed of the paris i three be being it "
     ]
    }
   ],
   "source": [
    "fname = \"data/tale.txt\"\n",
    "s = open(fname, encoding=\"utf8\").read() # notice utf8 addition!\n",
    "h = histogram(s.split(), normalise=True, canonicalise=canonicalise_word)\n",
    "\n",
    "for i in range(10):\n",
    "    print(hist_sample(h), end=\" \")"
   ]
  },
  {
   "cell_type": "markdown",
   "metadata": {
    "slideshow": {
     "slide_type": "subslide"
    }
   },
   "source": [
    "Above, we used `open()` to open the file for reading. We then used `.read()` to actually read it -- all at once. An alternative is to use:\n",
    "\n",
    "```python\n",
    "f = open(fname) # returns a File object\n",
    "for line in f: # iterate over its lines\n",
    "    # process line somehow...\n",
    "```"
   ]
  },
  {
   "cell_type": "markdown",
   "metadata": {
    "slideshow": {
     "slide_type": "notes"
    }
   },
   "source": [
    "To illustrate file *output*, let's generate some text and write it out. We have to pass the `w` (write) flag to `open`:"
   ]
  },
  {
   "cell_type": "code",
   "execution_count": 19,
   "metadata": {
    "slideshow": {
     "slide_type": "subslide"
    }
   },
   "outputs": [],
   "source": [
    "gname = \"data/tale_generated.txt\"\n",
    "g = open(gname, \"w\")\n",
    "for i in range(100): # 100 lines of 50 words each\n",
    "    output = []\n",
    "    for j in range(50):\n",
    "        output.append(hist_sample(h))\n",
    "    g.write(\" \".join(output) + \".\\n\") # write some text, full-stop, and newline\n",
    "g.close()"
   ]
  },
  {
   "cell_type": "markdown",
   "metadata": {
    "slideshow": {
     "slide_type": "notes"
    }
   },
   "source": [
    "Of course, there are many more options for file input/output, and of course file output can be combined with the usual Python string formatting."
   ]
  }
 ],
 "metadata": {
  "celltoolbar": "Slideshow",
  "kernelspec": {
   "display_name": "Python 3",
   "language": "python",
   "name": "python3"
  },
  "language_info": {
   "codemirror_mode": {
    "name": "ipython",
    "version": 3
   },
   "file_extension": ".py",
   "mimetype": "text/x-python",
   "name": "python",
   "nbconvert_exporter": "python",
   "pygments_lexer": "ipython3",
   "version": "3.7.3"
  }
 },
 "nbformat": 4,
 "nbformat_minor": 2
}
