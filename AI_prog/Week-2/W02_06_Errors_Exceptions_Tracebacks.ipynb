{
 "cells": [
  {
   "cell_type": "markdown",
   "metadata": {
    "slideshow": {
     "slide_type": "slide"
    }
   },
   "source": [
    "<center><img src=img/MScAI_brand.png width=70%></center>\n",
    "\n",
    "# Errors, Exceptions, and Tracebacks"
   ]
  },
  {
   "cell_type": "markdown",
   "metadata": {
    "nbpresent": {
     "id": "730ad58a-6cb9-4906-bdd7-3b72eaca20a4"
    },
    "slideshow": {
     "slide_type": "slide"
    }
   },
   "source": [
    "Exceptions\n",
    "-------------\n",
    "\n",
    "An *exception* is a way of signalling that something unusual\n",
    "(\"exceptional\") has happened while the code is running. \n",
    "\n",
    "* How to raise an exception\n",
    "* How to handle one."
   ]
  },
  {
   "cell_type": "markdown",
   "metadata": {
    "slideshow": {
     "slide_type": "notes"
    }
   },
   "source": [
    "That might\n",
    "mean an error, for example. If the code doesn't know how to recover\n",
    "from the error, it can raise (or \"throw\") an exception. That changes\n",
    "the control flow of the program. If the exception is not handled (or\n",
    "\"caught\") inside the currently-executing function, then the function\n",
    "exits -- immediately, and without returning any value. The function\n",
    "that called this one then has a chance to handle (or \"catch\") it. If\n",
    "not, it continues to the function that called *that* one, and so\n",
    "on. If it is never caught, it propagates \"all the way up\", the program\n",
    "exits (\"crashes\"), and you see a Traceback on your screen.\n",
    "\n",
    "For unrecoverable errors, that is probably just fine. Other times, we\n",
    "will want to handle an exception before the program exits, either\n",
    "within the current function, or in an enclosing one.\n",
    "\n",
    "So, there are two main mechanisms we need to know about: how to raise an exception, and how to handle one."
   ]
  },
  {
   "cell_type": "code",
   "execution_count": 1,
   "metadata": {
    "nbpresent": {
     "id": "13432d1b-9bc2-4b31-bbf4-db8716ffdc03"
    },
    "slideshow": {
     "slide_type": "slide"
    }
   },
   "outputs": [],
   "source": [
    "def get_mobile_number(operator, user):\n",
    "    \"\"\"Given an operator and a user number, \n",
    "    return the full mobile number. For example:\n",
    "\n",
    "    >>> get_mobile_number(\"meteor\", \"1234567\")\n",
    "    '0851234567'\n",
    "\n",
    "    \"\"\"\n",
    "    \n",
    "    # We have a mapping from operators to prefixes. \n",
    "    d = {\"virgin\": \"087\", \"three\": \"086\", \n",
    "         \"meteor\": \"085\"}\n",
    "    return d[operator] + user"
   ]
  },
  {
   "cell_type": "markdown",
   "metadata": {
    "nbpresent": {
     "id": "7fa6bc13-3bb2-491c-bacc-b7a43f95b388"
    },
    "slideshow": {
     "slide_type": "slide"
    }
   },
   "source": [
    "This works as follows:"
   ]
  },
  {
   "cell_type": "code",
   "execution_count": 2,
   "metadata": {
    "nbpresent": {
     "id": "cc14bdff-b1aa-4bdb-bf6c-81b7bc86eba0"
    }
   },
   "outputs": [
    {
     "data": {
      "text/plain": [
       "'0871234567'"
      ]
     },
     "execution_count": 2,
     "metadata": {},
     "output_type": "execute_result"
    }
   ],
   "source": [
    "get_mobile_number(\"virgin\", \"1234567\")"
   ]
  },
  {
   "cell_type": "markdown",
   "metadata": {
    "nbpresent": {
     "id": "4cc615b6-b523-4cf7-87bd-43554decd87d"
    },
    "slideshow": {
     "slide_type": "slide"
    }
   },
   "source": [
    "But if we run something like the following, we'll get a KeyError, because T-Mobile doesn't exist:"
   ]
  },
  {
   "cell_type": "code",
   "execution_count": 3,
   "metadata": {
    "nbpresent": {
     "id": "63c79441-13dc-424e-882d-e945819cbf51"
    }
   },
   "outputs": [
    {
     "ename": "KeyError",
     "evalue": "'T-Mobile'",
     "output_type": "error",
     "traceback": [
      "\u001b[0;31m---------------------------------------------------------------------------\u001b[0m",
      "\u001b[0;31mKeyError\u001b[0m                                  Traceback (most recent call last)",
      "\u001b[0;32m<ipython-input-3-5c616191561f>\u001b[0m in \u001b[0;36m<module>\u001b[0;34m\u001b[0m\n\u001b[0;32m----> 1\u001b[0;31m \u001b[0mget_mobile_number\u001b[0m\u001b[0;34m(\u001b[0m\u001b[0;34m\"T-Mobile\"\u001b[0m\u001b[0;34m,\u001b[0m \u001b[0;34m\"1234567\"\u001b[0m\u001b[0;34m)\u001b[0m\u001b[0;34m\u001b[0m\u001b[0;34m\u001b[0m\u001b[0m\n\u001b[0m",
      "\u001b[0;32m<ipython-input-1-390f2cbf7649>\u001b[0m in \u001b[0;36mget_mobile_number\u001b[0;34m(operator, user)\u001b[0m\n\u001b[1;32m     10\u001b[0m     \u001b[0;31m# We have a mapping from operators to prefixes.\u001b[0m\u001b[0;34m\u001b[0m\u001b[0;34m\u001b[0m\u001b[0;34m\u001b[0m\u001b[0m\n\u001b[1;32m     11\u001b[0m     \u001b[0md\u001b[0m \u001b[0;34m=\u001b[0m \u001b[0;34m{\u001b[0m\u001b[0;34m\"virgin\"\u001b[0m\u001b[0;34m:\u001b[0m \u001b[0;34m\"087\"\u001b[0m\u001b[0;34m,\u001b[0m \u001b[0;34m\"three\"\u001b[0m\u001b[0;34m:\u001b[0m \u001b[0;34m\"086\"\u001b[0m\u001b[0;34m,\u001b[0m \u001b[0;34m\"meteor\"\u001b[0m\u001b[0;34m:\u001b[0m \u001b[0;34m\"085\"\u001b[0m\u001b[0;34m}\u001b[0m\u001b[0;34m\u001b[0m\u001b[0;34m\u001b[0m\u001b[0m\n\u001b[0;32m---> 12\u001b[0;31m     \u001b[0;32mreturn\u001b[0m \u001b[0md\u001b[0m\u001b[0;34m[\u001b[0m\u001b[0moperator\u001b[0m\u001b[0;34m]\u001b[0m \u001b[0;34m+\u001b[0m \u001b[0muser\u001b[0m\u001b[0;34m\u001b[0m\u001b[0;34m\u001b[0m\u001b[0m\n\u001b[0m",
      "\u001b[0;31mKeyError\u001b[0m: 'T-Mobile'"
     ]
    }
   ],
   "source": [
    "get_mobile_number(\"T-Mobile\", \"1234567\")"
   ]
  },
  {
   "cell_type": "markdown",
   "metadata": {
    "slideshow": {
     "slide_type": "notes"
    }
   },
   "source": [
    "That KeyError is an *exception*. It was raised by the code that\n",
    "implements dictionaries to indicate the requested key wasn't found. Our variable d is a dictionary. When we tried\n",
    "to look up the value of \"T-Mobile\", it found there was no such key in\n",
    "d. It (the dict) didn't print out an error message, or return a\n",
    "special error value, or anything like that. All the dict did was raise\n",
    "an exception, one called KeyError. Because our code didn't handle the\n",
    "exception, it propagated all the way to the console and caused a\n",
    "crash."
   ]
  },
  {
   "cell_type": "markdown",
   "metadata": {
    "nbpresent": {
     "id": "2c7f19b8-515c-462d-a0d3-1eea2bc1f922"
    },
    "slideshow": {
     "slide_type": "slide"
    }
   },
   "source": [
    "Catching exceptions\n",
    "------------------\n",
    "\n"
   ]
  },
  {
   "cell_type": "markdown",
   "metadata": {
    "slideshow": {
     "slide_type": "notes"
    }
   },
   "source": [
    "But what if we wanted to do something else with a bad operator,\n",
    "instead of crashing the program? Let's say we're printing out mobile\n",
    "numbers, and anytime we get an unrecognised operator, we should just\n",
    "print nothing, instead. We can do that by \"catching\" the exception,\n",
    "using a try-except block.\n",
    "\n",
    "A try-except block looks a bit like an if-statement. That reflects the\n",
    "fact that it affects control flow, just like an if statement does. It\n",
    "means something like: run this, and if there's an exception, clean up\n",
    "by running something else instead.\n",
    "\n",
    "We can either catch the error from outside the function:"
   ]
  },
  {
   "cell_type": "code",
   "execution_count": 4,
   "metadata": {
    "nbpresent": {
     "id": "8b8099aa-6216-4f6b-a5ff-ce819f1e1e90"
    },
    "slideshow": {
     "slide_type": "fragment"
    }
   },
   "outputs": [
    {
     "name": "stdout",
     "output_type": "stream",
     "text": [
      "Operator T-Mobile not found\n"
     ]
    }
   ],
   "source": [
    "user = \"1234567\"\n",
    "oper = \"T-Mobile\"\n",
    "try:\n",
    "    # try this code...\n",
    "    print(get_mobile_number(oper, user)) \n",
    "except KeyError: \n",
    "    # ... and if a KeyError happens\n",
    "    # ... do this instead.\n",
    "    print(\"Operator \" + oper + \" not found\") "
   ]
  },
  {
   "cell_type": "markdown",
   "metadata": {
    "nbpresent": {
     "id": "2a435e69-ac24-4c9e-8b89-a7f74b1dd952"
    },
    "slideshow": {
     "slide_type": "slide"
    }
   },
   "source": [
    "Or we can catch it inside the function. It depends what\n",
    "we want to achieve. The following new version won't crash. If there is a KeyError while we're\n",
    "\"trying\" the first piece of code, then we'll just return None\n",
    "instead.\n",
    "\n"
   ]
  },
  {
   "cell_type": "code",
   "execution_count": 5,
   "metadata": {
    "nbpresent": {
     "id": "92ffc43d-60f4-4a19-91f1-885bf6bdc2b6"
    }
   },
   "outputs": [
    {
     "name": "stdout",
     "output_type": "stream",
     "text": [
      "None\n"
     ]
    }
   ],
   "source": [
    "def get_mobile_number(operator, user):\n",
    "    # We have a mapping from operators to prefixes. Note that we use a\n",
    "    # string for the number and the prefix -- why?\n",
    "    d = {\"virgin\": \"087\", \"three\": \"086\", \"meteor\": \"085\"}\n",
    "    try:\n",
    "        return d[operator] + user # try this code...\n",
    "    except KeyError: # ... and if a KeyError happens...\n",
    "        return None # ... do this instead.\n",
    "\n",
    "print(get_mobile_number(oper, user))  "
   ]
  },
  {
   "cell_type": "markdown",
   "metadata": {
    "nbpresent": {
     "id": "9c66c6e7-6a2e-4406-ad62-a91e73a278f9"
    },
    "slideshow": {
     "slide_type": "slide"
    }
   },
   "source": [
    "**Exercise**: Write a function which accepts two numbers and returns the\n",
    "first divided by the second. Observe the exception that is thrown if\n",
    "you try to divide by zero. Now use a try-except block to catch that\n",
    "exception and print a sensible error message, instead of crashing the\n",
    "program."
   ]
  },
  {
   "cell_type": "markdown",
   "metadata": {
    "nbpresent": {
     "id": "c2ced280-11b4-4621-b4a6-607734d2a5bb"
    },
    "slideshow": {
     "slide_type": "slide"
    }
   },
   "source": [
    "We can also use multiple `except` clauses, e.g.: \n",
    "```python\n",
    "try:\n",
    "    something\n",
    "except KeyError:\n",
    "    deal with KeyError\n",
    "except ZeroDivisionError:\n",
    "    deal with ZeroDivisionError\n",
    "```\n",
    "\n",
    "**Exercise**: Observe the exceptions that are thrown in the below cases,\n",
    "and then repair the function using multiple `except` clauses to do something sensible that doesn't crash."
   ]
  },
  {
   "cell_type": "code",
   "execution_count": 6,
   "metadata": {
    "nbpresent": {
     "id": "79b4a41b-78ec-4bf9-96f3-da60bd45a8aa"
    },
    "slideshow": {
     "slide_type": "subslide"
    }
   },
   "outputs": [],
   "source": [
    "def subtract_one(L):\n",
    "    L[0] -= 1\n",
    "    return L"
   ]
  },
  {
   "cell_type": "code",
   "execution_count": 7,
   "metadata": {
    "nbpresent": {
     "id": "a02c34f3-ee22-41ff-92a3-195298944b5a"
    },
    "slideshow": {
     "slide_type": "fragment"
    }
   },
   "outputs": [
    {
     "data": {
      "text/plain": [
       "[-1, 1, 2, 3, 4]"
      ]
     },
     "execution_count": 7,
     "metadata": {},
     "output_type": "execute_result"
    }
   ],
   "source": [
    "subtract_one([0, 1, 2, 3, 4]) # should work ok"
   ]
  },
  {
   "cell_type": "code",
   "execution_count": 8,
   "metadata": {
    "nbpresent": {
     "id": "f4079f6a-a645-4cd3-bc98-235d309d9cad"
    },
    "slideshow": {
     "slide_type": "subslide"
    }
   },
   "outputs": [
    {
     "ename": "TypeError",
     "evalue": "'tuple' object does not support item assignment",
     "output_type": "error",
     "traceback": [
      "\u001b[0;31m---------------------------------------------------------------------------\u001b[0m",
      "\u001b[0;31mTypeError\u001b[0m                                 Traceback (most recent call last)",
      "\u001b[0;32m<ipython-input-8-377662191a46>\u001b[0m in \u001b[0;36m<module>\u001b[0;34m\u001b[0m\n\u001b[0;32m----> 1\u001b[0;31m \u001b[0msubtract_one\u001b[0m\u001b[0;34m(\u001b[0m\u001b[0;34m(\u001b[0m\u001b[0;36m0\u001b[0m\u001b[0;34m,\u001b[0m \u001b[0;36m1\u001b[0m\u001b[0;34m,\u001b[0m \u001b[0;36m2\u001b[0m\u001b[0;34m,\u001b[0m \u001b[0;36m3\u001b[0m\u001b[0;34m,\u001b[0m \u001b[0;36m4\u001b[0m\u001b[0;34m)\u001b[0m\u001b[0;34m)\u001b[0m\u001b[0;34m\u001b[0m\u001b[0;34m\u001b[0m\u001b[0m\n\u001b[0m",
      "\u001b[0;32m<ipython-input-6-3439f8f0c97e>\u001b[0m in \u001b[0;36msubtract_one\u001b[0;34m(L)\u001b[0m\n\u001b[1;32m      1\u001b[0m \u001b[0;32mdef\u001b[0m \u001b[0msubtract_one\u001b[0m\u001b[0;34m(\u001b[0m\u001b[0mL\u001b[0m\u001b[0;34m)\u001b[0m\u001b[0;34m:\u001b[0m\u001b[0;34m\u001b[0m\u001b[0;34m\u001b[0m\u001b[0m\n\u001b[0;32m----> 2\u001b[0;31m     \u001b[0mL\u001b[0m\u001b[0;34m[\u001b[0m\u001b[0;36m0\u001b[0m\u001b[0;34m]\u001b[0m \u001b[0;34m-=\u001b[0m \u001b[0;36m1\u001b[0m\u001b[0;34m\u001b[0m\u001b[0;34m\u001b[0m\u001b[0m\n\u001b[0m\u001b[1;32m      3\u001b[0m     \u001b[0;32mreturn\u001b[0m \u001b[0mL\u001b[0m\u001b[0;34m\u001b[0m\u001b[0;34m\u001b[0m\u001b[0m\n",
      "\u001b[0;31mTypeError\u001b[0m: 'tuple' object does not support item assignment"
     ]
    }
   ],
   "source": [
    "subtract_one((0, 1, 2, 3, 4)) "
   ]
  },
  {
   "cell_type": "code",
   "execution_count": 9,
   "metadata": {
    "nbpresent": {
     "id": "c109b2fb-3dea-4d43-9207-c205449e7023"
    },
    "slideshow": {
     "slide_type": "subslide"
    }
   },
   "outputs": [
    {
     "ename": "IndexError",
     "evalue": "list index out of range",
     "output_type": "error",
     "traceback": [
      "\u001b[0;31m---------------------------------------------------------------------------\u001b[0m",
      "\u001b[0;31mIndexError\u001b[0m                                Traceback (most recent call last)",
      "\u001b[0;32m<ipython-input-9-9ea726afb39b>\u001b[0m in \u001b[0;36m<module>\u001b[0;34m\u001b[0m\n\u001b[0;32m----> 1\u001b[0;31m \u001b[0msubtract_one\u001b[0m\u001b[0;34m(\u001b[0m\u001b[0;34m[\u001b[0m\u001b[0;34m]\u001b[0m\u001b[0;34m)\u001b[0m\u001b[0;34m\u001b[0m\u001b[0;34m\u001b[0m\u001b[0m\n\u001b[0m",
      "\u001b[0;32m<ipython-input-6-3439f8f0c97e>\u001b[0m in \u001b[0;36msubtract_one\u001b[0;34m(L)\u001b[0m\n\u001b[1;32m      1\u001b[0m \u001b[0;32mdef\u001b[0m \u001b[0msubtract_one\u001b[0m\u001b[0;34m(\u001b[0m\u001b[0mL\u001b[0m\u001b[0;34m)\u001b[0m\u001b[0;34m:\u001b[0m\u001b[0;34m\u001b[0m\u001b[0;34m\u001b[0m\u001b[0m\n\u001b[0;32m----> 2\u001b[0;31m     \u001b[0mL\u001b[0m\u001b[0;34m[\u001b[0m\u001b[0;36m0\u001b[0m\u001b[0;34m]\u001b[0m \u001b[0;34m-=\u001b[0m \u001b[0;36m1\u001b[0m\u001b[0;34m\u001b[0m\u001b[0;34m\u001b[0m\u001b[0m\n\u001b[0m\u001b[1;32m      3\u001b[0m     \u001b[0;32mreturn\u001b[0m \u001b[0mL\u001b[0m\u001b[0;34m\u001b[0m\u001b[0;34m\u001b[0m\u001b[0m\n",
      "\u001b[0;31mIndexError\u001b[0m: list index out of range"
     ]
    }
   ],
   "source": [
    "subtract_one([]) "
   ]
  },
  {
   "cell_type": "markdown",
   "metadata": {
    "nbpresent": {
     "id": "00784f9c-8a2e-4597-8fe5-48f586031d00"
    },
    "slideshow": {
     "slide_type": "slide"
    }
   },
   "source": [
    "Raising exceptions\n",
    "---\n",
    "\n",
    "So far, we've seen how to handle (\"catch\") exceptions. What about\n",
    "raising (\"throwing\") them? The most common scenario is when our\n",
    "function receives arguments which are \"impossible\" in some way, or\n",
    "when processing data that doesn't make sense."
   ]
  },
  {
   "cell_type": "code",
   "execution_count": 31,
   "metadata": {
    "nbpresent": {
     "id": "d79739a1-ea40-4192-bb32-94cf2cb9b8e2"
    },
    "slideshow": {
     "slide_type": "subslide"
    }
   },
   "outputs": [],
   "source": [
    "from math import sqrt\n",
    "def triangle_area(x, y, z):\n",
    "    \"\"\"Calculate the area of a triangle (not necessarily right-angled) \n",
    "    given its three sides. Heron's formula tells us the area. However, \n",
    "    not all values of x, y, and z are valid. If the two smallest of \n",
    "    them add up to less than the largest, no such triangle exists.\n",
    "    \"\"\"\n",
    "    # Order so that x <= y <= z\n",
    "    x, y, z = sorted((x, y, z))\n",
    "    # Check that the values are valid\n",
    "    if x + y < z:\n",
    "        # ... and if not, raise an exception.\n",
    "        raise ValueError(\"No such triangle exists\")\n",
    "\n",
    "    # Heron's formula [https://www.mathsisfun.com/geometry/herons-formula.html] \n",
    "    s = (x + y + z)/2.0\n",
    "    area = sqrt(s * (s-x) * (s-y) * (s-z))\n",
    "    return area"
   ]
  },
  {
   "cell_type": "code",
   "execution_count": 32,
   "metadata": {
    "nbpresent": {
     "id": "07b672b3-edef-4398-9acc-d36e1b17bf5f"
    },
    "slideshow": {
     "slide_type": "slide"
    }
   },
   "outputs": [
    {
     "name": "stdout",
     "output_type": "stream",
     "text": [
      "10.825317547305483\n"
     ]
    }
   ],
   "source": [
    "print(triangle_area(5, 5, 5)) # should work ok"
   ]
  },
  {
   "cell_type": "code",
   "execution_count": 33,
   "metadata": {
    "nbpresent": {
     "id": "69601831-56ee-42cd-9df4-50d903be4d4a"
    },
    "slideshow": {
     "slide_type": "fragment"
    }
   },
   "outputs": [
    {
     "ename": "ValueError",
     "evalue": "No such triangle exists",
     "output_type": "error",
     "traceback": [
      "\u001b[0;31m---------------------------------------------------------------------------\u001b[0m",
      "\u001b[0;31mValueError\u001b[0m                                Traceback (most recent call last)",
      "\u001b[0;32m<ipython-input-33-86d7a7cf954e>\u001b[0m in \u001b[0;36m<module>\u001b[0;34m\u001b[0m\n\u001b[0;32m----> 1\u001b[0;31m \u001b[0mprint\u001b[0m\u001b[0;34m(\u001b[0m\u001b[0mtriangle_area\u001b[0m\u001b[0;34m(\u001b[0m\u001b[0;36m10\u001b[0m\u001b[0;34m,\u001b[0m \u001b[0;36m2\u001b[0m\u001b[0;34m,\u001b[0m \u001b[0;36m2\u001b[0m\u001b[0;34m)\u001b[0m\u001b[0;34m)\u001b[0m \u001b[0;31m# we detect an impossible triangle and raise an exception\u001b[0m\u001b[0;34m\u001b[0m\u001b[0;34m\u001b[0m\u001b[0m\n\u001b[0m",
      "\u001b[0;32m<ipython-input-31-b45acaece40c>\u001b[0m in \u001b[0;36mtriangle_area\u001b[0;34m(x, y, z)\u001b[0m\n\u001b[1;32m     11\u001b[0m     \u001b[0;32mif\u001b[0m \u001b[0mx\u001b[0m \u001b[0;34m+\u001b[0m \u001b[0my\u001b[0m \u001b[0;34m<\u001b[0m \u001b[0mz\u001b[0m\u001b[0;34m:\u001b[0m\u001b[0;34m\u001b[0m\u001b[0;34m\u001b[0m\u001b[0m\n\u001b[1;32m     12\u001b[0m         \u001b[0;31m# ... and if not, raise an exception.\u001b[0m\u001b[0;34m\u001b[0m\u001b[0;34m\u001b[0m\u001b[0;34m\u001b[0m\u001b[0m\n\u001b[0;32m---> 13\u001b[0;31m         \u001b[0;32mraise\u001b[0m \u001b[0mValueError\u001b[0m\u001b[0;34m(\u001b[0m\u001b[0;34m\"No such triangle exists\"\u001b[0m\u001b[0;34m)\u001b[0m\u001b[0;34m\u001b[0m\u001b[0;34m\u001b[0m\u001b[0m\n\u001b[0m\u001b[1;32m     14\u001b[0m \u001b[0;34m\u001b[0m\u001b[0m\n\u001b[1;32m     15\u001b[0m     \u001b[0;31m# Heron's formula [https://www.mathsisfun.com/geometry/herons-formula.html]\u001b[0m\u001b[0;34m\u001b[0m\u001b[0;34m\u001b[0m\u001b[0;34m\u001b[0m\u001b[0m\n",
      "\u001b[0;31mValueError\u001b[0m: No such triangle exists"
     ]
    }
   ],
   "source": [
    "print(triangle_area(10, 2, 2)) # we detect an impossible triangle and raise an exception"
   ]
  },
  {
   "cell_type": "markdown",
   "metadata": {
    "nbpresent": {
     "id": "13556f51-4593-47d5-a65c-86193c2c7b38"
    },
    "slideshow": {
     "slide_type": "slide"
    }
   },
   "source": [
    "Exceptions and doctests\n",
    "---\n",
    "We can take account of\n",
    "exceptions in our *doctests*. That is, we can write a doctest where the\n",
    "expected result is a Traceback and exception. For example, we can\n",
    "write a doctest like the following. Note, we can put `...` to indicate some\n",
    "extra text that the doctest can ignore.\n"
   ]
  },
  {
   "cell_type": "code",
   "execution_count": 34,
   "metadata": {
    "nbpresent": {
     "id": "628e30e2-edf7-47bb-96a2-b6bd7f10ef24"
    },
    "slideshow": {
     "slide_type": "subslide"
    }
   },
   "outputs": [],
   "source": [
    "def triangle_area(x, y, z):\n",
    "    \"\"\"\n",
    "    A normal, working call:\n",
    "    >>> triangle_area(5, 5, 5)\n",
    "    10.825317547305483\n",
    "\n",
    "    An impossible triangle: we hope to see a Traceback:\n",
    "    >>> triangle_area(10, 2, 2)\n",
    "    Traceback (most recent call last):\n",
    "    ...\n",
    "    ValueError: No such triangle exists\n",
    "    \"\"\"\n",
    "    # Order so that x <= y <= z\n",
    "    x, y, z = sorted((x, y, z))\n",
    "    # Check that the values are valid\n",
    "    if x + y < z:\n",
    "        # ... and if not, raise an exception.\n",
    "        raise ValueError(\"No such triangle exists\")\n",
    "\n",
    "    # Heron's formula [https://www.mathsisfun.com/geometry/herons-formula.html] \n",
    "    s = (x + y + z)/2.0\n",
    "    area = sqrt(s * (s-x) * (s-y) * (s-z))\n",
    "    return area   "
   ]
  },
  {
   "cell_type": "code",
   "execution_count": 35,
   "metadata": {
    "slideshow": {
     "slide_type": "subslide"
    }
   },
   "outputs": [
    {
     "name": "stdout",
     "output_type": "stream",
     "text": [
      "**********************************************************************\n",
      "File \"__main__\", line 5, in __main__.get_last_n_elements\n",
      "Failed example:\n",
      "    get_last_n_elements(\"abcde\", 8)\n",
      "Expected:\n",
      "    Traceback (most recent call last):\n",
      "    ...\n",
      "    ValueError: Requested too many elements (8 versus 5)    \n",
      "Got:\n",
      "    Traceback (most recent call last):\n",
      "      File \"/Users/jmmcd/anaconda3/lib/python3.7/doctest.py\", line 1329, in __run\n",
      "        compileflags, 1), test.globs)\n",
      "      File \"<doctest __main__.get_last_n_elements[1]>\", line 1, in <module>\n",
      "        get_last_n_elements(\"abcde\", 8)\n",
      "      File \"<ipython-input-27-5007f00f1252>\", line 11, in get_last_n_elements\n",
      "        raise ValueError(f\"Requested too many elements ({n} versus {len(s)})\")\n",
      "    ValueError: Requested too many elements (8 versus 5)\n",
      "**********************************************************************\n",
      "1 items had failures:\n",
      "   1 of   2 in __main__.get_last_n_elements\n",
      "***Test Failed*** 1 failures.\n"
     ]
    },
    {
     "data": {
      "text/plain": [
       "TestResults(failed=1, attempted=4)"
      ]
     },
     "execution_count": 35,
     "metadata": {},
     "output_type": "execute_result"
    }
   ],
   "source": [
    "import doctest\n",
    "doctest.testmod()"
   ]
  },
  {
   "cell_type": "markdown",
   "metadata": {
    "nbpresent": {
     "id": "4a4f67fe-b50a-4c76-924c-897d4a0fc6ad"
    },
    "slideshow": {
     "slide_type": "slide"
    }
   },
   "source": [
    "**Exercise**: What happens here if s is shorter than n\n",
    "elements? Try it. "
   ]
  },
  {
   "cell_type": "code",
   "execution_count": 15,
   "metadata": {
    "nbpresent": {
     "id": "700f511b-5a92-4b52-84d5-7ebf08827f9c"
    },
    "slideshow": {
     "slide_type": "fragment"
    }
   },
   "outputs": [],
   "source": [
    "def get_last_n_elements(s, n):\n",
    "    return s[-n:]"
   ]
  },
  {
   "cell_type": "code",
   "execution_count": 16,
   "metadata": {
    "nbpresent": {
     "id": "2db6b63d-0b4b-498c-95c8-743468a83ff2"
    }
   },
   "outputs": [
    {
     "data": {
      "text/plain": [
       "'de'"
      ]
     },
     "execution_count": 16,
     "metadata": {},
     "output_type": "execute_result"
    }
   ],
   "source": [
    "get_last_n_elements(\"abcde\", 2)"
   ]
  },
  {
   "cell_type": "markdown",
   "metadata": {
    "slideshow": {
     "slide_type": "subslide"
    }
   },
   "source": [
    "Now, change the code to raise a `ValueError` in that\n",
    "case. What if `n` was negative? Again, raise a `ValueError` in that case. Test it works\n",
    "correctly. Finally, add some doctests. Add both positive ones (normal operation) and\n",
    "negative ones (`ValueError` tracebacks)\n"
   ]
  },
  {
   "cell_type": "markdown",
   "metadata": {
    "slideshow": {
     "slide_type": "slide"
    }
   },
   "source": [
    "### Solutions"
   ]
  },
  {
   "cell_type": "markdown",
   "metadata": {
    "slideshow": {
     "slide_type": "subslide"
    }
   },
   "source": [
    "Write a function which accepts two numbers and returns the first divided by the second. Observe the exception that is thrown if you try to divide by zero. Now use a try-except block to catch that exception and print a sensible error message, instead of crashing the program."
   ]
  },
  {
   "cell_type": "code",
   "execution_count": 2,
   "metadata": {},
   "outputs": [],
   "source": [
    "def divide(a, b):\n",
    "    return a / b"
   ]
  },
  {
   "cell_type": "code",
   "execution_count": 3,
   "metadata": {},
   "outputs": [
    {
     "ename": "ZeroDivisionError",
     "evalue": "division by zero",
     "output_type": "error",
     "traceback": [
      "\u001b[0;31m---------------------------------------------------------------------------\u001b[0m",
      "\u001b[0;31mZeroDivisionError\u001b[0m                         Traceback (most recent call last)",
      "\u001b[0;32m<ipython-input-3-ccc290a9b5cb>\u001b[0m in \u001b[0;36m<module>\u001b[0;34m\u001b[0m\n\u001b[0;32m----> 1\u001b[0;31m \u001b[0mdivide\u001b[0m\u001b[0;34m(\u001b[0m\u001b[0;36m10\u001b[0m\u001b[0;34m,\u001b[0m \u001b[0;36m0\u001b[0m\u001b[0;34m)\u001b[0m\u001b[0;34m\u001b[0m\u001b[0;34m\u001b[0m\u001b[0m\n\u001b[0m",
      "\u001b[0;32m<ipython-input-2-dc50b17f0ae8>\u001b[0m in \u001b[0;36mdivide\u001b[0;34m(a, b)\u001b[0m\n\u001b[1;32m      1\u001b[0m \u001b[0;32mdef\u001b[0m \u001b[0mdivide\u001b[0m\u001b[0;34m(\u001b[0m\u001b[0ma\u001b[0m\u001b[0;34m,\u001b[0m \u001b[0mb\u001b[0m\u001b[0;34m)\u001b[0m\u001b[0;34m:\u001b[0m\u001b[0;34m\u001b[0m\u001b[0;34m\u001b[0m\u001b[0m\n\u001b[0;32m----> 2\u001b[0;31m     \u001b[0;32mreturn\u001b[0m \u001b[0ma\u001b[0m \u001b[0;34m/\u001b[0m \u001b[0mb\u001b[0m\u001b[0;34m\u001b[0m\u001b[0;34m\u001b[0m\u001b[0m\n\u001b[0m",
      "\u001b[0;31mZeroDivisionError\u001b[0m: division by zero"
     ]
    }
   ],
   "source": [
    "divide(10, 0)"
   ]
  },
  {
   "cell_type": "code",
   "execution_count": 7,
   "metadata": {},
   "outputs": [],
   "source": [
    "def divide(a, b):\n",
    "    try:\n",
    "        return a / b\n",
    "    except ZeroDivisionError: # note spelling, exactly as in the traceback above\n",
    "        # contradicting a point I made in class :) \n",
    "        # usually nicer not to print when a function is expected to return a value\n",
    "        print(\"Don't divide by zero!\") "
   ]
  },
  {
   "cell_type": "code",
   "execution_count": 6,
   "metadata": {},
   "outputs": [
    {
     "name": "stdout",
     "output_type": "stream",
     "text": [
      "Don't divide by zero!\n"
     ]
    }
   ],
   "source": [
    "divide(10, 0)"
   ]
  },
  {
   "cell_type": "markdown",
   "metadata": {
    "slideshow": {
     "slide_type": "subslide"
    }
   },
   "source": [
    "Observe the exceptions that are thrown in the below cases, and then repair the function using multiple except clauses to do something sensible that doesn't crash."
   ]
  },
  {
   "cell_type": "code",
   "execution_count": 11,
   "metadata": {},
   "outputs": [],
   "source": [
    "def subtract_one(L):\n",
    "    try:\n",
    "        L[0] -= 1\n",
    "    except TypeError:\n",
    "        print(\"Warning, cannot change input L of type\", type(L))\n",
    "    except IndexError:\n",
    "        print(\"Warning, cannot change empty list\")\n",
    "    return L"
   ]
  },
  {
   "cell_type": "code",
   "execution_count": 12,
   "metadata": {},
   "outputs": [
    {
     "name": "stdout",
     "output_type": "stream",
     "text": [
      "Warning, cannot change input L of type <class 'tuple'>\n"
     ]
    },
    {
     "data": {
      "text/plain": [
       "(0, 1, 2, 3, 4)"
      ]
     },
     "execution_count": 12,
     "metadata": {},
     "output_type": "execute_result"
    }
   ],
   "source": [
    "subtract_one((0, 1, 2, 3, 4)) "
   ]
  },
  {
   "cell_type": "code",
   "execution_count": 13,
   "metadata": {},
   "outputs": [
    {
     "name": "stdout",
     "output_type": "stream",
     "text": [
      "Warning, cannot change empty list\n"
     ]
    },
    {
     "data": {
      "text/plain": [
       "[]"
      ]
     },
     "execution_count": 13,
     "metadata": {},
     "output_type": "execute_result"
    }
   ],
   "source": [
    "subtract_one([]) "
   ]
  },
  {
   "cell_type": "markdown",
   "metadata": {
    "slideshow": {
     "slide_type": "subslide"
    }
   },
   "source": [
    "What happens here if s is shorter than n elements? Try it."
   ]
  },
  {
   "cell_type": "code",
   "execution_count": 14,
   "metadata": {},
   "outputs": [],
   "source": [
    "def get_last_n_elements(s, n):\n",
    "    return s[-n:]"
   ]
  },
  {
   "cell_type": "code",
   "execution_count": 16,
   "metadata": {},
   "outputs": [
    {
     "data": {
      "text/plain": [
       "'de'"
      ]
     },
     "execution_count": 16,
     "metadata": {},
     "output_type": "execute_result"
    }
   ],
   "source": [
    "get_last_n_elements(\"abcde\", 2) # ok"
   ]
  },
  {
   "cell_type": "code",
   "execution_count": 17,
   "metadata": {},
   "outputs": [
    {
     "data": {
      "text/plain": [
       "'abcde'"
      ]
     },
     "execution_count": 17,
     "metadata": {},
     "output_type": "execute_result"
    }
   ],
   "source": [
    "get_last_n_elements(\"abcde\", 8) # no crash, but misleading for the user I think"
   ]
  },
  {
   "cell_type": "markdown",
   "metadata": {},
   "source": [
    "Now, change the code to raise a ValueError in that case. What if n was negative? Again, raise a ValueError in that case. Test it works correctly. Finally, add some doctests. Add both positive ones (normal operation) and negative ones (ValueError tracebacks)"
   ]
  },
  {
   "cell_type": "code",
   "execution_count": 38,
   "metadata": {},
   "outputs": [],
   "source": [
    "def get_last_n_elements(s, n):\n",
    "    \"\"\"\n",
    "    >>> get_last_n_elements(\"abcde\", 2)\n",
    "    'de'\n",
    "    >>> get_last_n_elements(\"abcde\", 8)\n",
    "    Traceback (most recent call last): \n",
    "    ...\n",
    "    ValueError: Requested too many elements (8 versus 5)\n",
    "    \"\"\"\n",
    "    if n > len(s):\n",
    "        raise ValueError(f\"Requested too many elements ({n} versus {len(s)})\")\n",
    "    elif n < 0:\n",
    "        raise ValueError(\"Requested negative number of elements\")\n",
    "    return s[-n:]"
   ]
  },
  {
   "cell_type": "code",
   "execution_count": 39,
   "metadata": {},
   "outputs": [
    {
     "data": {
      "text/plain": [
       "TestResults(failed=0, attempted=4)"
      ]
     },
     "execution_count": 39,
     "metadata": {},
     "output_type": "execute_result"
    }
   ],
   "source": [
    "import doctest\n",
    "doctest.testmod()"
   ]
  }
 ],
 "metadata": {
  "anaconda-cloud": {},
  "celltoolbar": "Slideshow",
  "kernelspec": {
   "display_name": "Python 3",
   "language": "python",
   "name": "python3"
  },
  "language_info": {
   "codemirror_mode": {
    "name": "ipython",
    "version": 3
   },
   "file_extension": ".py",
   "mimetype": "text/x-python",
   "name": "python",
   "nbconvert_exporter": "python",
   "pygments_lexer": "ipython3",
   "version": "3.7.3"
  },
  "nbpresent": {
   "slides": {
    "54f116ea-2dd2-4e36-91c4-1f3cd030b5bc": {
     "id": "54f116ea-2dd2-4e36-91c4-1f3cd030b5bc",
     "prev": null,
     "regions": {
      "560c1c15-ed52-4f80-85aa-ceffd5d4fad1": {
       "attrs": {
        "height": 1,
        "width": 1,
        "x": -0.0782520325203252,
        "y": 0.04697380307136405
       },
       "id": "560c1c15-ed52-4f80-85aa-ceffd5d4fad1"
      }
     }
    }
   },
   "themes": {}
  }
 },
 "nbformat": 4,
 "nbformat_minor": 1
}
