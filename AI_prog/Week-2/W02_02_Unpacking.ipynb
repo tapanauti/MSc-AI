{
 "cells": [
  {
   "cell_type": "markdown",
   "metadata": {
    "slideshow": {
     "slide_type": "slide"
    }
   },
   "source": [
    "<center><img src=img/MScAI_brand.png width=70%></center>\n",
    "\n",
    "# Unpacking"
   ]
  },
  {
   "cell_type": "markdown",
   "metadata": {
    "slideshow": {
     "slide_type": "slide"
    }
   },
   "source": [
    "### Tuple unpacking"
   ]
  },
  {
   "cell_type": "markdown",
   "metadata": {
    "slideshow": {
     "slide_type": "notes"
    }
   },
   "source": [
    "We have already seen that when we return multiple items from a function, they are packed up into a tuple, and then unpacked by the caller, for example:"
   ]
  },
  {
   "cell_type": "code",
   "execution_count": 43,
   "metadata": {
    "slideshow": {
     "slide_type": "subslide"
    }
   },
   "outputs": [],
   "source": [
    "def count_punct(s):\n",
    "    # notice single-quote!\n",
    "    return s.count(\".\"), s.count(\",\"), s.count(\"'\")\n",
    "s = \"It was the best of times, it was the blurst of times.\"\n",
    "np, nc, nq = count_punct(s)"
   ]
  },
  {
   "cell_type": "markdown",
   "metadata": {
    "slideshow": {
     "slide_type": "notes"
    }
   },
   "source": [
    "This is actually a special case of a generic mechanism in Python called *unpacking*. It works with tuples and dictionaries."
   ]
  },
  {
   "cell_type": "code",
   "execution_count": 44,
   "metadata": {
    "slideshow": {
     "slide_type": "fragment"
    }
   },
   "outputs": [
    {
     "name": "stdout",
     "output_type": "stream",
     "text": [
      "1 1 0\n"
     ]
    }
   ],
   "source": [
    "print(np, nc, nq)"
   ]
  },
  {
   "cell_type": "markdown",
   "metadata": {
    "slideshow": {
     "slide_type": "notes"
    }
   },
   "source": [
    "It doesn't only work in `return`. Here's an example showing how to swap two items using unpacking:"
   ]
  },
  {
   "cell_type": "code",
   "execution_count": 45,
   "metadata": {
    "slideshow": {
     "slide_type": "slide"
    }
   },
   "outputs": [],
   "source": [
    "a = 10\n",
    "b = 20\n",
    "a, b = b, a"
   ]
  },
  {
   "cell_type": "code",
   "execution_count": 46,
   "metadata": {
    "slideshow": {
     "slide_type": "fragment"
    }
   },
   "outputs": [
    {
     "name": "stdout",
     "output_type": "stream",
     "text": [
      "20 10\n"
     ]
    }
   ],
   "source": [
    "print(a, b)"
   ]
  },
  {
   "cell_type": "markdown",
   "metadata": {
    "slideshow": {
     "slide_type": "slide"
    }
   },
   "source": [
    "We can use a \"wild-card\" `*` when unpacking, as follows. This is a common pattern in list-processing - equivalent to `car` and `cons`, for Lisp fans."
   ]
  },
  {
   "cell_type": "code",
   "execution_count": 7,
   "metadata": {
    "slideshow": {
     "slide_type": "fragment"
    }
   },
   "outputs": [
    {
     "name": "stdout",
     "output_type": "stream",
     "text": [
      "5\n",
      "[6, 7, 8, 9]\n"
     ]
    }
   ],
   "source": [
    "L = [5, 6, 7, 8, 9]\n",
    "head, *rest = L\n",
    "print(head)\n",
    "print(rest)"
   ]
  },
  {
   "cell_type": "markdown",
   "metadata": {
    "slideshow": {
     "slide_type": "notes"
    }
   },
   "source": [
    "Notice that head is a single item, the first item or the \"head\" of the list, whereas `rest` gets everything else, so it's a list. Notice that `*rest` is used when unpacking, but the variable that is created is just called `rest`."
   ]
  },
  {
   "cell_type": "markdown",
   "metadata": {
    "slideshow": {
     "slide_type": "subslide"
    }
   },
   "source": [
    "**Exercise**: suppose `L = [5]`. What values will `head` and `rest` have?"
   ]
  },
  {
   "cell_type": "markdown",
   "metadata": {
    "slideshow": {
     "slide_type": "slide"
    }
   },
   "source": [
    "### Tuple packing in function arguments"
   ]
  },
  {
   "cell_type": "markdown",
   "metadata": {
    "slideshow": {
     "slide_type": "-"
    }
   },
   "source": [
    "The opposite also exists. This \"packing\" is the basis of two mechanisms for variable-length argument lists in Python functions, called `*args` and `**kwargs`. "
   ]
  },
  {
   "cell_type": "markdown",
   "metadata": {
    "slideshow": {
     "slide_type": "notes"
    }
   },
   "source": [
    "First, notice that - surprisingly? - this works:"
   ]
  },
  {
   "cell_type": "code",
   "execution_count": 10,
   "metadata": {
    "slideshow": {
     "slide_type": "subslide"
    }
   },
   "outputs": [
    {
     "name": "stdout",
     "output_type": "stream",
     "text": [
      "5\n",
      "6\n",
      "7\n"
     ]
    }
   ],
   "source": [
    "print(max(4, 5))\n",
    "print(max(4, 5, 6))\n",
    "print(max(4, 5, 6, 7))"
   ]
  },
  {
   "cell_type": "markdown",
   "metadata": {
    "slideshow": {
     "slide_type": "notes"
    }
   },
   "source": [
    "Here, `max` takes a variable number of arguments. How can we program a function like that?"
   ]
  },
  {
   "cell_type": "code",
   "execution_count": 48,
   "metadata": {
    "slideshow": {
     "slide_type": "subslide"
    }
   },
   "outputs": [],
   "source": [
    "def max(*args): # override the builtin `max`\n",
    "    # will raise error if len(args) == 0\n",
    "    result = args[0] \n",
    "    for arg in args:\n",
    "        if arg > result:\n",
    "            result = arg\n",
    "    return result"
   ]
  },
  {
   "cell_type": "code",
   "execution_count": 32,
   "metadata": {
    "slideshow": {
     "slide_type": "fragment"
    }
   },
   "outputs": [
    {
     "name": "stdout",
     "output_type": "stream",
     "text": [
      "5\n",
      "6\n",
      "7\n"
     ]
    }
   ],
   "source": [
    "print(max(4, 5))\n",
    "print(max(4, 5, 6))\n",
    "print(max(4, 5, 6, 7))"
   ]
  },
  {
   "cell_type": "markdown",
   "metadata": {
    "slideshow": {
     "slide_type": "notes"
    }
   },
   "source": [
    "What we have seen is that `*` attached to a function parameter name allows multiple arguments to be packed into that parameter. It becomes a tuple:"
   ]
  },
  {
   "cell_type": "code",
   "execution_count": 13,
   "metadata": {
    "slideshow": {
     "slide_type": "subslide"
    }
   },
   "outputs": [
    {
     "name": "stdout",
     "output_type": "stream",
     "text": [
      "<class 'tuple'>\n"
     ]
    }
   ],
   "source": [
    "def type_test(*args):\n",
    "    print(type(args))\n",
    "type_test(4, 5, 6) "
   ]
  },
  {
   "cell_type": "markdown",
   "metadata": {
    "slideshow": {
     "slide_type": "slide"
    }
   },
   "source": [
    "### Dict packing in function arguments"
   ]
  },
  {
   "cell_type": "markdown",
   "metadata": {
    "slideshow": {
     "slide_type": "notes"
    }
   },
   "source": [
    "A similar mechanism is available for keyword arguments. In this case, multiple parameter name-value pairs are packed into a `dict`. Here's a contrived example:"
   ]
  },
  {
   "cell_type": "code",
   "execution_count": 14,
   "metadata": {
    "slideshow": {
     "slide_type": "fragment"
    }
   },
   "outputs": [
    {
     "name": "stdout",
     "output_type": "stream",
     "text": [
      "_c 3\n"
     ]
    }
   ],
   "source": [
    "def f(**kwargs):\n",
    "    for k in kwargs:\n",
    "        if k.startswith(\"_\"):\n",
    "            print(k, kwargs[k])\n",
    "f(a=1, b=2, _c=3)  "
   ]
  },
  {
   "cell_type": "markdown",
   "metadata": {
    "slideshow": {
     "slide_type": "subslide"
    }
   },
   "source": [
    "This mechanism is used a lot in large libraries like Matplotlib (for plotting). See, e.g., https://matplotlib.org/3.1.1/api/_as_gen/matplotlib.pyplot.scatter.html. \n",
    "\n",
    "```python\n",
    "matplotlib.pyplot.scatter(x, y, s=None, c=None, marker=None, cmap=None, norm=None, vmin=None, vmax=None, alpha=None, linewidths=None, verts=None, edgecolors=None, *, plotnonfinite=False, data=None, **kwargs)\n",
    "```"
   ]
  },
  {
   "cell_type": "markdown",
   "metadata": {
    "slideshow": {
     "slide_type": "notes"
    }
   },
   "source": [
    "This API already has a lot of arguments, but there are many more argument relating to `Container` which the `scatter` function will not use explicitly, but will only pass on to `Container` sub-functions. So instead of writing `scatter()` with all those extra arguments, they are just anonymised and shortened as `**kwargs`. This is great: if the `Container` API changes, we don't have to update our `scatter` function at all.\n",
    "\n",
    "By the way, above we also see a bare `*`. That says that everything after `*` can only be passed as keyword arguments. There is a similar `/` also. It marks the end of positional-only arguments, ie arguments which must not be passed as keyword arguments. There is quite a bit of complexity here! "
   ]
  },
  {
   "cell_type": "markdown",
   "metadata": {
    "slideshow": {
     "slide_type": "slide"
    }
   },
   "source": [
    "### Tuple and dict unpacking at call time"
   ]
  },
  {
   "cell_type": "markdown",
   "metadata": {
    "slideshow": {
     "slide_type": "notes"
    }
   },
   "source": [
    "Unpacking can also be useful when *calling* a function. In this example, we have a function which expects individual arguments, but our data is already packed up. We unpack on the fly. This is just one example where Python makes it easy to \"plug in\" to an API which doesn't quite fit our data."
   ]
  },
  {
   "cell_type": "code",
   "execution_count": 24,
   "metadata": {
    "slideshow": {
     "slide_type": "subslide"
    }
   },
   "outputs": [
    {
     "name": "stdout",
     "output_type": "stream",
     "text": [
      "10\n"
     ]
    }
   ],
   "source": [
    "def f(a, b, c, d):\n",
    "    print(a + b + c + d)\n",
    "ab = (1, 2)\n",
    "cd = {\"c\": 3, \"d\": 4}\n",
    "f(*ab, **cd) # unpack on the fly"
   ]
  },
  {
   "cell_type": "markdown",
   "metadata": {
    "slideshow": {
     "slide_type": "notes"
    }
   },
   "source": [
    "Once again, we can also use the unpacking syntax in other contexts, not just function APIs. This example merges two dictionaries by unpacking them into a new dictionary:"
   ]
  },
  {
   "cell_type": "code",
   "execution_count": 19,
   "metadata": {
    "slideshow": {
     "slide_type": "subslide"
    }
   },
   "outputs": [],
   "source": [
    "d1 = {\"a\": 1, \"b\": 2}\n",
    "d2 = {\"a\": 7, \"c\": 3, \"d\": 4}\n",
    "d = {**d1, **d2}"
   ]
  },
  {
   "cell_type": "markdown",
   "metadata": {
    "slideshow": {
     "slide_type": "fragment"
    }
   },
   "source": [
    "**Exercise**: what is the value of `d[\"a\"]`? Think about it first, then confirm by trying it."
   ]
  }
 ],
 "metadata": {
  "celltoolbar": "Slideshow",
  "kernelspec": {
   "display_name": "Python 3",
   "language": "python",
   "name": "python3"
  },
  "language_info": {
   "codemirror_mode": {
    "name": "ipython",
    "version": 3
   },
   "file_extension": ".py",
   "mimetype": "text/x-python",
   "name": "python",
   "nbconvert_exporter": "python",
   "pygments_lexer": "ipython3",
   "version": "3.7.3"
  }
 },
 "nbformat": 4,
 "nbformat_minor": 2
}
