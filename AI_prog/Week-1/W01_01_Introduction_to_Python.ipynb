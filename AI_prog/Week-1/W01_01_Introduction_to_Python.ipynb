{
 "cells": [
  {
   "cell_type": "markdown",
   "metadata": {
    "slideshow": {
     "slide_type": "slide"
    }
   },
   "source": [
    "<center><img src=img/MScAI_brand.png width=80%></center>\n",
    "\n",
    "# Introduction to Python"
   ]
  },
  {
   "cell_type": "markdown",
   "metadata": {
    "slideshow": {
     "slide_type": "notes"
    }
   },
   "source": [
    "In this notebook we'll introduce Python, say why it's a good language to learn, see several ways to execute Python code, and observe some of the basic features of the language."
   ]
  },
  {
   "cell_type": "markdown",
   "metadata": {
    "slideshow": {
     "slide_type": "slide"
    }
   },
   "source": [
    "### Why Python?\n",
    "\n",
    "* Multiple styles of programming\n",
    "* Interactive\n",
    "* Use in AI research\n",
    "\n",
    "(By the way, we will use Python 3, not Python 2.)"
   ]
  },
  {
   "cell_type": "markdown",
   "metadata": {
    "slideshow": {
     "slide_type": "notes"
    }
   },
   "source": [
    "\n",
    "\n",
    "Python is powerful and flexible. It allows you to use several styles of programming. It's also fairly simple, \"logical\", and easy to read and learn: it's the most-used teaching language in top US universities.\n",
    "\n",
    "In contrast to other languages, in Python there is no *compiler*, only an *interpreter*. The interpreter is the Python program itself, which reads the code you write and executes it. You can run Python interactively, or you can run complete Python programs all in one go, so development is fast.\n",
    "\n",
    "There are great libraries for doing just about anything with Python. In particular, great libraries for handling numerical and other data, and especially for neural networks, have made Python the most-used language for artificial intelligence research.\n",
    "\n",
    "There are two main versions of Python, both in popular use: Python 2 and Python 3. We will use Python 3. The differences are fairly minor. Support for Python 2 is scheduled to end in 2020.\n"
   ]
  },
  {
   "cell_type": "markdown",
   "metadata": {
    "slideshow": {
     "slide_type": "slide"
    }
   },
   "source": [
    "<center><img src=https://imgs.xkcd.com/comics/python.png width=50%></center>\n",
    "\n",
    "<small>From https://www.xkcd.com/353/</small>"
   ]
  },
  {
   "cell_type": "markdown",
   "metadata": {
    "slideshow": {
     "slide_type": "notes"
    }
   },
   "source": [
    "I started using Python around 2004, and my experience was a lot like the guy in this comic. A lot of things that seemed to be a hassle when I had to do them in C just disappeared, so programming became a lot faster and more fun."
   ]
  },
  {
   "cell_type": "markdown",
   "metadata": {
    "slideshow": {
     "slide_type": "slide"
    }
   },
   "source": [
    "Python was created by Guido Van Rossum in 1991.\n",
    "\n",
    "<center><img src=https://upload.wikimedia.org/wikipedia/commons/d/d0/Guido-portrait-2014-curvves.jpg width=40%></center>"
   ]
  },
  {
   "cell_type": "markdown",
   "metadata": {
    "slideshow": {
     "slide_type": "slide"
    }
   },
   "source": [
    "### Example: Newton's algorithm for square roots"
   ]
  },
  {
   "cell_type": "code",
   "execution_count": 47,
   "metadata": {
    "slideshow": {
     "slide_type": ""
    }
   },
   "outputs": [
    {
     "name": "stdout",
     "output_type": "stream",
     "text": [
      "1\n",
      "32.5\n",
      "17.234615384615385\n",
      "10.474036101145005\n",
      "8.292191785986859\n",
      "8.005147977880979\n",
      "8.000001655289593\n",
      "8.00000000000017\n"
     ]
    },
    {
     "data": {
      "text/plain": [
       "8.00000000000017"
      ]
     },
     "execution_count": 47,
     "metadata": {},
     "output_type": "execute_result"
    }
   ],
   "source": [
    "def newton(a, x0, tol=10**-8): # define a new function\n",
    "    \"\"\"Newton's method for finding square roots.\"\"\"\n",
    "    x = x0 # initial value\n",
    "    while True: # forever\n",
    "        print(x)\n",
    "        y = (x + a/x) / 2 # update y\n",
    "        if abs(x - y) < tol: # x and y arbitrarily close\n",
    "            break # exit the infinite loop\n",
    "        x = y # update x\n",
    "    return x\n",
    "\n",
    "newton(64, 1) # call the function (\"function invocation\")"
   ]
  },
  {
   "cell_type": "markdown",
   "metadata": {
    "slideshow": {
     "slide_type": "notes"
    }
   },
   "source": [
    "Let's look at Newton's algorithm for square roots, to get a sense for how easy it is to read Python.\n",
    "\n",
    "Many things are similar to languages like C and Java.\n",
    "\n",
    "Notice some differences:\n",
    "\n",
    "* `def` defines a new function\n",
    "* The function starts with a *docstring*, i.e. documentation.\n",
    "* `print()`\n",
    "* We use a colon `:` and an indentation to introduce a block of code (a function body, a `while` loop, an `if` statement).\n",
    "* Whitespace defines scope. This is the same indentation you are used to as a convention in other languages.\n",
    "\n",
    "After defining the function, we call it, and it gives the right answer to within the floating-point tolerance."
   ]
  },
  {
   "cell_type": "markdown",
   "metadata": {
    "slideshow": {
     "slide_type": "slide"
    }
   },
   "source": [
    "# Python environments\n",
    "\n",
    "There are several ways to run this program in Python:\n",
    "* `python`\n",
    "* `ipython`\n",
    "* Run a `.py` file from the command-line\n",
    "* `Spyder`, `PyCharm`, and other IDEs\n",
    "* `jupyter notebook`"
   ]
  },
  {
   "cell_type": "markdown",
   "metadata": {
    "slideshow": {
     "slide_type": "notes"
    }
   },
   "source": [
    "* `python`: provides an old-school-looking interface for interactive programming (i.e. you type commands, and see results straight away). The prompt is `>>>`\n",
    "* `ipython`: similar, but better. The prompt is `In [1]:` or similar.\n",
    "* Notepad, Atom, Emacs, vi, etc: these are text editors. In a text editor, or an IDE, you can save a Python file with `.py` extension, and then you can run that from the command-line: `$ python myprogram.py`. Here `$` is the command-line prompt. NB: do not try to run a Python program from inside a Python/IPython prompt, i.e. do not write `>>> python myprogram.py`.\n",
    "* `Spyder` is an IDE which combines the interaction of `ipython` with the `.py` editing/saving of Notepad, etc.\n",
    "* `jupyter notebook` is the environment I use to write these notes and slides.\n"
   ]
  },
  {
   "cell_type": "markdown",
   "metadata": {
    "slideshow": {
     "slide_type": "notes"
    }
   },
   "source": [
    "\n",
    "### `python`\n",
    "* At your command-line, type `python`. You should see a startup message with some version numbers, hints, and then a prompt looking like `>>> `. Here you can type Python interactively, or copy-paste the code above. Warning: pasting can be weird in `python`.\n",
    "\n",
    "\n",
    "### `ipython`\n",
    "* At your command-line, type `ipython`. You should see a startup message with some version numbers, hints, and then a prompt looking like `In [1]:`. Copy-paste the code above.\n"
   ]
  },
  {
   "cell_type": "markdown",
   "metadata": {
    "slideshow": {
     "slide_type": "notes"
    }
   },
   "source": [
    "### Non-interactively\n",
    "* Open your favourite text editor (Notepad, Atom, Emacs, vi, etc.) and paste in the code above, and save it as `newton.py`. Go to your command-line (bash, Terminal, PowerShell, etc.) and `cd` to the right directory. Type `$ python newton.py` and you should see the output as above.\n"
   ]
  },
  {
   "cell_type": "markdown",
   "metadata": {
    "slideshow": {
     "slide_type": "notes"
    }
   },
   "source": [
    "### Spyder\n",
    "* Spyder is an integrated development environment (IDE) installed as part of Anaconda. Open it and paste the code into the editor window. Save it. Then click the green arrow to run it. Observe you can now see the values of some variables in the variable inspector window. This is really useful! Another nice IDE is PyCharm."
   ]
  },
  {
   "cell_type": "markdown",
   "metadata": {
    "slideshow": {
     "slide_type": "notes"
    }
   },
   "source": [
    "\n",
    "### Jupyter Notebook\n",
    "* At your command-line, type `jupyter notebook`. You'll see a listing of the current directory, and some headers and buttons. Click the `New` button to create a notebook. Then in the first *cell* of the notebook, paste the code, and execute it using `Shift-Enter`. You should see output. A new cell will be created below where you can type some more code. In a Jupyter Notebook, you can have a mix of code, results, graphs, and documentation, all saved together with `.ipynb` extension. The material you are reading is *written* as a Jupyter notebook. You may be reading it as a notebook, or converted into another form, e.g. HTML or slides."
   ]
  },
  {
   "cell_type": "markdown",
   "metadata": {
    "slideshow": {
     "slide_type": "slide"
    }
   },
   "source": [
    "### Basic types\n",
    "\n",
    "* Booleans (`bool`): `True`, `False`\n",
    "* Integers (`int`): no special `long`, `unsigned`, etc.\n",
    "* Floating-point (`float`): no `double`\n",
    "* Strings (`str`): no special `char` type."
   ]
  },
  {
   "cell_type": "markdown",
   "metadata": {
    "slideshow": {
     "slide_type": "notes"
    }
   },
   "source": [
    "\n",
    "Python has Booleans, integers, floating-point numbers, and strings, just as you'd expect. There is no special type for characters, as in C: we just use a short string. There is no special type for `double`, as in C: all floating-point numbers are double precision. There is no distinction between `int` and `long` as in C."
   ]
  },
  {
   "cell_type": "markdown",
   "metadata": {
    "slideshow": {
     "slide_type": "slide"
    }
   },
   "source": [
    "### \"Everything is an object\""
   ]
  },
  {
   "cell_type": "markdown",
   "metadata": {
    "slideshow": {
     "slide_type": "notes"
    }
   },
   "source": [
    "Everything is an object: all types, even things like `int`s, may have some methods associated with them, including constructors. Don't worry if you haven't studied object-oriented programming before. We will see some later. For now, we can check an object's type and list its methods as here."
   ]
  },
  {
   "cell_type": "code",
   "execution_count": 40,
   "metadata": {},
   "outputs": [
    {
     "data": {
      "text/plain": [
       "int"
      ]
     },
     "execution_count": 40,
     "metadata": {},
     "output_type": "execute_result"
    }
   ],
   "source": [
    "x = 3\n",
    "type(x)"
   ]
  },
  {
   "cell_type": "code",
   "execution_count": 42,
   "metadata": {
    "slideshow": {
     "slide_type": "fragment"
    }
   },
   "outputs": [
    {
     "name": "stdout",
     "output_type": "stream",
     "text": [
      "['__abs__', '__add__', '__and__', '__bool__', '__ceil__', '__class__', '__delattr__', '__dir__', '__divmod__', '__doc__', '__eq__', '__float__', '__floor__', '__floordiv__', '__format__', '__ge__', '__getattribute__', '__getnewargs__', '__gt__', '__hash__', '__index__', '__init__', '__init_subclass__', '__int__', '__invert__', '__le__', '__lshift__', '__lt__', '__mod__', '__mul__', '__ne__', '__neg__', '__new__', '__or__', '__pos__', '__pow__', '__radd__', '__rand__', '__rdivmod__', '__reduce__', '__reduce_ex__', '__repr__', '__rfloordiv__', '__rlshift__', '__rmod__', '__rmul__', '__ror__', '__round__', '__rpow__', '__rrshift__', '__rshift__', '__rsub__', '__rtruediv__', '__rxor__', '__setattr__', '__sizeof__', '__str__', '__sub__', '__subclasshook__', '__truediv__', '__trunc__', '__xor__', 'bit_length', 'conjugate', 'denominator', 'from_bytes', 'imag', 'numerator', 'real', 'to_bytes']\n"
     ]
    }
   ],
   "source": [
    "print(dir(x))"
   ]
  },
  {
   "cell_type": "code",
   "execution_count": 43,
   "metadata": {
    "slideshow": {
     "slide_type": "fragment"
    }
   },
   "outputs": [
    {
     "data": {
      "text/plain": [
       "2"
      ]
     },
     "execution_count": 43,
     "metadata": {},
     "output_type": "execute_result"
    }
   ],
   "source": [
    "x.bit_length()"
   ]
  },
  {
   "cell_type": "markdown",
   "metadata": {
    "slideshow": {
     "slide_type": "slide"
    }
   },
   "source": [
    "### Operators\n",
    "\n",
    "All the usual arithmetic operators are available: `+`, `-`, `*`, `/`, `%`, `**`, also integer division `//`, etc.\n",
    "\n",
    "We also have the usual assignment and augmented assignment operators: `=`, `+=`, `-=`, `*=`, `/=`, `%=`, etc.\n",
    "\n",
    "And Boolean operators: `==`, `<`, `<=`, `>`, `>=`, etc."
   ]
  },
  {
   "cell_type": "markdown",
   "metadata": {
    "slideshow": {
     "slide_type": "subslide"
    }
   },
   "source": [
    "**Exercise**: write an expression which evaluates to `True` if the number of seconds in a year is greater than the number of months in a millenium."
   ]
  },
  {
   "cell_type": "code",
   "execution_count": 49,
   "metadata": {
    "slideshow": {
     "slide_type": "fragment"
    }
   },
   "outputs": [
    {
     "data": {
      "text/plain": [
       "True"
      ]
     },
     "execution_count": 49,
     "metadata": {},
     "output_type": "execute_result"
    }
   ],
   "source": [
    "365 * 24 * 60 * 60 > 1000 * 12"
   ]
  },
  {
   "cell_type": "markdown",
   "metadata": {
    "slideshow": {
     "slide_type": "slide"
    }
   },
   "source": [
    "### Strings"
   ]
  },
  {
   "cell_type": "code",
   "execution_count": 2,
   "metadata": {
    "slideshow": {
     "slide_type": "fragment"
    }
   },
   "outputs": [],
   "source": [
    "s = \"abc\" # equivalent\n",
    "s = 'abc' # but not s = 'abc\""
   ]
  },
  {
   "cell_type": "code",
   "execution_count": 3,
   "metadata": {
    "slideshow": {
     "slide_type": "fragment"
    }
   },
   "outputs": [
    {
     "data": {
      "text/plain": [
       "True"
      ]
     },
     "execution_count": 3,
     "metadata": {},
     "output_type": "execute_result"
    }
   ],
   "source": [
    "s.startswith(\"ab\")"
   ]
  },
  {
   "cell_type": "markdown",
   "metadata": {
    "slideshow": {
     "slide_type": "notes"
    }
   },
   "source": [
    "There are lots of useful functions which can operate on strings. Often they run as functions on a string *object* -- a variable of type `str`, e.g. \n",
    "\n",
    "This is just a function `startswith` which effectively takes two arguments. For no real reason, the first argument (the string) is given before the function name, with a dot after it. The second argument (the prefix we are checking for) is given in round brackets as usual. This syntax is because `s` is an *object* -- *everything is an object* -- and `startswith` is a *member function*, i.e. a function that belongs to that object."
   ]
  },
  {
   "cell_type": "markdown",
   "metadata": {
    "slideshow": {
     "slide_type": "slide"
    }
   },
   "source": [
    "* `startswith`, `endswith`\n",
    "* `upper`, `lower`\n",
    "* `reverse`\n",
    "* `find`, `count`\n",
    "* `join`, `split`\n",
    "* `replace`\n",
    "* More here https://docs.python.org/3/library/stdtypes.html#string-methods"
   ]
  },
  {
   "cell_type": "markdown",
   "metadata": {
    "slideshow": {
     "slide_type": "slide"
    }
   },
   "source": [
    "Let's get in the habit of using the help system which is built-in on IPython, Spyder and Jupyter Notebook:"
   ]
  },
  {
   "cell_type": "code",
   "execution_count": 7,
   "metadata": {},
   "outputs": [
    {
     "name": "stdout",
     "output_type": "stream",
     "text": [
      "Help on int object:\n",
      "\n",
      "class int(object)\n",
      " |  int([x]) -> integer\n",
      " |  int(x, base=10) -> integer\n",
      " |  \n",
      " |  Convert a number or string to an integer, or return 0 if no arguments\n",
      " |  are given.  If x is a number, return x.__int__().  For floating point\n",
      " |  numbers, this truncates towards zero.\n",
      " |  \n",
      " |  If x is not a number or if base is given, then x must be a string,\n",
      " |  bytes, or bytearray instance representing an integer literal in the\n",
      " |  given base.  The literal can be preceded by '+' or '-' and be surrounded\n",
      " |  by whitespace.  The base defaults to 10.  Valid bases are 0 and 2-36.\n",
      " |  Base 0 means to interpret the base from the string as an integer literal.\n",
      " |  >>> int('0b100', base=0)\n",
      " |  4\n",
      " |  \n",
      " |  Methods defined here:\n",
      " |  \n",
      " |  __abs__(self, /)\n",
      " |      abs(self)\n",
      " |  \n",
      " |  __add__(self, value, /)\n",
      " |      Return self+value.\n",
      " |  \n",
      " |  __and__(self, value, /)\n",
      " |      Return self&value.\n",
      " |  \n",
      " |  __bool__(self, /)\n",
      " |      self != 0\n",
      " |  \n",
      " |  __ceil__(...)\n",
      " |      Ceiling of an Integral returns itself.\n",
      " |  \n",
      " |  __divmod__(self, value, /)\n",
      " |      Return divmod(self, value).\n",
      " |  \n",
      " |  __eq__(self, value, /)\n",
      " |      Return self==value.\n",
      " |  \n",
      " |  __float__(self, /)\n",
      " |      float(self)\n",
      " |  \n",
      " |  __floor__(...)\n",
      " |      Flooring an Integral returns itself.\n",
      " |  \n",
      " |  __floordiv__(self, value, /)\n",
      " |      Return self//value.\n",
      " |  \n",
      " |  __format__(self, format_spec, /)\n",
      " |      Default object formatter.\n",
      " |  \n",
      " |  __ge__(self, value, /)\n",
      " |      Return self>=value.\n",
      " |  \n",
      " |  __getattribute__(self, name, /)\n",
      " |      Return getattr(self, name).\n",
      " |  \n",
      " |  __getnewargs__(self, /)\n",
      " |  \n",
      " |  __gt__(self, value, /)\n",
      " |      Return self>value.\n",
      " |  \n",
      " |  __hash__(self, /)\n",
      " |      Return hash(self).\n",
      " |  \n",
      " |  __index__(self, /)\n",
      " |      Return self converted to an integer, if self is suitable for use as an index into a list.\n",
      " |  \n",
      " |  __int__(self, /)\n",
      " |      int(self)\n",
      " |  \n",
      " |  __invert__(self, /)\n",
      " |      ~self\n",
      " |  \n",
      " |  __le__(self, value, /)\n",
      " |      Return self<=value.\n",
      " |  \n",
      " |  __lshift__(self, value, /)\n",
      " |      Return self<<value.\n",
      " |  \n",
      " |  __lt__(self, value, /)\n",
      " |      Return self<value.\n",
      " |  \n",
      " |  __mod__(self, value, /)\n",
      " |      Return self%value.\n",
      " |  \n",
      " |  __mul__(self, value, /)\n",
      " |      Return self*value.\n",
      " |  \n",
      " |  __ne__(self, value, /)\n",
      " |      Return self!=value.\n",
      " |  \n",
      " |  __neg__(self, /)\n",
      " |      -self\n",
      " |  \n",
      " |  __or__(self, value, /)\n",
      " |      Return self|value.\n",
      " |  \n",
      " |  __pos__(self, /)\n",
      " |      +self\n",
      " |  \n",
      " |  __pow__(self, value, mod=None, /)\n",
      " |      Return pow(self, value, mod).\n",
      " |  \n",
      " |  __radd__(self, value, /)\n",
      " |      Return value+self.\n",
      " |  \n",
      " |  __rand__(self, value, /)\n",
      " |      Return value&self.\n",
      " |  \n",
      " |  __rdivmod__(self, value, /)\n",
      " |      Return divmod(value, self).\n",
      " |  \n",
      " |  __repr__(self, /)\n",
      " |      Return repr(self).\n",
      " |  \n",
      " |  __rfloordiv__(self, value, /)\n",
      " |      Return value//self.\n",
      " |  \n",
      " |  __rlshift__(self, value, /)\n",
      " |      Return value<<self.\n",
      " |  \n",
      " |  __rmod__(self, value, /)\n",
      " |      Return value%self.\n",
      " |  \n",
      " |  __rmul__(self, value, /)\n",
      " |      Return value*self.\n",
      " |  \n",
      " |  __ror__(self, value, /)\n",
      " |      Return value|self.\n",
      " |  \n",
      " |  __round__(...)\n",
      " |      Rounding an Integral returns itself.\n",
      " |      Rounding with an ndigits argument also returns an integer.\n",
      " |  \n",
      " |  __rpow__(self, value, mod=None, /)\n",
      " |      Return pow(value, self, mod).\n",
      " |  \n",
      " |  __rrshift__(self, value, /)\n",
      " |      Return value>>self.\n",
      " |  \n",
      " |  __rshift__(self, value, /)\n",
      " |      Return self>>value.\n",
      " |  \n",
      " |  __rsub__(self, value, /)\n",
      " |      Return value-self.\n",
      " |  \n",
      " |  __rtruediv__(self, value, /)\n",
      " |      Return value/self.\n",
      " |  \n",
      " |  __rxor__(self, value, /)\n",
      " |      Return value^self.\n",
      " |  \n",
      " |  __sizeof__(self, /)\n",
      " |      Returns size in memory, in bytes.\n",
      " |  \n",
      " |  __str__(self, /)\n",
      " |      Return str(self).\n",
      " |  \n",
      " |  __sub__(self, value, /)\n",
      " |      Return self-value.\n",
      " |  \n",
      " |  __truediv__(self, value, /)\n",
      " |      Return self/value.\n",
      " |  \n",
      " |  __trunc__(...)\n",
      " |      Truncating an Integral returns itself.\n",
      " |  \n",
      " |  __xor__(self, value, /)\n",
      " |      Return self^value.\n",
      " |  \n",
      " |  bit_length(self, /)\n",
      " |      Number of bits necessary to represent self in binary.\n",
      " |      \n",
      " |      >>> bin(37)\n",
      " |      '0b100101'\n",
      " |      >>> (37).bit_length()\n",
      " |      6\n",
      " |  \n",
      " |  conjugate(...)\n",
      " |      Returns self, the complex conjugate of any int.\n",
      " |  \n",
      " |  to_bytes(self, /, length, byteorder, *, signed=False)\n",
      " |      Return an array of bytes representing an integer.\n",
      " |      \n",
      " |      length\n",
      " |        Length of bytes object to use.  An OverflowError is raised if the\n",
      " |        integer is not representable with the given number of bytes.\n",
      " |      byteorder\n",
      " |        The byte order used to represent the integer.  If byteorder is 'big',\n",
      " |        the most significant byte is at the beginning of the byte array.  If\n",
      " |        byteorder is 'little', the most significant byte is at the end of the\n",
      " |        byte array.  To request the native byte order of the host system, use\n",
      " |        `sys.byteorder' as the byte order value.\n",
      " |      signed\n",
      " |        Determines whether two's complement is used to represent the integer.\n",
      " |        If signed is False and a negative integer is given, an OverflowError\n",
      " |        is raised.\n",
      " |  \n",
      " |  ----------------------------------------------------------------------\n",
      " |  Class methods defined here:\n",
      " |  \n",
      " |  from_bytes(bytes, byteorder, *, signed=False) from builtins.type\n",
      " |      Return the integer represented by the given array of bytes.\n",
      " |      \n",
      " |      bytes\n",
      " |        Holds the array of bytes to convert.  The argument must either\n",
      " |        support the buffer protocol or be an iterable object producing bytes.\n",
      " |        Bytes and bytearray are examples of built-in objects that support the\n",
      " |        buffer protocol.\n",
      " |      byteorder\n",
      " |        The byte order used to represent the integer.  If byteorder is 'big',\n",
      " |        the most significant byte is at the beginning of the byte array.  If\n",
      " |        byteorder is 'little', the most significant byte is at the end of the\n",
      " |        byte array.  To request the native byte order of the host system, use\n",
      " |        `sys.byteorder' as the byte order value.\n",
      " |      signed\n",
      " |        Indicates whether two's complement is used to represent the integer.\n",
      " |  \n",
      " |  ----------------------------------------------------------------------\n",
      " |  Static methods defined here:\n",
      " |  \n",
      " |  __new__(*args, **kwargs) from builtins.type\n",
      " |      Create and return a new object.  See help(type) for accurate signature.\n",
      " |  \n",
      " |  ----------------------------------------------------------------------\n",
      " |  Data descriptors defined here:\n",
      " |  \n",
      " |  denominator\n",
      " |      the denominator of a rational number in lowest terms\n",
      " |  \n",
      " |  imag\n",
      " |      the imaginary part of a complex number\n",
      " |  \n",
      " |  numerator\n",
      " |      the numerator of a rational number in lowest terms\n",
      " |  \n",
      " |  real\n",
      " |      the real part of a complex number\n",
      "\n"
     ]
    }
   ],
   "source": [
    "x = 3\n",
    "help(x)"
   ]
  },
  {
   "cell_type": "markdown",
   "metadata": {
    "slideshow": {
     "slide_type": "fragment"
    }
   },
   "source": [
    "Now is also a good time to recommend the excellent official docs: https://docs.python.org/3/"
   ]
  },
  {
   "cell_type": "markdown",
   "metadata": {
    "slideshow": {
     "slide_type": "slide"
    }
   },
   "source": [
    "### Conditionals\n",
    "\n",
    "In `newton`, we saw just the `if` form, but we could also write:\n",
    "```python\n",
    "if a > 3:\n",
    "    print(\"a\")\n",
    "else:\n",
    "    print(\"b\")\n",
    "```\n",
    "or even:\n",
    "```python\n",
    "if a > 3:\n",
    "    print(\"a\")\n",
    "elif b > 3:\n",
    "    print(\"b\")\n",
    "else:\n",
    "    print(\"c\")\n",
    "```"
   ]
  },
  {
   "cell_type": "markdown",
   "metadata": {
    "slideshow": {
     "slide_type": "slide"
    }
   },
   "source": [
    "### Exercise\n",
    "\n",
    "\n",
    "* Using `while`, write code which prints the Hailstones sequence starting at a given number $n$, e.g. $n=50$.\n",
    "\n",
    "(In case you don't know the Hailstones sequence: if $h_i$ is even, then $h_{i+1} = h_i / 2$; but if $h_i$ is odd, then $h_{i+1} = 3h_i+1$. The sequence will repeat when it reaches the subsequence 4, 2, 1, 4, $\\ldots$, so your loop should stop when it hits 1.)"
   ]
  },
  {
   "cell_type": "code",
   "execution_count": null,
   "metadata": {
    "slideshow": {
     "slide_type": "slide"
    }
   },
   "outputs": [],
   "source": [
    "n = 50\n",
    "print(n) # print the initial value\n",
    "while n > 1:\n",
    "    if n % 2 == 0: # n is even\n",
    "        n = n // 2 # // means integer division\n",
    "    else: # n must be odd\n",
    "        n = 3 * n + 1\n",
    "    print(n) # print each successive value"
   ]
  }
 ],
 "metadata": {
  "anaconda-cloud": {},
  "celltoolbar": "Slideshow",
  "kernelspec": {
   "display_name": "Python 3",
   "language": "python",
   "name": "python3"
  },
  "language_info": {
   "codemirror_mode": {
    "name": "ipython",
    "version": 3
   },
   "file_extension": ".py",
   "mimetype": "text/x-python",
   "name": "python",
   "nbconvert_exporter": "python",
   "pygments_lexer": "ipython3",
   "version": "3.7.3"
  }
 },
 "nbformat": 4,
 "nbformat_minor": 1
}
