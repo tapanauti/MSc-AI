{
 "cells": [
  {
   "cell_type": "markdown",
   "metadata": {
    "slideshow": {
     "slide_type": "slide"
    }
   },
   "source": [
    "<center><img src=img/MScAI_brand.png width=80%></center>\n",
    "\n",
    "# Compound data types"
   ]
  },
  {
   "cell_type": "markdown",
   "metadata": {
    "slideshow": {
     "slide_type": "slide"
    }
   },
   "source": [
    "\n",
    "We've seen the basic data types -- integers, floating-point numbers, strings, Booleans. There are also *compound* data types, sometimes called *containers*."
   ]
  },
  {
   "cell_type": "markdown",
   "metadata": {
    "slideshow": {
     "slide_type": "subslide"
    }
   },
   "source": [
    "The most basic is the `list`. A list is an ordered collection of values. You can create a list by enclosing values in square brackets, separated by commas."
   ]
  },
  {
   "cell_type": "code",
   "execution_count": 1,
   "metadata": {
    "slideshow": {
     "slide_type": "fragment"
    }
   },
   "outputs": [],
   "source": [
    "primes = [2, 3, 5, 7, 11]\n",
    "names = [\"John\", \"Paul\", \"George\", \"Ringo\"]\n",
    "import math\n",
    "sines = [math.sin(0.1), math.sin(0.2), math.sin(0.3)] # not just constants\n",
    "examples = [primes, names, sines] # list of lists also ok\n",
    "mixed = [\"a\", \"b\", 3, sines] # no restriction on types"
   ]
  },
  {
   "cell_type": "markdown",
   "metadata": {
    "slideshow": {
     "slide_type": "subslide"
    }
   },
   "source": [
    "You can add items to a list, delete items, find items, sort the items, etc."
   ]
  },
  {
   "cell_type": "code",
   "execution_count": 2,
   "metadata": {
    "slideshow": {
     "slide_type": "fragment"
    }
   },
   "outputs": [
    {
     "name": "stdout",
     "output_type": "stream",
     "text": [
      "['John', 'Paul', 'George', 'Ringo', 'Fred']\n",
      "['John', 'Paul', 'George', 'Ringo']\n",
      "1\n",
      "['George', 'John', 'Paul', 'Ringo']\n",
      "['George', 'John', 'Ringo']\n"
     ]
    }
   ],
   "source": [
    "names.append(\"Fred\")\n",
    "print(names)\n",
    "names.remove(\"Fred\")\n",
    "print(names)\n",
    "print(names.index(\"Paul\"))\n",
    "names.sort()\n",
    "print(names)\n",
    "del names[2]\n",
    "print(names)"
   ]
  },
  {
   "cell_type": "code",
   "execution_count": 4,
   "metadata": {
    "slideshow": {
     "slide_type": "fragment"
    }
   },
   "outputs": [],
   "source": [
    "names = [\"John\", \"Paul\", \"George\", \"Ringo\"] # reset to original order"
   ]
  },
  {
   "cell_type": "markdown",
   "metadata": {
    "slideshow": {
     "slide_type": "subslide"
    }
   },
   "source": [
    "We can join two lists together, and we can calculate the length of a list with `len()`."
   ]
  },
  {
   "cell_type": "code",
   "execution_count": null,
   "metadata": {},
   "outputs": [],
   "source": [
    "x = [3, 4, 5] + [9, 10, 11]\n",
    "print(x)\n",
    "print(len(x))"
   ]
  },
  {
   "cell_type": "markdown",
   "metadata": {
    "collapsed": true,
    "slideshow": {
     "slide_type": "slide"
    }
   },
   "source": [
    "Iteration with `for`\n",
    "---\n",
    "\n",
    "The `for` keyword introduces a different type of loop. It's always `for x in L`. \n",
    "\n",
    "`x` becomes the name of a *new* variable with a different value at each iteration. `L` is a list (or something which, like a list, is a sequence of multiple values)."
   ]
  },
  {
   "cell_type": "code",
   "execution_count": 5,
   "metadata": {},
   "outputs": [
    {
     "name": "stdout",
     "output_type": "stream",
     "text": [
      "John\n",
      "Paul\n",
      "George\n",
      "Ringo\n"
     ]
    }
   ],
   "source": [
    "for x in names:\n",
    "    print(x) "
   ]
  },
  {
   "cell_type": "markdown",
   "metadata": {
    "slideshow": {
     "slide_type": "slide"
    }
   },
   "source": [
    "`range` is a useful function for use with `for`:"
   ]
  },
  {
   "cell_type": "code",
   "execution_count": 6,
   "metadata": {},
   "outputs": [
    {
     "name": "stdout",
     "output_type": "stream",
     "text": [
      "0\n",
      "1\n",
      "2\n",
      "3\n",
      "4\n"
     ]
    }
   ],
   "source": [
    "for x in range(5):\n",
    "    print(x)"
   ]
  },
  {
   "cell_type": "markdown",
   "metadata": {
    "slideshow": {
     "slide_type": "slide"
    }
   },
   "source": [
    "**Exercise** (Think Python 10.3): *Write a function that takes a list of numbers and returns the cumulative sum; that is, a new list where the ith element is the sum of the first i + 1 elements from the original list. For example, the cumulative sum of* `[1, 2, 3]` *is* `[1, 3, 6]`."
   ]
  },
  {
   "cell_type": "code",
   "execution_count": null,
   "metadata": {
    "slideshow": {
     "slide_type": "fragment"
    }
   },
   "outputs": [],
   "source": [
    "def cumulative_sum(L):\n",
    "    s = 0\n",
    "    result = []\n",
    "    for x in L:\n",
    "        s += x\n",
    "        result.append(s)\n",
    "    return result\n",
    "\n",
    "cumulative_sum([1, 2, 3])"
   ]
  },
  {
   "cell_type": "markdown",
   "metadata": {
    "slideshow": {
     "slide_type": "fragment"
    }
   },
   "source": [
    "Notice a common pattern here: we created an *empty list* `[]`, then gradually `append`ed to it. "
   ]
  },
  {
   "cell_type": "markdown",
   "metadata": {
    "slideshow": {
     "slide_type": "subslide"
    }
   },
   "source": [
    "**Exercise**: what would happen if we tried to iterate over the empty list? Guess, then try it.\n",
    "```python\n",
    "L = []\n",
    "for i in L:\n",
    "    print(\"Hello\")\n",
    "```"
   ]
  },
  {
   "cell_type": "markdown",
   "metadata": {
    "slideshow": {
     "slide_type": "slide"
    }
   },
   "source": [
    "**Exercise** (Think Python Section 10.13 Part 2). Suppose `L` is a list, and you want to append an item `x`."
   ]
  },
  {
   "cell_type": "code",
   "execution_count": null,
   "metadata": {},
   "outputs": [],
   "source": [
    "L = [5, 6, 7]\n",
    "x = 9"
   ]
  },
  {
   "cell_type": "markdown",
   "metadata": {
    "slideshow": {
     "slide_type": "-"
    }
   },
   "source": [
    "There are two ways to do it:"
   ]
  },
  {
   "cell_type": "code",
   "execution_count": null,
   "metadata": {
    "slideshow": {
     "slide_type": "fragment"
    }
   },
   "outputs": [],
   "source": [
    "L.append(x) # preferred"
   ]
  },
  {
   "cell_type": "code",
   "execution_count": null,
   "metadata": {
    "slideshow": {
     "slide_type": "fragment"
    }
   },
   "outputs": [],
   "source": [
    "L = L + [x] # less preferred"
   ]
  },
  {
   "cell_type": "markdown",
   "metadata": {
    "slideshow": {
     "slide_type": "subslide"
    }
   },
   "source": [
    "And four ways not to:\n",
    "```python\n",
    "L.append([x]) # WRONG!\n",
    "L = L.append(x) # WRONG!\n",
    "L + [x] # WRONG!\n",
    "L = L + x # WRONG!\n",
    "```"
   ]
  },
  {
   "cell_type": "markdown",
   "metadata": {
    "slideshow": {
     "slide_type": "notes"
    }
   },
   "source": [
    "Notice that in some cases you will see an error (a crash), and in others there will be no crash, but it won't do what you wanted/expected."
   ]
  },
  {
   "cell_type": "markdown",
   "metadata": {
    "slideshow": {
     "slide_type": "slide"
    }
   },
   "source": [
    "Useful things to use with `for`\n",
    "---\n",
    "\n",
    "`zip` takes two lists and makes a list of pairs.\n",
    "\n",
    "We can *destructure* the pair using `for x, y in zip(...)` instead of `for x in zip(...)`:"
   ]
  },
  {
   "cell_type": "code",
   "execution_count": 7,
   "metadata": {
    "slideshow": {
     "slide_type": "-"
    }
   },
   "outputs": [
    {
     "name": "stdout",
     "output_type": "stream",
     "text": [
      "John guitar\n",
      "Paul bass\n",
      "George guitar\n",
      "Ringo drums\n"
     ]
    }
   ],
   "source": [
    "for x, y in zip(names, [\"guitar\", \"bass\", \"guitar\", \"drums\"]):\n",
    "    print(x, y)"
   ]
  },
  {
   "cell_type": "markdown",
   "metadata": {
    "slideshow": {
     "slide_type": "slide"
    }
   },
   "source": [
    "`enumerate` takes a single list and returns a list of index-item pairs. Again, we can destructure each pair."
   ]
  },
  {
   "cell_type": "code",
   "execution_count": 10,
   "metadata": {},
   "outputs": [
    {
     "data": {
      "text/plain": [
       "['John', 'Paul', 'George', 'Ringo']"
      ]
     },
     "execution_count": 10,
     "metadata": {},
     "output_type": "execute_result"
    }
   ],
   "source": [
    "names"
   ]
  },
  {
   "cell_type": "code",
   "execution_count": 12,
   "metadata": {},
   "outputs": [
    {
     "name": "stdout",
     "output_type": "stream",
     "text": [
      "1 Paul\n",
      "3 Ringo\n"
     ]
    }
   ],
   "source": [
    "\n",
    "for i, x in enumerate(names):\n",
    "    if i % 2:\n",
    "        print(i, x)"
   ]
  },
  {
   "cell_type": "markdown",
   "metadata": {
    "slideshow": {
     "slide_type": "slide"
    }
   },
   "source": [
    "**Exercise**: Given the following lists, combine them using `enumerate` and a **three-way** `zip` to print this:\n",
    "```\n",
    "1: John Lennon, guitar\n",
    "2: Paul McCartney, bass\n",
    "3: George Harrison, guitar\n",
    "4: Ringo Starr, drums\n",
    "```"
   ]
  },
  {
   "cell_type": "code",
   "execution_count": null,
   "metadata": {
    "slideshow": {
     "slide_type": "fragment"
    }
   },
   "outputs": [],
   "source": [
    "n1 = [\"John\", \"Paul\", \"George\", \"Ringo\"]\n",
    "n2 = [\"Lennon\", \"McCartney\", \"Harrison\", \"Starr\"]\n",
    "inst = [\"guitar\", \"bass\", \"guitar\", \"drums\"]"
   ]
  },
  {
   "cell_type": "code",
   "execution_count": null,
   "metadata": {
    "slideshow": {
     "slide_type": "fragment"
    }
   },
   "outputs": [],
   "source": [
    "# destructuring\n",
    "for i, (a, b, inst) in enumerate(zip(n1, n2, inst)):\n",
    "    print(\"%d: %s %s, %s\" % (i, a, b, inst))"
   ]
  },
  {
   "cell_type": "markdown",
   "metadata": {
    "slideshow": {
     "slide_type": "slide"
    }
   },
   "source": [
    "Tuples\n",
    "---\n",
    "\n",
    "A tuple is like a list, but enclosed in round brackets, and it is *immutable*: you can't change it!"
   ]
  },
  {
   "cell_type": "code",
   "execution_count": 16,
   "metadata": {
    "scrolled": true
   },
   "outputs": [
    {
     "name": "stdout",
     "output_type": "stream",
     "text": [
      "(4, 17, 6)\n"
     ]
    }
   ],
   "source": [
    "t = (4, 5, 6)\n",
    "t = list(t)\n",
    "t[1] = 17\n",
    "t = tuple(t)\n",
    "print(t)"
   ]
  },
  {
   "cell_type": "code",
   "execution_count": null,
   "metadata": {},
   "outputs": [],
   "source": []
  },
  {
   "cell_type": "code",
   "execution_count": null,
   "metadata": {},
   "outputs": [],
   "source": []
  },
  {
   "cell_type": "markdown",
   "metadata": {
    "slideshow": {
     "slide_type": "notes"
    }
   },
   "source": [
    "Usually we use tuples to mimic rows in databases -- each \"field\" has potentially different semantics and/or a different type -- whereas we use lists where all the data is of the same type -- more like a column in a database."
   ]
  },
  {
   "cell_type": "markdown",
   "metadata": {
    "slideshow": {
     "slide_type": "slide"
    }
   },
   "source": [
    "Indexing and slicing\n",
    "---\n",
    "\n",
    "Strings, lists, and tuples all have some very useful operations in common. You can get the $n$th element by putting $n$ in square brackets:"
   ]
  },
  {
   "cell_type": "code",
   "execution_count": 18,
   "metadata": {},
   "outputs": [
    {
     "data": {
      "text/plain": [
       "12"
      ]
     },
     "execution_count": 18,
     "metadata": {},
     "output_type": "execute_result"
    }
   ],
   "source": [
    "L = [5, 6, 7]\n",
    "L[1]\n",
    "[10, 12, 12][2]"
   ]
  },
  {
   "cell_type": "markdown",
   "metadata": {
    "slideshow": {
     "slide_type": "notes"
    }
   },
   "source": [
    "The first element is element 0:"
   ]
  },
  {
   "cell_type": "markdown",
   "metadata": {
    "slideshow": {
     "slide_type": "slide"
    }
   },
   "source": [
    "For convenience, we can count backwards in indices. The last element can be indexed as -1:"
   ]
  },
  {
   "cell_type": "code",
   "execution_count": 19,
   "metadata": {},
   "outputs": [
    {
     "data": {
      "text/plain": [
       "7"
      ]
     },
     "execution_count": 19,
     "metadata": {},
     "output_type": "execute_result"
    }
   ],
   "source": [
    "L[-1]"
   ]
  },
  {
   "cell_type": "code",
   "execution_count": 20,
   "metadata": {},
   "outputs": [
    {
     "data": {
      "text/plain": [
       "6"
      ]
     },
     "execution_count": 20,
     "metadata": {},
     "output_type": "execute_result"
    }
   ],
   "source": [
    "L[-2]"
   ]
  },
  {
   "cell_type": "code",
   "execution_count": 21,
   "metadata": {},
   "outputs": [
    {
     "data": {
      "text/plain": [
       "True"
      ]
     },
     "execution_count": 21,
     "metadata": {},
     "output_type": "execute_result"
    }
   ],
   "source": [
    "L[1] == L[-2]"
   ]
  },
  {
   "cell_type": "markdown",
   "metadata": {
    "slideshow": {
     "slide_type": "slide"
    }
   },
   "source": [
    "We can use list indices on the left hand side of an assignment as well:"
   ]
  },
  {
   "cell_type": "code",
   "execution_count": 22,
   "metadata": {},
   "outputs": [
    {
     "name": "stdout",
     "output_type": "stream",
     "text": [
      "[5, 12, 7]\n"
     ]
    }
   ],
   "source": [
    "L[1] = 12\n",
    "print(L)"
   ]
  },
  {
   "cell_type": "markdown",
   "metadata": {
    "slideshow": {
     "slide_type": "slide"
    }
   },
   "source": [
    "### Slices\n",
    "\n",
    "A *slice* is a sublist (or substring, or sub-tuple). We get a *slice* using the colon `:`, with two indices indicating the `start` and `end` of the sublist, e.g. `L[1:3]`. "
   ]
  },
  {
   "cell_type": "markdown",
   "metadata": {
    "slideshow": {
     "slide_type": "subslide"
    }
   },
   "source": [
    "![Slicing in Python](img/python-slicing.png)\n",
    "\n",
    "Credit: http://infohost.nmt.edu/tcc/help/lang/python/docs.html"
   ]
  },
  {
   "cell_type": "markdown",
   "metadata": {
    "slideshow": {
     "slide_type": "notes"
    }
   },
   "source": [
    "We can omit the `start` index, and it defaults to 0, or the `end` index, and it defaults to `len(L)`, or even both!\n",
    "\n",
    "With slices, it helps to think of an index as pointing \"just before\" the corresponding position, as shown."
   ]
  },
  {
   "cell_type": "markdown",
   "metadata": {
    "slideshow": {
     "slide_type": "slide"
    }
   },
   "source": [
    "**Exercises** \n",
    "* What if you try an index too large for the list?\n",
    "* Think Python exercise 6.6: write a recursive function `is_palindrome` which works by checking whether the first and last elements of a string are equal, and if so, calls itself on the remainder."
   ]
  },
  {
   "cell_type": "markdown",
   "metadata": {
    "slideshow": {
     "slide_type": "slide"
    }
   },
   "source": [
    "`in`\n",
    "---\n",
    "\n",
    "The `in` operator checks whether some compound data structure contains a given object. It also works on strings."
   ]
  },
  {
   "cell_type": "code",
   "execution_count": 23,
   "metadata": {},
   "outputs": [
    {
     "data": {
      "text/plain": [
       "True"
      ]
     },
     "execution_count": 23,
     "metadata": {},
     "output_type": "execute_result"
    }
   ],
   "source": [
    "5 in L"
   ]
  },
  {
   "cell_type": "code",
   "execution_count": 24,
   "metadata": {},
   "outputs": [
    {
     "name": "stdout",
     "output_type": "stream",
     "text": [
      "I found ph\n"
     ]
    }
   ],
   "source": [
    "s = \"xylophone\"\n",
    "if \"ph\" in s:\n",
    "    print(\"I found ph\")"
   ]
  },
  {
   "cell_type": "markdown",
   "metadata": {
    "slideshow": {
     "slide_type": "slide"
    }
   },
   "source": [
    "Sets\n",
    "---\n",
    "\n",
    "A set is an unordered collection of non-duplicate items. (Contrast to a list, which is ordered and can contain duplicates.)"
   ]
  },
  {
   "cell_type": "code",
   "execution_count": 25,
   "metadata": {},
   "outputs": [
    {
     "name": "stdout",
     "output_type": "stream",
     "text": [
      "{10, 5, 6}\n",
      "True\n"
     ]
    }
   ],
   "source": [
    "s = {6, 5, 10}\n",
    "s.add(6)\n",
    "print(s)\n",
    "print(5 in s) # \"in\" works"
   ]
  },
  {
   "cell_type": "markdown",
   "metadata": {
    "slideshow": {
     "slide_type": "slide"
    }
   },
   "source": [
    "Dictionaries\n",
    "---\n",
    "\n",
    "A dictionary is like a set of keys each paired with a value. It's really useful! "
   ]
  },
  {
   "cell_type": "code",
   "execution_count": 26,
   "metadata": {
    "scrolled": false,
    "slideshow": {
     "slide_type": "subslide"
    }
   },
   "outputs": [
    {
     "name": "stdout",
     "output_type": "stream",
     "text": [
      "{'name': 'Fred', 'age': 37}\n",
      "37\n",
      "True\n",
      "False\n"
     ]
    },
    {
     "ename": "KeyError",
     "evalue": "'job'",
     "output_type": "error",
     "traceback": [
      "\u001b[0;31m---------------------------------------------------------------------------\u001b[0m",
      "\u001b[0;31mKeyError\u001b[0m                                  Traceback (most recent call last)",
      "\u001b[0;32m<ipython-input-26-127afe1e567e>\u001b[0m in \u001b[0;36m<module>\u001b[0;34m\u001b[0m\n\u001b[1;32m      6\u001b[0m \u001b[0mprint\u001b[0m\u001b[0;34m(\u001b[0m\u001b[0;34m\"name\"\u001b[0m \u001b[0;32min\u001b[0m \u001b[0md\u001b[0m\u001b[0;34m)\u001b[0m \u001b[0;31m# \"in\" looks in the *keys*\u001b[0m\u001b[0;34m\u001b[0m\u001b[0;34m\u001b[0m\u001b[0m\n\u001b[1;32m      7\u001b[0m \u001b[0mprint\u001b[0m\u001b[0;34m(\u001b[0m\u001b[0;34m\"Fred\"\u001b[0m \u001b[0;32min\u001b[0m \u001b[0md\u001b[0m\u001b[0;34m)\u001b[0m \u001b[0;31m# it does not look in the *values*\u001b[0m\u001b[0;34m\u001b[0m\u001b[0;34m\u001b[0m\u001b[0m\n\u001b[0;32m----> 8\u001b[0;31m \u001b[0mprint\u001b[0m\u001b[0;34m(\u001b[0m\u001b[0md\u001b[0m\u001b[0;34m[\u001b[0m\u001b[0;34m\"job\"\u001b[0m\u001b[0;34m]\u001b[0m\u001b[0;34m)\u001b[0m    \u001b[0;31m# the key \"job\" doesn't exist, so we'll see a KeyError\u001b[0m\u001b[0;34m\u001b[0m\u001b[0;34m\u001b[0m\u001b[0m\n\u001b[0m",
      "\u001b[0;31mKeyError\u001b[0m: 'job'"
     ]
    }
   ],
   "source": [
    "d = {\"name\": \"Bob\"}\n",
    "d[\"name\"] = \"Fred\"\n",
    "d[\"age\"] = 37\n",
    "print(d)\n",
    "print(d[\"age\"])\n",
    "print(\"name\" in d) # \"in\" looks in the *keys*\n",
    "print(\"Fred\" in d) # it does not look in the *values*\n",
    "print(d[\"job\"])    # the key \"job\" doesn't exist, so we'll see a KeyError"
   ]
  },
  {
   "cell_type": "markdown",
   "metadata": {
    "slideshow": {
     "slide_type": "notes"
    }
   },
   "source": [
    "We should notice a type of regularity/coherence in Python syntax. Lists use square brackets; sets use curly brackets; tuples use round brackets. In all cases the items are separated by commas. A dictionary is a *set* of key-value pairs, so it uses curly brackets like a set -- but now the items have to be pairs, each pair having a colon `:` in the middle."
   ]
  },
  {
   "cell_type": "markdown",
   "metadata": {
    "slideshow": {
     "slide_type": "slide"
    }
   },
   "source": [
    "**Exercises**\n",
    "\n",
    "* Can we use indexing and slicing with strings? With sets? With dictionaries? Why/why not? Try them and observe the result.\n",
    "* Can we use `len` with lists? With sets? With dictionaries? Why/why not?\n",
    "* What happens if we say `for x in d`, a `dict`? Try it."
   ]
  },
  {
   "cell_type": "markdown",
   "metadata": {
    "slideshow": {
     "slide_type": "subslide"
    }
   },
   "source": [
    "**Exercise**: Consider this complex nested data structure. Describe its structure: \"it is a `list` of ... of ... of ... of dicts where each key is a ... and each value is a ...\""
   ]
  },
  {
   "cell_type": "code",
   "execution_count": null,
   "metadata": {
    "slideshow": {
     "slide_type": "-"
    }
   },
   "outputs": [],
   "source": [
    "students = [\n",
    "    {\n",
    "        \"name\": \"Bruce Wayne\", \n",
    "         \"age\": 34,\n",
    "         \"ID\": \"1234\",\n",
    "         \"modules\": {\n",
    "                \"CT5123\": {\n",
    "                    \"grades\": [55, 68],\n",
    "                    \"attendance\": [False, True, True, True, True],\n",
    "                },\n",
    "                \"CT5234\": {\n",
    "                    \"grades\": [45, 90],\n",
    "                    \"attendance\": [True, False, False, False, True]\n",
    "                }\n",
    "        }\n",
    "    },\n",
    "    {\n",
    "        \"name\": \"Peter Parker\",\n",
    "        \"age\": 21,\n",
    "        \"ID\": \"0126\",\n",
    "        \"modules\": {\n",
    "                \"CT5123\": {\n",
    "                    \"grades\": [90, 90, 90],\n",
    "                    \"attendance\": [False, True, True, True, True],\n",
    "                },\n",
    "                \"CT5234\": {\n",
    "                    \"grades\": [60, 74],\n",
    "                    \"attendance\": [False, True, True, True, True]\n",
    "                }\n",
    "        }\n",
    "    }\n",
    "]"
   ]
  },
  {
   "cell_type": "markdown",
   "metadata": {
    "slideshow": {
     "slide_type": "subslide"
    }
   },
   "source": [
    "Observe that we can access any element using an expression like `students[0][\"name\"]`, which gets the first student's name. Write a similar expression that picks out Parker's attendance record in CT5123, and then another to get Wayne's most recent grade in CT5234.\n",
    "\n",
    "**Exercise**: Why did I write \"ID\" as a string, not an integer?"
   ]
  }
 ],
 "metadata": {
  "anaconda-cloud": {},
  "celltoolbar": "Slideshow",
  "kernelspec": {
   "display_name": "Python 3",
   "language": "python",
   "name": "python3"
  },
  "language_info": {
   "codemirror_mode": {
    "name": "ipython",
    "version": 3
   },
   "file_extension": ".py",
   "mimetype": "text/x-python",
   "name": "python",
   "nbconvert_exporter": "python",
   "pygments_lexer": "ipython3",
   "version": "3.7.3"
  }
 },
 "nbformat": 4,
 "nbformat_minor": 1
}
