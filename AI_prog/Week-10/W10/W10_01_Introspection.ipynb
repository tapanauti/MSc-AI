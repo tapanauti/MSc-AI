{
 "cells": [
  {
   "cell_type": "markdown",
   "metadata": {
    "slideshow": {
     "slide_type": "slide"
    }
   },
   "source": [
    "<center><img src=img/MScAI_brand.png width=70%></center>\n",
    "\n",
    "# Introspection"
   ]
  },
  {
   "cell_type": "markdown",
   "metadata": {
    "slideshow": {
     "slide_type": "slide"
    }
   },
   "source": [
    "Introspection means looking inward to the self. In programming, it refers to a few ways in which a program can inspect its own properties **while running** (as distinct from **at compile-time**)."
   ]
  },
  {
   "cell_type": "markdown",
   "metadata": {
    "slideshow": {
     "slide_type": "subslide"
    }
   },
   "source": [
    "* Finding out the type of an object;\n",
    "* Accessing docstrings, function names, and other function properties;\n",
    "* Accessing filenames and line numbers of the source file;\n",
    "* Accessing the call stack (what functions called what functions to lead us to *here*);\n",
    "* Accessing the configuration of the interpreter."
   ]
  },
  {
   "cell_type": "markdown",
   "metadata": {
    "slideshow": {
     "slide_type": "subslide"
    }
   },
   "source": [
    "A lot of people think that introspection is a key ingredient in consciousness and intelligence! So it's relevant to AI in this sense. But we will think of introspection as a handy tool for programming in general."
   ]
  },
  {
   "cell_type": "markdown",
   "metadata": {
    "slideshow": {
     "slide_type": "subslide"
    }
   },
   "source": [
    "In `C` and other older languages, even detecting the length of an array at runtime was not possible. So to a C programmer, Python's `len(a)` would seem like introspection."
   ]
  },
  {
   "cell_type": "markdown",
   "metadata": {
    "slideshow": {
     "slide_type": "slide"
    }
   },
   "source": [
    "Given an arbitrary object, there are several easy ways to find out about it -- some we've seen already -- and these are more like true introspection:\n",
    "\n",
    "* `type`: what type is it?\n",
    "* `dir`: what methods does it have?\n",
    "* `repr`: see a useful string representation, may be valid Python code.\n",
    "* `help`: access the docstring."
   ]
  },
  {
   "cell_type": "markdown",
   "metadata": {
    "slideshow": {
     "slide_type": "subslide"
    }
   },
   "source": [
    "Some new ones, quite self-explanatory:\n",
    "\n",
    "* `callable(f)`: is `f` callable (i.e. is `f(...)` allowed)?\n",
    "* `issubclass(D, C)`: is `D` a subclass of `C`? (Works on classes, not objects.)\n",
    "* `isinstance(c, C)`: check if `c` is an instance of `C` (allowing for subclasses)."
   ]
  },
  {
   "cell_type": "code",
   "execution_count": 2,
   "metadata": {
    "slideshow": {
     "slide_type": "subslide"
    }
   },
   "outputs": [
    {
     "name": "stdout",
     "output_type": "stream",
     "text": [
      "True\n",
      "False\n",
      "True\n",
      "True\n"
     ]
    },
    {
     "data": {
      "text/plain": [
       "'Objects can quack like functions'"
      ]
     },
     "execution_count": 2,
     "metadata": {},
     "output_type": "execute_result"
    }
   ],
   "source": [
    "def f(): pass\n",
    "x = 17\n",
    "class C:\n",
    "    def __call__(self):\n",
    "        return \"Objects can quack like functions\"\n",
    "c = C()\n",
    "print(callable(f))\n",
    "print(callable(x))\n",
    "print(callable(C))\n",
    "print(callable(c))\n",
    "c()"
   ]
  },
  {
   "cell_type": "code",
   "execution_count": 2,
   "metadata": {
    "slideshow": {
     "slide_type": "subslide"
    }
   },
   "outputs": [
    {
     "name": "stdout",
     "output_type": "stream",
     "text": [
      "True\n",
      "True\n",
      "False\n"
     ]
    }
   ],
   "source": [
    "class C: pass\n",
    "class D(C): pass\n",
    "class E(D): pass\n",
    "print(issubclass(D, C))\n",
    "print(issubclass(E, C))\n",
    "print(issubclass(C, D))"
   ]
  },
  {
   "cell_type": "code",
   "execution_count": 68,
   "metadata": {
    "slideshow": {
     "slide_type": "subslide"
    }
   },
   "outputs": [
    {
     "name": "stdout",
     "output_type": "stream",
     "text": [
      "True\n",
      "True\n",
      "False\n",
      "True\n"
     ]
    }
   ],
   "source": [
    "c = C()\n",
    "d = D()\n",
    "print(isinstance(c, C))\n",
    "print(isinstance(d, D))\n",
    "print(isinstance(c, D))\n",
    "print(isinstance(d, C))"
   ]
  },
  {
   "cell_type": "markdown",
   "metadata": {
    "slideshow": {
     "slide_type": "subslide"
    }
   },
   "source": [
    "Classes and functions have official names. The official name is the one written in the source following  `class` or `def`. This is distinct from the object's variable name!\n",
    "\n",
    "* `x.__name__`: get the \"official\" name of `x` which must be a function or a class"
   ]
  },
  {
   "cell_type": "code",
   "execution_count": 61,
   "metadata": {
    "slideshow": {
     "slide_type": "subslide"
    }
   },
   "outputs": [
    {
     "name": "stdout",
     "output_type": "stream",
     "text": [
      "f\n",
      "f\n"
     ]
    }
   ],
   "source": [
    "def f(a, b):\n",
    "    return a + b\n",
    "g = f # g is f, and has the same official name:\n",
    "print(f.__name__)\n",
    "print(g.__name__)"
   ]
  },
  {
   "cell_type": "markdown",
   "metadata": {
    "slideshow": {
     "slide_type": "subslide"
    }
   },
   "source": [
    "This could be useful e.g. when testing some Scikit-Learn models:"
   ]
  },
  {
   "cell_type": "code",
   "execution_count": 62,
   "metadata": {
    "slideshow": {
     "slide_type": "-"
    }
   },
   "outputs": [
    {
     "name": "stdout",
     "output_type": "stream",
     "text": [
      "LogisticRegression 1.0\n",
      "KNeighborsClassifier 1.0\n"
     ]
    }
   ],
   "source": [
    "from sklearn.linear_model import LogisticRegression\n",
    "from sklearn.neighbors import KNeighborsClassifier\n",
    "\n",
    "for clf in [LogisticRegression(solver=\"lbfgs\"), \n",
    "            KNeighborsClassifier(n_neighbors=1)]:\n",
    "    s = clf.fit([[3, 4], [3, 5]], [0, 1]).score([[4, 4]], [0])\n",
    "    print(clf.__class__.__name__, s)"
   ]
  },
  {
   "cell_type": "markdown",
   "metadata": {
    "slideshow": {
     "slide_type": "slide"
    }
   },
   "source": [
    "### Accessing variables and values in a namespace\n",
    "\n",
    "Each returns a `dict`:\n",
    "\n",
    "* `globals()`: variables in the module namespace\n",
    "* `locals()`: variables in the current namespace\n",
    "* `vars()`: same as `locals()`\n",
    "* `vars(d)`: variables in namespace `d` where e.g. `d` is some module.\n"
   ]
  },
  {
   "cell_type": "markdown",
   "metadata": {
    "slideshow": {
     "slide_type": "slide"
    }
   },
   "source": [
    "### `hasattr`\n",
    "\n",
    "\"Frameworks use introspection frequently, to discover the capabilities of objects the user has passed; for example, \"does this object's class have a `do_something()` method? If so, call the object's `do_something()`; otherwise call the `do_something_similar()` framework function with the object as an argument.\"\" \n",
    "\n",
    "-- http://archive.oreilly.com/oreillyschool/courses/Python4/Python4-09.html."
   ]
  },
  {
   "cell_type": "markdown",
   "metadata": {
    "slideshow": {
     "slide_type": "subslide"
    }
   },
   "source": [
    "`hasattr(obj, attr)` tells us whether an object  has a particular attribute.\n",
    "\n",
    "Using introspection and `hasattr`, we check that our code will work before running it. \n",
    "\n"
   ]
  },
  {
   "cell_type": "code",
   "execution_count": 13,
   "metadata": {
    "slideshow": {
     "slide_type": "fragment"
    }
   },
   "outputs": [
    {
     "name": "stdout",
     "output_type": "stream",
     "text": [
      "True\n"
     ]
    }
   ],
   "source": [
    "def check_initial(x):\n",
    "    if hasattr(x, \"startswith\"):\n",
    "        print(x.startswith(\"C\"))\n",
    "    else:\n",
    "        print(x.__class__.__name__.startswith(\"C\"))\n",
    "check_initial(\"CDEFG\")"
   ]
  },
  {
   "cell_type": "markdown",
   "metadata": {
    "slideshow": {
     "slide_type": "subslide"
    }
   },
   "source": [
    "In the **duck typing** style, we instead assume `x` has `a` (and maybe catch a possible exception). We say \"it is easier to ask forgiveness than permission\" (EAFP):\n",
    "\n"
   ]
  },
  {
   "cell_type": "code",
   "execution_count": 14,
   "metadata": {
    "slideshow": {
     "slide_type": "fragment"
    }
   },
   "outputs": [
    {
     "name": "stdout",
     "output_type": "stream",
     "text": [
      "True\n"
     ]
    }
   ],
   "source": [
    "def check_initial(x):\n",
    "    try:\n",
    "        print(x.startswith(\"C\"))\n",
    "    except AttributeError:\n",
    "        print(x.__class__.__name__.startswith(\"C\"))\n",
    "check_initial(C())"
   ]
  },
  {
   "cell_type": "markdown",
   "metadata": {
    "slideshow": {
     "slide_type": "slide"
    }
   },
   "source": [
    "### Version numbers for Python and libraries\n",
    "\n",
    "These are useful:\n",
    "1. To catch possible incompatibilities between your code and an old version of a library;\n",
    "2. When reporting bugs on Github and asking questions on Stackoverflow."
   ]
  },
  {
   "cell_type": "code",
   "execution_count": 34,
   "metadata": {
    "slideshow": {
     "slide_type": "subslide"
    }
   },
   "outputs": [
    {
     "name": "stdout",
     "output_type": "stream",
     "text": [
      "3.7.3 (default, Mar 27 2019, 22:11:17) \n",
      "[GCC 7.3.0]\n",
      "<module 'numpy.version' from '/home/jmmcd/anaconda3/lib/python3.7/site-packages/numpy/version.py'>\n",
      "0.21.2\n"
     ]
    }
   ],
   "source": [
    "import sys\n",
    "print(sys.version)\n",
    "import numpy as np\n",
    "print(np.version)\n",
    "import sklearn\n",
    "print(sklearn.__version__)"
   ]
  },
  {
   "cell_type": "markdown",
   "metadata": {
    "slideshow": {
     "slide_type": "slide"
    }
   },
   "source": [
    "### Some more possibilities\n",
    "\n",
    "* Find out what source file an object was defined in, and at what line number (`inspect.getmembers()`);\n",
    "* Find out which function called the function we are currently in (`inspect.getmembers()`);\n",
    "* Given a function, find out what arguments (and types) it expects (`inspect.Signature`)."
   ]
  },
  {
   "cell_type": "markdown",
   "metadata": {
    "slideshow": {
     "slide_type": "slide"
    }
   },
   "source": [
    "### Example: getting at the data in a JSON file\n",
    "\n",
    "Suppose we have a JSON file and we don't know anything about its structure. We can use the `json` module to read it in to native Python datatypes. We'll use introspection to understand the structure."
   ]
  },
  {
   "cell_type": "code",
   "execution_count": 8,
   "metadata": {
    "slideshow": {
     "slide_type": "fragment"
    }
   },
   "outputs": [],
   "source": [
    "import json\n",
    "d = json.load(open(\"data/students.json\"))"
   ]
  },
  {
   "cell_type": "markdown",
   "metadata": {
    "slideshow": {
     "slide_type": "subslide"
    }
   },
   "source": [
    "Notice that (just like `pickle.load` and `pickle.dump` which we saw before), `json.load` expects an open file, not a filename. Same for `json.dump`."
   ]
  },
  {
   "cell_type": "code",
   "execution_count": 9,
   "metadata": {
    "slideshow": {
     "slide_type": "subslide"
    }
   },
   "outputs": [
    {
     "data": {
      "text/plain": [
       "[{'name': 'Bruce Wayne',\n",
       "  'age': 34,\n",
       "  'ID': '1234',\n",
       "  'modules': {'CT5123': {'grades': [55, 68],\n",
       "    'attendance': [False, True, True, True, True]},\n",
       "   'CT5234': {'grades': [45, 90],\n",
       "    'attendance': [True, False, False, False, True]}}},\n",
       " {'name': 'Peter Parker',\n",
       "  'age': 21,\n",
       "  'ID': '0126',\n",
       "  'modules': {'CT5123': {'grades': [90, 90, 90],\n",
       "    'attendance': [False, True, True, True, True]},\n",
       "   'CT5234': {'grades': [60, 74],\n",
       "    'attendance': [False, True, True, True, True]}}}]"
      ]
     },
     "execution_count": 9,
     "metadata": {},
     "output_type": "execute_result"
    }
   ],
   "source": [
    "d"
   ]
  },
  {
   "cell_type": "code",
   "execution_count": 10,
   "metadata": {
    "slideshow": {
     "slide_type": "subslide"
    }
   },
   "outputs": [
    {
     "data": {
      "text/plain": [
       "list"
      ]
     },
     "execution_count": 10,
     "metadata": {},
     "output_type": "execute_result"
    }
   ],
   "source": [
    "type(d)"
   ]
  },
  {
   "cell_type": "code",
   "execution_count": 12,
   "metadata": {
    "slideshow": {
     "slide_type": "fragment"
    }
   },
   "outputs": [
    {
     "data": {
      "text/plain": [
       "dict"
      ]
     },
     "execution_count": 12,
     "metadata": {},
     "output_type": "execute_result"
    }
   ],
   "source": [
    "type(d[0])"
   ]
  },
  {
   "cell_type": "code",
   "execution_count": 13,
   "metadata": {
    "slideshow": {
     "slide_type": "fragment"
    }
   },
   "outputs": [
    {
     "data": {
      "text/plain": [
       "dict_keys(['name', 'age', 'ID', 'modules'])"
      ]
     },
     "execution_count": 13,
     "metadata": {},
     "output_type": "execute_result"
    }
   ],
   "source": [
    "d[0].keys()"
   ]
  },
  {
   "cell_type": "code",
   "execution_count": 14,
   "metadata": {
    "slideshow": {
     "slide_type": "fragment"
    }
   },
   "outputs": [
    {
     "data": {
      "text/plain": [
       "'Bruce Wayne'"
      ]
     },
     "execution_count": 14,
     "metadata": {},
     "output_type": "execute_result"
    }
   ],
   "source": [
    "d[0][\"name\"]"
   ]
  },
  {
   "cell_type": "code",
   "execution_count": 15,
   "metadata": {
    "slideshow": {
     "slide_type": "subslide"
    }
   },
   "outputs": [
    {
     "data": {
      "text/plain": [
       "34"
      ]
     },
     "execution_count": 15,
     "metadata": {},
     "output_type": "execute_result"
    }
   ],
   "source": [
    "d[0][\"age\"]"
   ]
  },
  {
   "cell_type": "code",
   "execution_count": 17,
   "metadata": {
    "slideshow": {
     "slide_type": "fragment"
    }
   },
   "outputs": [
    {
     "data": {
      "text/plain": [
       "'1234'"
      ]
     },
     "execution_count": 17,
     "metadata": {},
     "output_type": "execute_result"
    }
   ],
   "source": [
    "d[0][\"ID\"]"
   ]
  },
  {
   "cell_type": "code",
   "execution_count": 18,
   "metadata": {
    "slideshow": {
     "slide_type": "fragment"
    }
   },
   "outputs": [
    {
     "data": {
      "text/plain": [
       "{'CT5123': {'grades': [55, 68], 'attendance': [False, True, True, True, True]},\n",
       " 'CT5234': {'grades': [45, 90],\n",
       "  'attendance': [True, False, False, False, True]}}"
      ]
     },
     "execution_count": 18,
     "metadata": {},
     "output_type": "execute_result"
    }
   ],
   "source": [
    "d[0][\"modules\"]"
   ]
  },
  {
   "cell_type": "code",
   "execution_count": 19,
   "metadata": {
    "slideshow": {
     "slide_type": "fragment"
    }
   },
   "outputs": [
    {
     "data": {
      "text/plain": [
       "dict"
      ]
     },
     "execution_count": 19,
     "metadata": {},
     "output_type": "execute_result"
    }
   ],
   "source": [
    "type(d[0][\"modules\"])"
   ]
  },
  {
   "cell_type": "markdown",
   "metadata": {
    "slideshow": {
     "slide_type": "subslide"
    }
   },
   "source": [
    "... and so on.\n",
    "\n",
    "Downey provides a nice function `structshape` for doing this automatically and summarising the result. See example below and see Think Python, p. 120. The code is in `code/structshape.py`."
   ]
  },
  {
   "cell_type": "code",
   "execution_count": 23,
   "metadata": {
    "slideshow": {
     "slide_type": "subslide"
    }
   },
   "outputs": [
    {
     "data": {
      "text/plain": [
       "'list of (dict of 4 str->(int, dict of 2 str->dict of 2 str->(list of 2 int, list of 5 bool), str), dict of 4 str->(int, dict of 2 str->(dict of 2 str->(list of 3 int, list of 5 bool), dict of 2 str->(list of 2 int, list of 5 bool)), str))'"
      ]
     },
     "execution_count": 23,
     "metadata": {},
     "output_type": "execute_result"
    }
   ],
   "source": [
    "from code.structshape import structshape\n",
    "structshape(students)"
   ]
  }
 ],
 "metadata": {
  "celltoolbar": "Slideshow",
  "kernelspec": {
   "display_name": "Python 3",
   "language": "python",
   "name": "python3"
  },
  "language_info": {
   "codemirror_mode": {
    "name": "ipython",
    "version": 3
   },
   "file_extension": ".py",
   "mimetype": "text/x-python",
   "name": "python",
   "nbconvert_exporter": "python",
   "pygments_lexer": "ipython3",
   "version": "3.7.3"
  }
 },
 "nbformat": 4,
 "nbformat_minor": 2
}
