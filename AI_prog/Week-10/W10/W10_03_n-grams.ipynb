{
 "cells": [
  {
   "cell_type": "markdown",
   "metadata": {
    "slideshow": {
     "slide_type": "slide"
    }
   },
   "source": [
    "<center><img src=img/MScAI_brand.png width=70%></center>\n",
    "\n",
    "# $n$-grams, randomness, and the Aaronson oracle"
   ]
  },
  {
   "cell_type": "markdown",
   "metadata": {
    "slideshow": {
     "slide_type": "slide"
    }
   },
   "source": [
    "The Aaronson oracle is about the simplest possible computer game, but it really makes you think. We'll describe it and see how to get the computer to play it using a very broadly applicable technique, $n$-grams. We'll start with motivation."
   ]
  },
  {
   "cell_type": "markdown",
   "metadata": {
    "slideshow": {
     "slide_type": "slide"
    }
   },
   "source": [
    "### Which of these is random?\n",
    "\n",
    " <table style=\"width:100%\">\n",
    "  <tr>\n",
    "    <td><img src=img/randomness_pointa.jpg width=80%></td>\n",
    "    <td><img src=img/randomness_pointb.jpg width=80%></td>\n",
    "  </tr>\n",
    "</table> \n",
    "\n",
    "<font size=1>From <a href=https://telescoper.wordpress.com/2009/04/04/points-and-poisson-davril/>telescoper</a> via <a href=\"http://blogs.discovermagazine.com/cosmicvariance/2009/04/06/perceiving-randomness/#.XcLxeNHLfeR\">Discover magazine</a>"
   ]
  },
  {
   "cell_type": "markdown",
   "metadata": {
    "slideshow": {
     "slide_type": "subslide"
    }
   },
   "source": [
    "The left-hand image is random. The right-hand one is too evenly-spaced to be truly random.\n",
    "\n",
    "It turns out that humans are very bad at detecting randomness. We're so good at detecting patterns that we detect them even when they're not there!"
   ]
  },
  {
   "cell_type": "markdown",
   "metadata": {
    "slideshow": {
     "slide_type": "subslide"
    }
   },
   "source": [
    "The same thing could happen in other settings. Which of these is random?\n",
    "\n",
    "* 10011000110100011000111010100010110000110001111110\n",
    "* 01001010010101010001001001011010101101010110101100"
   ]
  },
  {
   "cell_type": "markdown",
   "metadata": {
    "slideshow": {
     "slide_type": "subslide"
    }
   },
   "source": [
    "The [Aaronson oracle](https://github.com/elsehow/aaronson-oracle) is a game invented by Scott Aaronson (a top researcher in computational complexity and quantum computing, and he has a [great blog](https://www.scottaaronson.com/blog/)) to probe the idea of randomness."
   ]
  },
  {
   "cell_type": "markdown",
   "metadata": {
    "slideshow": {
     "slide_type": "fragment"
    }
   },
   "source": [
    "\n",
    "* The human types '0' or '1' (or 'f' or 'd', or left-arrow or right-arrow, whatever) -- should be fairly quick.\n",
    "* The computer has made a guess which it will be. \n",
    "* We repeat many times (the human should type fairly quickly). The computer has access to the history.\n",
    "* If the computer's accuracy is near 50%, the human wins. If high (e.g. 65%), the computer wins."
   ]
  },
  {
   "cell_type": "markdown",
   "metadata": {
    "slideshow": {
     "slide_type": "subslide"
    }
   },
   "source": [
    "The program is just a loop which makes a prediction (let's just predict randomly for now), reads in the user's move, saves both to a history, and calculates a running accuracy. "
   ]
  },
  {
   "cell_type": "markdown",
   "metadata": {
    "slideshow": {
     "slide_type": "subslide"
    }
   },
   "source": [
    "```python\n",
    "    move_hist = []\n",
    "    pred_hist = []\n",
    "    while True:\n",
    "        # generate a prediction, just placeholder\n",
    "        prediction = random.choice(\"01\")\n",
    "\n",
    "        # read user's move\n",
    "        user_move = getch()\n",
    "\n",
    "        # store to history\n",
    "        move_hist.append(user_move)\n",
    "        pred_hist.append(prediction)\n",
    "        \n",
    "        # stats\n",
    "        accuracy = np.mean([p == u for p, u in \n",
    "                    zip(pred_hist, move_hist)])\n",
    "        print(f\"prediction: {prediction}; \" +\n",
    "              f\"user played {user_move}; \" +\n",
    "              f\"accuracy {accuracy}\")        \n",
    "```"
   ]
  },
  {
   "cell_type": "markdown",
   "metadata": {
    "slideshow": {
     "slide_type": "slide"
    }
   },
   "source": [
    "### `input` and `getch`\n",
    "\n",
    "In Python, there is a function `input()` (a component of the read-eval-print loop!) which gets a line from the user.\n",
    "\n",
    "But that won't work here because the user would have to type 0 `<return>` or 1 `<return>` each time which would be slow and could change their behaviour."
   ]
  },
  {
   "cell_type": "markdown",
   "metadata": {
    "slideshow": {
     "slide_type": "subslide"
    }
   },
   "source": [
    "Instead, there is a small module `code/getchar.py` which reads one character at a time, available here:\n",
    "\n",
    "* https://stackoverflow.com/q/510357/86465\n",
    "* http://code.activestate.com/recipes/134892/\n"
   ]
  },
  {
   "cell_type": "markdown",
   "metadata": {
    "slideshow": {
     "slide_type": "slide"
    }
   },
   "source": [
    "\n",
    "\n",
    "Our remaining task is to implement a method of predicting the user's move. There are many possible approaches, each of which makes some implicit assumptions about the patterns that will be present despite the user's intentions. We'll use a very simple method which performs amazingly well: $n$-grams."
   ]
  },
  {
   "cell_type": "markdown",
   "metadata": {
    "slideshow": {
     "slide_type": "fragment"
    }
   },
   "source": [
    "* Suppose we observe that whenever the user types `01010` they usually type `1` next. That means that whenever we observe `01010` we should predict `1`."
   ]
  },
  {
   "cell_type": "markdown",
   "metadata": {
    "slideshow": {
     "slide_type": "slide"
    }
   },
   "source": [
    "### $n$-grams\n",
    "\n",
    "An $n$-gram is an $n$-tuple of consecutive objects drawn from a sequence. For example in the sentence \"it was the best of times, it was the worst of times\", we have the following 3-grams:\n",
    "\n",
    "(it was the), (was the best), (the best of), (best of times), etc."
   ]
  },
  {
   "cell_type": "markdown",
   "metadata": {
    "slideshow": {
     "slide_type": "subslide"
    }
   },
   "source": [
    "$n$-grams have applications in language modelling and generation, both for natural language and formal languages, and even the \"language\" of music."
   ]
  },
  {
   "cell_type": "markdown",
   "metadata": {
    "slideshow": {
     "slide_type": "subslide"
    }
   },
   "source": [
    "Here, we will use $n$-grams to make predictions. Let's choose $n=5$. For every possible 5-gram, we'll track how often it is followed by a `0` and how often by a `1`.\n",
    "\n",
    "Suppose we have the string `010101001`. Then we get these observations:\n",
    "\n",
    "```\n",
    "01010 -> 1\n",
    "10101 -> 0\n",
    "01010 -> 0\n",
    "10100 -> 1\n",
    "```"
   ]
  },
  {
   "cell_type": "markdown",
   "metadata": {
    "slideshow": {
     "slide_type": "subslide"
    }
   },
   "source": [
    "We'll represent each observation as a 2-tuple, e.g. `(\"01010\", \"1\")`. We'll just put the tuples in a `Counter`, which is a specialised `defaultdict`."
   ]
  },
  {
   "cell_type": "markdown",
   "metadata": {},
   "source": [
    "```python\n",
    "from collections import Counter\n",
    "c = Counter()\n",
    "c[\"01010\", \"1\"] += 1\n",
    "c[\"10101\", \"0\"] += 1\n",
    "```\n",
    "etc.\n",
    "\n",
    "Then whenever we observe a string `\"01010\"`, we just check which has the highest frequency in the data so far: `(\"01010\", \"0\")`, or `(\"01010\", \"1\")`."
   ]
  },
  {
   "cell_type": "markdown",
   "metadata": {
    "slideshow": {
     "slide_type": "subslide"
    }
   },
   "source": [
    "Amazingly, this is good enough to perform quite well! The full program is in `code/aaronson_oracle.py`:\n",
    "\n",
    "```\n",
    "$ cd code\n",
    "$ python aaronson_oracle.py\n",
    "```"
   ]
  },
  {
   "cell_type": "markdown",
   "metadata": {
    "slideshow": {
     "slide_type": "subslide"
    }
   },
   "source": [
    "### Exercises\n",
    "\n",
    "* Play the game a few times and see how you get on. Remember, you're supposed to play quickly.\n",
    "* Tell it to read the $n$-grams from a previously-saved file if it exists, and to write an updated version at the end,  e.g. `python aaronson_oracle.py ngrams.txt`.\n",
    "* Look at the Counter that is saved in `ngrams.txt` and see if you can see your own weakness.\n",
    "* Change $n$ and see if it gets better or worse."
   ]
  },
  {
   "cell_type": "markdown",
   "metadata": {
    "slideshow": {
     "slide_type": "slide"
    }
   },
   "source": [
    "### Exercises (only for fun):\n",
    "\n",
    "1. Write an ML program using Scikit-Learn which can perform better than the n-gram program, ie better than 60% against a typical human.\n",
    "2. Write a deterministic player which can defeat the program, ie keep it close to 50%.\n",
    "3. Try playing your deterministic player (2) against your friend's enhanced predictor (1).\n",
    "4. Try playing against your friends manually."
   ]
  }
 ],
 "metadata": {
  "celltoolbar": "Slideshow",
  "kernelspec": {
   "display_name": "Python 3",
   "language": "python",
   "name": "python3"
  },
  "language_info": {
   "codemirror_mode": {
    "name": "ipython",
    "version": 3
   },
   "file_extension": ".py",
   "mimetype": "text/x-python",
   "name": "python",
   "nbconvert_exporter": "python",
   "pygments_lexer": "ipython3",
   "version": "3.7.3"
  }
 },
 "nbformat": 4,
 "nbformat_minor": 2
}
