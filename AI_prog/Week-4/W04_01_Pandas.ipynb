{
 "cells": [
  {
   "cell_type": "markdown",
   "metadata": {
    "slideshow": {
     "slide_type": "slide"
    }
   },
   "source": [
    "<center><img src=img/MScAI_brand.png width=70%></center>\n",
    "\n",
    "# Pandas"
   ]
  },
  {
   "cell_type": "markdown",
   "metadata": {
    "slideshow": {
     "slide_type": "notes"
    }
   },
   "source": [
    "\n",
    "* Reading and writing data with Pandas\n",
    "\n",
    "* Manipulating data with Pandas\n",
    "\n",
    "* Prerequisites: Numpy"
   ]
  },
  {
   "cell_type": "markdown",
   "metadata": {
    "slideshow": {
     "slide_type": "notes"
    }
   },
   "source": [
    "Pandas is a library for data manipulation in Python. "
   ]
  },
  {
   "cell_type": "code",
   "execution_count": 1,
   "metadata": {
    "slideshow": {
     "slide_type": "slide"
    }
   },
   "outputs": [],
   "source": [
    "import pandas as pd"
   ]
  },
  {
   "cell_type": "markdown",
   "metadata": {
    "slideshow": {
     "slide_type": "fragment"
    }
   },
   "source": [
    "The central object is the Pandas `DataFrame`, but it is built on top of the Pandas `Series` so we'll look at that first. \n",
    "\n",
    "A `Series` is like a 1D Numpy `array`:"
   ]
  },
  {
   "cell_type": "code",
   "execution_count": 2,
   "metadata": {
    "slideshow": {
     "slide_type": "subslide"
    }
   },
   "outputs": [
    {
     "data": {
      "text/plain": [
       "0    0.25\n",
       "1    0.50\n",
       "2    0.75\n",
       "3    1.00\n",
       "dtype: float64"
      ]
     },
     "execution_count": 2,
     "metadata": {},
     "output_type": "execute_result"
    }
   ],
   "source": [
    "data = pd.Series([0.25, 0.5, 0.75, 1.0])\n",
    "data"
   ]
  },
  {
   "cell_type": "markdown",
   "metadata": {
    "slideshow": {
     "slide_type": "subslide"
    }
   },
   "source": [
    "Also, the values can be any type (but usually homogeneous):"
   ]
  },
  {
   "cell_type": "code",
   "execution_count": 3,
   "metadata": {},
   "outputs": [
    {
     "data": {
      "text/plain": [
       "0    a\n",
       "1    b\n",
       "2    c\n",
       "3    d\n",
       "dtype: object"
      ]
     },
     "execution_count": 3,
     "metadata": {},
     "output_type": "execute_result"
    }
   ],
   "source": [
    "data = pd.Series([\"a\", \"b\", \"c\", \"d\"])\n",
    "data"
   ]
  },
  {
   "cell_type": "markdown",
   "metadata": {
    "slideshow": {
     "slide_type": "subslide"
    }
   },
   "source": [
    "The indices can also be anything -- in contrast to a Numpy array -- not just contiguous integers starting from 0."
   ]
  },
  {
   "cell_type": "code",
   "execution_count": 4,
   "metadata": {
    "slideshow": {
     "slide_type": "fragment"
    }
   },
   "outputs": [],
   "source": [
    "data = pd.Series([0.25, 0.5, 0.75, 1.0], \n",
    "                 index=[4, 2, 4/3, 1])"
   ]
  },
  {
   "cell_type": "code",
   "execution_count": 5,
   "metadata": {
    "slideshow": {
     "slide_type": "fragment"
    }
   },
   "outputs": [
    {
     "data": {
      "text/plain": [
       "4.000000    0.25\n",
       "2.000000    0.50\n",
       "1.333333    0.75\n",
       "1.000000    1.00\n",
       "dtype: float64"
      ]
     },
     "execution_count": 5,
     "metadata": {},
     "output_type": "execute_result"
    }
   ],
   "source": [
    "data"
   ]
  },
  {
   "cell_type": "markdown",
   "metadata": {
    "slideshow": {
     "slide_type": "subslide"
    }
   },
   "source": [
    "The indices don't have to be unique because location is maintained:"
   ]
  },
  {
   "cell_type": "code",
   "execution_count": 6,
   "metadata": {},
   "outputs": [
    {
     "data": {
      "text/plain": [
       "4    0.25\n",
       "2    0.50\n",
       "2    0.75\n",
       "1    1.00\n",
       "dtype: float64"
      ]
     },
     "execution_count": 6,
     "metadata": {},
     "output_type": "execute_result"
    }
   ],
   "source": [
    "data = pd.Series([0.25, 0.5, 0.75, 1.0], \n",
    "                 index=[4, 2, 2, 1])\n",
    "data"
   ]
  },
  {
   "cell_type": "markdown",
   "metadata": {
    "slideshow": {
     "slide_type": "fragment"
    }
   },
   "source": [
    "The indices will usually be of homogeneous types but it's not strictly required."
   ]
  },
  {
   "cell_type": "markdown",
   "metadata": {
    "slideshow": {
     "slide_type": "subslide"
    }
   },
   "source": [
    "### DataFrames\n",
    "\n",
    "A good way to think of a DataFrame is: it's like a `dict` where the keys are strings (column headers) and the values are Series with a common index."
   ]
  },
  {
   "cell_type": "code",
   "execution_count": 7,
   "metadata": {
    "slideshow": {
     "slide_type": "fragment"
    }
   },
   "outputs": [
    {
     "data": {
      "text/html": [
       "<div>\n",
       "<style scoped>\n",
       "    .dataframe tbody tr th:only-of-type {\n",
       "        vertical-align: middle;\n",
       "    }\n",
       "\n",
       "    .dataframe tbody tr th {\n",
       "        vertical-align: top;\n",
       "    }\n",
       "\n",
       "    .dataframe thead th {\n",
       "        text-align: right;\n",
       "    }\n",
       "</style>\n",
       "<table border=\"1\" class=\"dataframe\">\n",
       "  <thead>\n",
       "    <tr style=\"text-align: right;\">\n",
       "      <th></th>\n",
       "      <th>a</th>\n",
       "      <th>b</th>\n",
       "    </tr>\n",
       "  </thead>\n",
       "  <tbody>\n",
       "    <tr>\n",
       "      <th>10</th>\n",
       "      <td>4</td>\n",
       "      <td>0.4</td>\n",
       "    </tr>\n",
       "    <tr>\n",
       "      <th>11</th>\n",
       "      <td>5</td>\n",
       "      <td>0.5</td>\n",
       "    </tr>\n",
       "    <tr>\n",
       "      <th>12</th>\n",
       "      <td>6</td>\n",
       "      <td>0.6</td>\n",
       "    </tr>\n",
       "    <tr>\n",
       "      <th>13</th>\n",
       "      <td>7</td>\n",
       "      <td>0.7</td>\n",
       "    </tr>\n",
       "  </tbody>\n",
       "</table>\n",
       "</div>"
      ],
      "text/plain": [
       "    a    b\n",
       "10  4  0.4\n",
       "11  5  0.5\n",
       "12  6  0.6\n",
       "13  7  0.7"
      ]
     },
     "execution_count": 7,
     "metadata": {},
     "output_type": "execute_result"
    }
   ],
   "source": [
    "df = pd.DataFrame({\"a\": [4, 5, 6, 7], \n",
    "                   \"b\": [0.4, 0.5, 0.6, 0.7]}, \n",
    "                  index=[10, 11, 12, 13])\n",
    "df"
   ]
  },
  {
   "cell_type": "code",
   "execution_count": 8,
   "metadata": {
    "slideshow": {
     "slide_type": "subslide"
    }
   },
   "outputs": [
    {
     "data": {
      "text/plain": [
       "pandas.core.series.Series"
      ]
     },
     "execution_count": 8,
     "metadata": {},
     "output_type": "execute_result"
    }
   ],
   "source": [
    "type(df[\"a\"])"
   ]
  },
  {
   "cell_type": "code",
   "execution_count": 9,
   "metadata": {
    "slideshow": {
     "slide_type": "fragment"
    }
   },
   "outputs": [
    {
     "data": {
      "text/plain": [
       "Int64Index([10, 11, 12, 13], dtype='int64')"
      ]
     },
     "execution_count": 9,
     "metadata": {},
     "output_type": "execute_result"
    }
   ],
   "source": [
    "df[\"a\"].index"
   ]
  },
  {
   "cell_type": "markdown",
   "metadata": {
    "slideshow": {
     "slide_type": "subslide"
    }
   },
   "source": [
    "The `id()` function gets the location of an object in memory. So this proves that the entire DataFrame shares a single `index`:"
   ]
  },
  {
   "cell_type": "code",
   "execution_count": 10,
   "metadata": {
    "slideshow": {
     "slide_type": "-"
    }
   },
   "outputs": [
    {
     "data": {
      "text/plain": [
       "True"
      ]
     },
     "execution_count": 10,
     "metadata": {},
     "output_type": "execute_result"
    }
   ],
   "source": [
    "id(df[\"a\"].index) == id(df[\"b\"].index)"
   ]
  },
  {
   "cell_type": "markdown",
   "metadata": {
    "slideshow": {
     "slide_type": "notes"
    }
   },
   "source": [
    "\"NumPy arrays have one dtype for the entire array, while pandas DataFrames have one dtype per column\" (from https://pandas.pydata.org/pandas-docs/stable/getting_started/10min.html). So, DataFrames are suitable for \"rectangular\", spreadsheet-like data with potentially a different data type in each column. So, we'll now see how to create a DataFrame by reading a file in a spreadsheet-like format."
   ]
  },
  {
   "cell_type": "markdown",
   "metadata": {
    "slideshow": {
     "slide_type": "slide"
    }
   },
   "source": [
    "### Reading data with Pandas\n"
   ]
  },
  {
   "cell_type": "markdown",
   "metadata": {
    "slideshow": {
     "slide_type": "notes"
    }
   },
   "source": [
    "The file we're going to use as an example is `data/irish_cities.txt`, available in Blackboard. The columns are separated by tab characters. Also, the file has a *header* which is not part of the data proper. "
   ]
  },
  {
   "cell_type": "code",
   "execution_count": 11,
   "metadata": {
    "slideshow": {
     "slide_type": "subslide"
    }
   },
   "outputs": [
    {
     "name": "stdout",
     "output_type": "stream",
     "text": [
      "# Copied from http://www.tageo.com/index-e-ei-cities-IE.htm -- James McDermott\r\n",
      "#Rank\tCity\tPopulation (2000)\tLatitude (DD)\tLongitude (DD)\r\n",
      "1\tDublin\t1027900\t53.330\t-6.250\r\n",
      "2\tCork\t195400\t51.900\t-8.470\r\n",
      "3\tLimerick\t85700\t52.670\t-8.630\r\n",
      "4\tGalway\t68600\t53.280\t-9.060\r\n",
      "5\tWaterford\t48300\t52.260\t-7.130\r\n",
      "6\tDundalk\t34400\t54.020\t-6.420\r\n",
      "7\tBray\t32300\t53.210\t-6.110\r\n",
      "8\tDrogheda\t28800\t53.720\t-6.360\r\n"
     ]
    }
   ],
   "source": [
    "# ! introduces a shell command\n",
    "!head data/irish_cities.txt "
   ]
  },
  {
   "cell_type": "markdown",
   "metadata": {
    "slideshow": {
     "slide_type": "notes"
    }
   },
   "source": [
    "Pandas `read_csv` makes it easy to deal with all this. We use `sep=\"\\t\"` to say the file is *tab*-separated. And we tell it to skip the first row, which is just a comment. It then correctly uses the second row to guess the names for the columns."
   ]
  },
  {
   "cell_type": "code",
   "execution_count": 12,
   "metadata": {
    "slideshow": {
     "slide_type": "subslide"
    }
   },
   "outputs": [],
   "source": [
    "# \"\\t\" -> tab-separated\n",
    "df = pd.read_csv(\"data/irish_cities.txt\", \n",
    "                 sep=\"\\t\", \n",
    "                 skiprows=1) "
   ]
  },
  {
   "cell_type": "code",
   "execution_count": 13,
   "metadata": {
    "slideshow": {
     "slide_type": "slide"
    }
   },
   "outputs": [
    {
     "data": {
      "text/html": [
       "<div>\n",
       "<style scoped>\n",
       "    .dataframe tbody tr th:only-of-type {\n",
       "        vertical-align: middle;\n",
       "    }\n",
       "\n",
       "    .dataframe tbody tr th {\n",
       "        vertical-align: top;\n",
       "    }\n",
       "\n",
       "    .dataframe thead th {\n",
       "        text-align: right;\n",
       "    }\n",
       "</style>\n",
       "<table border=\"1\" class=\"dataframe\">\n",
       "  <thead>\n",
       "    <tr style=\"text-align: right;\">\n",
       "      <th></th>\n",
       "      <th>#Rank</th>\n",
       "      <th>City</th>\n",
       "      <th>Population (2000)</th>\n",
       "      <th>Latitude (DD)</th>\n",
       "      <th>Longitude (DD)</th>\n",
       "    </tr>\n",
       "  </thead>\n",
       "  <tbody>\n",
       "    <tr>\n",
       "      <th>0</th>\n",
       "      <td>1</td>\n",
       "      <td>Dublin</td>\n",
       "      <td>1027900</td>\n",
       "      <td>53.33</td>\n",
       "      <td>-6.25</td>\n",
       "    </tr>\n",
       "    <tr>\n",
       "      <th>1</th>\n",
       "      <td>2</td>\n",
       "      <td>Cork</td>\n",
       "      <td>195400</td>\n",
       "      <td>51.90</td>\n",
       "      <td>-8.47</td>\n",
       "    </tr>\n",
       "    <tr>\n",
       "      <th>2</th>\n",
       "      <td>3</td>\n",
       "      <td>Limerick</td>\n",
       "      <td>85700</td>\n",
       "      <td>52.67</td>\n",
       "      <td>-8.63</td>\n",
       "    </tr>\n",
       "    <tr>\n",
       "      <th>3</th>\n",
       "      <td>4</td>\n",
       "      <td>Galway</td>\n",
       "      <td>68600</td>\n",
       "      <td>53.28</td>\n",
       "      <td>-9.06</td>\n",
       "    </tr>\n",
       "    <tr>\n",
       "      <th>4</th>\n",
       "      <td>5</td>\n",
       "      <td>Waterford</td>\n",
       "      <td>48300</td>\n",
       "      <td>52.26</td>\n",
       "      <td>-7.13</td>\n",
       "    </tr>\n",
       "  </tbody>\n",
       "</table>\n",
       "</div>"
      ],
      "text/plain": [
       "   #Rank       City  Population (2000)  Latitude (DD)  Longitude (DD)\n",
       "0      1     Dublin            1027900          53.33           -6.25\n",
       "1      2       Cork             195400          51.90           -8.47\n",
       "2      3   Limerick              85700          52.67           -8.63\n",
       "3      4     Galway              68600          53.28           -9.06\n",
       "4      5  Waterford              48300          52.26           -7.13"
      ]
     },
     "execution_count": 13,
     "metadata": {},
     "output_type": "execute_result"
    }
   ],
   "source": [
    "df.head() # handy for a quick look, nice formatting in Notebook"
   ]
  },
  {
   "cell_type": "markdown",
   "metadata": {
    "slideshow": {
     "slide_type": "slide"
    }
   },
   "source": [
    "Useful arguments for `read_csv`:\n",
    "\n",
    "* The filename can be a file on disk or a URL.\n",
    "* `sep=\"\\t\"`, `sep=\" \"`, and `sep=\",\"` tell Pandas what character is used to separate the columns.\n",
    "* `skiprows=3` means to ignore the first rows entirely.\n",
    "* `names=[\"a\", \"b\", \"c\"]` tells Pandas the names of the columns.\n",
    "* But if the names of the columns are written at the top of the file, Pandas can figure them out."
   ]
  },
  {
   "cell_type": "markdown",
   "metadata": {
    "slideshow": {
     "slide_type": "slide"
    }
   },
   "source": [
    "Recall that a DataFrame is a bit like a dictionary mapping column headers to columns. We can *alter* the values in the way that you might expect, for example if we want our data to be in millions:"
   ]
  },
  {
   "cell_type": "code",
   "execution_count": 14,
   "metadata": {},
   "outputs": [],
   "source": [
    "df[\"Population (2000)\"] /= 1000000.0"
   ]
  },
  {
   "cell_type": "markdown",
   "metadata": {
    "slideshow": {
     "slide_type": "notes"
    }
   },
   "source": [
    "Then we should rename the column to reflect that change, and while we're at it we'll rename a few others."
   ]
  },
  {
   "cell_type": "code",
   "execution_count": 15,
   "metadata": {
    "slideshow": {
     "slide_type": "subslide"
    }
   },
   "outputs": [
    {
     "data": {
      "text/html": [
       "<div>\n",
       "<style scoped>\n",
       "    .dataframe tbody tr th:only-of-type {\n",
       "        vertical-align: middle;\n",
       "    }\n",
       "\n",
       "    .dataframe tbody tr th {\n",
       "        vertical-align: top;\n",
       "    }\n",
       "\n",
       "    .dataframe thead th {\n",
       "        text-align: right;\n",
       "    }\n",
       "</style>\n",
       "<table border=\"1\" class=\"dataframe\">\n",
       "  <thead>\n",
       "    <tr style=\"text-align: right;\">\n",
       "      <th></th>\n",
       "      <th>Rank</th>\n",
       "      <th>City</th>\n",
       "      <th>Population (M)</th>\n",
       "      <th>Latitude</th>\n",
       "      <th>Longitude</th>\n",
       "    </tr>\n",
       "  </thead>\n",
       "  <tbody>\n",
       "    <tr>\n",
       "      <th>0</th>\n",
       "      <td>1</td>\n",
       "      <td>Dublin</td>\n",
       "      <td>1.0279</td>\n",
       "      <td>53.33</td>\n",
       "      <td>-6.25</td>\n",
       "    </tr>\n",
       "    <tr>\n",
       "      <th>1</th>\n",
       "      <td>2</td>\n",
       "      <td>Cork</td>\n",
       "      <td>0.1954</td>\n",
       "      <td>51.90</td>\n",
       "      <td>-8.47</td>\n",
       "    </tr>\n",
       "    <tr>\n",
       "      <th>2</th>\n",
       "      <td>3</td>\n",
       "      <td>Limerick</td>\n",
       "      <td>0.0857</td>\n",
       "      <td>52.67</td>\n",
       "      <td>-8.63</td>\n",
       "    </tr>\n",
       "    <tr>\n",
       "      <th>3</th>\n",
       "      <td>4</td>\n",
       "      <td>Galway</td>\n",
       "      <td>0.0686</td>\n",
       "      <td>53.28</td>\n",
       "      <td>-9.06</td>\n",
       "    </tr>\n",
       "    <tr>\n",
       "      <th>4</th>\n",
       "      <td>5</td>\n",
       "      <td>Waterford</td>\n",
       "      <td>0.0483</td>\n",
       "      <td>52.26</td>\n",
       "      <td>-7.13</td>\n",
       "    </tr>\n",
       "  </tbody>\n",
       "</table>\n",
       "</div>"
      ],
      "text/plain": [
       "   Rank       City  Population (M)  Latitude  Longitude\n",
       "0     1     Dublin          1.0279     53.33      -6.25\n",
       "1     2       Cork          0.1954     51.90      -8.47\n",
       "2     3   Limerick          0.0857     52.67      -8.63\n",
       "3     4     Galway          0.0686     53.28      -9.06\n",
       "4     5  Waterford          0.0483     52.26      -7.13"
      ]
     },
     "execution_count": 15,
     "metadata": {},
     "output_type": "execute_result"
    }
   ],
   "source": [
    "df = df.rename(columns={\"#Rank\": \"Rank\", \n",
    "                        \"Population (2000)\": \"Population (M)\", \n",
    "                        \"Latitude (DD)\": \"Latitude\", \n",
    "                        \"Longitude (DD)\": \"Longitude\"})\n",
    "df.head()"
   ]
  },
  {
   "cell_type": "markdown",
   "metadata": {
    "slideshow": {
     "slide_type": "notes"
    }
   },
   "source": [
    "Now, we can access the columns and treat them like Numpy arrays."
   ]
  },
  {
   "cell_type": "code",
   "execution_count": 16,
   "metadata": {
    "slideshow": {
     "slide_type": "subslide"
    }
   },
   "outputs": [
    {
     "data": {
      "text/plain": [
       "2.0366000000000004"
      ]
     },
     "execution_count": 16,
     "metadata": {},
     "output_type": "execute_result"
    }
   ],
   "source": [
    "df[\"Population (M)\"].sum()"
   ]
  },
  {
   "cell_type": "markdown",
   "metadata": {
    "slideshow": {
     "slide_type": "subslide"
    }
   },
   "source": [
    "Aggregation functions like `mean()` on the whole DataFrame work across all numerical arguments -- which might not be meaningful, for all data:"
   ]
  },
  {
   "cell_type": "code",
   "execution_count": 17,
   "metadata": {
    "slideshow": {
     "slide_type": "fragment"
    }
   },
   "outputs": [
    {
     "data": {
      "text/plain": [
       "Rank              25.000000\n",
       "Population (M)     0.041563\n",
       "Latitude          53.042449\n",
       "Longitude         -7.391224\n",
       "dtype: float64"
      ]
     },
     "execution_count": 17,
     "metadata": {},
     "output_type": "execute_result"
    }
   ],
   "source": [
    "df.mean()"
   ]
  },
  {
   "cell_type": "code",
   "execution_count": 18,
   "metadata": {
    "slideshow": {
     "slide_type": "subslide"
    }
   },
   "outputs": [
    {
     "data": {
      "text/html": [
       "<div>\n",
       "<style scoped>\n",
       "    .dataframe tbody tr th:only-of-type {\n",
       "        vertical-align: middle;\n",
       "    }\n",
       "\n",
       "    .dataframe tbody tr th {\n",
       "        vertical-align: top;\n",
       "    }\n",
       "\n",
       "    .dataframe thead th {\n",
       "        text-align: right;\n",
       "    }\n",
       "</style>\n",
       "<table border=\"1\" class=\"dataframe\">\n",
       "  <thead>\n",
       "    <tr style=\"text-align: right;\">\n",
       "      <th></th>\n",
       "      <th>Rank</th>\n",
       "      <th>Population (M)</th>\n",
       "      <th>Latitude</th>\n",
       "      <th>Longitude</th>\n",
       "    </tr>\n",
       "  </thead>\n",
       "  <tbody>\n",
       "    <tr>\n",
       "      <th>count</th>\n",
       "      <td>49.00000</td>\n",
       "      <td>49.000000</td>\n",
       "      <td>49.000000</td>\n",
       "      <td>49.000000</td>\n",
       "    </tr>\n",
       "    <tr>\n",
       "      <th>mean</th>\n",
       "      <td>25.00000</td>\n",
       "      <td>0.041563</td>\n",
       "      <td>53.042449</td>\n",
       "      <td>-7.391224</td>\n",
       "    </tr>\n",
       "    <tr>\n",
       "      <th>std</th>\n",
       "      <td>14.28869</td>\n",
       "      <td>0.146841</td>\n",
       "      <td>0.692864</td>\n",
       "      <td>1.083562</td>\n",
       "    </tr>\n",
       "    <tr>\n",
       "      <th>min</th>\n",
       "      <td>1.00000</td>\n",
       "      <td>0.006700</td>\n",
       "      <td>51.810000</td>\n",
       "      <td>-9.720000</td>\n",
       "    </tr>\n",
       "    <tr>\n",
       "      <th>25%</th>\n",
       "      <td>13.00000</td>\n",
       "      <td>0.008800</td>\n",
       "      <td>52.500000</td>\n",
       "      <td>-8.300000</td>\n",
       "    </tr>\n",
       "    <tr>\n",
       "      <th>50%</th>\n",
       "      <td>25.00000</td>\n",
       "      <td>0.013100</td>\n",
       "      <td>53.140000</td>\n",
       "      <td>-7.160000</td>\n",
       "    </tr>\n",
       "    <tr>\n",
       "      <th>75%</th>\n",
       "      <td>37.00000</td>\n",
       "      <td>0.019500</td>\n",
       "      <td>53.450000</td>\n",
       "      <td>-6.480000</td>\n",
       "    </tr>\n",
       "    <tr>\n",
       "      <th>max</th>\n",
       "      <td>49.00000</td>\n",
       "      <td>1.027900</td>\n",
       "      <td>54.940000</td>\n",
       "      <td>-6.050000</td>\n",
       "    </tr>\n",
       "  </tbody>\n",
       "</table>\n",
       "</div>"
      ],
      "text/plain": [
       "           Rank  Population (M)   Latitude  Longitude\n",
       "count  49.00000       49.000000  49.000000  49.000000\n",
       "mean   25.00000        0.041563  53.042449  -7.391224\n",
       "std    14.28869        0.146841   0.692864   1.083562\n",
       "min     1.00000        0.006700  51.810000  -9.720000\n",
       "25%    13.00000        0.008800  52.500000  -8.300000\n",
       "50%    25.00000        0.013100  53.140000  -7.160000\n",
       "75%    37.00000        0.019500  53.450000  -6.480000\n",
       "max    49.00000        1.027900  54.940000  -6.050000"
      ]
     },
     "execution_count": 18,
     "metadata": {},
     "output_type": "execute_result"
    }
   ],
   "source": [
    "df.describe() # handy, general description"
   ]
  },
  {
   "cell_type": "markdown",
   "metadata": {
    "slideshow": {
     "slide_type": "subslide"
    }
   },
   "source": [
    "We can take subsets of the data, e.g.:"
   ]
  },
  {
   "cell_type": "code",
   "execution_count": 19,
   "metadata": {},
   "outputs": [
    {
     "data": {
      "text/html": [
       "<div>\n",
       "<style scoped>\n",
       "    .dataframe tbody tr th:only-of-type {\n",
       "        vertical-align: middle;\n",
       "    }\n",
       "\n",
       "    .dataframe tbody tr th {\n",
       "        vertical-align: top;\n",
       "    }\n",
       "\n",
       "    .dataframe thead th {\n",
       "        text-align: right;\n",
       "    }\n",
       "</style>\n",
       "<table border=\"1\" class=\"dataframe\">\n",
       "  <thead>\n",
       "    <tr style=\"text-align: right;\">\n",
       "      <th></th>\n",
       "      <th>Rank</th>\n",
       "      <th>City</th>\n",
       "      <th>Population (M)</th>\n",
       "      <th>Latitude</th>\n",
       "      <th>Longitude</th>\n",
       "    </tr>\n",
       "  </thead>\n",
       "  <tbody>\n",
       "    <tr>\n",
       "      <th>0</th>\n",
       "      <td>1</td>\n",
       "      <td>Dublin</td>\n",
       "      <td>1.0279</td>\n",
       "      <td>53.33</td>\n",
       "      <td>-6.25</td>\n",
       "    </tr>\n",
       "    <tr>\n",
       "      <th>1</th>\n",
       "      <td>2</td>\n",
       "      <td>Cork</td>\n",
       "      <td>0.1954</td>\n",
       "      <td>51.90</td>\n",
       "      <td>-8.47</td>\n",
       "    </tr>\n",
       "    <tr>\n",
       "      <th>2</th>\n",
       "      <td>3</td>\n",
       "      <td>Limerick</td>\n",
       "      <td>0.0857</td>\n",
       "      <td>52.67</td>\n",
       "      <td>-8.63</td>\n",
       "    </tr>\n",
       "    <tr>\n",
       "      <th>3</th>\n",
       "      <td>4</td>\n",
       "      <td>Galway</td>\n",
       "      <td>0.0686</td>\n",
       "      <td>53.28</td>\n",
       "      <td>-9.06</td>\n",
       "    </tr>\n",
       "  </tbody>\n",
       "</table>\n",
       "</div>"
      ],
      "text/plain": [
       "   Rank      City  Population (M)  Latitude  Longitude\n",
       "0     1    Dublin          1.0279     53.33      -6.25\n",
       "1     2      Cork          0.1954     51.90      -8.47\n",
       "2     3  Limerick          0.0857     52.67      -8.63\n",
       "3     4    Galway          0.0686     53.28      -9.06"
      ]
     },
     "execution_count": 19,
     "metadata": {},
     "output_type": "execute_result"
    }
   ],
   "source": [
    "df[df[\"Population (M)\"] > 0.05]"
   ]
  },
  {
   "cell_type": "markdown",
   "metadata": {
    "slideshow": {
     "slide_type": "notes"
    }
   },
   "source": [
    "This works because `df[\"Population (M)\"]` returns a Boolean array, which is then used to select a subset of `df`."
   ]
  },
  {
   "cell_type": "markdown",
   "metadata": {
    "slideshow": {
     "slide_type": "subslide"
    }
   },
   "source": [
    "We can use Boolean operations for more powerful subsetting. Notice that we use a *single* `&` symbol here for `and`, and the round brackets are needed."
   ]
  },
  {
   "cell_type": "code",
   "execution_count": 20,
   "metadata": {
    "slideshow": {
     "slide_type": "-"
    }
   },
   "outputs": [
    {
     "data": {
      "text/html": [
       "<div>\n",
       "<style scoped>\n",
       "    .dataframe tbody tr th:only-of-type {\n",
       "        vertical-align: middle;\n",
       "    }\n",
       "\n",
       "    .dataframe tbody tr th {\n",
       "        vertical-align: top;\n",
       "    }\n",
       "\n",
       "    .dataframe thead th {\n",
       "        text-align: right;\n",
       "    }\n",
       "</style>\n",
       "<table border=\"1\" class=\"dataframe\">\n",
       "  <thead>\n",
       "    <tr style=\"text-align: right;\">\n",
       "      <th></th>\n",
       "      <th>Rank</th>\n",
       "      <th>City</th>\n",
       "      <th>Population (M)</th>\n",
       "      <th>Latitude</th>\n",
       "      <th>Longitude</th>\n",
       "    </tr>\n",
       "  </thead>\n",
       "  <tbody>\n",
       "    <tr>\n",
       "      <th>1</th>\n",
       "      <td>2</td>\n",
       "      <td>Cork</td>\n",
       "      <td>0.1954</td>\n",
       "      <td>51.90</td>\n",
       "      <td>-8.47</td>\n",
       "    </tr>\n",
       "    <tr>\n",
       "      <th>2</th>\n",
       "      <td>3</td>\n",
       "      <td>Limerick</td>\n",
       "      <td>0.0857</td>\n",
       "      <td>52.67</td>\n",
       "      <td>-8.63</td>\n",
       "    </tr>\n",
       "    <tr>\n",
       "      <th>3</th>\n",
       "      <td>4</td>\n",
       "      <td>Galway</td>\n",
       "      <td>0.0686</td>\n",
       "      <td>53.28</td>\n",
       "      <td>-9.06</td>\n",
       "    </tr>\n",
       "  </tbody>\n",
       "</table>\n",
       "</div>"
      ],
      "text/plain": [
       "   Rank      City  Population (M)  Latitude  Longitude\n",
       "1     2      Cork          0.1954     51.90      -8.47\n",
       "2     3  Limerick          0.0857     52.67      -8.63\n",
       "3     4    Galway          0.0686     53.28      -9.06"
      ]
     },
     "execution_count": 20,
     "metadata": {},
     "output_type": "execute_result"
    }
   ],
   "source": [
    "df[(df[\"Population (M)\"] > 0.05) & \n",
    "   (df[\"Longitude\"] < -8)]"
   ]
  },
  {
   "cell_type": "markdown",
   "metadata": {
    "slideshow": {
     "slide_type": "subslide"
    }
   },
   "source": [
    "### Creating a DataFrame from scratch\n",
    "\n",
    "If we are generating data somehow, we can build up the DataFrame from scratch. For example, we might want to test how fast a `sort()` function is for different input sizes, and store the results in a DataFrame."
   ]
  },
  {
   "cell_type": "code",
   "execution_count": 22,
   "metadata": {
    "slideshow": {
     "slide_type": "subslide"
    }
   },
   "outputs": [],
   "source": [
    "import numpy as np\n",
    "import time"
   ]
  },
  {
   "cell_type": "code",
   "execution_count": 35,
   "metadata": {
    "slideshow": {
     "slide_type": "subslide"
    }
   },
   "outputs": [],
   "source": [
    "ns = [i * 10**6 for i in range(1, 11)] # sizes\n",
    "reps = 5 # how many repetitions\n",
    "cols = {\"n\": ns} # dict {name: column}\n",
    "for rep in range(reps):\n",
    "    col = []\n",
    "    for n in ns:\n",
    "        L = np.random.random(n) # create a list\n",
    "        # start time after generating the list...\n",
    "        start = time.time() \n",
    "        L.sort() # ... this is the workload\n",
    "        end = time.time()\n",
    "        elapsed = end - start\n",
    "        col.append(elapsed)\n",
    "    cols[\"run%d\" % rep] = col # new name: column"
   ]
  },
  {
   "cell_type": "code",
   "execution_count": 36,
   "metadata": {
    "slideshow": {
     "slide_type": "subslide"
    }
   },
   "outputs": [
    {
     "data": {
      "text/plain": [
       "dict_keys(['n', 'run0', 'run1', 'run2', 'run3', 'run4'])"
      ]
     },
     "execution_count": 36,
     "metadata": {},
     "output_type": "execute_result"
    }
   ],
   "source": [
    "cols.keys()"
   ]
  },
  {
   "cell_type": "code",
   "execution_count": 37,
   "metadata": {
    "slideshow": {
     "slide_type": "fragment"
    }
   },
   "outputs": [
    {
     "data": {
      "text/plain": [
       "[1000000,\n",
       " 2000000,\n",
       " 3000000,\n",
       " 4000000,\n",
       " 5000000,\n",
       " 6000000,\n",
       " 7000000,\n",
       " 8000000,\n",
       " 9000000,\n",
       " 10000000]"
      ]
     },
     "execution_count": 37,
     "metadata": {},
     "output_type": "execute_result"
    }
   ],
   "source": [
    "cols[\"n\"]"
   ]
  },
  {
   "cell_type": "code",
   "execution_count": 38,
   "metadata": {
    "slideshow": {
     "slide_type": "subslide"
    }
   },
   "outputs": [
    {
     "data": {
      "text/plain": [
       "[0.09924602508544922,\n",
       " 0.197066068649292,\n",
       " 0.30280303955078125,\n",
       " 0.44548678398132324,\n",
       " 0.5835180282592773,\n",
       " 0.7712948322296143,\n",
       " 1.5356290340423584,\n",
       " 0.981870174407959,\n",
       " 1.2411689758300781,\n",
       " 1.3824279308319092]"
      ]
     },
     "execution_count": 38,
     "metadata": {},
     "output_type": "execute_result"
    }
   ],
   "source": [
    "cols[\"run0\"]"
   ]
  },
  {
   "cell_type": "code",
   "execution_count": 39,
   "metadata": {
    "slideshow": {
     "slide_type": "subslide"
    }
   },
   "outputs": [
    {
     "data": {
      "text/html": [
       "<div>\n",
       "<style scoped>\n",
       "    .dataframe tbody tr th:only-of-type {\n",
       "        vertical-align: middle;\n",
       "    }\n",
       "\n",
       "    .dataframe tbody tr th {\n",
       "        vertical-align: top;\n",
       "    }\n",
       "\n",
       "    .dataframe thead th {\n",
       "        text-align: right;\n",
       "    }\n",
       "</style>\n",
       "<table border=\"1\" class=\"dataframe\">\n",
       "  <thead>\n",
       "    <tr style=\"text-align: right;\">\n",
       "      <th></th>\n",
       "      <th>n</th>\n",
       "      <th>run0</th>\n",
       "      <th>run1</th>\n",
       "      <th>run2</th>\n",
       "      <th>run3</th>\n",
       "      <th>run4</th>\n",
       "    </tr>\n",
       "  </thead>\n",
       "  <tbody>\n",
       "    <tr>\n",
       "      <th>0</th>\n",
       "      <td>1000000</td>\n",
       "      <td>0.099246</td>\n",
       "      <td>0.109996</td>\n",
       "      <td>0.101855</td>\n",
       "      <td>0.100453</td>\n",
       "      <td>0.114092</td>\n",
       "    </tr>\n",
       "    <tr>\n",
       "      <th>1</th>\n",
       "      <td>2000000</td>\n",
       "      <td>0.197066</td>\n",
       "      <td>0.194505</td>\n",
       "      <td>0.203326</td>\n",
       "      <td>0.193344</td>\n",
       "      <td>0.256533</td>\n",
       "    </tr>\n",
       "    <tr>\n",
       "      <th>2</th>\n",
       "      <td>3000000</td>\n",
       "      <td>0.302803</td>\n",
       "      <td>0.300889</td>\n",
       "      <td>0.316597</td>\n",
       "      <td>0.365341</td>\n",
       "      <td>0.385361</td>\n",
       "    </tr>\n",
       "    <tr>\n",
       "      <th>3</th>\n",
       "      <td>4000000</td>\n",
       "      <td>0.445487</td>\n",
       "      <td>0.531404</td>\n",
       "      <td>0.416161</td>\n",
       "      <td>0.488978</td>\n",
       "      <td>0.485014</td>\n",
       "    </tr>\n",
       "    <tr>\n",
       "      <th>4</th>\n",
       "      <td>5000000</td>\n",
       "      <td>0.583518</td>\n",
       "      <td>0.580889</td>\n",
       "      <td>0.531411</td>\n",
       "      <td>0.632583</td>\n",
       "      <td>0.543272</td>\n",
       "    </tr>\n",
       "    <tr>\n",
       "      <th>5</th>\n",
       "      <td>6000000</td>\n",
       "      <td>0.771295</td>\n",
       "      <td>0.738762</td>\n",
       "      <td>0.645505</td>\n",
       "      <td>0.745687</td>\n",
       "      <td>0.652128</td>\n",
       "    </tr>\n",
       "    <tr>\n",
       "      <th>6</th>\n",
       "      <td>7000000</td>\n",
       "      <td>1.535629</td>\n",
       "      <td>0.771055</td>\n",
       "      <td>0.766083</td>\n",
       "      <td>0.792273</td>\n",
       "      <td>0.745622</td>\n",
       "    </tr>\n",
       "    <tr>\n",
       "      <th>7</th>\n",
       "      <td>8000000</td>\n",
       "      <td>0.981870</td>\n",
       "      <td>0.942297</td>\n",
       "      <td>0.883724</td>\n",
       "      <td>0.865534</td>\n",
       "      <td>0.942807</td>\n",
       "    </tr>\n",
       "    <tr>\n",
       "      <th>8</th>\n",
       "      <td>9000000</td>\n",
       "      <td>1.241169</td>\n",
       "      <td>1.078446</td>\n",
       "      <td>1.010357</td>\n",
       "      <td>0.999629</td>\n",
       "      <td>1.302248</td>\n",
       "    </tr>\n",
       "    <tr>\n",
       "      <th>9</th>\n",
       "      <td>10000000</td>\n",
       "      <td>1.382428</td>\n",
       "      <td>1.189598</td>\n",
       "      <td>1.164332</td>\n",
       "      <td>1.292596</td>\n",
       "      <td>1.355849</td>\n",
       "    </tr>\n",
       "  </tbody>\n",
       "</table>\n",
       "</div>"
      ],
      "text/plain": [
       "          n      run0      run1      run2      run3      run4\n",
       "0   1000000  0.099246  0.109996  0.101855  0.100453  0.114092\n",
       "1   2000000  0.197066  0.194505  0.203326  0.193344  0.256533\n",
       "2   3000000  0.302803  0.300889  0.316597  0.365341  0.385361\n",
       "3   4000000  0.445487  0.531404  0.416161  0.488978  0.485014\n",
       "4   5000000  0.583518  0.580889  0.531411  0.632583  0.543272\n",
       "5   6000000  0.771295  0.738762  0.645505  0.745687  0.652128\n",
       "6   7000000  1.535629  0.771055  0.766083  0.792273  0.745622\n",
       "7   8000000  0.981870  0.942297  0.883724  0.865534  0.942807\n",
       "8   9000000  1.241169  1.078446  1.010357  0.999629  1.302248\n",
       "9  10000000  1.382428  1.189598  1.164332  1.292596  1.355849"
      ]
     },
     "execution_count": 39,
     "metadata": {},
     "output_type": "execute_result"
    }
   ],
   "source": [
    "df = pd.DataFrame(cols)\n",
    "df.head(n=10)"
   ]
  },
  {
   "cell_type": "markdown",
   "metadata": {
    "slideshow": {
     "slide_type": "subslide"
    }
   },
   "source": [
    "Suppose we want to take the mean and standard deviation across runs, and add them as new columns. \n",
    "\n",
    "* Create a new column in `df` using `df.mean`\n",
    "* Create a new column in `df` using `df.std`"
   ]
  },
  {
   "cell_type": "code",
   "execution_count": 40,
   "metadata": {
    "slideshow": {
     "slide_type": "subslide"
    }
   },
   "outputs": [],
   "source": [
    "# add columns to df\n",
    "# .mean(axis=1) means take the average across columns \n",
    "# (axis=0 would mean across rows)\n",
    "# but df[[\"run0\", \"run1\", etc]] gives a DataFrame \n",
    "# with a subset of columns\n",
    "df[\"mean\"] = df[[\"run0\", \"run1\", \"run2\", \n",
    "                 \"run3\", \"run4\"]].mean(axis=1)\n",
    "df[\"sd\"] = df[[\"run0\", \"run1\", \"run2\", \n",
    "               \"run3\", \"run4\"]].std(axis=1)"
   ]
  },
  {
   "cell_type": "code",
   "execution_count": 42,
   "metadata": {
    "slideshow": {
     "slide_type": "subslide"
    }
   },
   "outputs": [
    {
     "data": {
      "text/html": [
       "<div>\n",
       "<style scoped>\n",
       "    .dataframe tbody tr th:only-of-type {\n",
       "        vertical-align: middle;\n",
       "    }\n",
       "\n",
       "    .dataframe tbody tr th {\n",
       "        vertical-align: top;\n",
       "    }\n",
       "\n",
       "    .dataframe thead th {\n",
       "        text-align: right;\n",
       "    }\n",
       "</style>\n",
       "<table border=\"1\" class=\"dataframe\">\n",
       "  <thead>\n",
       "    <tr style=\"text-align: right;\">\n",
       "      <th></th>\n",
       "      <th>n</th>\n",
       "      <th>run0</th>\n",
       "      <th>run1</th>\n",
       "      <th>run2</th>\n",
       "      <th>run3</th>\n",
       "      <th>run4</th>\n",
       "      <th>mean</th>\n",
       "      <th>sd</th>\n",
       "    </tr>\n",
       "  </thead>\n",
       "  <tbody>\n",
       "    <tr>\n",
       "      <th>0</th>\n",
       "      <td>1000000</td>\n",
       "      <td>0.099246</td>\n",
       "      <td>0.109996</td>\n",
       "      <td>0.101855</td>\n",
       "      <td>0.100453</td>\n",
       "      <td>0.114092</td>\n",
       "      <td>0.105128</td>\n",
       "      <td>0.006543</td>\n",
       "    </tr>\n",
       "    <tr>\n",
       "      <th>1</th>\n",
       "      <td>2000000</td>\n",
       "      <td>0.197066</td>\n",
       "      <td>0.194505</td>\n",
       "      <td>0.203326</td>\n",
       "      <td>0.193344</td>\n",
       "      <td>0.256533</td>\n",
       "      <td>0.208955</td>\n",
       "      <td>0.026876</td>\n",
       "    </tr>\n",
       "    <tr>\n",
       "      <th>2</th>\n",
       "      <td>3000000</td>\n",
       "      <td>0.302803</td>\n",
       "      <td>0.300889</td>\n",
       "      <td>0.316597</td>\n",
       "      <td>0.365341</td>\n",
       "      <td>0.385361</td>\n",
       "      <td>0.334198</td>\n",
       "      <td>0.038706</td>\n",
       "    </tr>\n",
       "    <tr>\n",
       "      <th>3</th>\n",
       "      <td>4000000</td>\n",
       "      <td>0.445487</td>\n",
       "      <td>0.531404</td>\n",
       "      <td>0.416161</td>\n",
       "      <td>0.488978</td>\n",
       "      <td>0.485014</td>\n",
       "      <td>0.473409</td>\n",
       "      <td>0.044152</td>\n",
       "    </tr>\n",
       "    <tr>\n",
       "      <th>4</th>\n",
       "      <td>5000000</td>\n",
       "      <td>0.583518</td>\n",
       "      <td>0.580889</td>\n",
       "      <td>0.531411</td>\n",
       "      <td>0.632583</td>\n",
       "      <td>0.543272</td>\n",
       "      <td>0.574335</td>\n",
       "      <td>0.039773</td>\n",
       "    </tr>\n",
       "  </tbody>\n",
       "</table>\n",
       "</div>"
      ],
      "text/plain": [
       "         n      run0      run1      run2      run3      run4      mean  \\\n",
       "0  1000000  0.099246  0.109996  0.101855  0.100453  0.114092  0.105128   \n",
       "1  2000000  0.197066  0.194505  0.203326  0.193344  0.256533  0.208955   \n",
       "2  3000000  0.302803  0.300889  0.316597  0.365341  0.385361  0.334198   \n",
       "3  4000000  0.445487  0.531404  0.416161  0.488978  0.485014  0.473409   \n",
       "4  5000000  0.583518  0.580889  0.531411  0.632583  0.543272  0.574335   \n",
       "\n",
       "         sd  \n",
       "0  0.006543  \n",
       "1  0.026876  \n",
       "2  0.038706  \n",
       "3  0.044152  \n",
       "4  0.039773  "
      ]
     },
     "execution_count": 42,
     "metadata": {},
     "output_type": "execute_result"
    }
   ],
   "source": [
    "df.head()"
   ]
  },
  {
   "cell_type": "markdown",
   "metadata": {
    "slideshow": {
     "slide_type": "subslide"
    }
   },
   "source": [
    "Let's save to disk, and check what it looks like on disk."
   ]
  },
  {
   "cell_type": "code",
   "execution_count": 41,
   "metadata": {
    "slideshow": {
     "slide_type": "-"
    }
   },
   "outputs": [],
   "source": [
    "df.to_csv(\"data/sort_times.csv\")"
   ]
  },
  {
   "cell_type": "code",
   "execution_count": 29,
   "metadata": {
    "slideshow": {
     "slide_type": "fragment"
    }
   },
   "outputs": [
    {
     "name": "stdout",
     "output_type": "stream",
     "text": [
      ",n,run0,run1,run2,run3,run4,mean,sd\r\n",
      "0,1000000,0.10024189949035645,0.0894160270690918,0.0902090072631836,0.09028887748718262,0.09060907363891602,0.09215297698974609,0.004543101498398512\r\n",
      "1,2000000,0.2054119110107422,0.18893790245056152,0.1934032440185547,0.18928909301757812,0.2092299461364746,0.19725441932678223,0.00945251739436116\r\n",
      "2,3000000,0.34453725814819336,0.302509069442749,0.2934389114379883,0.2963540554046631,0.34795594215393066,0.3169590473175049,0.02696261090020065\r\n",
      "3,4000000,0.40972185134887695,0.39710497856140137,0.4077019691467285,0.40306782722473145,0.43468403816223145,0.41045613288879396,0.014387115448345639\r\n",
      "4,5000000,0.5430710315704346,0.5524501800537109,0.5323898792266846,0.5302259922027588,0.5761940479278564,0.5468662261962891,0.018655878292058142\r\n",
      "5,6000000,0.6383452415466309,0.6244478225708008,0.6630039215087891,0.7392020225524902,0.6513819694519043,0.663276195526123,0.0448203998458518\r\n",
      "6,7000000,0.7581207752227783,0.743588924407959,0.81545090675354,0.8077750205993652,0.75,0.7749871253967285,0.033937593103460686\r\n",
      "7,8000000,0.8686270713806152,0.851597785949707,0.9388859272003174,0.928098201751709,0.9110503196716309,0.8996518611907959,0.037914913994127615\r\n",
      "8,9000000,1.0169532299041748,0.9869251251220703,1.0042297840118408,1.0625860691070557,0.9573290348052979,1.0056046485900878,0.038913437004050755\r\n",
      "9,10000000,1.0861740112304688,1.0916259288787842,1.1106479167938232,1.1182019710540771,1.0946440696716309,1.1002587795257568,0.013549207268025132\r\n"
     ]
    }
   ],
   "source": [
    "!cat data/sort_times.csv"
   ]
  },
  {
   "cell_type": "markdown",
   "metadata": {
    "slideshow": {
     "slide_type": "subslide"
    }
   },
   "source": [
    "We have seen `read_csv` and `to_csv`. Pandas also allows reading/writing/interacting with Excel, SQL, HDF5 (for big data), and lots more."
   ]
  },
  {
   "cell_type": "markdown",
   "metadata": {
    "slideshow": {
     "slide_type": "subslide"
    }
   },
   "source": [
    "### `groupby`\n",
    "\n",
    "Pandas can do all sorts of data joins, pivot tables and more -- things that are familiar to power users of SQL, Excel, and other data manipulation tools."
   ]
  },
  {
   "cell_type": "markdown",
   "metadata": {
    "slideshow": {
     "slide_type": "notes"
    }
   },
   "source": [
    "Let's start with this diagram from Vanderplas [Data Science Handbook](https://jakevdp.github.io/PythonDataScienceHandbook/03.08-aggregation-and-grouping.html#GroupBy:-Split,-Apply,-Combine). It shows a common scenario: we choose a key column (not necessarily the index) and split the table up (conceptually) by the values in it. Then we apply an aggregation across each split, then recombine.\n",
    "\n",
    "The result of the final combine is a new object a bit like a DataFrame. This is similar to carrying out a pivot table in Excel. We accomplish all this in a `groupby` command in Pandas. First we'll get the Irish cities data again."
   ]
  },
  {
   "cell_type": "markdown",
   "metadata": {
    "slideshow": {
     "slide_type": "subslide"
    }
   },
   "source": [
    "<center><img src=img/jakevdp-03-08-split-apply-combine.png width=80%></center>\n",
    "<font size=1>From <a href=https://jakevdp.github.io/PythonDataScienceHandbook/03.08-aggregation-and-grouping.html>Vanderplas Data Science Handbook </a></font>"
   ]
  },
  {
   "cell_type": "code",
   "execution_count": 45,
   "metadata": {
    "slideshow": {
     "slide_type": "subslide"
    }
   },
   "outputs": [
    {
     "data": {
      "text/html": [
       "<div>\n",
       "<style scoped>\n",
       "    .dataframe tbody tr th:only-of-type {\n",
       "        vertical-align: middle;\n",
       "    }\n",
       "\n",
       "    .dataframe tbody tr th {\n",
       "        vertical-align: top;\n",
       "    }\n",
       "\n",
       "    .dataframe thead th {\n",
       "        text-align: right;\n",
       "    }\n",
       "</style>\n",
       "<table border=\"1\" class=\"dataframe\">\n",
       "  <thead>\n",
       "    <tr style=\"text-align: right;\">\n",
       "      <th></th>\n",
       "      <th>Rank</th>\n",
       "      <th>City</th>\n",
       "      <th>Population (M)</th>\n",
       "      <th>Latitude</th>\n",
       "      <th>Longitude</th>\n",
       "    </tr>\n",
       "  </thead>\n",
       "  <tbody>\n",
       "    <tr>\n",
       "      <th>0</th>\n",
       "      <td>1</td>\n",
       "      <td>Dublin</td>\n",
       "      <td>1.0279</td>\n",
       "      <td>53.33</td>\n",
       "      <td>-6.25</td>\n",
       "    </tr>\n",
       "    <tr>\n",
       "      <th>1</th>\n",
       "      <td>2</td>\n",
       "      <td>Cork</td>\n",
       "      <td>0.1954</td>\n",
       "      <td>51.90</td>\n",
       "      <td>-8.47</td>\n",
       "    </tr>\n",
       "    <tr>\n",
       "      <th>2</th>\n",
       "      <td>3</td>\n",
       "      <td>Limerick</td>\n",
       "      <td>0.0857</td>\n",
       "      <td>52.67</td>\n",
       "      <td>-8.63</td>\n",
       "    </tr>\n",
       "    <tr>\n",
       "      <th>3</th>\n",
       "      <td>4</td>\n",
       "      <td>Galway</td>\n",
       "      <td>0.0686</td>\n",
       "      <td>53.28</td>\n",
       "      <td>-9.06</td>\n",
       "    </tr>\n",
       "    <tr>\n",
       "      <th>4</th>\n",
       "      <td>5</td>\n",
       "      <td>Waterford</td>\n",
       "      <td>0.0483</td>\n",
       "      <td>52.26</td>\n",
       "      <td>-7.13</td>\n",
       "    </tr>\n",
       "  </tbody>\n",
       "</table>\n",
       "</div>"
      ],
      "text/plain": [
       "   Rank       City  Population (M)  Latitude  Longitude\n",
       "0     1     Dublin          1.0279     53.33      -6.25\n",
       "1     2       Cork          0.1954     51.90      -8.47\n",
       "2     3   Limerick          0.0857     52.67      -8.63\n",
       "3     4     Galway          0.0686     53.28      -9.06\n",
       "4     5  Waterford          0.0483     52.26      -7.13"
      ]
     },
     "execution_count": 45,
     "metadata": {},
     "output_type": "execute_result"
    }
   ],
   "source": [
    "df = pd.read_csv(\"data/irish_cities.txt\", sep=\"\\t\", skiprows=1)\n",
    "df[\"Population (2000)\"] /= 1000000.0\n",
    "df = df.rename(columns={\"#Rank\": \"Rank\", \n",
    "                        \"Population (2000)\": \"Population (M)\", \n",
    "                        \"Latitude (DD)\": \"Latitude\", \n",
    "                        \"Longitude (DD)\": \"Longitude\"})\n",
    "df.head()"
   ]
  },
  {
   "cell_type": "markdown",
   "metadata": {
    "slideshow": {
     "slide_type": "subslide"
    }
   },
   "source": [
    "`groupby` works naturally with discrete keys, so we'll make one by rounding off the *longitude*."
   ]
  },
  {
   "cell_type": "code",
   "execution_count": 46,
   "metadata": {},
   "outputs": [],
   "source": [
    "df[\"Longitude (round)\"] = df[\"Longitude\"].astype('int')"
   ]
  },
  {
   "cell_type": "code",
   "execution_count": 47,
   "metadata": {},
   "outputs": [
    {
     "data": {
      "text/html": [
       "<div>\n",
       "<style scoped>\n",
       "    .dataframe tbody tr th:only-of-type {\n",
       "        vertical-align: middle;\n",
       "    }\n",
       "\n",
       "    .dataframe tbody tr th {\n",
       "        vertical-align: top;\n",
       "    }\n",
       "\n",
       "    .dataframe thead th {\n",
       "        text-align: right;\n",
       "    }\n",
       "</style>\n",
       "<table border=\"1\" class=\"dataframe\">\n",
       "  <thead>\n",
       "    <tr style=\"text-align: right;\">\n",
       "      <th></th>\n",
       "      <th>Rank</th>\n",
       "      <th>City</th>\n",
       "      <th>Population (M)</th>\n",
       "      <th>Latitude</th>\n",
       "      <th>Longitude</th>\n",
       "      <th>Longitude (round)</th>\n",
       "    </tr>\n",
       "  </thead>\n",
       "  <tbody>\n",
       "    <tr>\n",
       "      <th>0</th>\n",
       "      <td>1</td>\n",
       "      <td>Dublin</td>\n",
       "      <td>1.0279</td>\n",
       "      <td>53.33</td>\n",
       "      <td>-6.25</td>\n",
       "      <td>-6</td>\n",
       "    </tr>\n",
       "    <tr>\n",
       "      <th>1</th>\n",
       "      <td>2</td>\n",
       "      <td>Cork</td>\n",
       "      <td>0.1954</td>\n",
       "      <td>51.90</td>\n",
       "      <td>-8.47</td>\n",
       "      <td>-8</td>\n",
       "    </tr>\n",
       "    <tr>\n",
       "      <th>2</th>\n",
       "      <td>3</td>\n",
       "      <td>Limerick</td>\n",
       "      <td>0.0857</td>\n",
       "      <td>52.67</td>\n",
       "      <td>-8.63</td>\n",
       "      <td>-8</td>\n",
       "    </tr>\n",
       "    <tr>\n",
       "      <th>3</th>\n",
       "      <td>4</td>\n",
       "      <td>Galway</td>\n",
       "      <td>0.0686</td>\n",
       "      <td>53.28</td>\n",
       "      <td>-9.06</td>\n",
       "      <td>-9</td>\n",
       "    </tr>\n",
       "    <tr>\n",
       "      <th>4</th>\n",
       "      <td>5</td>\n",
       "      <td>Waterford</td>\n",
       "      <td>0.0483</td>\n",
       "      <td>52.26</td>\n",
       "      <td>-7.13</td>\n",
       "      <td>-7</td>\n",
       "    </tr>\n",
       "  </tbody>\n",
       "</table>\n",
       "</div>"
      ],
      "text/plain": [
       "   Rank       City  Population (M)  Latitude  Longitude  Longitude (round)\n",
       "0     1     Dublin          1.0279     53.33      -6.25                 -6\n",
       "1     2       Cork          0.1954     51.90      -8.47                 -8\n",
       "2     3   Limerick          0.0857     52.67      -8.63                 -8\n",
       "3     4     Galway          0.0686     53.28      -9.06                 -9\n",
       "4     5  Waterford          0.0483     52.26      -7.13                 -7"
      ]
     },
     "execution_count": 47,
     "metadata": {},
     "output_type": "execute_result"
    }
   ],
   "source": [
    "df.head()"
   ]
  },
  {
   "cell_type": "markdown",
   "metadata": {
    "slideshow": {
     "slide_type": "subslide"
    }
   },
   "source": [
    "We can now use `groupby` to split the data by (rounded) longitude, calculate the mean on each split, then recombine to a single table."
   ]
  },
  {
   "cell_type": "code",
   "execution_count": 48,
   "metadata": {
    "scrolled": true
   },
   "outputs": [
    {
     "data": {
      "text/html": [
       "<div>\n",
       "<style scoped>\n",
       "    .dataframe tbody tr th:only-of-type {\n",
       "        vertical-align: middle;\n",
       "    }\n",
       "\n",
       "    .dataframe tbody tr th {\n",
       "        vertical-align: top;\n",
       "    }\n",
       "\n",
       "    .dataframe thead th {\n",
       "        text-align: right;\n",
       "    }\n",
       "</style>\n",
       "<table border=\"1\" class=\"dataframe\">\n",
       "  <thead>\n",
       "    <tr style=\"text-align: right;\">\n",
       "      <th></th>\n",
       "      <th>Rank</th>\n",
       "      <th>Population (M)</th>\n",
       "      <th>Latitude</th>\n",
       "      <th>Longitude</th>\n",
       "    </tr>\n",
       "    <tr>\n",
       "      <th>Longitude (round)</th>\n",
       "      <th></th>\n",
       "      <th></th>\n",
       "      <th></th>\n",
       "      <th></th>\n",
       "    </tr>\n",
       "  </thead>\n",
       "  <tbody>\n",
       "    <tr>\n",
       "      <th>-9</th>\n",
       "      <td>21.600000</td>\n",
       "      <td>0.024220</td>\n",
       "      <td>53.320000</td>\n",
       "      <td>-9.352000</td>\n",
       "    </tr>\n",
       "    <tr>\n",
       "      <th>-8</th>\n",
       "      <td>25.000000</td>\n",
       "      <td>0.040278</td>\n",
       "      <td>52.460000</td>\n",
       "      <td>-8.556667</td>\n",
       "    </tr>\n",
       "    <tr>\n",
       "      <th>-7</th>\n",
       "      <td>27.416667</td>\n",
       "      <td>0.015300</td>\n",
       "      <td>53.013333</td>\n",
       "      <td>-7.529167</td>\n",
       "    </tr>\n",
       "    <tr>\n",
       "      <th>-6</th>\n",
       "      <td>24.478261</td>\n",
       "      <td>0.059539</td>\n",
       "      <td>53.225217</td>\n",
       "      <td>-6.436957</td>\n",
       "    </tr>\n",
       "  </tbody>\n",
       "</table>\n",
       "</div>"
      ],
      "text/plain": [
       "                        Rank  Population (M)   Latitude  Longitude\n",
       "Longitude (round)                                                 \n",
       "-9                 21.600000        0.024220  53.320000  -9.352000\n",
       "-8                 25.000000        0.040278  52.460000  -8.556667\n",
       "-7                 27.416667        0.015300  53.013333  -7.529167\n",
       "-6                 24.478261        0.059539  53.225217  -6.436957"
      ]
     },
     "execution_count": 48,
     "metadata": {},
     "output_type": "execute_result"
    }
   ],
   "source": [
    "gb = df.groupby(\"Longitude (round)\").mean()\n",
    "gb"
   ]
  },
  {
   "cell_type": "markdown",
   "metadata": {
    "slideshow": {
     "slide_type": "fragment"
    }
   },
   "source": [
    "This `groupby` result is an object similar to a DataFrame, which we could manipulate further."
   ]
  },
  {
   "cell_type": "markdown",
   "metadata": {
    "slideshow": {
     "slide_type": "notes"
    }
   },
   "source": [
    "There's a lot more in `groupby` and in Pandas in general for this type of data manipulation, but we won't go any further."
   ]
  },
  {
   "cell_type": "markdown",
   "metadata": {
    "slideshow": {
     "slide_type": "subslide"
    }
   },
   "source": [
    "### Plotting in Pandas\n",
    "\n",
    "Pandas has some built-in plotting abilities, e.g.:"
   ]
  },
  {
   "cell_type": "code",
   "execution_count": 49,
   "metadata": {
    "slideshow": {
     "slide_type": "fragment"
    }
   },
   "outputs": [
    {
     "data": {
      "image/png": "[encoded data removed]",
      "text/plain": [
       "<Figure size 432x288 with 1 Axes>"
      ]
     },
     "metadata": {
      "needs_background": "light"
     },
     "output_type": "display_data"
    }
   ],
   "source": [
    "# read data on sugar content of cereals, sampled from a \n",
    "# supermarket in Michigan in 2004.\n",
    "# copied from http://www.math.hope.edu/swanson/data/cereal.txt\n",
    "# (and then edited)\n",
    "d = pd.read_csv(\"data/cereals.txt\", \n",
    "                names=[\"value\"])\n",
    "d.hist();"
   ]
  },
  {
   "cell_type": "markdown",
   "metadata": {
    "slideshow": {
     "slide_type": "fragment"
    }
   },
   "source": [
    "https://kanoki.org/2019/09/16/dataframe-visualization-with-pandas-plot/ - a quick rundown on plotting in Pandas. Usually, I prefer to use Matplotlib or Seaborn, which we'll cover in the next notebooks."
   ]
  }
 ],
 "metadata": {
  "celltoolbar": "Slideshow",
  "kernelspec": {
   "display_name": "Python 3",
   "language": "python",
   "name": "python3"
  },
  "language_info": {
   "codemirror_mode": {
    "name": "ipython",
    "version": 3
   },
   "file_extension": ".py",
   "mimetype": "text/x-python",
   "name": "python",
   "nbconvert_exporter": "python",
   "pygments_lexer": "ipython3",
   "version": "3.7.3"
  }
 },
 "nbformat": 4,
 "nbformat_minor": 1
}
