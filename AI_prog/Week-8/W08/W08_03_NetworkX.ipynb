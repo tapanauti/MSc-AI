{
 "cells": [
  {
   "cell_type": "markdown",
   "metadata": {
    "slideshow": {
     "slide_type": "slide"
    }
   },
   "source": [
    "<center><img src=img/MScAI_brand.png width=70%></center>\n",
    "\n",
    "# NetworkX"
   ]
  },
  {
   "cell_type": "markdown",
   "metadata": {
    "slideshow": {
     "slide_type": "subslide"
    }
   },
   "source": [
    "NetworkX https://networkx.github.io/ is a nice library of graph algorithms in Python. It can be installed via Anaconda."
   ]
  },
  {
   "cell_type": "markdown",
   "metadata": {
    "slideshow": {
     "slide_type": "subslide"
    }
   },
   "source": [
    "We previously saw several possible representations for graphs which can be used in computer programs:\n",
    "\n",
    "* Adjacency matrix\n",
    "* List of edges\n",
    "* Adjacency lists\n"
   ]
  },
  {
   "cell_type": "markdown",
   "metadata": {
    "slideshow": {
     "slide_type": "subslide"
    }
   },
   "source": [
    "The adjacency list format is like this. For each node, we store its list of neighbours:\n",
    "\n",
    "```python\n",
    "G = {\n",
    "    0: [1, 2, 3], \n",
    "    1: [0, 3], \n",
    "    2: [0], \n",
    "    3: [0, 1], \n",
    "    4: []\n",
    "}\n",
    "```\n"
   ]
  },
  {
   "cell_type": "markdown",
   "metadata": {
    "slideshow": {
     "slide_type": "subslide"
    }
   },
   "source": [
    "Next, we'll see that the NetworkX representation is just an extension of this, allowing for each edge to have extra properties such as weights."
   ]
  },
  {
   "cell_type": "code",
   "execution_count": 2,
   "metadata": {
    "slideshow": {
     "slide_type": "subslide"
    }
   },
   "outputs": [],
   "source": [
    "G = {\n",
    "    0: {1: {\"w\": 0.5}, 2: {\"w\": 0.1}, 3: {\"w\": 0.1}},\n",
    "    1: {0: {\"w\": 0.5}, 3: {\"w\": 0.3}},\n",
    "    2: {0: {\"w\": 0.1}},\n",
    "    3: {0: {\"w\": 0.1}, 1: {\"w\": 0.3}},\n",
    "    4: {}\n",
    "}"
   ]
  },
  {
   "cell_type": "markdown",
   "metadata": {
    "slideshow": {
     "slide_type": "subslide"
    }
   },
   "source": [
    "One way to make a graph in NetworkX is just to build it up by adding nodes and then edges, as follows. (Later we'll see how to read graphs in.)"
   ]
  },
  {
   "cell_type": "code",
   "execution_count": 3,
   "metadata": {
    "slideshow": {
     "slide_type": "-"
    }
   },
   "outputs": [],
   "source": [
    "import networkx as nx # conventional import\n",
    "G = nx.Graph()\n",
    "G.add_nodes_from(range(5))"
   ]
  },
  {
   "cell_type": "code",
   "execution_count": 4,
   "metadata": {
    "slideshow": {
     "slide_type": "subslide"
    }
   },
   "outputs": [
    {
     "data": {
      "text/plain": [
       "NodeView((0, 1, 2, 3, 4))"
      ]
     },
     "execution_count": 4,
     "metadata": {},
     "output_type": "execute_result"
    }
   ],
   "source": [
    "G.nodes()"
   ]
  },
  {
   "cell_type": "code",
   "execution_count": 5,
   "metadata": {
    "slideshow": {
     "slide_type": "fragment"
    }
   },
   "outputs": [
    {
     "data": {
      "text/plain": [
       "EdgeView([])"
      ]
     },
     "execution_count": 5,
     "metadata": {},
     "output_type": "execute_result"
    }
   ],
   "source": [
    "G.edges()"
   ]
  },
  {
   "cell_type": "code",
   "execution_count": 6,
   "metadata": {
    "slideshow": {
     "slide_type": "subslide"
    }
   },
   "outputs": [],
   "source": [
    "G.add_edge(0, 1, w=0.5)\n",
    "G.add_edge(0, 2, w=0.1)\n",
    "G.add_edge(0, 3, w=0.1)\n",
    "G.add_edge(1, 3, w=0.3)"
   ]
  },
  {
   "cell_type": "code",
   "execution_count": 7,
   "metadata": {
    "slideshow": {
     "slide_type": "fragment"
    }
   },
   "outputs": [
    {
     "data": {
      "text/plain": [
       "EdgeView([(0, 1), (0, 2), (0, 3), (1, 3)])"
      ]
     },
     "execution_count": 7,
     "metadata": {},
     "output_type": "execute_result"
    }
   ],
   "source": [
    "G.edges()"
   ]
  },
  {
   "cell_type": "code",
   "execution_count": 8,
   "metadata": {
    "slideshow": {
     "slide_type": "fragment"
    }
   },
   "outputs": [
    {
     "data": {
      "text/plain": [
       "EdgeDataView([(0, 1, {'w': 0.5}), (0, 2, {'w': 0.1}), (0, 3, {'w': 0.1}), (1, 3, {'w': 0.3})])"
      ]
     },
     "execution_count": 8,
     "metadata": {},
     "output_type": "execute_result"
    }
   ],
   "source": [
    "G.edges(data=True)"
   ]
  },
  {
   "cell_type": "markdown",
   "metadata": {
    "slideshow": {
     "slide_type": "subslide"
    }
   },
   "source": [
    "And now, notice that `G` itself functions as a `dict`, mapping from a node to its adjacency list **with edge properties**:"
   ]
  },
  {
   "cell_type": "code",
   "execution_count": 9,
   "metadata": {},
   "outputs": [
    {
     "name": "stdout",
     "output_type": "stream",
     "text": [
      "0 : {1: {'w': 0.5}, 2: {'w': 0.1}, 3: {'w': 0.1}}\n",
      "1 : {0: {'w': 0.5}, 3: {'w': 0.3}}\n",
      "2 : {0: {'w': 0.1}}\n",
      "3 : {0: {'w': 0.1}, 1: {'w': 0.3}}\n",
      "4 : {}\n"
     ]
    }
   ],
   "source": [
    "for node in G.nodes():\n",
    "    print(node, \":\", G[node])"
   ]
  },
  {
   "cell_type": "markdown",
   "metadata": {
    "slideshow": {
     "slide_type": "subslide"
    }
   },
   "source": [
    "The nodes don't have to be integers! They can be strings, floats, or arbitrary (hashable) Python objects. \n",
    "\n",
    "(Remember mutable objects such as lists are not hashable and cannot be stored in dictionaries.)"
   ]
  },
  {
   "cell_type": "markdown",
   "metadata": {
    "slideshow": {
     "slide_type": "subslide"
    }
   },
   "source": [
    "* `G = nx.Graph() # default, undirected`\n",
    "* `G = nx.DiGraph() # directed graph`"
   ]
  },
  {
   "cell_type": "markdown",
   "metadata": {
    "slideshow": {
     "slide_type": "subslide"
    }
   },
   "source": [
    "### Algorithms\n",
    "\n",
    "* Creating standard graphs and random graphs\n",
    "* Breadth-first and depth-first traversal\n",
    "* Connectivity\n",
    "* Communities, cliques, clusters, etc.\n",
    "* Isomorphism (are two graphs the same if we ignore labels)"
   ]
  },
  {
   "cell_type": "markdown",
   "metadata": {
    "slideshow": {
     "slide_type": "subslide"
    }
   },
   "source": [
    "### More algorithms\n",
    "\n",
    "* Centrality e.g. PageRank and related algorithms\n",
    "* Cycles\n",
    "* Shortest paths\n",
    "* Max-flow/min-cut\n",
    "* Diameter\n",
    "* Linear algebra methods on adjacency matrices\n"
   ]
  },
  {
   "cell_type": "markdown",
   "metadata": {
    "slideshow": {
     "slide_type": "slide"
    }
   },
   "source": [
    "### Exercise\n",
    "We'll see how to read in a graph to NetworkX from a plain-text format, and run some algorithms on it. The scenario is: on a small island, we are just about to finish building a power plant at town 0. All the towns are already connected by a road network. The Minister has decided to build the electricity network along the roads. We want to achieve connectivity to all towns at minimum cost. Our data is stored in `data/power_plant_edgelist.csv`. "
   ]
  },
  {
   "cell_type": "markdown",
   "metadata": {
    "slideshow": {
     "slide_type": "subslide"
    }
   },
   "source": [
    "1. As we can see in the first few lines below, it is just an edge-list with weights. Why are we not worried about the possibility of isolated nodes, not captured by the edge list?"
   ]
  },
  {
   "cell_type": "code",
   "execution_count": 10,
   "metadata": {
    "slideshow": {
     "slide_type": "subslide"
    }
   },
   "outputs": [
    {
     "name": "stdout",
     "output_type": "stream",
     "text": [
      "# This file contains the road structure\n",
      "# on a small island. Towns are\n",
      "# at nodes 0-13. Each road segment is\n",
      "# notated as:\n",
      "# town town distance\n",
      "0 1 0.200000\n",
      "0 2 0.223607\n",
      "0 3 0.500000\n",
      "0 4 0.282843\n",
      "0 5 0.500000\n"
     ]
    }
   ],
   "source": [
    "import networkx as nx\n",
    "fname = \"data/power_plant_edgelist.csv\"\n",
    "f = open(fname)\n",
    "for i in range(10):\n",
    "    print(f.readline(), end=\"\")\n",
    "f.close()"
   ]
  },
  {
   "cell_type": "markdown",
   "metadata": {
    "slideshow": {
     "slide_type": "subslide"
    }
   },
   "source": [
    "### Exercises\n",
    "\n",
    "2. Read in this file using `nx.read_edgelist`. It should be an undirected, weighted graph.\n",
    "\n",
    "3. Confirm that the road network is fully connected. Use `nx.is_connected()`.\n",
    "4. Use Kruskal's Minimum Spanning Tree to find the lowest-cost electricity network.\n",
    "5. The Minister is planning to take a drive in her Mercedes when she comes to cut the ribbon. She will travel from the power plant to the most distant village, using the fastest route. What is that distance?"
   ]
  },
  {
   "cell_type": "markdown",
   "metadata": {
    "slideshow": {
     "slide_type": "subslide"
    }
   },
   "source": [
    "### Solutions"
   ]
  },
  {
   "cell_type": "markdown",
   "metadata": {
    "slideshow": {
     "slide_type": "subslide"
    }
   },
   "source": [
    "Use `nx.read_edgelist?` to get help. `create_using` tells `nx` that it should create a `DiGraph` (directed graph), and `nodetype` tells `nx` to convert each node from `str` to `int`."
   ]
  },
  {
   "cell_type": "markdown",
   "metadata": {},
   "source": [
    "The tricky part is the syntax for the edge data, in this case the weights. It is not a tuple (\"weight\", float) -- it is a sequence of tuples, one tuple for each piece of edge data. There's only one piece of edge data, so it is a sequence of one tuple."
   ]
  },
  {
   "cell_type": "code",
   "execution_count": 11,
   "metadata": {},
   "outputs": [],
   "source": [
    "G = nx.read_edgelist(fname, create_using=nx.Graph, nodetype=int, data=[(\"weight\", float)])"
   ]
  },
  {
   "cell_type": "markdown",
   "metadata": {
    "slideshow": {
     "slide_type": "subslide"
    }
   },
   "source": [
    "Some graph properties:"
   ]
  },
  {
   "cell_type": "code",
   "execution_count": 12,
   "metadata": {},
   "outputs": [
    {
     "data": {
      "text/plain": [
       "14"
      ]
     },
     "execution_count": 12,
     "metadata": {},
     "output_type": "execute_result"
    }
   ],
   "source": [
    "G.order()"
   ]
  },
  {
   "cell_type": "code",
   "execution_count": 13,
   "metadata": {},
   "outputs": [
    {
     "data": {
      "text/plain": [
       "56"
      ]
     },
     "execution_count": 13,
     "metadata": {},
     "output_type": "execute_result"
    }
   ],
   "source": [
    "G.size()"
   ]
  },
  {
   "cell_type": "markdown",
   "metadata": {
    "slideshow": {
     "slide_type": "subslide"
    }
   },
   "source": [
    "Confirm that the graph is connected, ie no isolated villages:"
   ]
  },
  {
   "cell_type": "code",
   "execution_count": 14,
   "metadata": {},
   "outputs": [
    {
     "data": {
      "text/plain": [
       "True"
      ]
     },
     "execution_count": 14,
     "metadata": {},
     "output_type": "execute_result"
    }
   ],
   "source": [
    "nx.is_connected(G)"
   ]
  },
  {
   "cell_type": "markdown",
   "metadata": {
    "slideshow": {
     "slide_type": "subslide"
    }
   },
   "source": [
    "*Kruskal's Minimum Spanning Tree* algorithm finds an MST, that is a tree with the same nodes as the original, and a subset of the edges, such that in the tree all nodes are connected, and the sum of edge-weights in the tree is as small as possible. This solves the problem of building the electricity network because the cost of constructing an edge is proportional to the edge distance."
   ]
  },
  {
   "cell_type": "code",
   "execution_count": 21,
   "metadata": {
    "slideshow": {
     "slide_type": "subslide"
    }
   },
   "outputs": [],
   "source": [
    "mst = nx.minimum_spanning_tree(G)"
   ]
  },
  {
   "cell_type": "code",
   "execution_count": 24,
   "metadata": {},
   "outputs": [
    {
     "data": {
      "text/plain": [
       "13"
      ]
     },
     "execution_count": 24,
     "metadata": {},
     "output_type": "execute_result"
    }
   ],
   "source": [
    "# how many edges? a tree always has n-1\n",
    "mst.size()"
   ]
  },
  {
   "cell_type": "code",
   "execution_count": 25,
   "metadata": {},
   "outputs": [
    {
     "data": {
      "text/plain": [
       "4.423083999999999"
      ]
     },
     "execution_count": 25,
     "metadata": {},
     "output_type": "execute_result"
    }
   ],
   "source": [
    "# What is the total cost of constructing the network?\n",
    "sum(mst[e0][e1][\"weight\"] for e0, e1 in mst.edges())"
   ]
  },
  {
   "cell_type": "markdown",
   "metadata": {
    "slideshow": {
     "slide_type": "subslide"
    }
   },
   "source": [
    "*Dijkstra's algorithm* is a famous algorithm for finding the shortest path from a node to all other nodes. Here \"shortest path\" takes account of edge weights. In our case, the edge weight is a measure of the distance. We have to say which node we want to start from (0) and which edge property to use (\"weight\")."
   ]
  },
  {
   "cell_type": "code",
   "execution_count": 26,
   "metadata": {},
   "outputs": [],
   "source": [
    "node_dists, paths = nx.single_source_dijkstra(G, 0, \n",
    "                                              weight=\"weight\")"
   ]
  },
  {
   "cell_type": "markdown",
   "metadata": {
    "slideshow": {
     "slide_type": "subslide"
    }
   },
   "source": [
    "Now we just find the most distant village:"
   ]
  },
  {
   "cell_type": "code",
   "execution_count": 34,
   "metadata": {},
   "outputs": [],
   "source": [
    "farthest = max(node_dists, key=lambda n: node_dists[n])"
   ]
  },
  {
   "cell_type": "code",
   "execution_count": 35,
   "metadata": {},
   "outputs": [
    {
     "data": {
      "text/plain": [
       "12"
      ]
     },
     "execution_count": 35,
     "metadata": {},
     "output_type": "execute_result"
    }
   ],
   "source": [
    "farthest"
   ]
  },
  {
   "cell_type": "code",
   "execution_count": 36,
   "metadata": {},
   "outputs": [
    {
     "data": {
      "text/plain": [
       "1.0830950000000001"
      ]
     },
     "execution_count": 36,
     "metadata": {},
     "output_type": "execute_result"
    }
   ],
   "source": [
    "node_dists[farthest]"
   ]
  },
  {
   "cell_type": "markdown",
   "metadata": {
    "slideshow": {
     "slide_type": "subslide"
    }
   },
   "source": [
    "\n",
    "By the way, the Stanford Large Network Dataset collection \n",
    "https://snap.stanford.edu/data/ has lots of interesting graphs for further investigations."
   ]
  }
 ],
 "metadata": {
  "celltoolbar": "Slideshow",
  "kernelspec": {
   "display_name": "Python 3",
   "language": "python",
   "name": "python3"
  },
  "language_info": {
   "codemirror_mode": {
    "name": "ipython",
    "version": 3
   },
   "file_extension": ".py",
   "mimetype": "text/x-python",
   "name": "python",
   "nbconvert_exporter": "python",
   "pygments_lexer": "ipython3",
   "version": "3.7.3"
  }
 },
 "nbformat": 4,
 "nbformat_minor": 2
}
