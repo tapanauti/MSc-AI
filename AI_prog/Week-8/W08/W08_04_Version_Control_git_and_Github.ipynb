{
 "cells": [
  {
   "cell_type": "markdown",
   "metadata": {
    "slideshow": {
     "slide_type": "slide"
    }
   },
   "source": [
    "<center><img src=img/MScAI_brand.png width=70%></center>\n",
    "\n",
    "# Version control, `git`, and GitHub\n"
   ]
  },
  {
   "cell_type": "markdown",
   "metadata": {
    "slideshow": {
     "slide_type": "slide"
    }
   },
   "source": [
    "Has this ever happened to you?\n",
    "\n",
    "```\n",
    "$ ls\n",
    "assignment.py\n",
    "assignment2.py\n",
    "assignment_from_Tom.py\n",
    "assignment2_from_Tom.py\n",
    "assignment2_from_Tom2.py\n",
    "assignment_final.py\n",
    "assignment_FINAL_with_Toms_changes_merged_except_spelling.py\n",
    "assignment_final_5pm_missing_some_changes.py\n",
    "```"
   ]
  },
  {
   "cell_type": "markdown",
   "metadata": {
    "slideshow": {
     "slide_type": "subslide"
    }
   },
   "source": [
    "A *version control* system is a system for controlling multiple versions of a file. There can be multiple collaborators working remotely, and multiple versions, with automatic merging of changes. \n",
    "\n",
    "Version control also serves as a *history*, a *backup*, and (if you want) a *public repository*."
   ]
  },
  {
   "cell_type": "markdown",
   "metadata": {
    "slideshow": {
     "slide_type": "slide"
    }
   },
   "source": [
    "### Diff and patch\n",
    "\n",
    "Version control usually works on plain text files. E.g. a `.txt` file, or a `.py` or `.java` file is plain text. Word `.docx` files are not, but people working on documents (as opposed to program code) might write them in Markdown or LaTeX, which are plain-text formats that convert into `pdf`s or `html`.\n",
    "\n",
    "A fundamental concept is the *diff*. A diff is a line-by-line list of differences between two plain text files."
   ]
  },
  {
   "cell_type": "markdown",
   "metadata": {
    "slideshow": {
     "slide_type": "subslide"
    }
   },
   "source": [
    "**`file_a.py`**\n",
    "\n",
    "```\n",
    "x = 3\n",
    "a = \"elephant\"\n",
    "print(\"hello\")\n",
    "```\n",
    "\n",
    "**`file_b.py`**\n",
    "\n",
    "```\n",
    "x = 3\n",
    "a = \"lion\"\n",
    "print(\"hello\")\n",
    "```"
   ]
  },
  {
   "cell_type": "markdown",
   "metadata": {
    "slideshow": {
     "slide_type": "subslide"
    }
   },
   "source": [
    "The *diff* between the two files would look like this:\n",
    "\n",
    "```\n",
    "2c2\n",
    "< a = \"elephant\"\n",
    "---\n",
    "> a = \"lion\"\n",
    "```"
   ]
  },
  {
   "cell_type": "markdown",
   "metadata": {
    "slideshow": {
     "slide_type": "subslide"
    }
   },
   "source": [
    "There is a program `diff` which produces the *diff* as seen above. If you're on Linux or OSX, you should be able to run the above command. Inside a Jupyter Notebook, shell commands can then be run using a `!` prefix as above. On Windows you might have to use `gitbash` which is part of the main `git` download from https://git-scm.com/download/win."
   ]
  },
  {
   "cell_type": "markdown",
   "metadata": {
    "slideshow": {
     "slide_type": "subslide"
    }
   },
   "source": [
    "There is also a program `patch` which can take `file_a.py` and *apply* the diff, to produce `file_b.py`.\n",
    "\n",
    "This is useful, because it allows two people to start on a common file, work *independently*, and then merge their changes whenever they want. A version control system uses `diff` and `patch` internally (that's why we didn't show how to do it manually, above).\n",
    "\n",
    "In fact, `diff` and `patch` together give rise to an *algebra* of versions -- the theory that underlies version control."
   ]
  },
  {
   "cell_type": "markdown",
   "metadata": {
    "slideshow": {
     "slide_type": "slide"
    }
   },
   "source": [
    "<center><img src=\"img/diff-merge.png\" width=60%></center>"
   ]
  },
  {
   "cell_type": "markdown",
   "metadata": {
    "slideshow": {
     "slide_type": "slide"
    }
   },
   "source": [
    "### Common version control systems\n",
    "\n",
    "There are several version control systems in common use, including\n",
    "* Subversion\n",
    "* Git\n",
    "* Mercurial\n",
    "* Bitkeeper (\\$)\n",
    "* Perforce (\\$)"
   ]
  },
  {
   "cell_type": "markdown",
   "metadata": {
    "slideshow": {
     "slide_type": "subslide"
    }
   },
   "source": [
    "There are several places online where you can use free online version control services. E.g. for Subversion there is https://riouxsvn.com/. For git there is http://www.github.com/. We will concentrate on git and Github. Remember, git is the name of the version control system, and Github is a company which provides a nice website with free (and pay-for) git hosting. A lot of people working in software and analytics use their Github account as a CV."
   ]
  },
  {
   "cell_type": "markdown",
   "metadata": {
    "slideshow": {
     "slide_type": "subslide"
    }
   },
   "source": [
    "Sadly, git and Github are really complex. Happily, we can avoid most of the complexity. We just need to know a few simple things:\n",
    "\n",
    "* How to create a new repository on Github\n",
    "* How to clone the repository from Github to our disk\n",
    "* How to add a new file to our local copy\n",
    "* How to push from our local copy to Github\n",
    "* A little about branches, merges, and merge conflicts.\n",
    "\n"
   ]
  },
  {
   "cell_type": "markdown",
   "metadata": {
    "slideshow": {
     "slide_type": "subslide"
    }
   },
   "source": [
    "Next, we'll carry out these basic tasks in a live Github repo. Don't worry, you can delete the repo after. \n",
    "\n",
    "Before proceeding, make an account on Github, and log in to it."
   ]
  },
  {
   "cell_type": "markdown",
   "metadata": {
    "slideshow": {
     "slide_type": "slide"
    }
   },
   "source": [
    "### Creating a new repository\n",
    "\n",
    "\n",
    "<center><img src=img/github-new-repo.png width=60%></center>"
   ]
  },
  {
   "cell_type": "markdown",
   "metadata": {
    "slideshow": {
     "slide_type": "fragment"
    }
   },
   "source": [
    "* Click \"New\", then enter a name (no spaces or weird punctuation), e.g. \"test\", and a description, e.g. \"My first test repository\"\n",
    "* Then choose \"public\" and tick \"Initialize this repository with a README\"."
   ]
  },
  {
   "cell_type": "markdown",
   "metadata": {
    "slideshow": {
     "slide_type": "slide"
    }
   },
   "source": [
    "Now the repository will be created, and a `README.md` file will be created inside it. You can look at the list of files in the repository and get the clone URL of the repository (needed for the next step). You can also download the entire thing as a zip, but we won't normally proceed that way.\n",
    "\n",
    "<center><img src=\"img/github-clone.png\" width=50%></center>"
   ]
  },
  {
   "cell_type": "markdown",
   "metadata": {
    "slideshow": {
     "slide_type": "slide"
    }
   },
   "source": [
    "### Cloning\n",
    "\n",
    "To get the new repository onto your local disk, you *clone*. Type the following at your command prompt. Obviously, put in the appropriate clone URL for your new repository in place of the one I have mentioned."
   ]
  },
  {
   "cell_type": "markdown",
   "metadata": {
    "collapsed": true
   },
   "source": [
    "```bash\n",
    "git clone https://github.com/jmmcd/ML-snippets.git\n",
    "```"
   ]
  },
  {
   "cell_type": "markdown",
   "metadata": {},
   "source": [
    "You'll get a new directory, in your current directory, containing one file: `README.md`. Open it up in a text editor and have a look. "
   ]
  },
  {
   "cell_type": "markdown",
   "metadata": {
    "slideshow": {
     "slide_type": "slide"
    }
   },
   "source": [
    "### Adding a new file\n",
    "\n",
    "\n",
    "Now, let's write a new Python program, say `test.py`, and save it in the same directory as `README.md`. We have to tell Git that it exists, and *commit* it."
   ]
  },
  {
   "cell_type": "markdown",
   "metadata": {
    "collapsed": true
   },
   "source": [
    "```bash\n",
    "git add test.py\n",
    "git commit -m \"Wrote a simple test program.\"\n",
    "```"
   ]
  },
  {
   "cell_type": "markdown",
   "metadata": {
    "slideshow": {
     "slide_type": "subslide"
    }
   },
   "source": [
    "### Please tell me who you are\n",
    "\n",
    "If we see the message `Please tell me who you are`, it's because git needs to associate every commit with the person who made it. It helpfully tells us what to do:\n",
    "\n",
    "```\n",
    "git config --global user.email \"you@example.com\"\n",
    "git config --global user.name \"Your Name\"\n",
    "```"
   ]
  },
  {
   "cell_type": "markdown",
   "metadata": {
    "slideshow": {
     "slide_type": "slide"
    }
   },
   "source": [
    "### What does *commit* mean?\n",
    "\n",
    "\n",
    "When you commit, you're saying the current version of the code is in a consistent state (i.e. no half-finished changes). It's not necessarily *complete* or perfect. Usually, you commit with messages like these:\n",
    "\n",
    "* `git commit -m \"Fixed a bug in calculation of y.\"`\n",
    "* `git commit -m \"Added a new function to print stats.\"`\n",
    "* `git commit -m \"Expanded documentation.\"`\n",
    "\n",
    "In order to commit, you always `add` first, to tell `git` which files you want to commit."
   ]
  },
  {
   "cell_type": "markdown",
   "metadata": {
    "slideshow": {
     "slide_type": "slide"
    }
   },
   "source": [
    "### Pushing\n",
    "\n",
    "\n",
    "So far, we've added a new file and committed it, but that only affects our local (on-disk) repository. Next we have to *push* to Github. "
   ]
  },
  {
   "cell_type": "markdown",
   "metadata": {
    "collapsed": true
   },
   "source": [
    "```bash\n",
    "git push\n",
    "```"
   ]
  },
  {
   "cell_type": "markdown",
   "metadata": {},
   "source": [
    "(You will be asked for your Github password.)\n",
    "\n",
    "After this finishes, you can reload the web page to see your `test.py` has appeared on Github."
   ]
  },
  {
   "cell_type": "markdown",
   "metadata": {
    "slideshow": {
     "slide_type": "slide"
    }
   },
   "source": [
    "### Changing and committing\n",
    "\n",
    "Previously, we added a new file and then committed. Even if we *edit* an existing file, we still have to run add (it really means \"add the file to an upcoming commit\", rather than \"add to the repository\") and then commit. \n",
    "\n",
    "So, try adding some text to the README.md, then add, commit with an appropriate message, and push."
   ]
  },
  {
   "cell_type": "markdown",
   "metadata": {
    "slideshow": {
     "slide_type": "slide"
    }
   },
   "source": [
    "### Pulling\n",
    "\n",
    "Suppose your colleague is working in the same repository. To check whether they've committed and pushed any changes, you can run:"
   ]
  },
  {
   "cell_type": "code",
   "execution_count": null,
   "metadata": {
    "collapsed": true
   },
   "outputs": [],
   "source": [
    "git pull"
   ]
  },
  {
   "cell_type": "markdown",
   "metadata": {},
   "source": [
    "It gets any changes from github and applies them to your local repository. If necessary it uses *merge* so that your colleague's changes and your own are merged together. "
   ]
  },
  {
   "cell_type": "markdown",
   "metadata": {
    "slideshow": {
     "slide_type": "slide"
    }
   },
   "source": [
    "### Typical (simple) workflow on a single repo\n",
    "\n",
    "```bash\n",
    "git pull # get any changes by others\n",
    "# edit test.py in text editor\n",
    "git add test.py # tell git that test.py will be committed\n",
    "git commit -m \"Change to tigers\" # commit\n",
    "git push # push changes to GitHub\n",
    "```"
   ]
  },
  {
   "cell_type": "markdown",
   "metadata": {
    "slideshow": {
     "slide_type": "slide"
    }
   },
   "source": [
    "### Walk-through 1\n",
    "\n",
    "1. On Github, make a new repository by clicking \"New\".\n",
    "2. Initialise it with a README.\n",
    "3. Clone to our hard disk.\n",
    "4. Make a new file `test.py`.\n",
    "5. Add, commit, push.\n",
    "6. See the changes on Github.\n",
    "7. Make a change directly on Github.\n",
    "8. Pull that to hard disk."
   ]
  },
  {
   "cell_type": "markdown",
   "metadata": {
    "slideshow": {
     "slide_type": "subslide"
    }
   },
   "source": [
    "### Merge conflicts\n",
    "\n",
    "If we are working with colleagues in a single repository, we may see *merge conflicts*. A merge conflict arises when two people push incompatible changes (e.g. I changed lion to elephant, and `commit`ted, and at the same time you changed lion to antelope, and `commit`ted, and then we both `push`ed). "
   ]
  },
  {
   "cell_type": "markdown",
   "metadata": {
    "slideshow": {
     "slide_type": "subslide"
    }
   },
   "source": [
    "In a merge conflict, we'll see a message like this from `git`:\n",
    "```bash\n",
    "git pull\n",
    "[...]\n",
    "CONFLICT (content): Merge conflict in test.py\n",
    "```\n",
    "\n",
    "`git` will also put some special markers in the conflicted file. They show the chunks of text that is coming from the remote repo (Github), and the text in our working copy (on disk):\n",
    "\n",
    "```bash\n",
    "<<<<<<< \n",
    "a = \"tiger\"\n",
    "=======\n",
    "a = \"elephant\"\n",
    ">>>>>>> \n",
    "```"
   ]
  },
  {
   "cell_type": "markdown",
   "metadata": {
    "slideshow": {
     "slide_type": "subslide"
    }
   },
   "source": [
    "To solve this, we have to edit the file to decide which version is better, remove all the special markers `<<<` `===` and `>>>`, and then save it, `add` and `commit` with an appropriate message."
   ]
  },
  {
   "cell_type": "markdown",
   "metadata": {
    "slideshow": {
     "slide_type": "subslide"
    }
   },
   "source": [
    "### Walk-through 1 (part 2)\n",
    "\n",
    "9. Make a change directly on Github.\n",
    "10. Make a conflicting change on hard disk.\n",
    "11. Try to pull and observe problem.\n",
    "12. Try to commit and pull, still observe problem.\n",
    "13. Resolve merge conflict by editing the markers.\n",
    "14. Add, commit, push and see result in Github."
   ]
  },
  {
   "cell_type": "markdown",
   "metadata": {
    "slideshow": {
     "slide_type": "slide"
    }
   },
   "source": [
    "### Branching\n",
    "\n",
    "<center><img src=\"img/atlassian-branch.svg\" width=35%> <font size=1>From atlassian.com</font></center>\n",
    "\n",
    "A more common workflow uses *branching*. When we are about to start a new work item such as fixing a bug, we tell Git to create a branch for that work item. That branch starts as a copy of the current master branch. We commit items to our new branch and push. When we're ready with the work item, we can *merge* it back to the master branch and delete it."
   ]
  },
  {
   "cell_type": "markdown",
   "metadata": {
    "slideshow": {
     "slide_type": "subslide"
    }
   },
   "source": [
    "```bash\n",
    "git checkout -b big_feature # create branch\n",
    "# work on test.py in text editor\n",
    "git add test.py\n",
    "git commit -m \"Created fab new function in test.py\"\n",
    "# maybe keep working for a few hours, days or weeks and then\n",
    "git checkout master # switch to master branch\n",
    "git merge big_feature # merge the branch onto master\n",
    "git branch -d big_feature # delete branch \n",
    "git push # push to github\n",
    "```"
   ]
  },
  {
   "cell_type": "markdown",
   "metadata": {
    "slideshow": {
     "slide_type": "slide"
    }
   },
   "source": [
    "### Pull requests\n",
    "\n",
    "A further complication is that in many collaborative situations there is one person or organisation which controls the repository, but others want to make edits. The way to do this is: we *fork* the person's repository in Github, so that there is a new repo of the same name under our Github account:\n",
    "\n",
    "<center><img src=\"img/github-fork.png\" width=30%></center>"
   ]
  },
  {
   "cell_type": "markdown",
   "metadata": {
    "slideshow": {
     "slide_type": "subslide"
    }
   },
   "source": [
    "Then clone that to our local computer, create a branch, and work until our work is done on that branch, and push it back to our copy of the repo on Github. \n",
    "\n",
    "Then we create a *pull request*. The easiest way to do this is by going to the organisation's repository on Github and clicking \"New pull request\". There are then some buttons to click, basically telling the organisation which of our branches we want them to merge changes from. \n",
    "\n",
    "<center><img src=\"img/github_pr.png\" width=30%></center>\n",
    "\n",
    "The organisation may have a review policy, they may have their own code/commenting style, etc., which we should obey."
   ]
  },
  {
   "cell_type": "markdown",
   "metadata": {
    "slideshow": {
     "slide_type": "subslide"
    }
   },
   "source": [
    "### Git complexity\n",
    "\n",
    "There is a lot more going on in Git. What we have covered is enough to get started. There are many guides which you could consider, e.g.:\n",
    "\n",
    "* https://www.atlassian.com/git/tutorials\n",
    "* https://rogerdudler.github.io/git-guide/\n",
    "* https://guides.github.com/introduction/flow/\n",
    "\n",
    "If you see something out of the ordinary, Stackoverflow is a good place to look it up."
   ]
  },
  {
   "cell_type": "markdown",
   "metadata": {
    "slideshow": {
     "slide_type": "slide"
    }
   },
   "source": [
    "### Walk-through 2\n",
    "\n",
    "We'll walk through these steps using `networkx`:\n",
    "\n",
    "1. Go to the repo page on Github, e.g. `networkx/networkx`.\n",
    "2. On Github, fork it to your account e.g. `jmmcd/networkx`.\n",
    "3. Clone that to your local machine using `git clone`.\n",
    "4. Go into the directory and make a branch using `git checkout -b`.\n",
    "5. Make some changes on that branch, add, commit.\n",
    "6. Merge that branch to our master and delete the branch.\n",
    "7. Push to our Github.\n",
    "8. Make a pull request. # DON'T DO THIS"
   ]
  }
 ],
 "metadata": {
  "anaconda-cloud": {},
  "celltoolbar": "Slideshow",
  "kernelspec": {
   "display_name": "Python 3",
   "language": "python",
   "name": "python3"
  },
  "language_info": {
   "codemirror_mode": {
    "name": "ipython",
    "version": 3
   },
   "file_extension": ".py",
   "mimetype": "text/x-python",
   "name": "python",
   "nbconvert_exporter": "python",
   "pygments_lexer": "ipython3",
   "version": "3.7.3"
  }
 },
 "nbformat": 4,
 "nbformat_minor": 1
}
