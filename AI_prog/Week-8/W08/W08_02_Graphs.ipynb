{
 "cells": [
  {
   "cell_type": "markdown",
   "metadata": {
    "slideshow": {
     "slide_type": "slide"
    }
   },
   "source": [
    "<center><img src=img/MScAI_brand.png width=70%></center>\n",
    "\n",
    "# Graphs"
   ]
  },
  {
   "cell_type": "markdown",
   "metadata": {
    "slideshow": {
     "slide_type": "slide"
    }
   },
   "source": [
    "As we know, a *graph* is the word often used in maths and computer science for a *network* -- a collection of objects with connections among them. \n",
    "\n",
    "Graph theory is a beautiful and fascinating branch of mathematics with many applications in computer science, artificial intelligence, and applications."
   ]
  },
  {
   "cell_type": "markdown",
   "metadata": {
    "slideshow": {
     "slide_type": "fragment"
    }
   },
   "source": [
    "Don't confuse a graph (network) with a graph (plot)."
   ]
  },
  {
   "cell_type": "markdown",
   "metadata": {
    "slideshow": {
     "slide_type": "subslide"
    }
   },
   "source": [
    "Some of the disparate terminology we use:\n",
    "\n",
    "object | connection\n",
    "-------|-----------\n",
    "node   | edge\n",
    "vertex | arc\n",
    "point  | line"
   ]
  },
  {
   "cell_type": "markdown",
   "metadata": {
    "slideshow": {
     "slide_type": "subslide"
    }
   },
   "source": [
    "<center><img src=img/Konigsberg_bridges.png width=40%></center>\n",
    "<font size=1><a href=\"https://en.wikipedia.org/wiki/Seven_Bridges_of_K%C3%B6nigsberg\">Wiki</a></font>\n",
    "\n",
    "The *founding problem of graph theory*: is it possible to traverse all the bridges of Konigsberg and end back at the starting-point without re-crossing any? Here the *nodes* are pieces of land and *edges* are bridges."
   ]
  },
  {
   "cell_type": "markdown",
   "metadata": {
    "slideshow": {
     "slide_type": "subslide"
    }
   },
   "source": [
    "<center><img src=img/tigh_neachtain_map.png width=60%></center>\n",
    "\n",
    "A practical problem: what is the shortest path from one location to another, via a network of roads?"
   ]
  },
  {
   "cell_type": "markdown",
   "metadata": {
    "slideshow": {
     "slide_type": "subslide"
    }
   },
   "source": [
    "<center><img src=\"img/social_network.jpg\" width=50%><center>\n",
    "\n",
    "<font size=1>Credit: http://bitcoinwiki.co/wp-content/uploads/censorship-free-social-network-akasha-aims-to-tackle-internet-censorship-with-blockchain-technology.jpg </font>\n",
    "\n",
    "A classic social networks problem: who are the most influential people? How many steps  or \"degrees of separation\" from one to the next?"
   ]
  },
  {
   "cell_type": "markdown",
   "metadata": {
    "slideshow": {
     "slide_type": "subslide"
    }
   },
   "source": [
    "<center><img src=img/pacman_ghost_fsm.svg width=25%></center><font size=1>Inspired by Yannakakis and Togelius, <em>Artificial Intelligence and Games</em></font>\n",
    "\n",
    "FSMs are graphs, where states are nodes and state transitions are *directed edges* and input symbols are edge labels.\n",
    "\n",
    "With directed edges, we draw them as an arrow (as in the FSM) because order matters: $i \\rightarrow j$ is not the same as $j \\rightarrow i$."
   ]
  },
  {
   "cell_type": "markdown",
   "metadata": {
    "slideshow": {
     "slide_type": "subslide"
    }
   },
   "source": [
    "### The web\n",
    "\n",
    "* Web pages (URLs) are nodes; hyperlinks are directed edges."
   ]
  },
  {
   "cell_type": "markdown",
   "metadata": {
    "slideshow": {
     "slide_type": "subslide"
    }
   },
   "source": [
    "<center><img src=img/PageRank-hi-res.png width=45%></center>\n",
    "<font size=1><a href=https://en.wikipedia.org/wiki/PageRank>Wiki</a></font>"
   ]
  },
  {
   "cell_type": "markdown",
   "metadata": {
    "slideshow": {
     "slide_type": "fragment"
    }
   },
   "source": [
    "The *PageRank* problem: which pages are the most trusted? A page is trusted if other highly trusted pages link to it. But isn't this circular?"
   ]
  },
  {
   "cell_type": "markdown",
   "metadata": {
    "slideshow": {
     "slide_type": "subslide"
    }
   },
   "source": [
    "### Edge properties\n",
    "\n",
    "In all the examples we've seen, nodes have names or just integer labels.\n",
    "\n",
    "Usually edges are just plain connections with no properties, names or labels (sometimes direction). Sometimes edges do have properties such as a numerical *weight* per edge. "
   ]
  },
  {
   "cell_type": "markdown",
   "metadata": {
    "slideshow": {
     "slide_type": "fragment"
    }
   },
   "source": [
    "E.g. in a **water grid**, each edge might represent a pipe, and each pipe might have a different capacity represented as a number in litres per second."
   ]
  },
  {
   "cell_type": "markdown",
   "metadata": {
    "slideshow": {
     "slide_type": "subslide"
    }
   },
   "source": [
    "###  Collaboration graphs\n",
    "\n",
    "E.g. in scientific research: authors are nodes; there is an edge where two authors have co-authored a paper.\n",
    "\n",
    "Here edges are *undirected* because saying \"a co-authored with b\" is the same as saying \"b co-authored with a\".\n",
    "\n",
    "A classic problem of social networks: can we automatically detect communities?"
   ]
  },
  {
   "cell_type": "markdown",
   "metadata": {
    "slideshow": {
     "slide_type": "subslide"
    }
   },
   "source": [
    "### Electrical grids\n",
    "\n",
    "* The electricity network: power stations, transformers, and consumers are nodes; electricity wires are edges."
   ]
  },
  {
   "cell_type": "markdown",
   "metadata": {
    "slideshow": {
     "slide_type": "subslide"
    }
   },
   "source": [
    "<center><img src=img/power_plant.svg width=40%></center>"
   ]
  },
  {
   "cell_type": "markdown",
   "metadata": {
    "slideshow": {
     "slide_type": "-"
    }
   },
   "source": [
    "A classic logistics problem: on a small island, we have a power station and a set of consumers. Every meter of electricity wires costs money. What wires should we build to save money but ensure everyone is connected?"
   ]
  },
  {
   "cell_type": "markdown",
   "metadata": {
    "slideshow": {
     "slide_type": "subslide"
    }
   },
   "source": [
    "### Family trees\n",
    "\n",
    "A *tree* is a graph with no cycles. Your family tree is a directed tree *rooted* at you, with an edge from each person to each of their parents.\n",
    "\n",
    "<center><img src=img/jon-snow-family-tree.jpg width=50%></center>\n",
    "<font size=1><a href=\"https://time.com/5560753/game-of-thrones-family-tree/\">Time.com</a></font>"
   ]
  },
  {
   "cell_type": "markdown",
   "metadata": {
    "slideshow": {
     "slide_type": "notes"
    }
   },
   "source": [
    "By the way, it's not *really* a tree, if we go back far enough."
   ]
  },
  {
   "cell_type": "markdown",
   "metadata": {
    "slideshow": {
     "slide_type": "slide"
    }
   },
   "source": [
    "### Abstract syntax tree\n",
    "\n",
    "An AST is an internal representation for computer code. The Python interpreter, the C++ compiler, and all other interpreters and compilers translate our source code into an AST before executing it."
   ]
  },
  {
   "cell_type": "markdown",
   "metadata": {
    "slideshow": {
     "slide_type": "subslide"
    }
   },
   "source": [
    "```python\n",
    "def fib(n):\n",
    "    if n < 2:\n",
    "        return n\n",
    "    else:\n",
    "        return fib(n-1) + fib(n-2)\n",
    "```"
   ]
  },
  {
   "cell_type": "markdown",
   "metadata": {
    "slideshow": {
     "slide_type": "subslide"
    }
   },
   "source": [
    "<center><img src=img/ast.svg width=40%><center>"
   ]
  },
  {
   "cell_type": "markdown",
   "metadata": {
    "slideshow": {
     "slide_type": "subslide"
    }
   },
   "source": [
    "Tangent: Python has some nice built-in tools for *introspection* including looking at the AST of a piece of Python code. It's not quite as clean as the example above because it includes extra technical details.\n",
    "\n",
    "```python\n",
    "import ast\n",
    "s = open(\"code/fib2.py\").read()\n",
    "n = ast.parse(s)\n",
    "print(ast.dump(n))\n",
    "```"
   ]
  },
  {
   "cell_type": "markdown",
   "metadata": {
    "slideshow": {
     "slide_type": "subslide"
    }
   },
   "source": [
    "```python\n",
    "\"Module(body=[FunctionDef(name='fib', args=arguments(args=[arg(arg='n', annotation=None)], vararg=None, kwonlyargs=[], kw_defaults=[], kwarg=None, defaults=[]), body=[If(test=Compare(left=Name(id='n', ctx=Load()), ops=[Lt()], comparators=[Num(n=2)]), body=[Return(value=Name(id='n', ctx=Load()))], orelse=[Return(value=BinOp(left=Call(func=Name(id='fib', ctx=Load()), args=[BinOp(left=Name(id='n', ctx=Load()), op=Sub(), right=Num(n=1))], keywords=[]), op=Add(), right=Call(func=Name(id='fib', ctx=Load()), args=[BinOp(left=Name(id='n', ctx=Load()), op=Sub(), right=Num(n=2))], keywords=[])))])], decorator_list=[], returns=None)])\"\n",
    "```\n",
    "\n",
    "(The details of this are not examinable.)"
   ]
  },
  {
   "cell_type": "markdown",
   "metadata": {
    "slideshow": {
     "slide_type": "subslide"
    }
   },
   "source": [
    "### Project planning\n",
    "\n",
    "In project management, we often decompose a project into a large list of tasks to be accomplished by many different people using various resources. Some of these tasks have *dependencies*: task $j$ cannot be started until we have the output of task $i$. This induces a directed graph. \n",
    "\n",
    "* What would a *cycle* in such a graph mean?"
   ]
  },
  {
   "cell_type": "markdown",
   "metadata": {
    "slideshow": {
     "slide_type": "subslide"
    }
   },
   "source": [
    "Assuming no cycles, we can perform a *topological sort*, which just means ordering the tasks so that for any dependency $(i, j)$, task $j$ is sorted *after* task $i$. Creating this ordering allows us to create a timeline and identify tasks which can be done in parallel."
   ]
  },
  {
   "cell_type": "markdown",
   "metadata": {
    "slideshow": {
     "slide_type": "subslide"
    }
   },
   "source": [
    "**Exercise**. Suppose we have the following tasks. Identify the dependencies, draw the dependency graph to confirm there are no cycles, then write down a topological sort. Which tasks can be done in parallel?\n",
    "\n",
    "tasks | more tasks | more tasks\n",
    "-----|-----|-----\n",
    "get coffee from fridge | fill mocha with water   | put coffee in mocha\n",
    "close mocha            | heat mocha              | get cup \n",
    "get spoon              | get sugar from cupboard | put sugar in cup\n",
    "pour coffee into cup   | stir                    | put coffee away\n",
    "put sugar away"
   ]
  },
  {
   "cell_type": "markdown",
   "metadata": {
    "slideshow": {
     "slide_type": "subslide"
    }
   },
   "source": [
    "### Software installation\n",
    "\n",
    "A related example is the dependency graph of software libraries. As we know:\n",
    "* Seaborn can only work if Matplotlib is installed; \n",
    "* Scipy requires Numpy;\n",
    "* Pandas requires Numpy;\n",
    "* and so on.\n",
    "\n",
    "A classic problem in software management: recursively finding all the necessary dependencies for a library."
   ]
  },
  {
   "cell_type": "markdown",
   "metadata": {
    "slideshow": {
     "slide_type": "notes"
    }
   },
   "source": [
    "Next time you install a new library using Anaconda, take a look at all the other libraries that it depends on."
   ]
  },
  {
   "cell_type": "markdown",
   "metadata": {
    "slideshow": {
     "slide_type": "subslide"
    }
   },
   "source": [
    "### Data-flow graphs\n",
    "\n",
    "Nodes are computations, and edges represent the results of computations being used as inputs in later computations.\n",
    "\n",
    "<center><img src=img/diagram-DAG-currency.png width=35%></center><font size=1>From <a href=https://hazelcast.com/glossary/directed-acyclic-graph>Hazelcast.com</font>"
   ]
  },
  {
   "cell_type": "markdown",
   "metadata": {
    "slideshow": {
     "slide_type": "slide"
    }
   },
   "source": [
    "### Node and graph terminology and properties\n",
    "\n",
    "* Order: the number of nodes in the graph\n",
    "* Size: the number of edges in the graph."
   ]
  },
  {
   "cell_type": "markdown",
   "metadata": {
    "slideshow": {
     "slide_type": "subslide"
    }
   },
   "source": [
    "### Cycles\n",
    "\n",
    "* Cycle: a sequence of 2+ nodes with edges allowing travel from start, along sequence, leading back to start\n",
    "* Directed cycle: in a directed graph, a cycle exists only if this travel is consistent with edge direction\n",
    "* A graph with no cycles is called *acyclic*.\n"
   ]
  },
  {
   "cell_type": "markdown",
   "metadata": {
    "slideshow": {
     "slide_type": "subslide"
    }
   },
   "source": [
    "* The *degree* of node *n* is the number of neighbours\n",
    "* In a *directed graph*, we have a separate *out-degree* and *in-degree*\n",
    "* In a graph with *weighted edges*, the degree is the sum of relevant edge weights."
   ]
  },
  {
   "cell_type": "markdown",
   "metadata": {
    "slideshow": {
     "slide_type": "slide"
    }
   },
   "source": [
    "### Graph representations\n",
    "\n",
    "There are several possible representations for a graph:\n",
    "\n",
    "* Adjacency matrix\n",
    "* List of edges\n",
    "* Adjacency-list\n",
    "* dict-of-dicts-of-dicts, as used by NetworkX, is a variant of adjacency-list.\n"
   ]
  },
  {
   "cell_type": "markdown",
   "metadata": {
    "slideshow": {
     "slide_type": "subslide"
    }
   },
   "source": [
    "### Adjacency matrix\n",
    "\n",
    "In an adjacency matrix, we represent a graph of $n$ nodes as an $n\\times n$ matrix. In a binary adjacency matrix, a 0 in location $(i, j)$ indicates no edge present between nodes $i$ and $j$; a 1 indicates the edge is present. "
   ]
  },
  {
   "cell_type": "markdown",
   "metadata": {
    "slideshow": {
     "slide_type": "fragment"
    }
   },
   "source": [
    "If our edges have weights, we just put those instead of the \"1\"s."
   ]
  },
  {
   "cell_type": "markdown",
   "metadata": {
    "slideshow": {
     "slide_type": "slide"
    }
   },
   "source": [
    "### Conclusion\n",
    "\n",
    "Graph theory is the study of things that can be represented as graphs. And a *lot* of things can be represented as graphs.\n",
    "\n",
    "Classroom MScAI students can study more in the module Web and Network Science, CT5113, Dr Conor Hayes, Semester 2."
   ]
  },
  {
   "cell_type": "markdown",
   "metadata": {
    "slideshow": {
     "slide_type": "slide"
    }
   },
   "source": [
    "### Exercises\n",
    "\n",
    "* The \"adjacency lists\" representation is really more like a dictionary, where every node maps to a list of its neighbours, i.e. the nodes which are *adjacent* to it. Here is a graph in adjacency-lists format: \n",
    "```python\n",
    "G = {\n",
    "    0: [1, 2, 3], \n",
    "    1: [0, 3], \n",
    "    2: [0], \n",
    "    3: [0, 1], \n",
    "    4: []}\n",
    "```\n",
    "\n",
    "Draw this on paper. Write down its adjacency matrix on paper."
   ]
  },
  {
   "cell_type": "markdown",
   "metadata": {
    "slideshow": {
     "slide_type": "subslide"
    }
   },
   "source": [
    "* Calculate the sum of row 0 in the adjacency matrix. What does it mean?\n",
    "* What do you observe about the diagonal?\n",
    "* Suppose you saw a 1 on the diagonal. How could this be represented on paper? Think of a real-world situation where this would be useful."
   ]
  },
  {
   "cell_type": "markdown",
   "metadata": {
    "slideshow": {
     "slide_type": "subslide"
    }
   },
   "source": [
    "* Draw a new *directed* graph of 5 nodes and write its adjacency matrix. What do you notice?"
   ]
  },
  {
   "cell_type": "markdown",
   "metadata": {
    "slideshow": {
     "slide_type": "subslide"
    }
   },
   "source": [
    "* We could also represent a graph as a list of edges, where each edge is a 2-tuple. What would be the advantages of this, for a very large sparse graph? Are there any disadvantages?"
   ]
  },
  {
   "cell_type": "markdown",
   "metadata": {
    "slideshow": {
     "slide_type": "subslide"
    }
   },
   "source": [
    "### Solutions\n",
    "\n",
    "Adjacency matrix\n",
    "```\n",
    "0 1 1 1 0\n",
    "1 0 0 1 0\n",
    "1 0 0 0 0\n",
    "1 1 0 0 0\n",
    "0 0 0 0 0\n",
    "```"
   ]
  },
  {
   "cell_type": "markdown",
   "metadata": {
    "slideshow": {
     "slide_type": "subslide"
    }
   },
   "source": [
    "<center><img src=img/exercise_graph.svg width=30%></center>"
   ]
  },
  {
   "cell_type": "markdown",
   "metadata": {
    "slideshow": {
     "slide_type": "subslide"
    }
   },
   "source": [
    "* The row-sum of a node (e.g. row 0 for node 0) is its degree -- the number of edges from it.\n",
    "* The diagonal is always 0.\n",
    "* If there was a 1 on the diagonal, it would indicate an edge from node $i$ to itself -- a *self-loop*. Usually these are disallowed. But e.g. if a web page linked to itself, we could represent that as a self-loop."
   ]
  },
  {
   "cell_type": "markdown",
   "metadata": {
    "slideshow": {
     "slide_type": "subslide"
    }
   },
   "source": [
    "* In an undirected graph, the adjacency matrix is symmetric. In a directed graph, it may not be."
   ]
  },
  {
   "cell_type": "markdown",
   "metadata": {
    "slideshow": {
     "slide_type": "subslide"
    }
   },
   "source": [
    "* The advantage of the list-of-edges representation is that in a *sparse graph* (few edges, relative to the number there *could be*) it saves a lot of space compared to an explicit adjacency matrix. The possible disadvantage is that there could be isolated nodes (nodes with no neighbours, i.e. degree 0), which would be omitted entirely if we only list the edges. So we might have to maintain both a list of edges and a list of nodes."
   ]
  },
  {
   "cell_type": "markdown",
   "metadata": {
    "slideshow": {
     "slide_type": "slide"
    }
   },
   "source": [
    "### Exercise -- only for fun\n",
    "\n",
    "There are many neat puzzles which use graphs and graph theory. \n",
    "\n",
    "The following puzzle is enacted here https://www.youtube.com/watch?v=a1DUUnhk3uE, and is derived from the book by Bellos featured in that video."
   ]
  },
  {
   "cell_type": "markdown",
   "metadata": {},
   "source": [
    "The scenario in the puzzle is:\n",
    "\n",
    "There are 10 prisoners in the breakfast room, numbered 1-10. In a room, there are 10 closed boxes, numbered 1-10, each containing 1 playing card, numbered 1-10. Each prisoner is allowed to enter the room, open a box to observe the card, re-close it, and repeat to observe 5 cards. They then exit to their cell. The prisoners can communicate before the start, in the breakfast room, but not during or after observing the cards.\n",
    "\n",
    "Their goal is for every prisoner to observe his/her own number. If they all do so, they walk free. Otherwise, they serve a long sentence.\n",
    "\n",
    "There is no solution that guarantees they'll walk free, but there is a deterministic approach which improves their chances a lot, relative to random.\n",
    "\n",
    "* What are their chances with a random strategy?\n",
    "* What improvement can they make?"
   ]
  },
  {
   "cell_type": "markdown",
   "metadata": {
    "slideshow": {
     "slide_type": "subslide"
    }
   },
   "source": [
    "### Hint\n",
    "\n",
    "The right strategy is for each prisoner to start at the box numbered with their own number, say $i$. If it contains card $i$, they win and exit. Else, if it contains card $j$, they go to box $j$, and so on until they have observed 5 cards and have to leave.\n",
    "\n",
    "* Use a directed graph to model the process.\n",
    "* Explain why it helps.\n",
    "* In Python, implement the process; sample many possible distributions of cards; for each, run the process to eventually calculate their expected \"win rate\"."
   ]
  },
  {
   "cell_type": "markdown",
   "metadata": {
    "slideshow": {
     "slide_type": "subslide"
    }
   },
   "source": [
    "### Exercise -- only for fun\n",
    "\n",
    "\"A calculator has only 3 buttons. The first multiplies the current value by 3, the second adds 2 and the third subtracts 2. Starting with 0 what is the least number of presses you need to reach 100?\"\n",
    "\n",
    "-- https://puzzling.stackexchange.com/questions/91090/three-button-calculator\n",
    "\n",
    "This is a *shortest-path* problem in a graph. Every integer is a node, and e.g. there is an edge from 0 $\\rightarrow$ 2 because we can press the `+2` button. However, the graph is infinite, so we can't just create it and then use a shortest-path algorithm. A classic solution is to use breadth-first search, creating the graph as we go."
   ]
  },
  {
   "cell_type": "code",
   "execution_count": 9,
   "metadata": {},
   "outputs": [
    {
     "name": "stdout",
     "output_type": "stream",
     "text": [
      "0 {0}\n",
      "1 {0, 2, -2}\n",
      "2 {0, 2, 4, 6, -6, -4, -2}\n",
      "3 {0, 2, 4, 6, 8, 12, -18, 18, -12, -8, -6, -4, -2}\n",
      "4 {0, 2, 4, 6, 8, -54, 10, 12, 14, 16, 18, 20, 24, -36, 36, -24, -20, -18, -16, -14, -12, 54, -10, -8, -6, -4, -2}\n",
      "5 {0, 2, 4, 6, 8, 10, 12, 14, 16, 18, 20, -108, 22, 24, 26, 30, 34, 162, 36, 38, 42, 48, 52, 54, -72, 56, 60, -60, -56, 72, -54, -52, -48, -42, -38, -36, -162, -34, -30, -26, -24, -22, -20, 108, -18, -16, -14, -12, -10, -8, -6, -4, -2}\n",
      "6 {0, 2, 4, 6, 8, 10, 12, 14, 16, 18, 20, 22, 24, 26, -486, 28, 30, 32, 34, 36, 38, 40, -216, 42, 44, 46, 48, 50, 52, 54, 56, 58, 60, 62, 66, 324, 70, 72, 74, -180, 78, -168, 90, -164, -162, -160, -156, 102, 106, 108, 110, -144, 114, 126, -126, -114, 144, -110, -108, -106, -102, 156, 160, 162, 164, -90, 168, -78, 180, -74, -72, -70, -324, -66, -62, -60, -58, -56, -54, -52, -50, -48, -46, -44, -42, 216, -40, -38, -36, -34, -32, -30, -28, -26, 486, -24, -22, -20, -18, -16, -14, -12, -10, -8, -6, -4, -2}\n",
      "7 {0, 2, 4, 6, 8, -504, 10, 12, 14, 16, 18, 20, -492, 22, 24, -488, 26, -486, 28, -484, 30, 540, 32, -480, 34, 36, 38, 40, 42, 44, -468, 46, 48, 50, 52, -972, 54, 56, 58, 60, 62, 64, 66, 68, 70, 72, 74, 76, 78, -1458, 80, -432, 84, 88, 90, 92, 96, 100, 102, 104, 106, 108, 110, 112, 114, 116, 120, 124, 126, 128, 132, -378, 648, 138, 142, 144, 146, 150, 154, 156, 158, 160, 162, 164, 166, 168, -342, 170, 174, 178, 180, -330, 182, -326, 186, -324, -322, -318, 198, -306, 210, 214, 216, 218, 222, 234, -270, 270, -234, -222, -218, -216, -214, -210, 306, -198, 318, 322, 324, -186, 326, -182, 330, -180, -178, -174, -170, 342, -168, -166, -164, -162, -160, -158, -156, -154, -150, -146, -144, -142, -138, -648, 378, -132, -128, -126, -124, -120, -116, -114, -112, -110, -108, -106, -104, -102, -100, -96, -92, -90, -88, -84, 432, -80, -78, 1458, -76, -74, -72, -70, -68, -66, -64, -62, -60, -58, -56, -54, -52, 972, -50, -48, -46, -44, 468, -42, -40, -38, -36, -34, -32, 480, -30, -28, -540, -26, 486, -24, 484, -22, 488, -20, 492, -18, 504, -16, -14, -12, -10, -8, -6, -4, -2}\n"
     ]
    }
   ],
   "source": [
    "import networkx as nx\n",
    "state = 0\n",
    "known = {state}\n",
    "target = 100\n",
    "moves = [lambda x: x*3,\n",
    "         lambda x: x+2,\n",
    "         lambda x: x-2]\n",
    "frontier = known # the states we have just reached on previous step\n",
    "steps = 0\n",
    "print(steps, known)\n",
    "while target not in known:\n",
    "    newfrontier = set() # the states we reach for the first time on this step\n",
    "    for state in frontier:\n",
    "        for move in moves:\n",
    "            newstate = move(state)\n",
    "            if newstate not in known:\n",
    "                newfrontier.add(newstate)\n",
    "    known = known.union(newfrontier)\n",
    "    frontier = newfrontier\n",
    "    steps += 1\n",
    "    print(steps, known)"
   ]
  },
  {
   "cell_type": "markdown",
   "metadata": {},
   "source": [
    "To improve this, we should track the path required to reach each new state. (Or we could just stop, put everything in a NetworkX graph, and run an ordinary shortest-path algorithm.)"
   ]
  },
  {
   "cell_type": "code",
   "execution_count": null,
   "metadata": {},
   "outputs": [],
   "source": []
  }
 ],
 "metadata": {
  "celltoolbar": "Slideshow",
  "kernelspec": {
   "display_name": "Python 3",
   "language": "python",
   "name": "python3"
  },
  "language_info": {
   "codemirror_mode": {
    "name": "ipython",
    "version": 3
   },
   "file_extension": ".py",
   "mimetype": "text/x-python",
   "name": "python",
   "nbconvert_exporter": "python",
   "pygments_lexer": "ipython3",
   "version": "3.7.3"
  }
 },
 "nbformat": 4,
 "nbformat_minor": 2
}
