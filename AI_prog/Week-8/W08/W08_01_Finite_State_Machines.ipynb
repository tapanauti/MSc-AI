{
 "cells": [
  {
   "cell_type": "markdown",
   "metadata": {
    "slideshow": {
     "slide_type": "slide"
    }
   },
   "source": [
    "<center><img src=img/MScAI_brand.png width=70%></center>\n",
    "\n",
    "# Finite State Machines"
   ]
  },
  {
   "cell_type": "markdown",
   "metadata": {
    "slideshow": {
     "slide_type": "subslide"
    }
   },
   "source": [
    "For the last 30 years or so, machine learning methods have gradually taken over as the best methods for solving AI problems. In the 30 years before that, most approaches were *symbolic* and logical rather than numerical, probabilistic and learning-oriented. We sometimes call those approaches (half-joking) \"good old-fashioned AI\"."
   ]
  },
  {
   "cell_type": "markdown",
   "metadata": {
    "slideshow": {
     "slide_type": "subslide"
    }
   },
   "source": [
    "Task | GOFAI | ML-style AI\n",
    "-----|-------|------------\n",
    "Games|Minimax (alpha-beta) | Reinforcement learning\n",
    "Facts | Logical inference | Probabilistic inference\n",
    "Natural language | Parsing with grammars | Recurrent neural networks\n",
    "Agent behaviour | **Finite state machines** | Reinforcement learning"
   ]
  },
  {
   "cell_type": "markdown",
   "metadata": {
    "slideshow": {
     "slide_type": "subslide"
    }
   },
   "source": [
    "A finite state machine is a neat representation for behaviour. It's still used quite a lot in applications:\n",
    "\n",
    "* Parsing computer language\n",
    "* Representing agent behaviour in video games\n",
    "* Elevators? (A typical textbook example!)."
   ]
  },
  {
   "cell_type": "markdown",
   "metadata": {
    "slideshow": {
     "slide_type": "subslide"
    }
   },
   "source": [
    "One reason why computer scientists like FSMs is that a computer IS an FSM -- an amazingly complex one. We'll study simple ones."
   ]
  },
  {
   "cell_type": "markdown",
   "metadata": {
    "slideshow": {
     "slide_type": "fragment"
    }
   },
   "source": [
    "We'll motivate the idea from an unusual angle and then see an example in game AI."
   ]
  },
  {
   "cell_type": "markdown",
   "metadata": {
    "slideshow": {
     "slide_type": "slide"
    }
   },
   "source": [
    "### Dispatch table\n",
    "\n",
    "Suppose we had some code like this (an artificial example):"
   ]
  },
  {
   "cell_type": "code",
   "execution_count": 1,
   "metadata": {
    "slideshow": {
     "slide_type": "subslide"
    }
   },
   "outputs": [],
   "source": [
    "def g0(): print(\"g0\")\n",
    "def g1(): print(\"g1\")\n",
    "def g2(): print(\"g2\")\n",
    "    \n",
    "def f(a, b, c):\n",
    "    if a and c:\n",
    "        if b: \n",
    "            g0()\n",
    "        else:\n",
    "            g2()\n",
    "    elif c and not a:\n",
    "        g1()\n",
    "    elif c or a:\n",
    "        g2()"
   ]
  },
  {
   "cell_type": "markdown",
   "metadata": {
    "slideshow": {
     "slide_type": "subslide"
    }
   },
   "source": [
    "It's hard to predict what will happen for any input!"
   ]
  },
  {
   "cell_type": "code",
   "execution_count": 2,
   "metadata": {
    "slideshow": {
     "slide_type": "fragment"
    }
   },
   "outputs": [
    {
     "name": "stdout",
     "output_type": "stream",
     "text": [
      "g1\n"
     ]
    }
   ],
   "source": [
    "f(0, 1, 1)"
   ]
  },
  {
   "cell_type": "markdown",
   "metadata": {
    "slideshow": {
     "slide_type": "fragment"
    }
   },
   "source": [
    "There could even be inputs which don't run any `g`:"
   ]
  },
  {
   "cell_type": "code",
   "execution_count": 3,
   "metadata": {},
   "outputs": [],
   "source": [
    "f(0, 0, 0)"
   ]
  },
  {
   "cell_type": "markdown",
   "metadata": {
    "slideshow": {
     "slide_type": "subslide"
    }
   },
   "source": [
    "A *dispatch table* is a different representation for `f`:"
   ]
  },
  {
   "cell_type": "code",
   "execution_count": 5,
   "metadata": {
    "slideshow": {
     "slide_type": "subslide"
    }
   },
   "outputs": [],
   "source": [
    "dt = {\n",
    "    (1, 0, 1): g0, # a and c\n",
    "    (1, 1, 1): g0, # a and c\n",
    "    (0, 0, 1): g1, # c and not a\n",
    "    (0, 1, 1): g1, # c and not a\n",
    "    (1, 0, 0): g2, # c or a\n",
    "    (1, 1, 0): g2, # c or a\n",
    "}\n",
    "\n",
    "def f(a, b, c): dt[(a, b, c)]()"
   ]
  },
  {
   "cell_type": "code",
   "execution_count": 6,
   "metadata": {
    "slideshow": {
     "slide_type": "subslide"
    }
   },
   "outputs": [
    {
     "name": "stdout",
     "output_type": "stream",
     "text": [
      "g1\n"
     ]
    }
   ],
   "source": [
    "f(0, 1, 1)"
   ]
  },
  {
   "cell_type": "markdown",
   "metadata": {
    "slideshow": {
     "slide_type": "subslide"
    }
   },
   "source": [
    "With this new representation, we can more easily see that some combinations `(a, b, c)` are not accounted for at all, because they're not in the dictionary `dt`. They'll also throw a `KeyError`."
   ]
  },
  {
   "cell_type": "code",
   "execution_count": 10,
   "metadata": {
    "slideshow": {
     "slide_type": "subslide"
    }
   },
   "outputs": [
    {
     "ename": "KeyError",
     "evalue": "(0, 0, 0)",
     "output_type": "error",
     "traceback": [
      "\u001b[1;31m---------------------------------------------------------------------------\u001b[0m",
      "\u001b[1;31mKeyError\u001b[0m                                  Traceback (most recent call last)",
      "\u001b[1;32m<ipython-input-10-d94e03aff689>\u001b[0m in \u001b[0;36m<module>\u001b[1;34m\u001b[0m\n\u001b[1;32m----> 1\u001b[1;33m \u001b[0mf\u001b[0m\u001b[1;33m(\u001b[0m\u001b[1;36m0\u001b[0m\u001b[1;33m,\u001b[0m \u001b[1;36m0\u001b[0m\u001b[1;33m,\u001b[0m \u001b[1;36m0\u001b[0m\u001b[1;33m)\u001b[0m\u001b[1;33m\u001b[0m\u001b[1;33m\u001b[0m\u001b[0m\n\u001b[0m",
      "\u001b[1;32m<ipython-input-8-6d9dd5649f5a>\u001b[0m in \u001b[0;36mf\u001b[1;34m(a, b, c)\u001b[0m\n\u001b[0;32m      8\u001b[0m         \u001b[1;33m(\u001b[0m\u001b[1;36m1\u001b[0m\u001b[1;33m,\u001b[0m \u001b[1;36m1\u001b[0m\u001b[1;33m,\u001b[0m \u001b[1;36m0\u001b[0m\u001b[1;33m)\u001b[0m\u001b[1;33m:\u001b[0m \u001b[0mg2\u001b[0m\u001b[1;33m,\u001b[0m \u001b[1;31m# c or a\u001b[0m\u001b[1;33m\u001b[0m\u001b[1;33m\u001b[0m\u001b[0m\n\u001b[0;32m      9\u001b[0m     }\n\u001b[1;32m---> 10\u001b[1;33m     \u001b[0mdt\u001b[0m\u001b[1;33m[\u001b[0m\u001b[1;33m(\u001b[0m\u001b[0ma\u001b[0m\u001b[1;33m,\u001b[0m \u001b[0mb\u001b[0m\u001b[1;33m,\u001b[0m \u001b[0mc\u001b[0m\u001b[1;33m)\u001b[0m\u001b[1;33m]\u001b[0m\u001b[1;33m(\u001b[0m\u001b[1;33m)\u001b[0m\u001b[1;33m\u001b[0m\u001b[1;33m\u001b[0m\u001b[0m\n\u001b[0m",
      "\u001b[1;31mKeyError\u001b[0m: (0, 0, 0)"
     ]
    }
   ],
   "source": [
    "f(0, 0, 0)"
   ]
  },
  {
   "cell_type": "markdown",
   "metadata": {
    "slideshow": {
     "slide_type": "subslide"
    }
   },
   "source": [
    "We might decide to have a default to deal with that."
   ]
  },
  {
   "cell_type": "code",
   "execution_count": 11,
   "metadata": {},
   "outputs": [],
   "source": [
    "def f(a, b, c):\n",
    "    try:\n",
    "        dt[(a, b, c)]()\n",
    "    except KeyError:\n",
    "        pass # the original f does nothing in this case"
   ]
  },
  {
   "cell_type": "markdown",
   "metadata": {
    "slideshow": {
     "slide_type": "subslide"
    }
   },
   "source": [
    "Our claim is that this dispatch table representation may be useful to help us write maintainable and understandable code."
   ]
  },
  {
   "cell_type": "markdown",
   "metadata": {
    "slideshow": {
     "slide_type": "slide"
    }
   },
   "source": [
    "### Finite State Machines\n",
    "\n",
    "A FSM is a generalisation of a dispatch table in two ways.\n",
    "1. There are several \"states\". Every state has its own dispatch table.\n",
    "2. Every time the function runs with some input, it may not only do something by calling a function, it may also *change state*."
   ]
  },
  {
   "cell_type": "markdown",
   "metadata": {
    "slideshow": {
     "slide_type": "slide"
    }
   },
   "source": [
    "It's often useful to think of the states as representing *internal* data, and the inputs as input from the environment."
   ]
  },
  {
   "cell_type": "markdown",
   "metadata": {
    "slideshow": {
     "slide_type": "subslide"
    }
   },
   "source": [
    "### Example: an FSM for a ghost in \"Pacman\"\n",
    "\n",
    "<center><img src=img/pacman.png width=40%></center><font size=1>From http://mentalfloss.com/article/49068/how-win-pac-man</font>\n",
    "\n",
    "[Here's a video to remind us of the gameplay.](https://youtu.be/QjFCmHybgwQ?t=24)"
   ]
  },
  {
   "cell_type": "markdown",
   "metadata": {
    "slideshow": {
     "slide_type": "subslide"
    }
   },
   "source": [
    "<center><img src=img/pacman_ghost_fsm.svg width=40%></center><font size=1>Inspired by Yannakakis and Togelius, <em>Artificial Intelligence and Games</em></font>\n"
   ]
  },
  {
   "cell_type": "markdown",
   "metadata": {
    "slideshow": {
     "slide_type": "subslide"
    }
   },
   "source": [
    "This FSM doesn't have any *actions*. It's just a mapping of the form:\n",
    "\n",
    "$(\\mathrm{state}, \\mathrm{input}) \\rightarrow \\mathrm{state}$"
   ]
  },
  {
   "cell_type": "markdown",
   "metadata": {
    "slideshow": {
     "slide_type": "subslide"
    }
   },
   "source": [
    "The states are in circles: **Seek Pacman**, **Evade Pacman**, **Go to regenerate**. The possible inputs are Eaten by Pacman, Pacman has power pill, Power pill time up, Finished regenerating. \n",
    "\n",
    "E.g. when in state **Evade Pacman**, if we receive the *input* Power pill time up, we'll transition to **Seek Pacman**."
   ]
  },
  {
   "cell_type": "markdown",
   "metadata": {
    "slideshow": {
     "slide_type": "fragment"
    }
   },
   "source": [
    "In our example, the states are \"high-level\" states so there would have to be some extra logic in the game."
   ]
  },
  {
   "cell_type": "markdown",
   "metadata": {
    "slideshow": {
     "slide_type": "subslide"
    }
   },
   "source": [
    "We also make an important assumption: no unexpected input will ever appear. E.g. we'll never get input Eaten by Pacman while in the **Go to regenerate** state. If we prefer not to make that assumption, we have to add appropriate arrows, one for every possible input on every state."
   ]
  },
  {
   "cell_type": "markdown",
   "metadata": {
    "slideshow": {
     "slide_type": "slide"
    }
   },
   "source": [
    "### Implementation\n",
    "\n",
    "In the dispatch table, we just had a function `def f(a, b, c): dt[(a, b, c)]()`. If we wanted to change the function, we would just change `dt`."
   ]
  },
  {
   "cell_type": "markdown",
   "metadata": {
    "slideshow": {
     "slide_type": "fragment"
    }
   },
   "source": [
    "Similarly, all FSMs share the same *code* implementation, and differ in their *data*."
   ]
  },
  {
   "cell_type": "markdown",
   "metadata": {
    "slideshow": {
     "slide_type": "subslide"
    }
   },
   "source": [
    "Here's the data. It uses the same idea as in the dispatch table: a dictionary mapping \"inputs\" to outputs, but here the \"inputs\" are composed of the current state and the input from the environment."
   ]
  },
  {
   "cell_type": "code",
   "execution_count": 10,
   "metadata": {
    "slideshow": {
     "slide_type": "subslide"
    }
   },
   "outputs": [],
   "source": [
    "SISAs = {\n",
    "    # (state, input): state\n",
    "    (\"Seek Pacman\", \"Pacman has power pill\"): \n",
    "      \"Evade Pacman\",\n",
    "    (\"Seek Pacman\", \"Eaten by Pacman\"): \n",
    "      \"Go to regenerate\", \n",
    "    (\"Evade Pacman\", \"Power pill time up\"): \n",
    "      \"Seek Pacman\",\n",
    "    (\"Evade Pacman\", \"Eaten by Pacman\"): \n",
    "      \"Go to regenerate\",\n",
    "    (\"Go to regenerate\", \"Finished regenerating\"): \n",
    "      \"Seek Pacman\"\n",
    "    }"
   ]
  },
  {
   "cell_type": "markdown",
   "metadata": {
    "slideshow": {
     "slide_type": "subslide"
    }
   },
   "source": [
    "Every FSM has a start state. Some also have one or more end states: whenever we reach an end state, we stop executing. If there's no end state, as here, we keep running until the user chooses to stop."
   ]
  },
  {
   "cell_type": "code",
   "execution_count": 11,
   "metadata": {
    "slideshow": {
     "slide_type": "subslide"
    }
   },
   "outputs": [],
   "source": [
    "start_state = \"Seek Pacman\"\n",
    "end_states = set() # empty set, no end states"
   ]
  },
  {
   "cell_type": "markdown",
   "metadata": {
    "slideshow": {
     "slide_type": "subslide"
    }
   },
   "source": [
    "Here's one way to write the code:"
   ]
  },
  {
   "cell_type": "code",
   "execution_count": 1,
   "metadata": {},
   "outputs": [],
   "source": [
    "def fsm(SISAs, start_state, end_states, input_symbols):\n",
    "    state = start_state\n",
    "    # (current_state, input_symbol) -> next_state\n",
    "    for input_symbol in input_symbols:\n",
    "        yield state\n",
    "        if state in end_states:\n",
    "            break\n",
    "        try:\n",
    "            state = SISAs[state, input_symbol]\n",
    "        except KeyError:\n",
    "            pass # stay in same state"
   ]
  },
  {
   "cell_type": "markdown",
   "metadata": {
    "slideshow": {
     "slide_type": "subslide"
    }
   },
   "source": [
    "Now let's suppose these are the sequence of game events:"
   ]
  },
  {
   "cell_type": "code",
   "execution_count": 16,
   "metadata": {},
   "outputs": [],
   "source": [
    "inputs = [\n",
    "    \"Pacman has power pill\",\n",
    "    \"Power pill time up\",\n",
    "    \"Pacman has power pill\",\n",
    "    \"Eaten by Pacman\",\n",
    "    \"Finished regenerating\"\n",
    "    ]\n"
   ]
  },
  {
   "cell_type": "markdown",
   "metadata": {
    "slideshow": {
     "slide_type": "subslide"
    }
   },
   "source": [
    "And here is how we can use it:"
   ]
  },
  {
   "cell_type": "code",
   "execution_count": 17,
   "metadata": {},
   "outputs": [
    {
     "name": "stdout",
     "output_type": "stream",
     "text": [
      "Seek Pacman\n",
      "Evade Pacman\n",
      "Seek Pacman\n",
      "Evade Pacman\n",
      "Go to regenerate\n"
     ]
    }
   ],
   "source": [
    "for state in fsm(SISAs, start_state, \n",
    "                 end_states, inputs):\n",
    "    print(state)"
   ]
  },
  {
   "cell_type": "markdown",
   "metadata": {
    "slideshow": {
     "slide_type": "subslide"
    }
   },
   "source": [
    "In a real application, our `for`-loop could be more complex, with some other function calls and logic.  "
   ]
  },
  {
   "cell_type": "markdown",
   "metadata": {
    "slideshow": {
     "slide_type": "slide"
    }
   },
   "source": [
    "### Exercises\n",
    "\n",
    "In the lab this week we'll see some exercises using FSMs to model a call centre automated voice response system."
   ]
  }
 ],
 "metadata": {
  "celltoolbar": "Slideshow",
  "kernelspec": {
   "display_name": "Python 3",
   "language": "python",
   "name": "python3"
  },
  "language_info": {
   "codemirror_mode": {
    "name": "ipython",
    "version": 3
   },
   "file_extension": ".py",
   "mimetype": "text/x-python",
   "name": "python",
   "nbconvert_exporter": "python",
   "pygments_lexer": "ipython3",
   "version": "3.7.3"
  }
 },
 "nbformat": 4,
 "nbformat_minor": 2
}
