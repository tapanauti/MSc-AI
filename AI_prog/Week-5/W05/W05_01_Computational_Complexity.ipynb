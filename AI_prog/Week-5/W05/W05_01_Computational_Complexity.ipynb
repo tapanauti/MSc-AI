{
 "cells": [
  {
   "cell_type": "markdown",
   "metadata": {
    "slideshow": {
     "slide_type": "slide"
    }
   },
   "source": [
    "<center><img src=img/MScAI_brand.png width=70%></center>\n",
    "\n",
    "# Computational Complexity\n"
   ]
  },
  {
   "cell_type": "markdown",
   "metadata": {
    "slideshow": {
     "slide_type": "subslide"
    }
   },
   "source": [
    "This notebook will start by reviewing the main idea of computational complexity, and then try to make it practical in the Python context. We will try to explain a lot of things that are usually left unsaid."
   ]
  },
  {
   "cell_type": "markdown",
   "metadata": {
    "slideshow": {
     "slide_type": "subslide"
    }
   },
   "source": [
    "Computational efficiency is important! \n",
    "\n",
    "Computer scientists realised long ago that the efficiency of an algorithm isn't really well-measured by measuring the \"wall clock time\" it takes to execute.\n",
    "\n",
    "We can reduce runtime by buying a faster computer, faster disk, or a better network connection, or rewriting (the same algorithm) in a different language, but that doesn't change the inherent complexity of the algorithm."
   ]
  },
  {
   "cell_type": "markdown",
   "metadata": {
    "slideshow": {
     "slide_type": "subslide"
    }
   },
   "source": [
    "Instead, what is important is **how quickly the runtime increases as the size of the input increases (as input gets arbitrarily large)**.\n",
    "\n"
   ]
  },
  {
   "cell_type": "markdown",
   "metadata": {
    "slideshow": {
     "slide_type": "fragment"
    }
   },
   "source": [
    "A typical scenario: we run our algorithm with a small input file. It takes 10s to read in the data and 10s to process it. Then we run it on a larger input file. It takes 10m to read in the data, and 3 weeks to process it. The real issue here is the growth in processing from 10s to 3 weeks. We want to ignore the time spent reading the data."
   ]
  },
  {
   "cell_type": "markdown",
   "metadata": {
    "slideshow": {
     "slide_type": "slide"
    }
   },
   "source": [
    "### Assumptions\n",
    "\n",
    "* A program consists of idealised \"instructions\" \n",
    "* There may be several types of instructions, e.g. multiplying two numbers, or checking for integer equality\n",
    "* Some may be slower than others, but only by a **constant factor**;\n",
    "* If one instruction is slower than another by a factor that **depends on program input size**, it is not an instruction -- we have to see it as composed of multiple instructions."
   ]
  },
  {
   "cell_type": "markdown",
   "metadata": {
    "slideshow": {
     "slide_type": "subslide"
    }
   },
   "source": [
    "With these assumptions, we can write the runtime as the number of instructions -- a formula in $n$, the size of the input."
   ]
  },
  {
   "cell_type": "markdown",
   "metadata": {
    "slideshow": {
     "slide_type": "subslide"
    }
   },
   "source": [
    "* To calculate the row-sum (sum of each row, as a vector) of a square matrix ($n$ rows and $n$ columns):"
   ]
  },
  {
   "cell_type": "code",
   "execution_count": 11,
   "metadata": {
    "slideshow": {
     "slide_type": "-"
    }
   },
   "outputs": [],
   "source": [
    "def row_sum(M):\n",
    "    R = []\n",
    "    for L in M:\n",
    "        R.append(sum(L))\n",
    "    return R"
   ]
  },
  {
   "cell_type": "markdown",
   "metadata": {
    "slideshow": {
     "slide_type": "fragment"
    }
   },
   "source": [
    "We have to create an empty list, do $n$ look-ups to get the rows and $n^2$ look-ups to get the individual items, and $n^2$ additions, and append $n$ times to the list. That is a total of $n^2 + 3n + 1$ instructions."
   ]
  },
  {
   "cell_type": "markdown",
   "metadata": {
    "slideshow": {
     "slide_type": "subslide"
    }
   },
   "source": [
    "Notice that `sum(L)` is not an instruction, because its runtime depends on the size of the `row_sum` input `M`. Instead, `sum` is composed of multiple instructions."
   ]
  },
  {
   "cell_type": "markdown",
   "metadata": {
    "slideshow": {
     "slide_type": "fragment"
    }
   },
   "source": [
    "(But `sum([4, 5, 6])` does not depend on the size of `M`, so it counts as 1.)"
   ]
  },
  {
   "cell_type": "markdown",
   "metadata": {
    "slideshow": {
     "slide_type": "subslide"
    }
   },
   "source": [
    "### Worst-case\n",
    "\n",
    "In computational complexity, if the number of instructions could vary (for fixed input size), we usually consider the **worst-case**. This takes care of situations where the algorithm can exit early for a special case or an error: we don't want to count those when measuring complexity.\n",
    "\n",
    "(There are situations where we'll consider average-case as well, see later.)"
   ]
  },
  {
   "cell_type": "markdown",
   "metadata": {
    "slideshow": {
     "slide_type": "subslide"
    }
   },
   "source": [
    "* E.g. to check that a given element exists in a list of length $n$:"
   ]
  },
  {
   "cell_type": "code",
   "execution_count": 45,
   "metadata": {
    "slideshow": {
     "slide_type": "-"
    }
   },
   "outputs": [],
   "source": [
    "def element_exists(L, y):\n",
    "    for x in L: \n",
    "        if x == y: return True\n",
    "    return False"
   ]
  },
  {
   "cell_type": "markdown",
   "metadata": {
    "slideshow": {
     "slide_type": "fragment"
    }
   },
   "source": [
    "We have to look at all $n$ elements (worst-case). We'll have to look up $n$ items and make $n$ comparisons, so we'll execute $2n$ instructions."
   ]
  },
  {
   "cell_type": "markdown",
   "metadata": {
    "slideshow": {
     "slide_type": "slide"
    }
   },
   "source": [
    "### Asymptotic runtime\n",
    "\n",
    "\"Asymptotic behaviour\" means something like \"behaviour for arbitrarily large values\". In computational complexity, we  only care about the number of instructions executed for large $n$."
   ]
  },
  {
   "cell_type": "markdown",
   "metadata": {
    "slideshow": {
     "slide_type": "fragment"
    }
   },
   "source": [
    "How large? \n",
    "\n",
    "\"Arbitrarily large\". For small $n$, the number is probably dominated by setup or reading input, and anyway for small $n$ the program will be fast anyway, so we just don't care about runtime in the first place."
   ]
  },
  {
   "cell_type": "markdown",
   "metadata": {
    "slideshow": {
     "slide_type": "subslide"
    }
   },
   "source": [
    "So the runtime is the number of instructions -- a formula in $n$. Now, we are going to argue that in that formula, for large $n$, only the **fastest-growing term** in $n$ matters. \n",
    "\n",
    "Let's look at the growth of a few simple terms."
   ]
  },
  {
   "cell_type": "code",
   "execution_count": 7,
   "metadata": {
    "slideshow": {
     "slide_type": "subslide"
    }
   },
   "outputs": [],
   "source": [
    "import math\n",
    "import matplotlib.pyplot as plt\n",
    "%matplotlib inline"
   ]
  },
  {
   "cell_type": "code",
   "execution_count": 40,
   "metadata": {
    "slideshow": {
     "slide_type": "-"
    }
   },
   "outputs": [],
   "source": [
    "plt.rcParams[\"figure.figsize\"] = (8, 5)\n",
    "plt.rcParams.update({'font.size': 14})"
   ]
  },
  {
   "cell_type": "code",
   "execution_count": 41,
   "metadata": {
    "slideshow": {
     "slide_type": "subslide"
    }
   },
   "outputs": [],
   "source": [
    "ns = range(2, 21)\n",
    "growths = {\n",
    "    \"constant\": lambda n: 1,\n",
    "    \"logarithmic\": lambda n: math.log(n),\n",
    "    \"linear\": lambda n: n,\n",
    "    \"log-linear\": lambda n: n * math.log(n),\n",
    "    \"quadratic\": lambda n: n ** 2\n",
    "}"
   ]
  },
  {
   "cell_type": "code",
   "execution_count": 42,
   "metadata": {
    "slideshow": {
     "slide_type": "subslide"
    }
   },
   "outputs": [
    {
     "data": {
      "image/png": "[encoded data removed]",
      "text/plain": [
       "<Figure size 576x360 with 1 Axes>"
      ]
     },
     "metadata": {
      "needs_background": "light"
     },
     "output_type": "display_data"
    }
   ],
   "source": [
    "for growth in growths:\n",
    "    plt.plot(ns, [growths[growth](n) for n in ns], \n",
    "             label=growth)\n",
    "plt.legend(); plt.xlabel(\"n\"); \n",
    "plt.ylabel(\"n instructions\");"
   ]
  },
  {
   "cell_type": "markdown",
   "metadata": {
    "slideshow": {
     "slide_type": "subslide"
    }
   },
   "source": [
    "What we see is a huge discrepancy between terms even for small $n$."
   ]
  },
  {
   "cell_type": "markdown",
   "metadata": {
    "slideshow": {
     "slide_type": "subslide"
    }
   },
   "source": [
    "It doesn't matter if we execute 1000$\\times$ more instructions in one algorithm than another. Consider `1000*linear`, below."
   ]
  },
  {
   "cell_type": "markdown",
   "metadata": {
    "slideshow": {
     "slide_type": "fragment"
    }
   },
   "source": [
    "It also doesn't matter if one algorithm does a lot of extra setup that another doesn't. Consider `100000+linear`, below. \n"
   ]
  },
  {
   "cell_type": "markdown",
   "metadata": {
    "slideshow": {
     "slide_type": "fragment"
    }
   },
   "source": [
    "\n",
    "The `quadratic` function is still far worse than both even for this small $n=2000$."
   ]
  },
  {
   "cell_type": "code",
   "execution_count": 43,
   "metadata": {
    "slideshow": {
     "slide_type": "subslide"
    }
   },
   "outputs": [],
   "source": [
    "ns = range(2, 2001)\n",
    "growths = {\n",
    "    \"linear\": lambda n: n,\n",
    "    \"100000+linear\": lambda n: n + 100000,\n",
    "    \"1000*linear\": lambda n: n * 1000,\n",
    "    \"quadratic\": lambda n: n ** 2\n",
    "}"
   ]
  },
  {
   "cell_type": "code",
   "execution_count": 44,
   "metadata": {
    "slideshow": {
     "slide_type": "subslide"
    }
   },
   "outputs": [
    {
     "data": {
      "image/png": "[encoded data removed]",
      "text/plain": [
       "<Figure size 576x360 with 1 Axes>"
      ]
     },
     "metadata": {
      "needs_background": "light"
     },
     "output_type": "display_data"
    }
   ],
   "source": [
    "for growth in growths:\n",
    "    plt.plot(ns, [growths[growth](n) for n in ns], \n",
    "             label=growth)\n",
    "plt.legend(); plt.xlabel(\"n\"); \n",
    "plt.ylabel(\"n instructions\");"
   ]
  },
  {
   "cell_type": "markdown",
   "metadata": {
    "slideshow": {
     "slide_type": "subslide"
    }
   },
   "source": [
    "It also doesn't matter if one type of instruction is (say) 1000$\\times$ slower than another: again, consider `1000*linear` above. This justifies our (surprising) assumption that we can treat all instructions as equal.\n",
    "\n",
    "And, e.g., `sum(range(1000))` counts as **one instruction**."
   ]
  },
  {
   "cell_type": "markdown",
   "metadata": {
    "slideshow": {
     "slide_type": "subslide"
    }
   },
   "source": [
    "Therefore, for large $n$, the **number of instructions** of the **fastest-growing term** in $n$ is effectively **proportional** to runtime."
   ]
  },
  {
   "cell_type": "markdown",
   "metadata": {
    "slideshow": {
     "slide_type": "slide"
    }
   },
   "source": [
    "### \"Big O\" notation\n",
    "\n",
    "We **ignore** all slow-growing terms. The \"Big O\" notation (\"the order of complexity\") does just this:\n",
    "\n",
    "* Write the total number of instructions as a function of $n$, e.g. $10n^2 + 23n\\log(n) + 1000000$\n",
    "* Drop all but the fastest-growing term and drop its coefficient, and write in \"big O\" notation: $O(n^2)$.\n",
    "\n"
   ]
  },
  {
   "cell_type": "markdown",
   "metadata": {
    "slideshow": {
     "slide_type": "subslide"
    }
   },
   "source": [
    "**Exercise**: consider again the `element_exists(L, x)` function. We saw that its *worst-case* complexity is $O(n)$. What is its *average-case* complexity?"
   ]
  },
  {
   "cell_type": "markdown",
   "metadata": {
    "slideshow": {
     "slide_type": "fragment"
    }
   },
   "source": [
    "**Answer**: the average-case complexity is still $O(n)$. On average we will have to compare $n/2$ elements, so we'll do $n/2$ lookups and $n/2$ comparisons, giving $O(n)$."
   ]
  },
  {
   "cell_type": "markdown",
   "metadata": {
    "slideshow": {
     "slide_type": "subslide"
    }
   },
   "source": [
    "There are a few common \"Big O\" values. Here they are from slowest- to fastest-growing.\n",
    "\n",
    "* constant, $O(1)$\n",
    "* logarithmic, $O(\\log(n))$\n",
    "* linear, $O(n)$\n",
    "* log-linear aka quasi-linear, $O(n\\log(n))$\n",
    "* quadratic, $O(n^2)$"
   ]
  },
  {
   "cell_type": "markdown",
   "metadata": {
    "slideshow": {
     "slide_type": "subslide"
    }
   },
   "source": [
    "### Examples\n",
    "\n",
    "* We already argued that to check a particular item exists in a list of length $n$, we need $2n$ instructions. That is linear, $O(n)$.\n",
    "\n",
    "* Calculating the row-sum a square matrix of size $n$ is quadratic, $O(n^2)$.\n"
   ]
  },
  {
   "cell_type": "markdown",
   "metadata": {
    "slideshow": {
     "slide_type": "subslide"
    }
   },
   "source": [
    "* Sorting a list of length $n$ takes $O(n\\log(n))$. \n",
    "\n",
    "This is a classic example. It doesn't matter what algorithm you use, it can't be better than $O(n\\log(n))$. (There are algorithms which are much worse, e.g. **bubble sort**.) Thus, it is justified to talk about the complexity of the **problem**, not just the complexity of the **algorithm**."
   ]
  },
  {
   "cell_type": "markdown",
   "metadata": {
    "slideshow": {
     "slide_type": "slide"
    }
   },
   "source": [
    "### Rules of thumb\n",
    "\n",
    "* Every for-loop multiplies by a factor of $n$, e.g. this is $O(n^3)$:\n",
    "\n",
    "```python\n",
    "for i in range(n):\n",
    "    for j in range(n):\n",
    "        for k in range(n):\n",
    "            # do something\n",
    "```"
   ]
  },
  {
   "cell_type": "markdown",
   "metadata": {
    "slideshow": {
     "slide_type": "subslide"
    }
   },
   "source": [
    "Reading input data can usually be ignored. We usually just assume that reading an input file is $O(n)$, i.e. linear in the number of lines or file size, and so we ignore it. We know that processing won't be sub-linear, so the time spent reading data won't exceed it, so it can be ignored."
   ]
  },
  {
   "cell_type": "markdown",
   "metadata": {
    "slideshow": {
     "slide_type": "subslide"
    }
   },
   "source": [
    "People say things like \"comparison-based sorting algorithms like Merge sort take only Big O $O(n \\log(n))$ and so you can sort just about any amount of data in a feasible time\" (https://www.gwern.net/Complexity-vs-AI). Why does $O(n \\log(n))$ imply that it is feasible? "
   ]
  },
  {
   "cell_type": "markdown",
   "metadata": {
    "slideshow": {
     "slide_type": "fragment"
    }
   },
   "source": [
    "It's because $O(n\\log(n))$ is only a little slower than $O(n)$ itself. We already assume that we can read the data in feasible time, otherwise the question of sorting it would not arise. Reading it is $O(n)$. So if we can read it into RAM, we can sort it. If our RAM is not big enough, the sorting algorithm will be bottlenecked by *thrashing*."
   ]
  },
  {
   "cell_type": "markdown",
   "metadata": {
    "slideshow": {
     "slide_type": "subslide"
    }
   },
   "source": [
    "Sometimes we might have multiple inputs, e.g. two arrays of sizes $n$ and $m$, or a 2D array of size $n\\times m$. In these cases we might need $O()$ expressions in both $n$ and $m$. Alternatively we might just (conservatively) take $n$ to be the larger of $n$ and $m$."
   ]
  },
  {
   "cell_type": "markdown",
   "metadata": {
    "slideshow": {
     "slide_type": "slide"
    }
   },
   "source": [
    "The most important difference in practice is between linear and log-linear algorithms and quadratic. \n",
    "\n",
    "In a linear algorithm, \"you took some input and did something simple to each element\" (Accidentally Quadratic, http://accidentallyquadratic.tumblr.com/post/113840433022/why-accidentally-quadratic).\n",
    "\n",
    "A quadratic algorithm can occur if we need to traverse the whole input once for every element of the input. "
   ]
  },
  {
   "cell_type": "markdown",
   "metadata": {
    "slideshow": {
     "slide_type": "subslide"
    }
   },
   "source": [
    "$O(n\\log n)$ can occur if we take something like that and improve it with a tree structure, because the cost of traversing a tree from root to leaf is often $O(\\log n)$.\n",
    "\n",
    "Another place $O(n\\log n)$ occurs is in sorting algorithms, and one \"reason\" why it occurs there is that some algorithms work recursively, and so induce an implicit binary tree structure of function calls. "
   ]
  },
  {
   "cell_type": "markdown",
   "metadata": {
    "slideshow": {
     "slide_type": "subslide"
    }
   },
   "source": [
    "\n",
    "Exponential and factorial algorithms seem to occur mostly as algorithms that our common sense would probably tell us not to write in the first place."
   ]
  },
  {
   "cell_type": "markdown",
   "metadata": {
    "slideshow": {
     "slide_type": "subslide"
    }
   },
   "source": [
    "### Situations not governed by computational complexity\n",
    "\n",
    "Suppose we are running a webserver. Every request that comes in is approximately the same, small, size. We don't care about asymptotic complexity. We **do** care about the setup time and the coefficients!"
   ]
  },
  {
   "cell_type": "markdown",
   "metadata": {
    "slideshow": {
     "slide_type": "subslide"
    }
   },
   "source": [
    "We only care about computational complexity if we're going to have large inputs. Someone once criticised me for using an $O(n^2)$ algorithm instead of $O(n)$ in a situation where we knew $n < 7$. You might say \"well $6 < 6^2$, so it will be faster\". "
   ]
  },
  {
   "cell_type": "markdown",
   "metadata": {
    "slideshow": {
     "slide_type": "fragment"
    }
   },
   "source": [
    "But remember that for small $n$ the assumptions break down: we can't ignore the coefficient or the \"slow-growing\" terms. E.g. for $n < 7$, $n^2 < 20 + 3n$."
   ]
  },
  {
   "cell_type": "markdown",
   "metadata": {
    "slideshow": {
     "slide_type": "slide"
    }
   },
   "source": [
    "### Complexity in Python data structures\n",
    "\n",
    "We have been discussing idealised instructions. How do they correspond to Python source code?"
   ]
  },
  {
   "cell_type": "markdown",
   "metadata": {
    "slideshow": {
     "slide_type": "subslide"
    }
   },
   "source": [
    "Well, it turns out that many of the operations of the Python compound datatypes (`list`, `set`, `dict`, `tuple`) take time which depends on the size of the object (e.g. `list.find` takes time proportional to the length of the `list`).\n",
    "\n",
    "Therefore, we can't regard these as idealised instructions! Instead we have to see them as composed of multiple instructions and calculate how many of *those* there are."
   ]
  },
  {
   "cell_type": "markdown",
   "metadata": {
    "slideshow": {
     "slide_type": "subslide"
    }
   },
   "source": [
    "### Time complexity of basic Python operations\n",
    "\n",
    "The basic Python data types (list, tuple, set, dict, and a couple of\n",
    "  others) offer various operations, with various time\n",
    "  complexities. They make different trade-offs between time and memory\n",
    "  usage in different common cases and worst cases. Sometimes the right\n",
    "  choice can make a huge difference to our efficiency."
   ]
  },
  {
   "cell_type": "markdown",
   "metadata": {
    "slideshow": {
     "slide_type": "subslide"
    }
   },
   "source": [
    "Sources:\n",
    "\n",
    "* https://www.ics.uci.edu/~pattis/ICS-33/lectures/complexitypython.txt\n",
    "* https://wiki.python.org/moin/TimeComplexity\n",
    "* Downey, *Think Python*, Appendix B \n",
    "* Downey, *Think Complexity*, Chapter 3.\n"
   ]
  },
  {
   "cell_type": "markdown",
   "metadata": {
    "slideshow": {
     "slide_type": "slide"
    }
   },
   "source": [
    "### Lists\n",
    "\n",
    "```\n",
    "8   [ ][ ][ ][ ][ ][ ][ ][ ]\n",
    "                          ^\n",
    "```\n",
    "\n",
    "  A Python `list` is represented internally as an **array**\n",
    "  (contiguous cells in memory). Many operations involve iterating over\n",
    "  the items: $O(n)$. However, it stores a pointer to the end (so `append`\n",
    "  is constant-time) and remembers its length (so no need to iterate for `len`).\n",
    "\n",
    "  A `list` is also fast for changes at the end, but slow for changes near the\n",
    "  beginning: e.g. deleting the first item means that all other items\n",
    "  have to \"move\"."
   ]
  },
  {
   "cell_type": "markdown",
   "metadata": {
    "slideshow": {
     "slide_type": "subslide"
    }
   },
   "source": [
    "* $O(1)$: append, get and set item (`[]`), `len`\n",
    "* $O(n)$: insert item, delete item, iterate over, `min`, `x in L`"
   ]
  },
  {
   "cell_type": "markdown",
   "metadata": {
    "slideshow": {
     "slide_type": "subslide"
    }
   },
   "source": [
    "### Tuple\n",
    "\n",
    "Similar to list, for the operations that are allowed.\n"
   ]
  },
  {
   "cell_type": "markdown",
   "metadata": {
    "slideshow": {
     "slide_type": "slide"
    }
   },
   "source": [
    "### Dictionaries\n",
    "\n",
    "Recall that a **hash function** is the crucial ingredient in implementing \n",
    "`dict`s. (In fact, also in `set`s.) A hash function maps an object to an integer,\n",
    "uniformly distributed over some wide range.\n",
    "\n",
    "Recall that Python offers a general hash function `hash`, and some objects are **not hashable**."
   ]
  },
  {
   "cell_type": "code",
   "execution_count": 14,
   "metadata": {
    "slideshow": {
     "slide_type": "subslide"
    }
   },
   "outputs": [
    {
     "name": "stdout",
     "output_type": "stream",
     "text": [
      "2\n",
      "6999911826370106077\n"
     ]
    },
    {
     "ename": "TypeError",
     "evalue": "unhashable type: 'list'",
     "output_type": "error",
     "traceback": [
      "\u001b[1;31m---------------------------------------------------------------------------\u001b[0m",
      "\u001b[1;31mTypeError\u001b[0m                                 Traceback (most recent call last)",
      "\u001b[1;32m<ipython-input-14-131228568170>\u001b[0m in \u001b[0;36m<module>\u001b[1;34m\u001b[0m\n\u001b[0;32m      1\u001b[0m \u001b[0mprint\u001b[0m\u001b[1;33m(\u001b[0m\u001b[0mhash\u001b[0m\u001b[1;33m(\u001b[0m\u001b[1;36m2\u001b[0m\u001b[1;33m)\u001b[0m\u001b[1;33m)\u001b[0m\u001b[1;33m\u001b[0m\u001b[1;33m\u001b[0m\u001b[0m\n\u001b[0;32m      2\u001b[0m \u001b[0mprint\u001b[0m\u001b[1;33m(\u001b[0m\u001b[0mhash\u001b[0m\u001b[1;33m(\u001b[0m\u001b[1;34m'abc'\u001b[0m\u001b[1;33m)\u001b[0m\u001b[1;33m)\u001b[0m\u001b[1;33m\u001b[0m\u001b[1;33m\u001b[0m\u001b[0m\n\u001b[1;32m----> 3\u001b[1;33m \u001b[0mprint\u001b[0m\u001b[1;33m(\u001b[0m\u001b[0mhash\u001b[0m\u001b[1;33m(\u001b[0m\u001b[1;33m[\u001b[0m\u001b[1;36m5\u001b[0m\u001b[1;33m,\u001b[0m \u001b[1;36m6\u001b[0m\u001b[1;33m,\u001b[0m \u001b[1;36m7\u001b[0m\u001b[1;33m]\u001b[0m\u001b[1;33m)\u001b[0m\u001b[1;33m)\u001b[0m\u001b[1;33m\u001b[0m\u001b[1;33m\u001b[0m\u001b[0m\n\u001b[0m",
      "\u001b[1;31mTypeError\u001b[0m: unhashable type: 'list'"
     ]
    }
   ],
   "source": [
    "print(hash(2))\n",
    "print(hash('abc'))\n",
    "print(hash([5, 6, 7]))"
   ]
  },
  {
   "cell_type": "markdown",
   "metadata": {
    "slideshow": {
     "slide_type": "slide"
    }
   },
   "source": [
    "### Implementing a dictionary from scratch\n",
    "\n",
    "\n",
    "  (Warning: this is for illustration/intuition: the internal implementation is\n",
    "    much more complicated)\n",
    "\n",
    "Suppose we have a language with lists, but no dictionaries. To make a dictionary, we make a **list** `L` of some small\n",
    "    fixed size, e.g. 10, and fill with non-values:\n",
    "```python\n",
    "L = [(None, None), (None, None), ... (None, None)]\n",
    "```"
   ]
  },
  {
   "cell_type": "markdown",
   "metadata": {
    "slideshow": {
     "slide_type": "subslide"
    }
   },
   "source": [
    "To add a key `k` with value `v`, we calculate a \"bucket\" or \"pigeonhole\"\n",
    "which tells us where to write that key-value:\n",
    "```python\n",
    "i = hash(k) % 10\n",
    "```\n",
    "and we set \n",
    "```python\n",
    "L[i] = (k, v)\n",
    "```"
   ]
  },
  {
   "cell_type": "markdown",
   "metadata": {
    "slideshow": {
     "slide_type": "fragment"
    }
   },
   "source": [
    "To later retrieve the value for key `k`, we calculate `i` and get `L[i]`: its first element is `k` and second is `v`."
   ]
  },
  {
   "cell_type": "markdown",
   "metadata": {
    "slideshow": {
     "slide_type": "subslide"
    }
   },
   "source": [
    "### Dictionary performance\n",
    "* Calculating `hash` and looking up `list` element `i` are both $O(1)$ operations! \n",
    "  * (Constant with respect to the number of elements \"filled\" in `L`.)\n",
    "* However, a dict uses extra memory in return for this speedup:\n",
    "  * It makes a list of size 10, even when the dict is empty!\n",
    "* For many situations, this trade-off is well worth it."
   ]
  },
  {
   "cell_type": "markdown",
   "metadata": {
    "slideshow": {
     "slide_type": "slide"
    }
   },
   "source": [
    "### Hash collisions\n",
    "\n",
    "But sometimes two keys `k1`, `k2` could get the same `i` -- called a\n",
    "*hash collision*\n",
    "\n",
    "```python\n",
    "hash(2) % 10 # 2\n",
    "hash('abc') % 10 # 2\n",
    "```"
   ]
  },
  {
   "cell_type": "markdown",
   "metadata": {
    "slideshow": {
     "slide_type": "subslide"
    }
   },
   "source": [
    "So we need a bit more logic to avoid over-writing an existing\n",
    "key-value, or returning the wrong value, or reporting that an key is\n",
    "present when it's not."
   ]
  },
  {
   "cell_type": "markdown",
   "metadata": {
    "slideshow": {
     "slide_type": "subslide"
    }
   },
   "source": [
    "\n",
    "\n",
    "Because each element of the list contains the key, we\n",
    "can use an approach which checks it. One idea is called *linear probing*:\n",
    "\n",
    "When we are about to add a key-value pair\n",
    "at location `L[i]`, and there's already a *different* key\n",
    "there, just go to `L[i+1]` and see if there is an empty space there (and repeat as needed). (And the same thing when retrieving.)"
   ]
  },
  {
   "cell_type": "markdown",
   "metadata": {
    "slideshow": {
     "slide_type": "subslide"
    }
   },
   "source": [
    "This works as long as the list is sparsely populated, so there are few collisions and most linear probes end quickly.\n",
    "\n",
    "But eventually, if we keep adding key-values, we'll find a lot of\n",
    "collisions, so we'll spend forever linear probing, and get\n",
    "bad performance. Even worse, when the dictionary gets full, there's no space for new elements!"
   ]
  },
  {
   "cell_type": "markdown",
   "metadata": {
    "slideshow": {
     "slide_type": "subslide"
    }
   },
   "source": [
    "At that point we have to **re-hash**: \n",
    "\n",
    "* Make a new, much larger list `L`;\n",
    "* Re-calculate all the indices (`% len(L)`);\n",
    "* Copy each old element to its new location in the new list."
   ]
  },
  {
   "cell_type": "markdown",
   "metadata": {
    "slideshow": {
     "slide_type": "fragment"
    }
   },
   "source": [
    "That will take a long time, so our **worst-case time** for item addition is $O(n)$. But it happens **rarely**."
   ]
  },
  {
   "cell_type": "markdown",
   "metadata": {
    "slideshow": {
     "slide_type": "subslide"
    }
   },
   "source": [
    "### Amortized analysis\n",
    "\n",
    "* Typically, adding an entry to a `dict` takes $O(1)$;\n",
    "* Very rarely, it takes $O(n)$;\n",
    "* On average across many additions to a single `dict`, performance is practically constant-time."
   ]
  },
  {
   "cell_type": "markdown",
   "metadata": {
    "slideshow": {
     "slide_type": "subslide"
    }
   },
   "source": [
    "Since in any higher-level algorithm using `dict` we can expect to be adding to it many times, we are justified in using the `dict` average-case instead of worst-case. This is called **amortized analysis**.\n"
   ]
  },
  {
   "cell_type": "markdown",
   "metadata": {
    "slideshow": {
     "slide_type": "subslide"
    }
   },
   "source": [
    "### Dictionary performance\n",
    "\n",
    "  Thus, we have $O(1)$ average-case performance for common dict\n",
    "  operations:\n",
    "* $O(1)$: `x in d`, add item, retrieve item, delete item, `len`\n",
    "* $O(n)$: iterate over items"
   ]
  },
  {
   "cell_type": "markdown",
   "metadata": {
    "slideshow": {
     "slide_type": "slide"
    }
   },
   "source": [
    "### Sets\n",
    "\n",
    "  We could implement a set as a dictionary with keys and dummy values!\n",
    "\n",
    "  That is, for a set element `x` we would use the key-value pair\n",
    "  `(x, x)`.\n",
    "\n",
    "  In early Python, that's how `set` was implemented. (It's\n",
    "  optimized now.)"
   ]
  },
  {
   "cell_type": "markdown",
   "metadata": {
    "slideshow": {
     "slide_type": "subslide"
    }
   },
   "source": [
    "Result: the same $O(1)$ performance for common operations:\n",
    "\n",
    "* $O(1)$: `x in s`, add item, delete item, `len`\n",
    "* $O(n)$: iterate over items"
   ]
  },
  {
   "cell_type": "markdown",
   "metadata": {
    "slideshow": {
     "slide_type": "subslide"
    }
   },
   "source": [
    "**Exercise**: which is faster: `x in L` or `x in S` or `x in d`? (`list`, `set`, or `dict`)"
   ]
  },
  {
   "cell_type": "markdown",
   "metadata": {
    "slideshow": {
     "slide_type": "fragment"
    }
   },
   "source": [
    "**Solution**: `x in S` and `x in d` are both $O(1)$ while `x in L` is $O(n)$. \n",
    "\n",
    "\"The performance of dictionaries is one of the minor miracles of\n",
    "  computer science.\" -- Downey, *Think Complexity*."
   ]
  },
  {
   "cell_type": "markdown",
   "metadata": {
    "slideshow": {
     "slide_type": "slide"
    }
   },
   "source": [
    "### Double-ended queue\n",
    "\n",
    "  A list is fast for changes at the end, but slow for changes near the\n",
    "  beginning.  If modelling a true queue we would probably want to optimise for `append` (add at the end) and\n",
    "  `popleft` (remove from the front).\n",
    "\n",
    "  But Python provides a double-ended queue (`deque`) which makes both\n",
    "  ends fast.\n",
    "\n",
    "* $O(1)$: append, appendleft, pop, popleft, `len`\n",
    "* $O(n)$: get, set or remove element in the middle"
   ]
  },
  {
   "cell_type": "markdown",
   "metadata": {
    "slideshow": {
     "slide_type": "slide"
    }
   },
   "source": [
    "### Implications\n",
    "\n",
    "Many of our algorithms depend for run-time on careful choice of data structure\n",
    "* E.g. breadth-first search needs queue behaviour (\"first-in, first-out\"). We can emulate this behaviour using a list (append new item at one end, copy item and delete at the other), but this will be slow: a deque is much better."
   ]
  },
  {
   "cell_type": "markdown",
   "metadata": {
    "slideshow": {
     "slide_type": "slide"
    }
   },
   "source": [
    "### Example: Complexity of ML algorithms\n",
    "\n",
    "* What is the complexity of logistic regression?\n",
    "\n"
   ]
  },
  {
   "cell_type": "markdown",
   "metadata": {
    "slideshow": {
     "slide_type": "fragment"
    }
   },
   "source": [
    "* The **training** and the **prediction** algorithms are totally different!\n",
    "* What is $n$?"
   ]
  },
  {
   "cell_type": "markdown",
   "metadata": {
    "slideshow": {
     "slide_type": "subslide"
    }
   },
   "source": [
    "* For **prediction**, we take in a vector $x$. We predict the probability $p = 1/(1+e^{-wx})$. \n",
    "* The only possible $n$ is the number variables, i.e. `len(x)`. The calculation takes just $O(n)$.\n",
    "  "
   ]
  },
  {
   "cell_type": "markdown",
   "metadata": {
    "slideshow": {
     "slide_type": "subslide"
    }
   },
   "source": [
    "* For **training**, we have an input dataset with $n$ variables, and $m$ examples, and (suppose we use gradient descent) we iterate for some number of iterations $s$. It should be clear that our complexity will be **linear** in $m$ and in $n$ and in $s$, so it is $O(nms)$. Depending on what we are trying to achieve, we could just call that e.g. $O(m)$ (treating $n$ and $s$ as fixed).\n",
    "\n",
    "Caveat: we'll set $s$ in a way that may depend a bit on the difficulty of the problem!"
   ]
  }
 ],
 "metadata": {
  "celltoolbar": "Slideshow",
  "kernelspec": {
   "display_name": "Python 3",
   "language": "python",
   "name": "python3"
  },
  "language_info": {
   "codemirror_mode": {
    "name": "ipython",
    "version": 3
   },
   "file_extension": ".py",
   "mimetype": "text/x-python",
   "name": "python",
   "nbconvert_exporter": "python",
   "pygments_lexer": "ipython3",
   "version": "3.7.3"
  }
 },
 "nbformat": 4,
 "nbformat_minor": 2
}
