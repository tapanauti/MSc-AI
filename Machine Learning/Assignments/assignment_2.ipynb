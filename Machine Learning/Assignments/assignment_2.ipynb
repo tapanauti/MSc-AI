{
 "metadata": {
  "language_info": {
   "codemirror_mode": {
    "name": "ipython",
    "version": 3
   },
   "file_extension": ".py",
   "mimetype": "text/x-python",
   "name": "python",
   "nbconvert_exporter": "python",
   "pygments_lexer": "ipython3",
   "version": "3.8.3-final"
  },
  "orig_nbformat": 2,
  "kernelspec": {
   "name": "python3",
   "display_name": "Python 3"
  }
 },
 "nbformat": 4,
 "nbformat_minor": 2,
 "cells": [
  {
   "cell_type": "code",
   "execution_count": 2,
   "metadata": {},
   "outputs": [],
   "source": [
    "import pandas as pd\n",
    "import numpy as np"
   ]
  },
  {
   "cell_type": "code",
   "execution_count": 17,
   "metadata": {},
   "outputs": [],
   "source": [
    "def sg(z):\n",
    "    return 1 / (1 + np.exp(-z))\n",
    "\n",
    "def loss_gradient(beta, x, y):\n",
    "    z = np.dot(x,beta)\n",
    "    h = sg(z)\n",
    "    loss = (-y * np.log(h) - (1 - y) * np.log(1 - h)).mean()\n",
    "    gdn = np.dot(x.T, (y - h)) / y.size\n",
    "    grad = gdn + 300 / (2 * y.size) * np.concatenate(([0],beta[1:])).T\n",
    "    return loss, grad"
   ]
  },
  {
   "cell_type": "code",
   "execution_count": 23,
   "metadata": {},
   "outputs": [],
   "source": [
    "def model_fit(x, y, total_iterations=5000):\n",
    "    final_beta = []\n",
    "    label = np.unique(y)\n",
    "    all_loss = np.zeros(total_iterations)\n",
    "    \n",
    "    for c in label:\n",
    "        Y = np.where(y == c, 1, 0)\n",
    "        beta = np.zeros(x.shape[1])\n",
    "        for i in range(total_iterations):\n",
    "            all_loss[i], grad = loss_gradient(beta, x, Y)\n",
    "            beta += 0.01 * grad   \n",
    "        final_beta.append(beta)\n",
    "    return final_beta, label, all_loss"
   ]
  },
  {
   "cell_type": "code",
   "execution_count": 20,
   "metadata": {},
   "outputs": [],
   "source": [
    "def predict_prob(label, beta,x):   \n",
    "    preds = [np.argmax(\n",
    "        [sg(i @ j) for j in final_beta]\n",
    "    ) for i in x]\n",
    "    return [label[p] for p in preds]\n",
    "\n",
    "def accuracy(label, beta, x, y):\n",
    "    acc = predict_prob(label, beta, x)\n",
    "    predicted = []\n",
    "    actual = []\n",
    "    types = {0:\"ale\",1:\"stout\",2:\"lager\"}\n",
    "    for i in acc:\n",
    "        predicted.append(types[i])\n",
    "    for i in y:\n",
    "         actual.append(types[i])\n",
    "       \n",
    "\n",
    "    x = zip(predicted,actual)\n",
    "    f.write(\"\\n \\npredicted actual \\n \\n\")\n",
    "    f.write('\\n'.join('{} {}'.format(i[0],i[1]) for i in x))\n",
    "\n",
    "    return (acc == y).mean()\n",
    "   "
   ]
  },
  {
   "cell_type": "code",
   "execution_count": 21,
   "metadata": {},
   "outputs": [
    {
     "output_type": "execute_result",
     "data": {
      "text/plain": [
       "     calorific_value  nitrogen  turbidity   alcohol  sugars  bitterness  \\\n",
       "0          41.721239  0.503276   2.628182  4.015385   16.73   10.452789   \n",
       "1          42.429204  0.525512   1.776364  4.092308   16.72   10.999526   \n",
       "2          45.880531  0.443233   2.628182  4.276923   16.68   13.456368   \n",
       "3          45.305310  0.471668   1.806364  4.126154   18.84    9.202737   \n",
       "4          38.977876  0.392846   2.272727  4.015385   16.77    9.457895   \n",
       "..               ...       ...        ...       ...     ...         ...   \n",
       "149        39.951327  0.272587   5.217273  4.412308   16.68    6.008368   \n",
       "150        40.039823  0.347919   2.859091  4.178462   17.58    7.340842   \n",
       "151        43.977876  0.266770   3.775455  4.347692   19.10    7.356000   \n",
       "152        45.349558  0.255530   1.301818  4.160000   18.17    3.243579   \n",
       "153        41.190265  0.283403   2.620909  4.123077   19.60    7.554947   \n",
       "\n",
       "     colour  degree_of_fermentation  style  \n",
       "0     13.44               55.337143      0  \n",
       "1     12.24               58.380000      0  \n",
       "2     10.92               58.382857      0  \n",
       "3     10.92               58.525714      0  \n",
       "4     10.56               58.900000      0  \n",
       "..      ...                     ...    ...  \n",
       "149    6.84               74.757143      2  \n",
       "150    8.88               74.887143      2  \n",
       "151    7.32               75.894286      2  \n",
       "152   10.68               76.182857      2  \n",
       "153    8.04               79.134286      2  \n",
       "\n",
       "[154 rows x 9 columns]"
      ],
      "text/html": "<div>\n<style scoped>\n    .dataframe tbody tr th:only-of-type {\n        vertical-align: middle;\n    }\n\n    .dataframe tbody tr th {\n        vertical-align: top;\n    }\n\n    .dataframe thead th {\n        text-align: right;\n    }\n</style>\n<table border=\"1\" class=\"dataframe\">\n  <thead>\n    <tr style=\"text-align: right;\">\n      <th></th>\n      <th>calorific_value</th>\n      <th>nitrogen</th>\n      <th>turbidity</th>\n      <th>alcohol</th>\n      <th>sugars</th>\n      <th>bitterness</th>\n      <th>colour</th>\n      <th>degree_of_fermentation</th>\n      <th>style</th>\n    </tr>\n  </thead>\n  <tbody>\n    <tr>\n      <th>0</th>\n      <td>41.721239</td>\n      <td>0.503276</td>\n      <td>2.628182</td>\n      <td>4.015385</td>\n      <td>16.73</td>\n      <td>10.452789</td>\n      <td>13.44</td>\n      <td>55.337143</td>\n      <td>0</td>\n    </tr>\n    <tr>\n      <th>1</th>\n      <td>42.429204</td>\n      <td>0.525512</td>\n      <td>1.776364</td>\n      <td>4.092308</td>\n      <td>16.72</td>\n      <td>10.999526</td>\n      <td>12.24</td>\n      <td>58.380000</td>\n      <td>0</td>\n    </tr>\n    <tr>\n      <th>2</th>\n      <td>45.880531</td>\n      <td>0.443233</td>\n      <td>2.628182</td>\n      <td>4.276923</td>\n      <td>16.68</td>\n      <td>13.456368</td>\n      <td>10.92</td>\n      <td>58.382857</td>\n      <td>0</td>\n    </tr>\n    <tr>\n      <th>3</th>\n      <td>45.305310</td>\n      <td>0.471668</td>\n      <td>1.806364</td>\n      <td>4.126154</td>\n      <td>18.84</td>\n      <td>9.202737</td>\n      <td>10.92</td>\n      <td>58.525714</td>\n      <td>0</td>\n    </tr>\n    <tr>\n      <th>4</th>\n      <td>38.977876</td>\n      <td>0.392846</td>\n      <td>2.272727</td>\n      <td>4.015385</td>\n      <td>16.77</td>\n      <td>9.457895</td>\n      <td>10.56</td>\n      <td>58.900000</td>\n      <td>0</td>\n    </tr>\n    <tr>\n      <th>...</th>\n      <td>...</td>\n      <td>...</td>\n      <td>...</td>\n      <td>...</td>\n      <td>...</td>\n      <td>...</td>\n      <td>...</td>\n      <td>...</td>\n      <td>...</td>\n    </tr>\n    <tr>\n      <th>149</th>\n      <td>39.951327</td>\n      <td>0.272587</td>\n      <td>5.217273</td>\n      <td>4.412308</td>\n      <td>16.68</td>\n      <td>6.008368</td>\n      <td>6.84</td>\n      <td>74.757143</td>\n      <td>2</td>\n    </tr>\n    <tr>\n      <th>150</th>\n      <td>40.039823</td>\n      <td>0.347919</td>\n      <td>2.859091</td>\n      <td>4.178462</td>\n      <td>17.58</td>\n      <td>7.340842</td>\n      <td>8.88</td>\n      <td>74.887143</td>\n      <td>2</td>\n    </tr>\n    <tr>\n      <th>151</th>\n      <td>43.977876</td>\n      <td>0.266770</td>\n      <td>3.775455</td>\n      <td>4.347692</td>\n      <td>19.10</td>\n      <td>7.356000</td>\n      <td>7.32</td>\n      <td>75.894286</td>\n      <td>2</td>\n    </tr>\n    <tr>\n      <th>152</th>\n      <td>45.349558</td>\n      <td>0.255530</td>\n      <td>1.301818</td>\n      <td>4.160000</td>\n      <td>18.17</td>\n      <td>3.243579</td>\n      <td>10.68</td>\n      <td>76.182857</td>\n      <td>2</td>\n    </tr>\n    <tr>\n      <th>153</th>\n      <td>41.190265</td>\n      <td>0.283403</td>\n      <td>2.620909</td>\n      <td>4.123077</td>\n      <td>19.60</td>\n      <td>7.554947</td>\n      <td>8.04</td>\n      <td>79.134286</td>\n      <td>2</td>\n    </tr>\n  </tbody>\n</table>\n<p>154 rows × 9 columns</p>\n</div>"
     },
     "metadata": {},
     "execution_count": 21
    }
   ],
   "source": [
    "#Pre processing training data set beer_training.txt\n",
    "read_file = pd.read_csv (r'./beer.txt',delimiter='\\t', header = None)\n",
    "read_file.columns = ['calorific_value', 'nitrogen', 'turbidity', 'style', 'alcohol', 'sugars', 'bitterness', 'beer_id', 'colour', 'degree_of_fermentation']\n",
    "read_file.to_csv (r'./beer_training.csv', index=None)\n",
    "df = pd.read_csv(\"./beer_training.csv\",sep=\",\")\n",
    "df = df.drop(\"beer_id\", axis=1)\n",
    "first_col = df.pop(\"style\")\n",
    "df.insert(8, \"style\", first_col)\n",
    "df.to_csv('./beer_training.csv', index=None)\n",
    "df['style'] = df['style'].astype('category').cat.codes\n",
    "df"
   ]
  },
  {
   "cell_type": "code",
   "execution_count": 24,
   "metadata": {},
   "outputs": [
    {
     "output_type": "stream",
     "name": "stdout",
     "text": [
      "Train Accuracy for run 0: 0.752\n",
      "Test Accuracy for run 0 : 0.755\n",
      "Train Accuracy for run 1: 0.772\n",
      "Test Accuracy for run 1 : 0.736\n",
      "Train Accuracy for run 2: 0.752\n",
      "Test Accuracy for run 2 : 0.642\n",
      "Train Accuracy for run 3: 0.762\n",
      "Test Accuracy for run 3 : 0.698\n",
      "Train Accuracy for run 4: 0.802\n",
      "Test Accuracy for run 4 : 0.642\n",
      "Train Accuracy for run 5: 0.782\n",
      "Test Accuracy for run 5 : 0.717\n",
      "Train Accuracy for run 6: 0.743\n",
      "Test Accuracy for run 6 : 0.792\n",
      "Train Accuracy for run 7: 0.743\n",
      "Test Accuracy for run 7 : 0.755\n",
      "Train Accuracy for run 8: 0.752\n",
      "Test Accuracy for run 8 : 0.717\n",
      "Train Accuracy for run 9: 0.723\n",
      "Test Accuracy for run 9 : 0.792\n"
     ]
    }
   ],
   "source": [
    "with open('result.txt','w') as f:\n",
    "    \n",
    "    for i in range(0,10):\n",
    "        data = np.array(df)\n",
    "        np.random.shuffle(data)\n",
    "        num_train = int(.66 * len(data))  \n",
    "        x_train, y_train = data[:num_train, :-1], data[:num_train, -1]\n",
    "        x_test, y_test = data[num_train:, :-1], data[num_train:, -1]\n",
    "        final_beta, classes, losses = model_fit(x_train, y_train)\n",
    "        print(f\"Train Accuracy for run {i}: {accuracy(classes, final_beta, x_train, y_train):.3f}\")\n",
    "        print(f\"Test Accuracy for run {i} : {accuracy(classes, final_beta, x_test, y_test):.3f}\")"
   ]
  },
  {
   "cell_type": "code",
   "execution_count": null,
   "metadata": {},
   "outputs": [],
   "source": []
  }
 ]
}