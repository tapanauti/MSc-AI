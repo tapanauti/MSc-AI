{
 "metadata": {
  "language_info": {
   "codemirror_mode": {
    "name": "ipython",
    "version": 3
   },
   "file_extension": ".py",
   "mimetype": "text/x-python",
   "name": "python",
   "nbconvert_exporter": "python",
   "pygments_lexer": "ipython3",
   "version": "3.8.3-final"
  },
  "orig_nbformat": 2,
  "kernelspec": {
   "name": "python3",
   "display_name": "Python 3"
  }
 },
 "nbformat": 4,
 "nbformat_minor": 2,
 "cells": [
  {
   "cell_type": "code",
   "execution_count": 353,
   "metadata": {},
   "outputs": [],
   "source": [
    "import pandas as pd\n",
    "import numpy as np"
   ]
  },
  {
   "cell_type": "code",
   "execution_count": 354,
   "metadata": {},
   "outputs": [],
   "source": [
    "def sg(z):\n",
    "    return 1 / (1 + np.exp(-z))\n",
    "\n",
    "def loss_gradient(beta, x, y):\n",
    "    z = np.dot(x,beta)\n",
    "    h = sg(z)\n",
    "    loss = (-y * np.log(h) - (1 - y) * np.log(1 - h)).mean()\n",
    "    gdn = np.dot(x.T, (y - h)) / y.size\n",
    "    grad = gdn + 300 / (2 * y.size) * np.concatenate(([0],beta[1:])).T\n",
    "    return loss, grad"
   ]
  },
  {
   "cell_type": "code",
   "execution_count": 355,
   "metadata": {},
   "outputs": [],
   "source": [
    "def model_fit(x, y, total_iterations=5000):\n",
    "    final_beta = []\n",
    "    label = np.unique(y)\n",
    "    all_loss = np.zeros(total_iterations)\n",
    "    \n",
    "    for c in label:\n",
    "        Y = np.where(y == c, 1, 0)\n",
    "        beta = np.zeros(x.shape[1])\n",
    "        for i in range(total_iterations):\n",
    "            all_loss[i], grad = loss_gradient(beta, x, Y)\n",
    "            beta += 0.01 * grad   \n",
    "        final_beta.append(beta)\n",
    "    return final_beta, label, all_loss"
   ]
  },
  {
   "cell_type": "code",
   "execution_count": 356,
   "metadata": {},
   "outputs": [],
   "source": [
    "def predict_prob(label, beta,x):   \n",
    "    preds = [np.argmax(\n",
    "        [sg(i @ j) for j in final_beta]\n",
    "    ) for i in x]\n",
    "    return [label[p] for p in preds]\n",
    "\n",
    "def accuracy(label, beta, x, y):\n",
    "    acc = predict_prob(label, beta, x)\n",
    "    predicted = []\n",
    "    actual = []\n",
    "    types = {0:\"ale\",1:\"stout\",2:\"lager\"}\n",
    "    for i in acc:\n",
    "        predicted.append(types[i])\n",
    "    for i in y:\n",
    "         actual.append(types[i])\n",
    "       \n",
    "\n",
    "    x = zip(predicted,actual)\n",
    "    f.write(\"\\n \\npredicted actual \\n \\n\")\n",
    "    f.write('\\n'.join('{} {}'.format(i[0],i[1]) for i in x))\n",
    "\n",
    "    return (acc == y).mean()\n",
    "   "
   ]
  },
  {
   "cell_type": "code",
   "execution_count": 357,
   "metadata": {},
   "outputs": [
    {
     "output_type": "execute_result",
     "data": {
      "text/plain": [
       "   calorific_value  nitrogen  turbidity   alcohol  sugars  bitterness  colour  \\\n",
       "0        41.721239  0.503276   2.628182  4.015385   16.73   10.452789   13.44   \n",
       "1        42.429204  0.525512   1.776364  4.092308   16.72   10.999526   12.24   \n",
       "2        45.880531  0.443233   2.628182  4.276923   16.68   13.456368   10.92   \n",
       "3        45.305310  0.471668   1.806364  4.126154   18.84    9.202737   10.92   \n",
       "4        38.977876  0.392846   2.272727  4.015385   16.77    9.457895   10.56   \n",
       "\n",
       "   degree_of_fermentation  style  \n",
       "0               55.337143      0  \n",
       "1               58.380000      0  \n",
       "2               58.382857      0  \n",
       "3               58.525714      0  \n",
       "4               58.900000      0  "
      ],
      "text/html": "<div>\n<style scoped>\n    .dataframe tbody tr th:only-of-type {\n        vertical-align: middle;\n    }\n\n    .dataframe tbody tr th {\n        vertical-align: top;\n    }\n\n    .dataframe thead th {\n        text-align: right;\n    }\n</style>\n<table border=\"1\" class=\"dataframe\">\n  <thead>\n    <tr style=\"text-align: right;\">\n      <th></th>\n      <th>calorific_value</th>\n      <th>nitrogen</th>\n      <th>turbidity</th>\n      <th>alcohol</th>\n      <th>sugars</th>\n      <th>bitterness</th>\n      <th>colour</th>\n      <th>degree_of_fermentation</th>\n      <th>style</th>\n    </tr>\n  </thead>\n  <tbody>\n    <tr>\n      <th>0</th>\n      <td>41.721239</td>\n      <td>0.503276</td>\n      <td>2.628182</td>\n      <td>4.015385</td>\n      <td>16.73</td>\n      <td>10.452789</td>\n      <td>13.44</td>\n      <td>55.337143</td>\n      <td>0</td>\n    </tr>\n    <tr>\n      <th>1</th>\n      <td>42.429204</td>\n      <td>0.525512</td>\n      <td>1.776364</td>\n      <td>4.092308</td>\n      <td>16.72</td>\n      <td>10.999526</td>\n      <td>12.24</td>\n      <td>58.380000</td>\n      <td>0</td>\n    </tr>\n    <tr>\n      <th>2</th>\n      <td>45.880531</td>\n      <td>0.443233</td>\n      <td>2.628182</td>\n      <td>4.276923</td>\n      <td>16.68</td>\n      <td>13.456368</td>\n      <td>10.92</td>\n      <td>58.382857</td>\n      <td>0</td>\n    </tr>\n    <tr>\n      <th>3</th>\n      <td>45.305310</td>\n      <td>0.471668</td>\n      <td>1.806364</td>\n      <td>4.126154</td>\n      <td>18.84</td>\n      <td>9.202737</td>\n      <td>10.92</td>\n      <td>58.525714</td>\n      <td>0</td>\n    </tr>\n    <tr>\n      <th>4</th>\n      <td>38.977876</td>\n      <td>0.392846</td>\n      <td>2.272727</td>\n      <td>4.015385</td>\n      <td>16.77</td>\n      <td>9.457895</td>\n      <td>10.56</td>\n      <td>58.900000</td>\n      <td>0</td>\n    </tr>\n  </tbody>\n</table>\n</div>"
     },
     "metadata": {},
     "execution_count": 357
    }
   ],
   "source": [
    "#Pre processing training data set beer_training.txt\n",
    "read_file = pd.read_csv (r'./beer.txt',delimiter='\\t', header = None)\n",
    "read_file.columns = ['calorific_value', 'nitrogen', 'turbidity', 'style', 'alcohol', 'sugars', 'bitterness', 'beer_id', 'colour', 'degree_of_fermentation']\n",
    "read_file.to_csv (r'./beer_training.csv', index=None)\n",
    "df = pd.read_csv(\"./beer_training.csv\",sep=\",\")\n",
    "df = df.drop(\"beer_id\", axis=1)\n",
    "first_col = df.pop(\"style\")\n",
    "df.insert(8, \"style\", first_col)\n",
    "df.to_csv('./beer_training.csv', index=None)\n",
    "df['style'] = df['style'].astype('category').cat.codes\n",
    "df.head()"
   ]
  },
  {
   "cell_type": "code",
   "execution_count": 359,
   "metadata": {},
   "outputs": [
    {
     "output_type": "stream",
     "name": "stdout",
     "text": [
      "Train Accuracy for run 0: 0.762\n",
      "Test Accuracy for run 0 : 0.717\n",
      "Train Accuracy for run 1: 0.772\n",
      "Test Accuracy for run 1 : 0.736\n",
      "Train Accuracy for run 2: 0.762\n",
      "Test Accuracy for run 2 : 0.736\n",
      "Train Accuracy for run 3: 0.733\n",
      "Test Accuracy for run 3 : 0.792\n",
      "Train Accuracy for run 4: 0.723\n",
      "Test Accuracy for run 4 : 0.698\n",
      "Train Accuracy for run 5: 0.703\n",
      "Test Accuracy for run 5 : 0.755\n",
      "Train Accuracy for run 6: 0.782\n",
      "Test Accuracy for run 6 : 0.736\n",
      "Train Accuracy for run 7: 0.762\n",
      "Test Accuracy for run 7 : 0.736\n",
      "Train Accuracy for run 8: 0.752\n",
      "Test Accuracy for run 8 : 0.830\n",
      "Train Accuracy for run 9: 0.772\n",
      "Test Accuracy for run 9 : 0.679\n"
     ]
    }
   ],
   "source": [
    "with open('result.txt','w') as f:\n",
    "    \n",
    "    for i in range(0,10):\n",
    "        data = np.array(df)\n",
    "        np.random.shuffle(data)\n",
    "        num_train = int(.66 * len(data))  \n",
    "        x_train, y_train = data[:num_train, :-1], data[:num_train, -1]\n",
    "        x_test, y_test = data[num_train:, :-1], data[num_train:, -1]\n",
    "        final_beta, classes, losses = model_fit(x_train, y_train)\n",
    "        print(f\"Train Accuracy for run {i}: {accuracy(classes, final_beta, x_train, y_train):.3f}\")\n",
    "        print(f\"Test Accuracy for run {i} : {accuracy(classes, final_beta, x_test, y_test):.3f}\")"
   ]
  },
  {
   "cell_type": "code",
   "execution_count": null,
   "metadata": {},
   "outputs": [],
   "source": []
  }
 ]
}