{
 "cells": [
  {
   "cell_type": "code",
   "execution_count": 1,
   "metadata": {},
   "outputs": [],
   "source": [
    "import pandas as pd\n",
    "import numpy as np\n",
    "import matplotlib.pyplot as plt"
   ]
  },
  {
   "cell_type": "code",
   "execution_count": 2,
   "metadata": {},
   "outputs": [
    {
     "output_type": "execute_result",
     "data": {
      "text/plain": [
       "   calorific_value  nitrogen  turbidity   alcohol  sugars  bitterness  colour  \\\n",
       "0        45.305310  0.459548   1.917273  4.227692   16.67   12.568947   11.04   \n",
       "1        43.889381  0.548977   3.186364  4.289231   16.73   14.974000   13.44   \n",
       "2        41.588496  0.542847   1.568182  4.344615   16.48   11.848789   14.04   \n",
       "3        44.553097  0.480301   1.871818  4.424615   18.59   13.879632   12.48   \n",
       "4        41.013274  0.441860   2.345455  4.264615   16.35   12.186053   12.12   \n",
       "\n",
       "   degree_of_fermentation style  \n",
       "0               62.178571   ale  \n",
       "1               63.032857   ale  \n",
       "2               63.468571   ale  \n",
       "3               63.531429   ale  \n",
       "4               63.747143   ale  "
      ],
      "text/html": "<div>\n<style scoped>\n    .dataframe tbody tr th:only-of-type {\n        vertical-align: middle;\n    }\n\n    .dataframe tbody tr th {\n        vertical-align: top;\n    }\n\n    .dataframe thead th {\n        text-align: right;\n    }\n</style>\n<table border=\"1\" class=\"dataframe\">\n  <thead>\n    <tr style=\"text-align: right;\">\n      <th></th>\n      <th>calorific_value</th>\n      <th>nitrogen</th>\n      <th>turbidity</th>\n      <th>alcohol</th>\n      <th>sugars</th>\n      <th>bitterness</th>\n      <th>colour</th>\n      <th>degree_of_fermentation</th>\n      <th>style</th>\n    </tr>\n  </thead>\n  <tbody>\n    <tr>\n      <th>0</th>\n      <td>45.305310</td>\n      <td>0.459548</td>\n      <td>1.917273</td>\n      <td>4.227692</td>\n      <td>16.67</td>\n      <td>12.568947</td>\n      <td>11.04</td>\n      <td>62.178571</td>\n      <td>ale</td>\n    </tr>\n    <tr>\n      <th>1</th>\n      <td>43.889381</td>\n      <td>0.548977</td>\n      <td>3.186364</td>\n      <td>4.289231</td>\n      <td>16.73</td>\n      <td>14.974000</td>\n      <td>13.44</td>\n      <td>63.032857</td>\n      <td>ale</td>\n    </tr>\n    <tr>\n      <th>2</th>\n      <td>41.588496</td>\n      <td>0.542847</td>\n      <td>1.568182</td>\n      <td>4.344615</td>\n      <td>16.48</td>\n      <td>11.848789</td>\n      <td>14.04</td>\n      <td>63.468571</td>\n      <td>ale</td>\n    </tr>\n    <tr>\n      <th>3</th>\n      <td>44.553097</td>\n      <td>0.480301</td>\n      <td>1.871818</td>\n      <td>4.424615</td>\n      <td>18.59</td>\n      <td>13.879632</td>\n      <td>12.48</td>\n      <td>63.531429</td>\n      <td>ale</td>\n    </tr>\n    <tr>\n      <th>4</th>\n      <td>41.013274</td>\n      <td>0.441860</td>\n      <td>2.345455</td>\n      <td>4.264615</td>\n      <td>16.35</td>\n      <td>12.186053</td>\n      <td>12.12</td>\n      <td>63.747143</td>\n      <td>ale</td>\n    </tr>\n  </tbody>\n</table>\n</div>"
     },
     "metadata": {},
     "execution_count": 2
    }
   ],
   "source": [
    "#Pre processing training data set beer_training.txt\n",
    "read_file = pd.read_csv (r'./beer_training.txt',delimiter='\\t', header = None)\n",
    "read_file.columns = ['calorific_value', 'nitrogen', 'turbidity', 'style', 'alcohol', 'sugars', 'bitterness', 'beer_id', 'colour', 'degree_of_fermentation']\n",
    "read_file.to_csv (r'./beer_training.csv', index=None)\n",
    "ts = pd.read_csv(\"./beer_training.csv\",sep=\",\")\n",
    "ts = ts.drop(\"beer_id\", axis=1)\n",
    "first_col = ts.pop(\"style\")\n",
    "ts.insert(8, \"style\", first_col)\n",
    "ts.to_csv('./beer_training.csv', index=None)\n",
    "ts.head()\n",
    "#df.tail()"
   ]
  },
  {
   "cell_type": "code",
   "execution_count": 3,
   "metadata": {},
   "outputs": [
    {
     "output_type": "execute_result",
     "data": {
      "text/plain": [
       "   calorific_value  nitrogen  turbidity   alcohol  sugars  bitterness  colour  \\\n",
       "0        41.721239  0.503276   2.628182  4.015385   16.73   10.452789   13.44   \n",
       "1        42.429204  0.525512   1.776364  4.092308   16.72   10.999526   12.24   \n",
       "2        45.880531  0.443233   2.628182  4.276923   16.68   13.456368   10.92   \n",
       "3        45.305310  0.471668   1.806364  4.126154   18.84    9.202737   10.92   \n",
       "4        38.977876  0.392846   2.272727  4.015385   16.77    9.457895   10.56   \n",
       "\n",
       "   degree_of_fermentation style  \n",
       "0               55.337143   ale  \n",
       "1               58.380000   ale  \n",
       "2               58.382857   ale  \n",
       "3               58.525714   ale  \n",
       "4               58.900000   ale  "
      ],
      "text/html": "<div>\n<style scoped>\n    .dataframe tbody tr th:only-of-type {\n        vertical-align: middle;\n    }\n\n    .dataframe tbody tr th {\n        vertical-align: top;\n    }\n\n    .dataframe thead th {\n        text-align: right;\n    }\n</style>\n<table border=\"1\" class=\"dataframe\">\n  <thead>\n    <tr style=\"text-align: right;\">\n      <th></th>\n      <th>calorific_value</th>\n      <th>nitrogen</th>\n      <th>turbidity</th>\n      <th>alcohol</th>\n      <th>sugars</th>\n      <th>bitterness</th>\n      <th>colour</th>\n      <th>degree_of_fermentation</th>\n      <th>style</th>\n    </tr>\n  </thead>\n  <tbody>\n    <tr>\n      <th>0</th>\n      <td>41.721239</td>\n      <td>0.503276</td>\n      <td>2.628182</td>\n      <td>4.015385</td>\n      <td>16.73</td>\n      <td>10.452789</td>\n      <td>13.44</td>\n      <td>55.337143</td>\n      <td>ale</td>\n    </tr>\n    <tr>\n      <th>1</th>\n      <td>42.429204</td>\n      <td>0.525512</td>\n      <td>1.776364</td>\n      <td>4.092308</td>\n      <td>16.72</td>\n      <td>10.999526</td>\n      <td>12.24</td>\n      <td>58.380000</td>\n      <td>ale</td>\n    </tr>\n    <tr>\n      <th>2</th>\n      <td>45.880531</td>\n      <td>0.443233</td>\n      <td>2.628182</td>\n      <td>4.276923</td>\n      <td>16.68</td>\n      <td>13.456368</td>\n      <td>10.92</td>\n      <td>58.382857</td>\n      <td>ale</td>\n    </tr>\n    <tr>\n      <th>3</th>\n      <td>45.305310</td>\n      <td>0.471668</td>\n      <td>1.806364</td>\n      <td>4.126154</td>\n      <td>18.84</td>\n      <td>9.202737</td>\n      <td>10.92</td>\n      <td>58.525714</td>\n      <td>ale</td>\n    </tr>\n    <tr>\n      <th>4</th>\n      <td>38.977876</td>\n      <td>0.392846</td>\n      <td>2.272727</td>\n      <td>4.015385</td>\n      <td>16.77</td>\n      <td>9.457895</td>\n      <td>10.56</td>\n      <td>58.900000</td>\n      <td>ale</td>\n    </tr>\n  </tbody>\n</table>\n</div>"
     },
     "metadata": {},
     "execution_count": 3
    }
   ],
   "source": [
    "#Pre processing test data set beer_test.txt\n",
    "read_file = pd.read_csv (r'./beer_text.txt',delimiter='\\t', header = None)\n",
    "read_file.columns = ['calorific_value', 'nitrogen', 'turbidity', 'style', 'alcohol', 'sugars', 'bitterness', 'beer_id', 'colour', 'degree_of_fermentation']\n",
    "read_file.to_csv (r'./beer_text.csv', index=None)\n",
    "testSet = pd.read_csv(\"./beer_text.csv\",sep=\",\")\n",
    "testSet = testSet.drop(\"beer_id\", axis=1)\n",
    "first_col = testSet.pop(\"style\")\n",
    "testSet.insert(8, \"style\", first_col)\n",
    "testSet.to_csv('beer_text.csv', index=None)\n",
    "testSet.head()\n",
    "#df.tail()"
   ]
  },
  {
   "cell_type": "code",
   "execution_count": 4,
   "metadata": {},
   "outputs": [],
   "source": [
    "#X = ts.iloc[:,:-1].values\n",
    "#y = ts.iloc[:,8].values"
   ]
  },
  {
   "cell_type": "code",
   "execution_count": 30,
   "metadata": {},
   "outputs": [
    {
     "output_type": "stream",
     "name": "stdout",
     "text": [
      "(124, 8)\n(124,)\n(30, 8)\n(30,)\n"
     ]
    }
   ],
   "source": [
    "# Test and Training set\n",
    "X_train = ts.iloc[:,[0,1,2,3,4,5,6,7]].values\n",
    "y_train = ts.iloc[:, 8].values\n",
    "\n",
    "X_test = testSet.iloc[:,[0,1,2,3,4,5,6,7]].values\n",
    "y_test = testSet.iloc[:, 8].values\n",
    "print(X_train.shape)\n",
    "print(y_train.shape)\n",
    "print(X_test.shape)\n",
    "print(y_test.shape)"
   ]
  },
  {
   "cell_type": "code",
   "execution_count": 31,
   "metadata": {},
   "outputs": [],
   "source": [
    "#Feature Scale\n",
    "from sklearn.preprocessing import StandardScaler\n",
    "scaler = StandardScaler()\n",
    "scaler.fit(X_train)\n",
    "X_train = scaler.transform(X_train)\n",
    "X_test = scaler.transform(X_test)"
   ]
  },
  {
   "cell_type": "code",
   "execution_count": 32,
   "metadata": {},
   "outputs": [
    {
     "output_type": "execute_result",
     "data": {
      "text/plain": [
       "SVC()"
      ]
     },
     "metadata": {},
     "execution_count": 32
    }
   ],
   "source": [
    "#kNN\n",
    "from sklearn.svm import SVC\n",
    "classifier = SVC()\n",
    "classifier.fit(X_train, y_train)"
   ]
  },
  {
   "cell_type": "code",
   "execution_count": 33,
   "metadata": {},
   "outputs": [],
   "source": [
    "#Prediction\n",
    "y_pred = classifier.predict(X_test)"
   ]
  },
  {
   "cell_type": "code",
   "execution_count": 34,
   "metadata": {},
   "outputs": [
    {
     "output_type": "stream",
     "name": "stdout",
     "text": [
      "              precision    recall  f1-score   support\n\n         ale       1.00      0.80      0.89        10\n       lager       0.83      1.00      0.91        10\n       stout       1.00      1.00      1.00        10\n\n    accuracy                           0.93        30\n   macro avg       0.94      0.93      0.93        30\nweighted avg       0.94      0.93      0.93        30\n\n[[ 8  2  0]\n [ 0 10  0]\n [ 0  0 10]]\n0.9333333333333333\n"
     ]
    }
   ],
   "source": [
    "#Confusion Matrix\n",
    "from sklearn.metrics import classification_report, confusion_matrix, accuracy_score\n",
    "clsfnReport = classification_report(y_test, y_pred)\n",
    "confReport = confusion_matrix(y_test, y_pred)\n",
    "acc = accuracy_score(y_test, y_pred)\n",
    "print(clsfnReport)\n",
    "print(confReport)\n",
    "print(acc)"
   ]
  },
  {
   "cell_type": "code",
   "execution_count": 25,
   "metadata": {},
   "outputs": [
    {
     "output_type": "stream",
     "name": "stdout",
     "text": [
      "Classification Report\n              precision    recall  f1-score   support\n\n         ale       0.93      0.98      0.95        42\n       lager       0.98      0.91      0.94        44\n       stout       0.95      0.97      0.96        38\n\n    accuracy                           0.95       124\n   macro avg       0.95      0.95      0.95       124\nweighted avg       0.95      0.95      0.95       124\n\nConfusion Matrix\n[[41  0  1]\n [ 3 40  1]\n [ 0  1 37]]\nAccuracy\n0.9516129032258065\n"
     ]
    }
   ],
   "source": [
    "y_pred_train = classifier.predict(X_train)\n",
    "from sklearn.metrics import classification_report, confusion_matrix, accuracy_score\n",
    "clsfnReport = classification_report(y_train, y_pred_train)\n",
    "confReport = confusion_matrix(y_train, y_pred_train)\n",
    "acc = accuracy_score(y_train, y_pred_train)\n",
    "print('Classification Report')\n",
    "print(clsfnReport)\n",
    "print('Confusion Matrix')\n",
    "print(confReport)\n",
    "print('Accuracy')\n",
    "print(acc)"
   ]
  },
  {
   "cell_type": "code",
   "execution_count": null,
   "metadata": {},
   "outputs": [],
   "source": []
  }
 ],
 "metadata": {
  "kernelspec": {
   "display_name": "Python 3",
   "language": "python",
   "name": "python3"
  },
  "language_info": {
   "codemirror_mode": {
    "name": "ipython",
    "version": 3
   },
   "file_extension": ".py",
   "mimetype": "text/x-python",
   "name": "python",
   "nbconvert_exporter": "python",
   "pygments_lexer": "ipython3",
   "version": "3.8.3-final"
  }
 },
 "nbformat": 4,
 "nbformat_minor": 4
}