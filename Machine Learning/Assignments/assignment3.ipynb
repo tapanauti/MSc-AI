{
 "metadata": {
  "language_info": {
   "codemirror_mode": {
    "name": "ipython",
    "version": 3
   },
   "file_extension": ".py",
   "mimetype": "text/x-python",
   "name": "python",
   "nbconvert_exporter": "python",
   "pygments_lexer": "ipython3",
   "version": "3.8.3-final"
  },
  "orig_nbformat": 2,
  "kernelspec": {
   "name": "python3",
   "display_name": "Python 3",
   "language": "python"
  }
 },
 "nbformat": 4,
 "nbformat_minor": 2,
 "cells": [
  {
   "cell_type": "code",
   "execution_count": 2,
   "metadata": {},
   "outputs": [],
   "source": [
    "import pandas as pd\n",
    "import numpy as np\n",
    "import matplotlib.pyplot as plt"
   ]
  },
  {
   "cell_type": "code",
   "execution_count": 3,
   "metadata": {},
   "outputs": [
    {
     "output_type": "execute_result",
     "data": {
      "text/plain": [
       "   alcohol_by_weight  bitterness  nitrogen  turbidity  sugars  \\\n",
       "0           4.476190        10.4     0.500     1.6268   15.75   \n",
       "1           4.523810        10.3     0.530     1.6268   15.12   \n",
       "2           4.714286        11.5     0.740     0.7968   17.64   \n",
       "3           5.238095         8.4     0.465     1.6268   15.75   \n",
       "4           4.476190        11.0     0.730     0.7968   15.12   \n",
       "\n",
       "   degree_of_fermentation  calorific_value  density    pH  colour  sulphites  \\\n",
       "0                  66.470               41   0.9678  3.72  11.825    44.3750   \n",
       "1                  67.252               26   0.9676  3.73  13.760    36.2500   \n",
       "2                  82.110               32   0.9698  3.74  14.405    16.5625   \n",
       "3                  68.816               42   0.9666  3.86  16.770    33.1250   \n",
       "4                  60.214                9   0.9674  3.59  12.255    10.3125   \n",
       "\n",
       "   rating  \n",
       "0      60  \n",
       "1      61  \n",
       "2      61  \n",
       "3      60  \n",
       "4      60  "
      ],
      "text/html": "<div>\n<style scoped>\n    .dataframe tbody tr th:only-of-type {\n        vertical-align: middle;\n    }\n\n    .dataframe tbody tr th {\n        vertical-align: top;\n    }\n\n    .dataframe thead th {\n        text-align: right;\n    }\n</style>\n<table border=\"1\" class=\"dataframe\">\n  <thead>\n    <tr style=\"text-align: right;\">\n      <th></th>\n      <th>alcohol_by_weight</th>\n      <th>bitterness</th>\n      <th>nitrogen</th>\n      <th>turbidity</th>\n      <th>sugars</th>\n      <th>degree_of_fermentation</th>\n      <th>calorific_value</th>\n      <th>density</th>\n      <th>pH</th>\n      <th>colour</th>\n      <th>sulphites</th>\n      <th>rating</th>\n    </tr>\n  </thead>\n  <tbody>\n    <tr>\n      <th>0</th>\n      <td>4.476190</td>\n      <td>10.4</td>\n      <td>0.500</td>\n      <td>1.6268</td>\n      <td>15.75</td>\n      <td>66.470</td>\n      <td>41</td>\n      <td>0.9678</td>\n      <td>3.72</td>\n      <td>11.825</td>\n      <td>44.3750</td>\n      <td>60</td>\n    </tr>\n    <tr>\n      <th>1</th>\n      <td>4.523810</td>\n      <td>10.3</td>\n      <td>0.530</td>\n      <td>1.6268</td>\n      <td>15.12</td>\n      <td>67.252</td>\n      <td>26</td>\n      <td>0.9676</td>\n      <td>3.73</td>\n      <td>13.760</td>\n      <td>36.2500</td>\n      <td>61</td>\n    </tr>\n    <tr>\n      <th>2</th>\n      <td>4.714286</td>\n      <td>11.5</td>\n      <td>0.740</td>\n      <td>0.7968</td>\n      <td>17.64</td>\n      <td>82.110</td>\n      <td>32</td>\n      <td>0.9698</td>\n      <td>3.74</td>\n      <td>14.405</td>\n      <td>16.5625</td>\n      <td>61</td>\n    </tr>\n    <tr>\n      <th>3</th>\n      <td>5.238095</td>\n      <td>8.4</td>\n      <td>0.465</td>\n      <td>1.6268</td>\n      <td>15.75</td>\n      <td>68.816</td>\n      <td>42</td>\n      <td>0.9666</td>\n      <td>3.86</td>\n      <td>16.770</td>\n      <td>33.1250</td>\n      <td>60</td>\n    </tr>\n    <tr>\n      <th>4</th>\n      <td>4.476190</td>\n      <td>11.0</td>\n      <td>0.730</td>\n      <td>0.7968</td>\n      <td>15.12</td>\n      <td>60.214</td>\n      <td>9</td>\n      <td>0.9674</td>\n      <td>3.59</td>\n      <td>12.255</td>\n      <td>10.3125</td>\n      <td>60</td>\n    </tr>\n  </tbody>\n</table>\n</div>"
     },
     "metadata": {},
     "execution_count": 3
    }
   ],
   "source": [
    "#Pre processing training data set beer_training.txt\n",
    "read_file = pd.read_csv (r'./beer_ratings.txt',delimiter='\\t', header = None)\n",
    "read_file.columns = ['alcohol_by_weight', 'rating', 'bitterness', 'nitrogen', 'turbidity', 'sugars', 'degree_of_fermentation', 'calorific_value', 'density', 'pH','colour','sulphites']\n",
    "read_file.to_csv (r'./beer_ratings.csv', index=None)\n",
    "ts = pd.read_csv(\"./beer_ratings.csv\",sep=\",\")\n",
    "first_col = ts.pop(\"rating\")\n",
    "ts.insert(11, \"rating\", first_col)\n",
    "ts.to_csv('./beer_ratings.csv', index=None)\n",
    "ts.head()\n",
    "#df.tail()"
   ]
  },
  {
   "cell_type": "code",
   "execution_count": 10,
   "metadata": {},
   "outputs": [
    {
     "output_type": "stream",
     "name": "stdout",
     "text": [
      "[[10.4     0.5     1.6268 ...  3.72   11.825  44.375 ]\n [10.3     0.53    1.6268 ...  3.73   13.76   36.25  ]\n [11.5     0.74    0.7968 ...  3.74   14.405  16.5625]\n ...\n [10.9     0.6     1.6268 ...  3.81   16.985   6.25  ]\n [ 7.3     0.46    0.7968 ...  4.07   12.255  13.125 ]\n [12.6     0.45    1.6268 ...  3.82   19.565  11.5625]]\n"
     ]
    }
   ],
   "source": [
    "X = ts.iloc[:,[1,2,3,4,5,6,7,8,9,10]].values\n",
    "y = ts.iloc[:, 11].values"
   ]
  },
  {
   "cell_type": "code",
   "execution_count": 11,
   "metadata": {},
   "outputs": [],
   "source": [
    "from sklearn.model_selection import train_test_split\n",
    "X_train, X_test, y_train, y_test = train_test_split(X, y, test_size=0.2, random_state=0)"
   ]
  },
  {
   "cell_type": "code",
   "execution_count": 12,
   "metadata": {},
   "outputs": [
    {
     "output_type": "execute_result",
     "data": {
      "text/plain": [
       "LinearRegression()"
      ]
     },
     "metadata": {},
     "execution_count": 12
    }
   ],
   "source": [
    "from sklearn.linear_model import LinearRegression\n",
    "regressor = LinearRegression()\n",
    "regressor.fit(X_train, y_train)"
   ]
  },
  {
   "cell_type": "code",
   "execution_count": 14,
   "metadata": {},
   "outputs": [],
   "source": [
    "y_pred = regressor.predict(X_test)"
   ]
  },
  {
   "cell_type": "code",
   "execution_count": 15,
   "metadata": {},
   "outputs": [
    {
     "output_type": "stream",
     "name": "stdout",
     "text": [
      "Mean Absolute Error: 6.431695559709244\nMean Squared Error: 65.05033014340238\nRoot Mean Squared Error: 8.065378487300046\n"
     ]
    }
   ],
   "source": [
    "from sklearn import metrics\n",
    "print('Mean Absolute Error:', metrics.mean_absolute_error(y_test, y_pred))\n",
    "print('Mean Squared Error:', metrics.mean_squared_error(y_test, y_pred))\n",
    "print('Root Mean Squared Error:', np.sqrt(metrics.mean_squared_error(y_test, y_pred)))"
   ]
  },
  {
   "cell_type": "code",
   "execution_count": 16,
   "metadata": {},
   "outputs": [
    {
     "output_type": "execute_result",
     "data": {
      "text/plain": [
       "0.3636778393397666"
      ]
     },
     "metadata": {},
     "execution_count": 16
    }
   ],
   "source": [
    "metrics.r2_score(y_test,y_pred)"
   ]
  },
  {
   "cell_type": "code",
   "execution_count": null,
   "metadata": {},
   "outputs": [],
   "source": []
  }
 ]
}