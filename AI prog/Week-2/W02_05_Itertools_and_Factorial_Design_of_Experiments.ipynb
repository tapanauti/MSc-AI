{
 "cells": [
  {
   "cell_type": "markdown",
   "metadata": {
    "slideshow": {
     "slide_type": "slide"
    }
   },
   "source": [
    "<center><img src=img/MScAI_brand.png width=70%></center>\n",
    "\n",
    "# `itertools` and Factorial Design of Experiments"
   ]
  },
  {
   "cell_type": "markdown",
   "metadata": {
    "slideshow": {
     "slide_type": "notes"
    }
   },
   "source": [
    "# Itertools\n",
    "\n",
    "`itertools` is one of my favourite modules in the Python standard library. It provides a lot of functions for creating iterators, especially for things like permutations, combinations, and Cartesian products. See https://docs.python.org/3/library/itertools.html for the full documentation including great examples."
   ]
  },
  {
   "cell_type": "markdown",
   "metadata": {
    "slideshow": {
     "slide_type": "slide"
    }
   },
   "source": [
    "### Example: Factorial Design of Experiments"
   ]
  },
  {
   "cell_type": "markdown",
   "metadata": {
    "slideshow": {
     "slide_type": "notes"
    }
   },
   "source": [
    "Let's pretend we are working with neural networks. Let's pretend we have programmed a neural network training function `NN(alpha, beta)` where the two parameters are numbers that control how it behaves. Suppose it returns one number representing performance (higher is better). "
   ]
  },
  {
   "cell_type": "code",
   "execution_count": 1,
   "metadata": {
    "slideshow": {
     "slide_type": "subslide"
    }
   },
   "outputs": [],
   "source": [
    "import random\n",
    "def NN(alpha, beta):\n",
    "    # warning, this is just a placeholder.\n",
    "    return alpha * random.random() + (\n",
    "        1 - beta) * random.randrange(2)"
   ]
  },
  {
   "cell_type": "markdown",
   "metadata": {
    "slideshow": {
     "slide_type": "notes"
    }
   },
   "source": [
    "We want to decide what are the best values for these parameters, i.e. what values gives the highest performance. Suppose we have a few likely values for each, already. We'll use nested for loops as follows."
   ]
  },
  {
   "cell_type": "code",
   "execution_count": 2,
   "metadata": {
    "slideshow": {
     "slide_type": "fragment"
    }
   },
   "outputs": [
    {
     "name": "stdout",
     "output_type": "stream",
     "text": [
      "0.0 0 0.0\n",
      "0.0 1 0.0\n",
      "0.1 0 1.0638748038774313\n",
      "0.1 1 0.09007449459279822\n",
      "0.2 0 1.1301372412978836\n",
      "0.2 1 0.015563778529370187\n"
     ]
    }
   ],
   "source": [
    "alphas = [0.0, 0.1, 0.2]\n",
    "betas = [0, 1]\n",
    "for alpha in alphas:\n",
    "    for beta in betas:\n",
    "        print(alpha, beta, NN(alpha, beta))"
   ]
  },
  {
   "cell_type": "markdown",
   "metadata": {
    "slideshow": {
     "slide_type": "notes"
    }
   },
   "source": [
    "This is called a *factorial design of experiments*. We had two *factors* and we tried every possible value and we can judge which is the best.\n",
    "\n",
    "However, the program design is bad in one way. What if our colleagues suggest to add another hyperparameter `gamma`?"
   ]
  },
  {
   "cell_type": "code",
   "execution_count": 3,
   "metadata": {
    "slideshow": {
     "slide_type": "subslide"
    }
   },
   "outputs": [],
   "source": [
    "def NN(alpha, beta, gamma):\n",
    "    # warning, this is just a placeholder.\n",
    "    return (alpha * random.random() + \n",
    "            (1 - beta) * \n",
    "            random.randrange(2) / gamma)"
   ]
  },
  {
   "cell_type": "code",
   "execution_count": null,
   "metadata": {
    "slideshow": {
     "slide_type": "subslide"
    }
   },
   "outputs": [],
   "source": [
    "alphas = [0.0, 0.1, 0.2]\n",
    "betas = [0, 1]\n",
    "gammas = [0.9, 0.99, 0.999, 0.9999]\n",
    "for alpha in alphas:\n",
    "    for beta in betas:\n",
    "        for gamma in gammas:\n",
    "            print(alpha, beta, gamma, \n",
    "                  NN(alpha, beta, gamma))"
   ]
  },
  {
   "cell_type": "markdown",
   "metadata": {
    "slideshow": {
     "slide_type": "notes"
    }
   },
   "source": [
    "The addition of the extra hyperparameter means we have to change the structure, adding a for-loop. If we have a lot of hyperparameters, our code will look awful and will be a pain to work with."
   ]
  },
  {
   "cell_type": "code",
   "execution_count": 4,
   "metadata": {
    "slideshow": {
     "slide_type": "subslide"
    }
   },
   "outputs": [
    {
     "name": "stdout",
     "output_type": "stream",
     "text": [
      "0.0 0 0.9 0.0\n",
      "0.0 0 0.99 1.0101010101010102\n",
      "0.0 0 0.999 0.0\n",
      "0.0 0 0.9999 1.000100010001\n",
      "0.0 1 0.9 0.0\n",
      "0.0 1 0.99 0.0\n",
      "0.0 1 0.999 0.0\n",
      "0.0 1 0.9999 0.0\n",
      "0.1 0 0.9 1.1558396000819633\n",
      "0.1 0 0.99 0.05966784325368675\n",
      "0.1 0 0.999 1.0717814645906805\n",
      "0.1 0 0.9999 0.08348786761663249\n",
      "0.1 1 0.9 0.026967774875449504\n",
      "0.1 1 0.99 0.03109578891139805\n",
      "0.1 1 0.999 0.033408642342887165\n",
      "0.1 1 0.9999 0.014099061754399622\n",
      "0.2 0 0.9 0.013180929834195077\n",
      "0.2 0 0.99 1.0932624835597278\n",
      "0.2 0 0.999 0.010007774240233958\n",
      "0.2 0 0.9999 0.154025250487095\n",
      "0.2 1 0.9 0.009814100695902961\n",
      "0.2 1 0.99 0.13053908579954676\n",
      "0.2 1 0.999 0.08986472883750807\n",
      "0.2 1 0.9999 0.10043362111024019\n"
     ]
    }
   ],
   "source": [
    "import itertools\n",
    "\n",
    "alphas = [0.0, 0.1, 0.2]\n",
    "betas = [0, 1]\n",
    "gammas = [0.9, 0.99, 0.999, 0.9999]\n",
    "\n",
    "# \"Cartesian product\", ie a grid over \n",
    "# alphas x betas x gammas\n",
    "for alpha, beta, gamma in itertools.product(\n",
    "    alphas, betas, gammas): \n",
    "    print(alpha, beta, gamma, \n",
    "          NN(alpha, beta, gamma))"
   ]
  },
  {
   "cell_type": "markdown",
   "metadata": {
    "slideshow": {
     "slide_type": "notes"
    }
   },
   "source": [
    "`itertools.product` gives us an iterator over all the possible hyperparameter settings. Highly neat!"
   ]
  },
  {
   "cell_type": "markdown",
   "metadata": {
    "slideshow": {
     "slide_type": "slide"
    }
   },
   "source": [
    "### Further reading\n",
    "\n",
    "* The `itertools` docs are good: https://docs.python.org/3/library/itertools.html\n",
    "* There are some great recipes too: https://docs.python.org/3/library/itertools.html#itertools-recipes\n",
    "\n",
    "* A study in algorithmic thinking and clear, simple Python from Peter Norvig, examples of comprehensions and generators, and more `itertools`: http://nbviewer.jupyter.org/url/norvig.com/ipython/Golomb-Puzzle.ipynb (By the way, you don't need to understand the parts about coloured rectangles and animations.)\n",
    "\n"
   ]
  }
 ],
 "metadata": {
  "anaconda-cloud": {},
  "celltoolbar": "Slideshow",
  "kernelspec": {
   "display_name": "Python 3",
   "language": "python",
   "name": "python3"
  },
  "language_info": {
   "codemirror_mode": {
    "name": "ipython",
    "version": 3
   },
   "file_extension": ".py",
   "mimetype": "text/x-python",
   "name": "python",
   "nbconvert_exporter": "python",
   "pygments_lexer": "ipython3",
   "version": "3.7.3"
  }
 },
 "nbformat": 4,
 "nbformat_minor": 1
}
