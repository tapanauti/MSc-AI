{
 "cells": [
  {
   "cell_type": "markdown",
   "metadata": {
    "slideshow": {
     "slide_type": "slide"
    }
   },
   "source": [
    "<center><img src=img/MScAI_brand.png width=80%></center>\n",
    "\n",
    "# Exercise: Autonomous driving in a grid world\n"
   ]
  },
  {
   "cell_type": "markdown",
   "metadata": {
    "slideshow": {
     "slide_type": "slide"
    }
   },
   "source": [
    "\"...the most fundamental idea in programming: The evaluator, which determines the meaning of expressions in a programming language, is just another program ... we can regard almost any program as the evaluator for some language\" -- SICP, https://mitpress.mit.edu/sites/default/files/sicp/full-text/book/book-Z-H-25.html#%_chap_4\n",
    "\n"
   ]
  },
  {
   "cell_type": "markdown",
   "metadata": {
    "slideshow": {
     "slide_type": "subslide"
    }
   },
   "source": [
    "In this exercise, we are going to write a function which, depending on your point of view, either:\n",
    "* processes some input data\n",
    "* acts as an interpreter of an input program."
   ]
  },
  {
   "cell_type": "markdown",
   "metadata": {
    "slideshow": {
     "slide_type": "slide"
    }
   },
   "source": [
    "<center><img src=\"img/grid_driving.png\" width=30%></center>\n",
    "\n",
    "* Grid world, `xsize` x `ysize` in size\n",
    "* Car starts at (0, 0)\n",
    "* Controlled by program `prog`, e.g. `prog = \"NNNESSS\"`\n",
    "* `simulate(prog, xsize, ysize)`: how many cells visited, how many time-steps used\n",
    "* `plan(xsize, ysize)`: create a suitable `prog`."
   ]
  },
  {
   "cell_type": "markdown",
   "metadata": {
    "slideshow": {
     "slide_type": "notes"
    }
   },
   "source": [
    "This exercise is intended to help us get used to thinking about\n",
    "taking action in response to inputs, and also how to choose appropriate\n",
    "data structures for problems. By the way, despite the name \n",
    "this is just a simple game -- no connection to real-world self-driving\n",
    "cars.\n",
    "\n",
    "Suppose we are in charge of running a mapping service like Google Maps\n",
    "and we want our car to travel around a city, taking photographs as it goes. \n",
    "We want it to cover the entire city.\n",
    "\n",
    "To simplify the problem, let's suppose this is a city like Manhattan,\n",
    "arranged in a nice grid. Let's suppose the junction at the south-west\n",
    "corner is (0, 0), and the grid is `xsize` units from west to east, and\n",
    "`ysize` units from south to north. Our car will start at (0, 0).\n",
    "\n",
    "Our car will be controlled by a simple program, consisting of a string\n",
    "of letters (N, S, E, W). For example, \"NNNE\" means to move north three\n",
    "times and then east once. If any step in the program would drive the\n",
    "car off the grid and into the sea, the car is smart enough to just\n",
    "ignore that step and not move. \n",
    "\n",
    "We need two functions.\n",
    "\n",
    "The first function will be called `simulate`. Given a program, it\n",
    "should simulate driving around the grid under control of the program,\n",
    "and tracking the number of junctions visited and the number of\n",
    "time-steps required.\n",
    "\n",
    "Now for a given grid, for example a `3x4` grid, it would be easy to\n",
    "write out a program which efficiently traversed the entire grid in the\n",
    "minimum number of steps. However, for a large grid, this would be a\n",
    "pain. We need to write a function called `plan` which, given the \"city\n",
    "limits\" (ie `xsize` and `ysize`), will return the optimum program.\n",
    "\n",
    "When we run `plan` and feed its output to `simulate`, we should find\n",
    "that our car has visited all junctions `(xsize x ysize)` and used no\n",
    "more steps than needed `(xsize * ysize - 1)`."
   ]
  },
  {
   "cell_type": "markdown",
   "metadata": {
    "slideshow": {
     "slide_type": "slide"
    }
   },
   "source": [
    "# Docstrings\n",
    "\n",
    "To help us get started, templates for the two functions are provided \n",
    "below."
   ]
  },
  {
   "cell_type": "code",
   "execution_count": 1,
   "metadata": {},
   "outputs": [],
   "source": [
    "def simulate(prog, xsize, ysize):\n",
    "    \"\"\"Given a \"program\" *prog*, run that program by \"moving around\" and\n",
    "    tracking what happens.\n",
    "\n",
    "    Return the number of junctions visited and the number of\n",
    "    time-steps used.\n",
    "    \n",
    "    Examples of usage and results:\n",
    "\n",
    "    >>> simulate(\"NNN\", 100, 100)\n",
    "    (4, 3)\n",
    "    >>> simulate(\"NNNSSS\", 100, 100)\n",
    "    (4, 6)\n",
    "    >>> simulate(\"NNNESSS\", 100, 100)\n",
    "    (8, 7)\n",
    "    >>> simulate(\"NNNNNSSSSS\", 3, 3)\n",
    "    (3, 10)\n",
    "    >>> simulate(plan(10, 10), 10, 10)\n",
    "    (100, 99)\n",
    "    \"\"\"\n",
    "\n",
    "    return 0, 0 # TODO REPLACE WITH YOUR CODE\n"
   ]
  },
  {
   "cell_type": "code",
   "execution_count": 2,
   "metadata": {},
   "outputs": [],
   "source": [
    "def plan(xsize, ysize):\n",
    "    \"\"\"Given the city limits, return a program which moves around the\n",
    "    entire city. The program should be a string, eg \"NNESS\".\n",
    "\n",
    "    By the way, notice that doctest will insist that the \"expected\"\n",
    "    string, below, must be in single-quotes (''), not double-quotes\n",
    "    (\"\").\n",
    "\n",
    "    Our plan is: starting from the southwest, we traverse all the way\n",
    "    northwards, then one step east, then all the way southwards, then\n",
    "    one step east, and so on.\n",
    "\n",
    "    >>> plan(2, 2)\n",
    "    'NES'\n",
    "    >>> plan(2, 3)\n",
    "    'NNESS'\n",
    "\n",
    "    \"\"\"\n",
    "\n",
    "    return \"\" # TODO REPLACE WITH YOUR CODE\n",
    "\n"
   ]
  },
  {
   "cell_type": "markdown",
   "metadata": {
    "slideshow": {
     "slide_type": "notes"
    }
   },
   "source": [
    "Notice that each function starts with a multi-line comment, enclosed\n",
    "with triple-quotes `\"\"\" ... [multiple lines] ... \"\"\"`. This is called\n",
    "a *docstring*. We should write one for each function we create. \n",
    "Python documentation for libraries is usually created by automatically\n",
    "extracting the docstrings and formatting them for the web, e.g.: https://docs.python.org/3/library/collections.html#collections.defaultdict.\n"
   ]
  },
  {
   "cell_type": "markdown",
   "metadata": {
    "slideshow": {
     "slide_type": "slide"
    }
   },
   "source": [
    "\n",
    "# Doctests and test-driven development\n",
    "\n",
    "Notice we can add \"doctests\" to the\n",
    "docstring. Each doctest consists of a Python prompt `>>> `, then a function call, followed by\n",
    "the expected output on the next line.\n",
    "\n",
    "When we run the cell with `doctest.testmod()` at the bottom of the\n",
    "notebook, the `doctest` module will run any doctests it detects in docstrings in the notebook. \n",
    "In this case, it will call\n",
    "`simulate` and `plan` several times as specified in their docstrings, \n",
    "and check that the output matches the expected output."
   ]
  },
  {
   "cell_type": "code",
   "execution_count": 3,
   "metadata": {
    "slideshow": {
     "slide_type": "slide"
    }
   },
   "outputs": [
    {
     "name": "stdout",
     "output_type": "stream",
     "text": [
      "**********************************************************************\n",
      "File \"__main__\", line 13, in __main__.plan\n",
      "Failed example:\n",
      "    plan(2, 2)\n",
      "Expected:\n",
      "    'NES'\n",
      "Got:\n",
      "    ''\n",
      "**********************************************************************\n",
      "File \"__main__\", line 15, in __main__.plan\n",
      "Failed example:\n",
      "    plan(2, 3)\n",
      "Expected:\n",
      "    'NNESS'\n",
      "Got:\n",
      "    ''\n",
      "**********************************************************************\n",
      "File \"__main__\", line 10, in __main__.simulate\n",
      "Failed example:\n",
      "    simulate(\"NNN\", 100, 100)\n",
      "Expected:\n",
      "    (4, 3)\n",
      "Got:\n",
      "    (0, 0)\n",
      "**********************************************************************\n",
      "File \"__main__\", line 12, in __main__.simulate\n",
      "Failed example:\n",
      "    simulate(\"NNNSSS\", 100, 100)\n",
      "Expected:\n",
      "    (4, 6)\n",
      "Got:\n",
      "    (0, 0)\n",
      "**********************************************************************\n",
      "File \"__main__\", line 14, in __main__.simulate\n",
      "Failed example:\n",
      "    simulate(\"NNNESSS\", 100, 100)\n",
      "Expected:\n",
      "    (8, 7)\n",
      "Got:\n",
      "    (0, 0)\n",
      "**********************************************************************\n",
      "File \"__main__\", line 16, in __main__.simulate\n",
      "Failed example:\n",
      "    simulate(\"NNNNNSSSSS\", 3, 3)\n",
      "Expected:\n",
      "    (3, 10)\n",
      "Got:\n",
      "    (0, 0)\n",
      "**********************************************************************\n",
      "File \"__main__\", line 18, in __main__.simulate\n",
      "Failed example:\n",
      "    simulate(plan(10, 10), 10, 10)\n",
      "Expected:\n",
      "    (100, 99)\n",
      "Got:\n",
      "    (0, 0)\n",
      "**********************************************************************\n",
      "2 items had failures:\n",
      "   2 of   2 in __main__.plan\n",
      "   5 of   5 in __main__.simulate\n",
      "***Test Failed*** 7 failures.\n"
     ]
    },
    {
     "data": {
      "text/plain": [
       "TestResults(failed=7, attempted=7)"
      ]
     },
     "execution_count": 3,
     "metadata": {},
     "output_type": "execute_result"
    }
   ],
   "source": [
    "import doctest\n",
    "doctest.testmod()"
   ]
  },
  {
   "cell_type": "markdown",
   "metadata": {
    "slideshow": {
     "slide_type": "notes"
    }
   },
   "source": [
    "If all the outputs are correct, it won't print anything! If not,\n",
    "it will tell you, eg \"1 items had failures\" and give details. For\n",
    "more on doctests, see the official documentation:\n",
    "https://docs.python.org/3/library/doctest.html\n"
   ]
  },
  {
   "cell_type": "markdown",
   "metadata": {
    "slideshow": {
     "slide_type": "notes"
    }
   },
   "source": [
    "In *test-driven development* (TDD), developers work by writing their \n",
    "tests first (with function names), expecting them to fail, and then \n",
    "working on making them pass one by one. In our case, if we run the doctests immediately,\n",
    "we'll see that all \n",
    "tests fail, because `simulate` and `pass` don't do anything correct."
   ]
  },
  {
   "cell_type": "markdown",
   "metadata": {
    "slideshow": {
     "slide_type": "subslide"
    }
   },
   "source": [
    "**Exercises**: \n",
    "* In your own notebook, execute all code cells, and observe the failing tests.\n",
    "* Then write the functions `simulate` and `plan` and re-run the tests.\n",
    "* Idea: if it helps, write an extra function `draw` which outputs a simple text-based diagram of a car's path using `print()`.\n",
    "\n",
    " "
   ]
  }
 ],
 "metadata": {
  "celltoolbar": "Slideshow",
  "kernelspec": {
   "display_name": "Python 3",
   "language": "python",
   "name": "python3"
  },
  "language_info": {
   "codemirror_mode": {
    "name": "ipython",
    "version": 3
   },
   "file_extension": ".py",
   "mimetype": "text/x-python",
   "name": "python",
   "nbconvert_exporter": "python",
   "pygments_lexer": "ipython3",
   "version": "3.7.3"
  }
 },
 "nbformat": 4,
 "nbformat_minor": 2
}
