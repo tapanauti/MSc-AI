{
 "cells": [
  {
   "cell_type": "markdown",
   "metadata": {
    "slideshow": {
     "slide_type": "slide"
    }
   },
   "source": [
    "<center><img src=img/MScAI_brand.png width=80%></center>\n",
    "\n",
    "# The Substitution Model and the Environment Model"
   ]
  },
  {
   "cell_type": "markdown",
   "metadata": {
    "collapsed": true,
    "slideshow": {
     "slide_type": "slide"
    }
   },
   "source": [
    "### The substitution model\n",
    "\n",
    "Question: how does Python interpret a complex expression?\n",
    "\n",
    "*From the inside out*."
   ]
  },
  {
   "cell_type": "markdown",
   "metadata": {
    "slideshow": {
     "slide_type": "fragment"
    }
   },
   "source": [
    "An *expression* is a part of a program, consisting of values, variables, operators, and function calls. It can be simple, like `3`, or complex, like `math.sin(math.sqrt(x+12))`. Anyway, it has a single *value* (which could be a compound data structure -- but don't confuse a complex expression with a compound data structure). How can we tell what that value is?\n"
   ]
  },
  {
   "cell_type": "markdown",
   "metadata": {
    "slideshow": {
     "slide_type": "notes"
    }
   },
   "source": [
    "\n",
    "You are already familiar with the inside-out *substitution model* from basic arithmetic. To evaluate $\\sin(\\sqrt{x+12})$: first get the value of $x$, then $x+12$, then $\\sqrt{x+12}$, etc. At each step, we mentally substitute in the value (e.g. $16$, if we suppose $x=4$) in place of the sub-expression (e.g. $x+12$)."
   ]
  },
  {
   "cell_type": "markdown",
   "metadata": {
    "slideshow": {
     "slide_type": "subslide"
    }
   },
   "source": [
    "`math.sin(math.sqrt(x+12))`\n",
    "\n",
    "= `math.sin(math.sqrt(16))` (because $x=4$)\n",
    "\n",
    "= `sin(4.0)` (because $\\sqrt{16}=4$, and `sqrt` always returns a floating-point number)\n",
    "\n",
    "= `-.7568` (because $\\sin(4) = -.7568\\ldots$)"
   ]
  },
  {
   "cell_type": "markdown",
   "metadata": {
    "slideshow": {
     "slide_type": "fragment"
    }
   },
   "source": [
    "Thus, the *expression* `math.sin(math.sqrt(x+12))` has the *value* `-.7568...`."
   ]
  },
  {
   "cell_type": "markdown",
   "metadata": {
    "slideshow": {
     "slide_type": "fragment"
    }
   },
   "source": [
    "The substitution model in programming is just an extension of the substitution model in basic arithmetic. The value doesn't have to be a floating-point number as here. \n"
   ]
  },
  {
   "cell_type": "markdown",
   "metadata": {
    "slideshow": {
     "slide_type": "slide"
    }
   },
   "source": [
    "For example: suppose we have two functions, $f$ and $g$, and we want $f(g(x))$ for some $x$. Just like in maths, we can then write:\n",
    "\n",
    "```\n",
    "z = f(g(x))\n",
    "```\n",
    "\n",
    "If it helps, we can think of this as:\n",
    "\n",
    "```\n",
    "y = g(x)\n",
    "z = f(y)\n",
    "```"
   ]
  },
  {
   "cell_type": "markdown",
   "metadata": {
    "slideshow": {
     "slide_type": "slide"
    }
   },
   "source": [
    "Here's an example using the same concept, but with list access instead of function calls."
   ]
  },
  {
   "cell_type": "code",
   "execution_count": null,
   "metadata": {},
   "outputs": [],
   "source": [
    "M = [\n",
    "    [0, 1, 2, 3],\n",
    "    [4, 5, 6, 7],\n",
    "    [8, 9, 10, 11]\n",
    "]"
   ]
  },
  {
   "cell_type": "markdown",
   "metadata": {
    "slideshow": {
     "slide_type": "subslide"
    }
   },
   "source": [
    "We can access elements as follows:\n",
    "\n",
    "```python\n",
    "print(M[1][2])\n",
    "```"
   ]
  },
  {
   "cell_type": "markdown",
   "metadata": {
    "slideshow": {
     "slide_type": "subslide"
    }
   },
   "source": [
    "What does that expression mean? *Apply the substitution model*:\n",
    "\n",
    "```python\n",
    "print(M[1][2])\n",
    "```\n",
    "is the same as \n",
    "```python\n",
    "T = M[1]     # == [4, 5, 6, 7]\n",
    "print(T[2])  # == 6\n",
    "```"
   ]
  },
  {
   "cell_type": "markdown",
   "metadata": {
    "slideshow": {
     "slide_type": "fragment"
    }
   },
   "source": [
    "How did I know to take `M[1]` before `[1][2]`?\n",
    "\n",
    "That is, why is it treated as `(M[1])[2])` as opposed to `M([1][2])`?"
   ]
  },
  {
   "cell_type": "markdown",
   "metadata": {
    "slideshow": {
     "slide_type": "notes"
    }
   },
   "source": [
    "This is one of the rules of operator precedence in the language. The `[]` operator binds left-to-right. It has to be this way since `[1][2]` doesn't mean anything on its own!"
   ]
  },
  {
   "cell_type": "markdown",
   "metadata": {
    "slideshow": {
     "slide_type": "slide"
    }
   },
   "source": [
    "### The substitution model\n",
    "To evaluate a complex expression:\n",
    "\n",
    "* Find the *innermost* simple expression, evaluate it, and *substitute it* with the result.\n",
    "* Repeat until the result is simple.\n"
   ]
  },
  {
   "cell_type": "markdown",
   "metadata": {
    "slideshow": {
     "slide_type": "slide"
    }
   },
   "source": [
    "### Namespaces, Scope, and the Environment Model\n",
    "\n",
    "When the innermost simple expression is a *function call*, the story is the same (evaluate it and substitute the result), but we also have to think about variable *scope*."
   ]
  },
  {
   "cell_type": "markdown",
   "metadata": {
    "slideshow": {
     "slide_type": "slide"
    }
   },
   "source": [
    "### Namespaces\n",
    "\n",
    "In Python, a *namespace* is an environment in which names (\"variables\") are mapped to values. For example, within a function:\n",
    "```python\n",
    "def f(x):\n",
    "    y = 3\n",
    "    return x + y\n",
    "f(2)\n",
    "```\n",
    "the name `y` is mapped to an object of type `int` with value `3`. The name `x` is mapped to another object."
   ]
  },
  {
   "cell_type": "markdown",
   "metadata": {
    "slideshow": {
     "slide_type": "subslide"
    }
   },
   "source": [
    "\"Mapped to\" means that when Python is interpreting the code and encounters a name `y`, it can *look it up in the namespace* and find the corresponding value.\n",
    "\n",
    "So, it's useful to think of a namespace as being a bit like a dictionary:\n",
    "```python\n",
    "f_namespace = {\"x\": 2, \"y\": 3}\n",
    "```"
   ]
  },
  {
   "cell_type": "markdown",
   "metadata": {
    "slideshow": {
     "slide_type": "subslide"
    }
   },
   "source": [
    "Every program begins with the *global* namespace. When we call a function, a new *local* namespace is created, nested inside the current namespace."
   ]
  },
  {
   "cell_type": "markdown",
   "metadata": {
    "slideshow": {
     "slide_type": "fragment"
    }
   },
   "source": [
    "\n",
    "Objects, functions, and modules all create their own namespaces when they are called/created/imported. E.g. a name can be created inside a function called by a function attached to an object created by a function attached to an object created by a module. "
   ]
  },
  {
   "cell_type": "markdown",
   "metadata": {
    "slideshow": {
     "slide_type": "fragment"
    }
   },
   "source": [
    "For example, in a file called `math.py` there is an expression `pi = 3.14159...`. (Ok, we are simplifying a bit here.)\n",
    "\n",
    "`pi` is in the `math` namespace, and becomes accessible as `math.pi`. "
   ]
  },
  {
   "cell_type": "markdown",
   "metadata": {
    "slideshow": {
     "slide_type": "slide"
    }
   },
   "source": [
    "### Scope\n",
    "\n",
    "Names are accessible (*in scope*) from outer to inner (\"nested\") frames, but not the other way around."
   ]
  },
  {
   "cell_type": "code",
   "execution_count": 1,
   "metadata": {
    "slideshow": {
     "slide_type": "subslide"
    }
   },
   "outputs": [
    {
     "data": {
      "text/plain": [
       "9"
      ]
     },
     "execution_count": 1,
     "metadata": {},
     "output_type": "execute_result"
    }
   ],
   "source": [
    "z = 4\n",
    "def f(x):\n",
    "    y = 3\n",
    "    return x + y + z # z is in scope!\n",
    "f(2)"
   ]
  },
  {
   "cell_type": "code",
   "execution_count": 2,
   "metadata": {
    "slideshow": {
     "slide_type": "subslide"
    }
   },
   "outputs": [
    {
     "ename": "NameError",
     "evalue": "name 'y' is not defined",
     "output_type": "error",
     "traceback": [
      "\u001b[0;31m---------------------------------------------------------------------------\u001b[0m",
      "\u001b[0;31mNameError\u001b[0m                                 Traceback (most recent call last)",
      "\u001b[0;32m<ipython-input-2-358a1e62cf3e>\u001b[0m in \u001b[0;36m<module>\u001b[0;34m\u001b[0m\n\u001b[1;32m      4\u001b[0m     \u001b[0;32mreturn\u001b[0m \u001b[0mx\u001b[0m \u001b[0;34m+\u001b[0m \u001b[0my\u001b[0m \u001b[0;34m+\u001b[0m \u001b[0mz\u001b[0m \u001b[0;31m# z is in scope!\u001b[0m\u001b[0;34m\u001b[0m\u001b[0;34m\u001b[0m\u001b[0m\n\u001b[1;32m      5\u001b[0m \u001b[0mf\u001b[0m\u001b[0;34m(\u001b[0m\u001b[0;36m2\u001b[0m\u001b[0;34m)\u001b[0m\u001b[0;34m\u001b[0m\u001b[0;34m\u001b[0m\u001b[0m\n\u001b[0;32m----> 6\u001b[0;31m \u001b[0mprint\u001b[0m\u001b[0;34m(\u001b[0m\u001b[0my\u001b[0m\u001b[0;34m)\u001b[0m \u001b[0;31m# y is NOT in scope\u001b[0m\u001b[0;34m\u001b[0m\u001b[0;34m\u001b[0m\u001b[0m\n\u001b[0m",
      "\u001b[0;31mNameError\u001b[0m: name 'y' is not defined"
     ]
    }
   ],
   "source": [
    "z = 4\n",
    "def f(x):\n",
    "    y = 3\n",
    "    return x + y + z # z is in scope!\n",
    "f(2)\n",
    "print(y) # y is NOT in scope"
   ]
  },
  {
   "cell_type": "markdown",
   "metadata": {
    "slideshow": {
     "slide_type": "fragment"
    }
   },
   "source": [
    "Thus, namespaces can \"hide\" names from each other."
   ]
  },
  {
   "cell_type": "markdown",
   "metadata": {
    "slideshow": {
     "slide_type": "notes"
    }
   },
   "source": [
    "This is essential to creating large programs and re-using code by other people. In particular, it means that I can use `x` as a variable name without fearing a clash with a variable in some function in the `math` library, or in some module my co-worker is writing."
   ]
  },
  {
   "cell_type": "markdown",
   "metadata": {
    "slideshow": {
     "slide_type": "fragment"
    }
   },
   "source": [
    "**Further reading**: https://sebastianraschka.com/Articles/2014_python_scope_and_namespaces.html"
   ]
  },
  {
   "cell_type": "markdown",
   "metadata": {
    "slideshow": {
     "slide_type": "slide"
    }
   },
   "source": [
    "### How to call a function\n",
    "* Evaluate the arguments passed-in;\n",
    "* Create a new namespace with new variables (names given by formal parameters, values given by above evaluation);\n",
    "* Run the function body;\n",
    "* If it refers to any names not among the new variables, look in the enclosing namespace (recursively if necessary);\n",
    "* Return a value and substitute it for the function call in the enclosing namespace;\n",
    "* Delete the namespace we have created."
   ]
  },
  {
   "cell_type": "markdown",
   "metadata": {
    "slideshow": {
     "slide_type": "slide"
    }
   },
   "source": [
    "**Exercise**: evaluate this expression:\n",
    "```python\n",
    "def f(x):\n",
    "    return x[1] > 0\n",
    "print(19 if f([-2, -3, -4, -2]) else 18)\n",
    "```"
   ]
  },
  {
   "cell_type": "markdown",
   "metadata": {
    "slideshow": {
     "slide_type": "subslide"
    }
   },
   "source": [
    "Go to new namespace:\n",
    "\n",
    "  Inside `f`:\n",
    "```python\n",
    "x: [-2, -3, -4, -2] # create new name\n",
    "```\n",
    "Run the body:\n",
    "```python\n",
    "return x[1] > 0\n",
    "```\n",
    "\n",
    "Substitute\n",
    "```python\n",
    "return -3 > 0\n",
    "```\n",
    "\n",
    "Substitute\n",
    "```python\n",
    "return False\n",
    "```"
   ]
  },
  {
   "cell_type": "markdown",
   "metadata": {
    "slideshow": {
     "slide_type": "subslide"
    }
   },
   "source": [
    "Go back to enclosing namespace:\n",
    "```python\n",
    "print(19 if f([-2, -3, -4, -2]) else 18)\n",
    "```\n",
    "and substitute:\n",
    "```python\n",
    "print(19 if False else 18)\n",
    "```\n",
    "\n",
    "Substitute\n",
    "```python\n",
    "print(18)\n",
    "```"
   ]
  },
  {
   "cell_type": "markdown",
   "metadata": {
    "slideshow": {
     "slide_type": "notes"
    }
   },
   "source": [
    "By the way, this strange inside-out if-else-statement is Python's way of writing the *ternary expression* which would be written `f() ? 19 : 18` in Java or C."
   ]
  },
  {
   "cell_type": "markdown",
   "metadata": {
    "slideshow": {
     "slide_type": "slide"
    }
   },
   "source": [
    "### Mentally simulating the interpreter\n",
    "\n",
    "* The substitution model (like arithmetic)\n",
    "* The environment model (namespaces and scope)\n",
    "* Operator precedence (use parentheses when in doubt)\n",
    "* Implicit state (e.g. in for-loops).\n"
   ]
  },
  {
   "cell_type": "markdown",
   "metadata": {
    "slideshow": {
     "slide_type": "notes"
    }
   },
   "source": [
    "Mentally simulating the interpreter is a core skill in reading and writing code. It means pretending to \"be\" the interpreter, and knowing what it knows."
   ]
  }
 ],
 "metadata": {
  "anaconda-cloud": {},
  "celltoolbar": "Slideshow",
  "kernelspec": {
   "display_name": "Python 3",
   "language": "python",
   "name": "python3"
  },
  "language_info": {
   "codemirror_mode": {
    "name": "ipython",
    "version": 3
   },
   "file_extension": ".py",
   "mimetype": "text/x-python",
   "name": "python",
   "nbconvert_exporter": "python",
   "pygments_lexer": "ipython3",
   "version": "3.7.3"
  }
 },
 "nbformat": 4,
 "nbformat_minor": 1
}
