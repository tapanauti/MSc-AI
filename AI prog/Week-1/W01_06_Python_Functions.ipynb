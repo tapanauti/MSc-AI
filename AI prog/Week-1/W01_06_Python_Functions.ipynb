{
 "cells": [
  {
   "cell_type": "markdown",
   "metadata": {
    "slideshow": {
     "slide_type": "subslide"
    }
   },
   "source": [
    "<center><img src=img/MScAI_brand.png width=70%></center>\n",
    "\n",
    "# Functions"
   ]
  },
  {
   "cell_type": "markdown",
   "metadata": {
    "slideshow": {
     "slide_type": "notes"
    }
   },
   "source": [
    "Let's take a quick look at some aspects where Python functions differ from some other languages."
   ]
  },
  {
   "cell_type": "markdown",
   "metadata": {
    "slideshow": {
     "slide_type": "slide"
    }
   },
   "source": [
    "### Default parameters and keyword args\n",
    "\n",
    "When defining a function we can supply a *default parameter*, that is a default value for a parameter which is used if the caller doesn't pass anything."
   ]
  },
  {
   "cell_type": "code",
   "execution_count": 5,
   "metadata": {},
   "outputs": [
    {
     "name": "stdout",
     "output_type": "stream",
     "text": [
      "Hi, James\n",
      "Hello, James\n"
     ]
    }
   ],
   "source": [
    "def greet(name, greeting=\"Hello\"):\n",
    "    print(\"%s, %s\" % (greeting, name))\n",
    "greet(\"James\", \"Hi\")\n",
    "greet(\"James\")"
   ]
  },
  {
   "cell_type": "markdown",
   "metadata": {
    "slideshow": {
     "slide_type": "slide"
    }
   },
   "source": [
    "Default arguments are *keyword arguments*: they can be passed in any order (after the non-keyword arguments), but each must be passed together with the name (\"keyword\") that's used inside the function definition."
   ]
  },
  {
   "cell_type": "code",
   "execution_count": 6,
   "metadata": {},
   "outputs": [
    {
     "name": "stdout",
     "output_type": "stream",
     "text": [
      "Hi, James!!\n"
     ]
    }
   ],
   "source": [
    "def greet(name, greeting=\"Hello\", exclamation=\".\"):\n",
    "    print(\"%s, %s%s\" % (greeting, name, exclamation))\n",
    "# notice the last two args are in the \"wrong\" order, but it works ok:\n",
    "greet(\"James\", exclamation=\"!!\", greeting=\"Hi\")"
   ]
  },
  {
   "cell_type": "markdown",
   "metadata": {
    "slideshow": {
     "slide_type": "slide"
    }
   },
   "source": [
    "### None"
   ]
  },
  {
   "cell_type": "markdown",
   "metadata": {
    "slideshow": {
     "slide_type": ""
    }
   },
   "source": [
    "If a function doesn't return anything, then it implicitly returns the special null value called `None`:"
   ]
  },
  {
   "cell_type": "code",
   "execution_count": 9,
   "metadata": {
    "slideshow": {
     "slide_type": "fragment"
    }
   },
   "outputs": [
    {
     "name": "stdout",
     "output_type": "stream",
     "text": [
      "Hello, James.\n",
      "Here is x: None\n"
     ]
    },
    {
     "data": {
      "text/plain": [
       "NoneType"
      ]
     },
     "execution_count": 9,
     "metadata": {},
     "output_type": "execute_result"
    }
   ],
   "source": [
    "x = greet(\"James\")\n",
    "print(\"Here is x:\", x)\n",
    "type(x)"
   ]
  },
  {
   "cell_type": "markdown",
   "metadata": {
    "slideshow": {
     "slide_type": "slide"
    }
   },
   "source": [
    "A function can return multiple values, which is very handy:"
   ]
  },
  {
   "cell_type": "code",
   "execution_count": 12,
   "metadata": {
    "slideshow": {
     "slide_type": "fragment"
    }
   },
   "outputs": [
    {
     "name": "stdout",
     "output_type": "stream",
     "text": [
      "6 2\n"
     ]
    }
   ],
   "source": [
    "def max_argmax(L):\n",
    "    maxv = -float(\"inf\")\n",
    "    maxi = -1\n",
    "    for i, x in enumerate(L):\n",
    "        if x > maxv:\n",
    "            maxv = x\n",
    "            maxi = i\n",
    "    return maxv, maxi\n",
    "a, b = max_argmax([4, 5, 6])\n",
    "print(a, b)"
   ]
  },
  {
   "cell_type": "code",
   "execution_count": 13,
   "metadata": {
    "slideshow": {
     "slide_type": "fragment"
    }
   },
   "outputs": [
    {
     "data": {
      "text/plain": [
       "(10, 3)"
      ]
     },
     "execution_count": 13,
     "metadata": {},
     "output_type": "execute_result"
    }
   ],
   "source": [
    "max_argmax([5, 6, 7, 10, 3, 4, 9])"
   ]
  },
  {
   "cell_type": "markdown",
   "metadata": {
    "slideshow": {
     "slide_type": "notes"
    }
   },
   "source": [
    "In fact, what is really happening here is that the function is returning a *compound data structure*, specifically a *tuple*. "
   ]
  },
  {
   "cell_type": "markdown",
   "metadata": {
    "slideshow": {
     "slide_type": "slide"
    }
   },
   "source": [
    "Lambda expressions\n",
    "---\n",
    "\n",
    "`lambda` is a special syntax for defining small functions \"inline\" (eg inside another expression), and \"anonymously\" (without giving them names). The syntax is: \n",
    "\n",
    "```python\n",
    "lambda x: x**2\n",
    "```"
   ]
  },
  {
   "cell_type": "markdown",
   "metadata": {
    "slideshow": {
     "slide_type": "subslide"
    }
   },
   "source": [
    "That function has no name! If we assigned it to a variable `sq`:\n",
    "\n",
    "```python\n",
    "sq = lambda x: x**2\n",
    "```\n",
    "\n",
    "then this would be exactly equivalent to:\n",
    "\n",
    "```python\n",
    "def sq(x):\n",
    "    return x**2\n",
    "```"
   ]
  },
  {
   "cell_type": "markdown",
   "metadata": {
    "slideshow": {
     "slide_type": "notes"
    }
   },
   "source": [
    "But using `lambda` in that way would be pointless -- it would be better to just use `def`."
   ]
  },
  {
   "cell_type": "code",
   "execution_count": 15,
   "metadata": {
    "slideshow": {
     "slide_type": "subslide"
    }
   },
   "outputs": [
    {
     "data": {
      "text/plain": [
       "-20"
      ]
     },
     "execution_count": 15,
     "metadata": {},
     "output_type": "execute_result"
    }
   ],
   "source": [
    "max(range(-20, 10), key=lambda x: x**2)"
   ]
  },
  {
   "cell_type": "markdown",
   "metadata": {
    "slideshow": {
     "slide_type": "notes"
    }
   },
   "source": [
    "However, sometimes we *do* want to write a new, anonymous function inside another expression. Functions like `sort`, `min` and `max` accept a `key` argument, which should be a function that returns a single number to be used for sorting:"
   ]
  },
  {
   "cell_type": "markdown",
   "metadata": {
    "slideshow": {
     "slide_type": "subslide"
    }
   },
   "source": [
    "**Exercise**: what does the following mean? Apply the substitution model!\n",
    "```python\n",
    "(lambda x: x**2)(4)\n",
    "```"
   ]
  },
  {
   "cell_type": "markdown",
   "metadata": {
    "slideshow": {
     "slide_type": "slide"
    }
   },
   "source": [
    "### Call-by-value, call-by-reference, and copies of lists\n",
    "\n",
    "If we have studied other languages such as C and Java, we may be familiar with the terms *call-by-value* and *call-by-reference*. If not, we'll explain them now. Python uses a mixture of both."
   ]
  },
  {
   "cell_type": "markdown",
   "metadata": {
    "slideshow": {
     "slide_type": "subslide"
    }
   },
   "source": [
    "In *call-by-value*, the idea is that when we pass something to a function, it is the *value* that goes in. If we pass in a variable and change its value inside the function, that doesn't affect its value outside the function:"
   ]
  },
  {
   "cell_type": "code",
   "execution_count": 16,
   "metadata": {},
   "outputs": [
    {
     "name": "stdout",
     "output_type": "stream",
     "text": [
      "4\n",
      "3\n"
     ]
    }
   ],
   "source": [
    "def f(x):\n",
    "    x += 1\n",
    "    print(x)\n",
    "a = 3\n",
    "f(a)\n",
    "print(a)"
   ]
  },
  {
   "cell_type": "markdown",
   "metadata": {
    "slideshow": {
     "slide_type": "subslide"
    }
   },
   "source": [
    "By the way, if we *want* `f` to change the value of a parameter, then:\n",
    "\n",
    "1. We should try *not to want things like that*\n",
    "2. Usually better for `f` to *return* a new value:"
   ]
  },
  {
   "cell_type": "code",
   "execution_count": 17,
   "metadata": {
    "slideshow": {
     "slide_type": "fragment"
    }
   },
   "outputs": [
    {
     "name": "stdout",
     "output_type": "stream",
     "text": [
      "4\n",
      "4\n"
     ]
    }
   ],
   "source": [
    "def f(x):\n",
    "    x += 1\n",
    "    print(x)\n",
    "    return x\n",
    "a = 3\n",
    "a = f(a)\n",
    "print(a)"
   ]
  },
  {
   "cell_type": "markdown",
   "metadata": {
    "slideshow": {
     "slide_type": "subslide"
    }
   },
   "source": [
    "Case closed?\n",
    "\n",
    "No: immutable objects are (effectively) call-by-value, mutable objects are call-by-reference."
   ]
  },
  {
   "cell_type": "markdown",
   "metadata": {
    "slideshow": {
     "slide_type": "notes"
    }
   },
   "source": [
    "Ok, so Python is *call-by-value* as shown. Case closed? No: in fact, this is true only for *immutable* objects, which include the primitive types `int`, `float`, `str`, and `tuple`. Other objects including `list`, `dict`, and objects created by `class` (which we will see later), are mutable and are call-by-reference."
   ]
  },
  {
   "cell_type": "code",
   "execution_count": 18,
   "metadata": {
    "slideshow": {
     "slide_type": "subslide"
    }
   },
   "outputs": [
    {
     "name": "stdout",
     "output_type": "stream",
     "text": [
      "L [4, 5, 6, 1]\n",
      "M [4, 5, 6, 1]\n"
     ]
    }
   ],
   "source": [
    "def f(L):\n",
    "    L.append(1)\n",
    "    print(\"L\", L)\n",
    "M = [4, 5, 6]\n",
    "f(M)\n",
    "print(\"M\", M)"
   ]
  },
  {
   "cell_type": "markdown",
   "metadata": {
    "slideshow": {
     "slide_type": "notes"
    }
   },
   "source": [
    "As we can see, `L` has been changed inside `f` and the change has propagated to the `M` outside `f`. (We are using distinct variable names `L` and `M` to emphasise that they don't have to have the same name for this to happen.)"
   ]
  },
  {
   "cell_type": "markdown",
   "metadata": {
    "slideshow": {
     "slide_type": "subslide"
    }
   },
   "source": [
    "User-created objects are mutable too. We'll demonstrate this even though we haven't learned how classes work yet."
   ]
  },
  {
   "cell_type": "code",
   "execution_count": 19,
   "metadata": {
    "slideshow": {
     "slide_type": "fragment"
    }
   },
   "outputs": [
    {
     "name": "stdout",
     "output_type": "stream",
     "text": [
      "C(4)\n"
     ]
    }
   ],
   "source": [
    "def f(c):\n",
    "    c.a += 1\n",
    "class C:\n",
    "    def __init__(self, a):\n",
    "        self.a = a\n",
    "    def __str__(self):\n",
    "        return \"C(%d)\" % self.a\n",
    "c = C(3)\n",
    "f(c)\n",
    "print(c)"
   ]
  },
  {
   "cell_type": "markdown",
   "metadata": {
    "slideshow": {
     "slide_type": "subslide"
    }
   },
   "source": [
    "It might seem strange that a container like `str` is immutable, but it's true:"
   ]
  },
  {
   "cell_type": "code",
   "execution_count": 20,
   "metadata": {},
   "outputs": [
    {
     "ename": "TypeError",
     "evalue": "'str' object does not support item assignment",
     "output_type": "error",
     "traceback": [
      "\u001b[0;31m---------------------------------------------------------------------------\u001b[0m",
      "\u001b[0;31mTypeError\u001b[0m                                 Traceback (most recent call last)",
      "\u001b[0;32m<ipython-input-20-1e8d6214a068>\u001b[0m in \u001b[0;36m<module>\u001b[0;34m\u001b[0m\n\u001b[1;32m      1\u001b[0m \u001b[0ms\u001b[0m \u001b[0;34m=\u001b[0m \u001b[0;34m\"abc\"\u001b[0m\u001b[0;34m\u001b[0m\u001b[0;34m\u001b[0m\u001b[0m\n\u001b[0;32m----> 2\u001b[0;31m \u001b[0ms\u001b[0m\u001b[0;34m[\u001b[0m\u001b[0;36m1\u001b[0m\u001b[0;34m]\u001b[0m \u001b[0;34m=\u001b[0m \u001b[0;34m\"z\"\u001b[0m\u001b[0;34m\u001b[0m\u001b[0;34m\u001b[0m\u001b[0m\n\u001b[0m",
      "\u001b[0;31mTypeError\u001b[0m: 'str' object does not support item assignment"
     ]
    }
   ],
   "source": [
    "s = \"abc\"\n",
    "s[1] = \"z\""
   ]
  },
  {
   "cell_type": "markdown",
   "metadata": {
    "slideshow": {
     "slide_type": "subslide"
    }
   },
   "source": [
    "Functions which look like they change a string actually make and return a new one. E.g. here, the `replace` does not change `s`."
   ]
  },
  {
   "cell_type": "code",
   "execution_count": 22,
   "metadata": {},
   "outputs": [
    {
     "name": "stdout",
     "output_type": "stream",
     "text": [
      "abc\n",
      "zbc\n"
     ]
    }
   ],
   "source": [
    "s = \"abc\"\n",
    "s.replace(\"a\", \"z\")\n",
    "print(s)\n",
    "t = s.replace(\"a\", \"z\")\n",
    "print(t)"
   ]
  },
  {
   "cell_type": "markdown",
   "metadata": {
    "slideshow": {
     "slide_type": "subslide"
    }
   },
   "source": [
    "What we have seen about mutable objects passed to functions is also important when it comes to *copying*."
   ]
  },
  {
   "cell_type": "code",
   "execution_count": 23,
   "metadata": {},
   "outputs": [
    {
     "name": "stdout",
     "output_type": "stream",
     "text": [
      "[4, 5, 6, 7]\n"
     ]
    }
   ],
   "source": [
    "L = [4, 5, 6]\n",
    "M = L\n",
    "M.append(7)\n",
    "print(L)"
   ]
  },
  {
   "cell_type": "markdown",
   "metadata": {
    "slideshow": {
     "slide_type": "subslide"
    }
   },
   "source": [
    "The code `M = L` *did not copy* `L`. It just made a new name `M` and pointed it to the existing list object.\n",
    "\n",
    "<img src=\"img/list_copy.svg\">\n",
    "\n",
    "This reminds us: in Python, everything is an object. Objects have types. Variables don't have types, they are just names that point to objects."
   ]
  },
  {
   "cell_type": "markdown",
   "metadata": {
    "slideshow": {
     "slide_type": "subslide"
    }
   },
   "source": [
    "If we want to avoid this effect, we have to make a true copy. For most objects we can just pass the old object to the constructor:"
   ]
  },
  {
   "cell_type": "code",
   "execution_count": 25,
   "metadata": {},
   "outputs": [
    {
     "name": "stdout",
     "output_type": "stream",
     "text": [
      "[4, 5, 6]\n",
      "[4, 5, 6, 7]\n"
     ]
    }
   ],
   "source": [
    "L = [4, 5, 6]\n",
    "M = list(L)\n",
    "M.append(7)\n",
    "print(L)\n",
    "print(M)"
   ]
  }
 ],
 "metadata": {
  "anaconda-cloud": {},
  "celltoolbar": "Slideshow",
  "kernelspec": {
   "display_name": "Python 3",
   "language": "python",
   "name": "python3"
  },
  "language_info": {
   "codemirror_mode": {
    "name": "ipython",
    "version": 3
   },
   "file_extension": ".py",
   "mimetype": "text/x-python",
   "name": "python",
   "nbconvert_exporter": "python",
   "pygments_lexer": "ipython3",
   "version": "3.7.3"
  }
 },
 "nbformat": 4,
 "nbformat_minor": 1
}
