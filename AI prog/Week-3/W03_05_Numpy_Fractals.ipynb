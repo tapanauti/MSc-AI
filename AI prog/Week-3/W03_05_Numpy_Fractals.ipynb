{
 "cells": [
  {
   "cell_type": "markdown",
   "metadata": {
    "slideshow": {
     "slide_type": "slide"
    }
   },
   "source": [
    "<center><img src=img/MScAI_brand.png width=70%></center>\n",
    "\n",
    "# Numpy Example: Fractals\n",
    "\n"
   ]
  },
  {
   "cell_type": "markdown",
   "metadata": {
    "slideshow": {
     "slide_type": "slide"
    }
   },
   "source": [
    "<center><img src=img/julia.png width=50%></center> "
   ]
  },
  {
   "cell_type": "markdown",
   "metadata": {
    "slideshow": {
     "slide_type": "notes"
    }
   },
   "source": [
    "(This notebook is partly based on Bauckhage, *NumPy / SciPy Recipes for Image Processing: \n",
    "Creating Fractal Images*, available from https://www.researchgate.net/publication/272679245. \n",
    "The first images are from there. Please refer to that paper for extra background.)"
   ]
  },
  {
   "cell_type": "markdown",
   "metadata": {
    "slideshow": {
     "slide_type": "slide"
    }
   },
   "source": [
    "Fractals: self-similarity at different scales\n",
    "<center><img src=img/julia-zoom.png width=40%></center>"
   ]
  },
  {
   "cell_type": "markdown",
   "metadata": {
    "slideshow": {
     "slide_type": "notes"
    }
   },
   "source": [
    "The image above is the *Julia set*, a well-known *fractal*. As we may know, a fractal is a mathematical object which has some properties of *self-similarity* at different scales. If we zoom in to the image, we'll see similar objects re-appearing at a smaller scale."
   ]
  },
  {
   "cell_type": "markdown",
   "metadata": {
    "slideshow": {
     "slide_type": "subslide"
    }
   },
   "source": [
    "The Julia set is defined as follows. For each point $z_0 = a+bi$ in the complex plane, we apply an iterated map $z_{i+1} = z^2 + c$ many times, where $c = -0.065 + i0.66 \\in \\mathbb{C}$."
   ]
  },
  {
   "cell_type": "markdown",
   "metadata": {
    "slideshow": {
     "slide_type": "fragment"
    }
   },
   "source": [
    "At each step, we look at the *modulus* (size) of the result $z_i$. If after $i$ steps, $|z_i| > 2$ then the point $z_0$ has *escaped* from the circle of radius 2 (and by the way, it will never come back inside). Then we define the Julia value of $z_0$ as the integer $J(z_0) = i$, the *escape time*."
   ]
  },
  {
   "cell_type": "markdown",
   "metadata": {
    "slideshow": {
     "slide_type": "notes"
    }
   },
   "source": [
    "Let's experiment. Try out a few different initial values of `z`, below, and see the escape time."
   ]
  },
  {
   "cell_type": "code",
   "execution_count": 1,
   "metadata": {
    "slideshow": {
     "slide_type": "subslide"
    }
   },
   "outputs": [
    {
     "data": {
      "text/plain": [
       "11"
      ]
     },
     "execution_count": 1,
     "metadata": {},
     "output_type": "execute_result"
    }
   ],
   "source": [
    "c = -0.065 + 0.66j # Julia constant: using 'j'\n",
    "def f(z): \n",
    "    return z**2 + c # complex arithmetic is built-in\n",
    "def escape_time(z0, its=20):\n",
    "    z = z0\n",
    "    for i in range(its):\n",
    "        if abs(z) > 2:\n",
    "            return i\n",
    "        else:\n",
    "            z = f(z)\n",
    "    return its # deem escape time equal to number of iterations, as a default\n",
    "escape_time(0.4 + -0.1j)"
   ]
  },
  {
   "cell_type": "markdown",
   "metadata": {
    "slideshow": {
     "slide_type": "notes"
    }
   },
   "source": [
    "Now, some points might take a long time to escape (if ever). We can't keep iterating forever."
   ]
  },
  {
   "cell_type": "markdown",
   "metadata": {
    "slideshow": {
     "slide_type": "subslide"
    }
   },
   "source": [
    "We use a maximum of 20 iterations above. Any point $z_0$ which doesn't have an escape time less than 20, we deem to have an escape time of 20, for the purposes of plotting."
   ]
  },
  {
   "cell_type": "markdown",
   "metadata": {
    "slideshow": {
     "slide_type": "notes"
    }
   },
   "source": [
    "By the way, we have claimed that once a point escapes, it will never come back. Let's write code to investigate (it's not a proof, of course)."
   ]
  },
  {
   "cell_type": "code",
   "execution_count": 2,
   "metadata": {
    "slideshow": {
     "slide_type": "subslide"
    }
   },
   "outputs": [
    {
     "name": "stdout",
     "output_type": "stream",
     "text": [
      "inside\n",
      "inside\n",
      "inside\n",
      "inside\n",
      "inside\n",
      "outside\n",
      "outside\n",
      "outside\n",
      "outside\n",
      "outside\n",
      "outside\n",
      "outside\n",
      "outside\n",
      "outside\n",
      "outside\n",
      "inside\n",
      "inside\n",
      "inside\n",
      "inside\n",
      "inside\n"
     ]
    },
    {
     "data": {
      "text/plain": [
       "20"
      ]
     },
     "execution_count": 2,
     "metadata": {},
     "output_type": "execute_result"
    }
   ],
   "source": [
    "def test_escape_and_return(z0, its=20):\n",
    "    z = z0\n",
    "    for i in range(its):\n",
    "        if abs(z) > 2:\n",
    "            print(\"outside\")\n",
    "            z = f(z)\n",
    "        else:\n",
    "            print(\"inside\")\n",
    "            z = f(z)\n",
    "    return its # deem escape time equal to number of iterations, as a default\n",
    "test_escape_and_return(0.4 + 0.5j, 20)"
   ]
  },
  {
   "cell_type": "markdown",
   "metadata": {
    "slideshow": {
     "slide_type": "subslide"
    }
   },
   "source": [
    "Wait a minute, that's not what we expected! The point escaped, then came back in. **Exercise**: debug this to understand what happened. Hint: print `abs(z)` at each iteration. What is the special case in which the `if`-test becomes False?"
   ]
  },
  {
   "cell_type": "markdown",
   "metadata": {
    "slideshow": {
     "slide_type": "notes"
    }
   },
   "source": [
    "If you don't solve this, don't worry -- the rest of notebook still works. I'll post the solution `fractal_escape_and_return.py` in our materials."
   ]
  },
  {
   "cell_type": "markdown",
   "metadata": {
    "slideshow": {
     "slide_type": "slide"
    }
   },
   "source": [
    "So far, we have looked at one point at a time. The beautiful images emerge when we consider all points in a grid, and *plot* their escape times. We'll use Numpy and Matplotlib."
   ]
  },
  {
   "cell_type": "code",
   "execution_count": 3,
   "metadata": {
    "slideshow": {
     "slide_type": "fragment"
    }
   },
   "outputs": [],
   "source": [
    "import numpy as np\n",
    "import matplotlib.pyplot as plt\n",
    "import matplotlib.cm as cm"
   ]
  },
  {
   "cell_type": "code",
   "execution_count": 4,
   "metadata": {
    "slideshow": {
     "slide_type": "subslide"
    }
   },
   "outputs": [],
   "source": [
    "def JuliaNaive(zmin, zmax, m, n, tmax=256):\n",
    "    xs = np.linspace(zmin.real, zmax.real, n)\n",
    "    ys = np.linspace(zmin.imag, zmax.imag, m)\n",
    "    J = np.zeros((m, n))\n",
    "    for r, y in enumerate(ys):\n",
    "        for c, x in enumerate(xs):\n",
    "            z = x + 1j * y            \n",
    "            J[r, c] = escape_time(z, tmax)\n",
    "    return J"
   ]
  },
  {
   "cell_type": "markdown",
   "metadata": {
    "slideshow": {
     "slide_type": "subslide"
    }
   },
   "source": [
    "For the Julia set, the following points give suitable boundaries for the grid:"
   ]
  },
  {
   "cell_type": "code",
   "execution_count": 5,
   "metadata": {},
   "outputs": [],
   "source": [
    "zmin = -1.3 - 1j * 1.3 # ie -1.3 - 1.3i\n",
    "zmax =  1.3 + 1j * 1.3 # ie  1.3 + 1.3i"
   ]
  },
  {
   "cell_type": "code",
   "execution_count": 7,
   "metadata": {
    "slideshow": {
     "slide_type": "fragment"
    }
   },
   "outputs": [],
   "source": [
    "# warning, this will be slow for large values of m and n\n",
    "J = JuliaNaive(zmin, zmax, m=30, n=30)"
   ]
  },
  {
   "cell_type": "code",
   "execution_count": 8,
   "metadata": {
    "slideshow": {
     "slide_type": "subslide"
    }
   },
   "outputs": [
    {
     "data": {
      "image/png": "[encoded data removed]",
      "text/plain": [
       "<Figure size 432x288 with 1 Axes>"
      ]
     },
     "metadata": {
      "needs_background": "light"
     },
     "output_type": "display_data"
    }
   ],
   "source": [
    "plt.axis('off')\n",
    "plt.imshow(J, cmap=cm.cividis);"
   ]
  },
  {
   "cell_type": "markdown",
   "metadata": {
    "slideshow": {
     "slide_type": "fragment"
    }
   },
   "source": [
    "This image is a direct representation of a 2D array. Sometimes this kind of plot is called a *heatmap*. We'll see many other types of plot later. **Exercise**: do the dark pixels represent large values, or small ones? Which pixels represent points which are escaping quickly?"
   ]
  },
  {
   "cell_type": "markdown",
   "metadata": {
    "slideshow": {
     "slide_type": "subslide"
    }
   },
   "source": [
    "As we have seen, implementing the Julia calculations using three nested for-loops is slow. \n",
    "**Exercise:** exactly what three for-loops are we talking about and how are they nested?"
   ]
  },
  {
   "cell_type": "markdown",
   "metadata": {
    "slideshow": {
     "slide_type": "slide"
    }
   },
   "source": [
    "### Vectorising our code"
   ]
  },
  {
   "cell_type": "markdown",
   "metadata": {
    "slideshow": {
     "slide_type": "notes"
    }
   },
   "source": [
    "Even though we were putting values into a Numpy array, we weren't taking advantage of Numpy vectorisation. In the next version we do so. "
   ]
  },
  {
   "cell_type": "code",
   "execution_count": 10,
   "metadata": {
    "slideshow": {
     "slide_type": "subslide"
    }
   },
   "outputs": [],
   "source": [
    "c = -0.065 + 0.66j # Julia constant: using 'j'\n",
    "def f(z): \n",
    "    return z**2 + c # complex arithmetic is built-in\n",
    "def Julia(zmin, zmax, m, n, tmax=256):\n",
    "    xs = np.linspace(zmin.real, zmax.real, n)\n",
    "    ys = np.linspace(zmin.imag, zmax.imag, m)\n",
    "    X, Y = np.meshgrid(xs, ys)\n",
    "    Z = X + 1j * Y \n",
    "    J = np.ones(Z.shape) * tmax # initialise all points with max escape time\n",
    "    for t in range(tmax):\n",
    "        mask = np.abs(Z) <= 2.\n",
    "        Z[mask] = f(Z[mask])\n",
    "        J[~mask] -= 1 # decrement escape time of points which have escaped\n",
    "    return J"
   ]
  },
  {
   "cell_type": "markdown",
   "metadata": {
    "slideshow": {
     "slide_type": "subslide"
    }
   },
   "source": [
    "We have used a handy function, `np.meshgrid`, to give us the x and y coordinates for all pixels. **Exercise**: check the shape and the values stored in `X`, `Y` and `Z`."
   ]
  },
  {
   "cell_type": "markdown",
   "metadata": {
    "slideshow": {
     "slide_type": "subslide"
    }
   },
   "source": [
    "* `J` starts with value `tmax` everywhere\n",
    "* set `mask` where $z$ has not escaped\n",
    "* decrement `J` wherever $z$ has escaped\n",
    "* mask runs `f` only where $z$ has not escaped"
   ]
  },
  {
   "cell_type": "markdown",
   "metadata": {
    "slideshow": {
     "slide_type": "notes"
    }
   },
   "source": [
    "We have also used a *mask*, that is a Boolean array. It stores the locations where $z$ has not yet escaped. The mask enables us to run `f` only on such locations. We calculate `J` by decrementing the escape time of the *other* points using `~`, the logical `not` operator. The way to think of this is: all points start with escape time `tmax=256`. A point which escapes straight away will be decremented 256 times, so will end up with escape time 0, which is correct."
   ]
  },
  {
   "cell_type": "code",
   "execution_count": 18,
   "metadata": {
    "slideshow": {
     "slide_type": "subslide"
    }
   },
   "outputs": [],
   "source": [
    "J = Julia(zmin, zmax, m=1024, n=1024) # much faster!"
   ]
  },
  {
   "cell_type": "code",
   "execution_count": 19,
   "metadata": {
    "slideshow": {
     "slide_type": "fragment"
    }
   },
   "outputs": [
    {
     "data": {
      "image/png": "[encoded data removed]",
      "text/plain": [
       "<Figure size 432x288 with 1 Axes>"
      ]
     },
     "metadata": {
      "needs_background": "light"
     },
     "output_type": "display_data"
    }
   ],
   "source": [
    "plt.axis('off')\n",
    "plt.imshow(J, cmap=cm.cividis);"
   ]
  },
  {
   "cell_type": "markdown",
   "metadata": {
    "slideshow": {
     "slide_type": "subslide"
    }
   },
   "source": [
    "**Exercise**: try out different values of $c$ to see what happens. Zoom in by changing `zmin` and `zmax`. Try different colourmaps using `cmap`: see https://matplotlib.org/3.1.0/tutorials/colors/colormaps.html."
   ]
  },
  {
   "cell_type": "markdown",
   "metadata": {
    "slideshow": {
     "slide_type": "subslide"
    }
   },
   "source": [
    "The Mandelbrot fractal is another famous one. This time $f(z) = z^2 + z_0$, which is implemented as follows."
   ]
  },
  {
   "cell_type": "code",
   "execution_count": 20,
   "metadata": {
    "slideshow": {
     "slide_type": "subslide"
    }
   },
   "outputs": [],
   "source": [
    "def Mandelbrot(zmin, zmax, m, n, tmax=256):\n",
    "    xs = np.linspace(zmin.real, zmax.real, n)\n",
    "    ys = np.linspace(zmin.imag, zmax.imag, m)\n",
    "    X, Y = np.meshgrid(xs, ys)\n",
    "    Z = X + 1j * Y\n",
    "    C = np.copy(Z)\n",
    "    M = np.ones(Z.shape) * tmax\n",
    "    for t in range(tmax):\n",
    "        mask = np.abs(Z) <= 2.\n",
    "        Z[ mask] = Z[mask]**2 + C[mask]\n",
    "        M[~mask] -= 1.\n",
    "    return M"
   ]
  },
  {
   "cell_type": "code",
   "execution_count": 21,
   "metadata": {
    "slideshow": {
     "slide_type": "subslide"
    }
   },
   "outputs": [],
   "source": [
    "zmin = -2.3 - 1.5j\n",
    "zmax =  0.7 + 1.5j\n",
    "M = Mandelbrot(zmin, zmax, 1024, 1024)"
   ]
  },
  {
   "cell_type": "code",
   "execution_count": 24,
   "metadata": {
    "slideshow": {
     "slide_type": "subslide"
    }
   },
   "outputs": [
    {
     "data": {
      "image/png": "[encoded data removed]",
      "text/plain": [
       "<Figure size 432x288 with 1 Axes>"
      ]
     },
     "metadata": {
      "needs_background": "light"
     },
     "output_type": "display_data"
    }
   ],
   "source": [
    "plt.axis('off')\n",
    "plt.imshow(M, cmap=cm.jet_r);"
   ]
  },
  {
   "cell_type": "markdown",
   "metadata": {
    "slideshow": {
     "slide_type": "slide"
    }
   },
   "source": [
    "### Where will we use this?\n",
    "\n",
    "`meshgrid` is also useful for creating physical simulations, e.g. heat diffusion, water waves, agents in a grid, etc."
   ]
  },
  {
   "cell_type": "markdown",
   "metadata": {
    "slideshow": {
     "slide_type": "subslide"
    }
   },
   "source": [
    "### Further reading\n",
    "\n",
    "* Numberphile on Feigenbaum's constant (related to iterated functions in $\\mathbb{R}$ instead of $\\mathbb{C}$) and eventually mentions Julia/Mandelbrot fractals: https://www.youtube.com/watch?v=ETrYE4MdoLQ"
   ]
  }
 ],
 "metadata": {
  "celltoolbar": "Slideshow",
  "kernelspec": {
   "display_name": "Python 3",
   "language": "python",
   "name": "python3"
  },
  "language_info": {
   "codemirror_mode": {
    "name": "ipython",
    "version": 3
   },
   "file_extension": ".py",
   "mimetype": "text/x-python",
   "name": "python",
   "nbconvert_exporter": "python",
   "pygments_lexer": "ipython3",
   "version": "3.7.3"
  }
 },
 "nbformat": 4,
 "nbformat_minor": 2
}
