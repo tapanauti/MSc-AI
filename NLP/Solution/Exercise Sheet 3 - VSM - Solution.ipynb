{
  "nbformat": 4,
  "nbformat_minor": 0,
  "metadata": {
    "kernelspec": {
      "name": "python3",
      "display_name": "Python 3"
    },
    "language_info": {
      "codemirror_mode": {
        "name": "ipython",
        "version": 3
      },
      "file_extension": ".py",
      "mimetype": "text/x-python",
      "name": "python",
      "nbconvert_exporter": "python",
      "pygments_lexer": "ipython3",
      "version": "3.8.3-final"
    },
    "colab": {
      "name": "Exercise Sheet 3 - VSM - Solution.ipynb",
      "provenance": [],
      "collapsed_sections": []
    },
    "accelerator": "GPU"
  },
  "cells": [
    {
      "cell_type": "markdown",
      "metadata": {
        "id": "8M_v-BtFh0dr"
      },
      "source": [
        "# Exercise Sheet 3 - Vector Space Models and Word Embeddings - Solutions\n"
      ]
    },
    {
      "cell_type": "markdown",
      "metadata": {
        "id": "_op0C-mNsyIN"
      },
      "source": [
        "# Learning Objectives\n",
        "    - Introduction to word vectors\n",
        "    - Overview on distributional semantics\n",
        "--------------------\n"
      ]
    },
    {
      "cell_type": "code",
      "metadata": {
        "id": "26KdXQvBtyrG"
      },
      "source": [
        "# setting the stage ;)\n",
        "import nltk\n",
        "nltk.download('all')"
      ],
      "execution_count": null,
      "outputs": []
    },
    {
      "cell_type": "markdown",
      "metadata": {
        "id": "9JMJATpKsyIO"
      },
      "source": [
        "# Preprocessing: Tokenization & POS tagging"
      ]
    },
    {
      "cell_type": "code",
      "metadata": {
        "id": "fXvxlx6dsyIO",
        "outputId": "306b570f-22de-42ef-8954-2bd1c64ea93c",
        "colab": {
          "base_uri": "https://localhost:8080/",
          "height": 34
        }
      },
      "source": [
        "# Sentence tokenization with nltk\n",
        "import nltk\n",
        "\n",
        "sentence = \"The quick brown fox jump|jumps over the lazy dog.\"\n",
        "tokens = nltk.word_tokenize(sentence)\n",
        "\n",
        "print(tokens)"
      ],
      "execution_count": 2,
      "outputs": [
        {
          "output_type": "stream",
          "name": "stdout",
          "text": [
            "['The', 'quick', 'brown', 'fox', 'jump|jumps', 'over', 'the', 'lazy', 'dog', '.']\n"
          ]
        }
      ]
    },
    {
      "cell_type": "code",
      "metadata": {
        "id": "8UpaRe6KsyIU",
        "outputId": "b07c0e51-31ac-4f0c-dc0f-75cdaea9b18d",
        "colab": {
          "base_uri": "https://localhost:8080/",
          "height": 54
        }
      },
      "source": [
        "# Part-of-Speech (POS) Tagging\n",
        "\n",
        "tagged = nltk.pos_tag(tokens)\n",
        "print(tagged)"
      ],
      "execution_count": 3,
      "outputs": [
        {
          "output_type": "stream",
          "name": "stdout",
          "text": [
            "[('The', 'DT'), ('quick', 'JJ'), ('brown', 'NN'), ('fox', 'NN'), ('jump|jumps', 'NNS'), ('over', 'IN'), ('the', 'DT'), ('lazy', 'JJ'), ('dog', 'NN'), ('.', '.')]\n"
          ]
        }
      ]
    },
    {
      "cell_type": "markdown",
      "metadata": {
        "id": "l0fDIB2xsyIl"
      },
      "source": [
        "### Exercise 1: How to get rid of the punctuations from the text?"
      ]
    },
    {
      "cell_type": "code",
      "metadata": {
        "id": "iaN6BGKyXAjt",
        "outputId": "2509c71e-2f2d-449f-e68d-ab6fbd7e19a5",
        "colab": {
          "base_uri": "https://localhost:8080/",
          "height": 54
        }
      },
      "source": [
        "import string\n",
        "\n",
        "text = \"Remember, remember, the fifth of November, Gunpowder, treason and plot! If you can't give us one, we'll take two; The better for us and the worse for you!\"\n",
        "tokens = nltk.word_tokenize(text)\n",
        "\n",
        "# Your code goes here\n",
        "refined_tokens = [token for token in tokens if token not in string.punctuation]\n",
        "\n",
        "print(refined_tokens)"
      ],
      "execution_count": null,
      "outputs": [
        {
          "output_type": "stream",
          "text": [
            "['Remember', 'remember', 'the', 'fifth', 'of', 'November', 'Gunpowder', 'treason', 'and', 'plot', 'If', 'you', 'ca', \"n't\", 'give', 'us', 'one', 'we', \"'ll\", 'take', 'two', 'The', 'better', 'for', 'us', 'and', 'the', 'worse', 'for', 'you']\n"
          ],
          "name": "stdout"
        }
      ]
    },
    {
      "cell_type": "markdown",
      "metadata": {
        "id": "YGL290idYD3_"
      },
      "source": [
        "Hint: a list of punctuations could be used (Check string.punctuation on https://docs.python.org/3/library/string.html)"
      ]
    },
    {
      "cell_type": "markdown",
      "metadata": {
        "id": "xLWR4i0QsyIu"
      },
      "source": [
        "----\n",
        "# Distributional Semantics & Word Vectors\n"
      ]
    },
    {
      "cell_type": "markdown",
      "metadata": {
        "id": "-S3oEARDELAI"
      },
      "source": [
        "## Context Words"
      ]
    },
    {
      "cell_type": "markdown",
      "metadata": {
        "id": "V50m3t7uDM83"
      },
      "source": [
        "### Exercise 2: looks up every occurrence of the word \"affection\" and prints out it's context in the text of Sense and Sensibility by Jane Austen"
      ]
    },
    {
      "cell_type": "code",
      "metadata": {
        "id": "vUen6tsGEP9y"
      },
      "source": [
        "# Import books from nltk for further processing\n",
        "from nltk.book import *"
      ],
      "execution_count": null,
      "outputs": []
    },
    {
      "cell_type": "code",
      "metadata": {
        "id": "e0pRrdWjEaR6",
        "outputId": "db734075-e0bd-441d-da1c-52b742dc7d13",
        "colab": {
          "base_uri": "https://localhost:8080/",
          "height": 459
        }
      },
      "source": [
        "# Your code goes here\n",
        "text2.concordance(\"affection\")"
      ],
      "execution_count": null,
      "outputs": [
        {
          "output_type": "stream",
          "text": [
            "Displaying 25 of 79 matches:\n",
            ", however , and , as a mark of his affection for the three girls , he left them\n",
            "t . It was very well known that no affection was ever supposed to exist between\n",
            "deration of politeness or maternal affection on the side of the former , the tw\n",
            "d the suspicion -- the hope of his affection for me may warrant , without impru\n",
            "hich forbade the indulgence of his affection . She knew that his mother neither\n",
            "rd she gave one with still greater affection . Though her late conversation wit\n",
            " can never hope to feel or inspire affection again , and if her home be uncomfo\n",
            "m of the sense , elegance , mutual affection , and domestic comfort of the fami\n",
            ", and which recommended him to her affection beyond every thing else . His soci\n",
            "ween the parties might forward the affection of Mr . Willoughby , an equally st\n",
            " the most pointed assurance of her affection . Elinor could not be surprised at\n",
            "he natural consequence of a strong affection in a young and ardent mind . This \n",
            " opinion . But by an appeal to her affection for her mother , by representing t\n",
            " every alteration of a place which affection had established as perfect with hi\n",
            "e will always have one claim of my affection , which no other can possibly shar\n",
            "f the evening declared at once his affection and happiness . \" Shall we see you\n",
            "ause he took leave of us with less affection than his usual behaviour has shewn\n",
            "ness .\" \" I want no proof of their affection ,\" said Elinor ; \" but of their en\n",
            "onths , without telling her of his affection ;-- that they should part without \n",
            "ould be the natural result of your affection for her . She used to be all unres\n",
            "distinguished Elinor by no mark of affection . Marianne saw and listened with i\n",
            "th no inclination for expense , no affection for strangers , no profession , an\n",
            "till distinguished her by the same affection which once she had felt no doubt o\n",
            "al of her confidence in Edward ' s affection , to the remembrance of every mark\n",
            " was made ? Had he never owned his affection to yourself ?\" \" Oh , no ; but if \n"
          ],
          "name": "stdout"
        }
      ]
    },
    {
      "cell_type": "markdown",
      "metadata": {
        "id": "m_xZItbMhe3X"
      },
      "source": [
        "Hint: We have already done that in Exercise Sheet 1.1 using NLTK."
      ]
    },
    {
      "cell_type": "markdown",
      "metadata": {
        "id": "OZxu2bapFIW_"
      },
      "source": [
        "## n-grams"
      ]
    },
    {
      "cell_type": "code",
      "metadata": {
        "id": "_Na5OI8LsyJC"
      },
      "source": [
        "from nltk.util import ngrams\n",
        "\n",
        "text = \"You shall know a word by the company it keeps meaning - Firth (1957)\"\n",
        "tokenize = nltk.word_tokenize(text)"
      ],
      "execution_count": null,
      "outputs": []
    },
    {
      "cell_type": "code",
      "metadata": {
        "id": "y-t50lnDsyJF",
        "outputId": "45cd6c6b-0f66-48a6-c80f-ba4607ed5d48",
        "colab": {
          "base_uri": "https://localhost:8080/",
          "height": 272
        }
      },
      "source": [
        "# show all possible n-grams\n",
        "bigrams = ngrams(tokenize,2)\n",
        "for b in bigrams:\n",
        "    print(b)"
      ],
      "execution_count": null,
      "outputs": [
        {
          "output_type": "stream",
          "text": [
            "('You', 'shall')\n",
            "('shall', 'know')\n",
            "('know', 'a')\n",
            "('a', 'word')\n",
            "('word', 'by')\n",
            "('by', 'the')\n",
            "('the', 'company')\n",
            "('company', 'it')\n",
            "('it', 'keeps')\n",
            "('keeps', 'meaning')\n",
            "('meaning', '-')\n",
            "('-', 'Firth')\n",
            "('Firth', '(')\n",
            "('(', '1957')\n",
            "('1957', ')')\n"
          ],
          "name": "stdout"
        }
      ]
    },
    {
      "cell_type": "markdown",
      "metadata": {
        "id": "KDoXkyFQsyJI"
      },
      "source": [
        "### Frequency of occurence for each bigram"
      ]
    },
    {
      "cell_type": "code",
      "metadata": {
        "id": "axcfICx5syJK",
        "outputId": "6f6f2189-1a6c-4563-898f-9229b9276d9d",
        "colab": {
          "base_uri": "https://localhost:8080/",
          "height": 187
        }
      },
      "source": [
        "#### showing n-grams with raw frequency\n",
        "\n",
        "from nltk.collocations import *\n",
        "import nltk# for sent in tokens:\n",
        "#   refined_token = [token for token in sent if token not in string.punctuation]\n",
        "#You should tokenize your text\n",
        "text = \"The cat lies on the mat's and a dog! lies on the floor\"\n",
        "tokens = nltk.word_tokenize(text)\n",
        "print(tokens)\n",
        "bigrams = BigramCollocationFinder.from_words(tokens)\n",
        "for bigram, freq in bigrams.ngram_fd.items():  \n",
        "      print(bigram, freq)"
      ],
      "execution_count": 11,
      "outputs": [
        {
          "output_type": "stream",
          "name": "stdout",
          "text": [
            "['The', 'cat', 'lies', 'on', 'the', 'mat', \"'s\", 'and', 'a', 'dog', '!', 'lies', 'on', 'the', 'floor']\n('The', 'cat') 1\n('cat', 'lies') 1\n('lies', 'on') 2\n('on', 'the') 2\n('the', 'mat') 1\n('mat', \"'s\") 1\n(\"'s\", 'and') 1\n('and', 'a') 1\n('a', 'dog') 1\n('dog', '!') 1\n('!', 'lies') 1\n('the', 'floor') 1\n"
          ]
        }
      ]
    },
    {
      "cell_type": "code",
      "metadata": {
        "id": "2G4v5hoJsyJP",
        "outputId": "ddb14abc-83e9-4d32-f092-c3dc2732cfe7",
        "colab": {
          "base_uri": "https://localhost:8080/",
          "height": 187
        }
      },
      "source": [
        "# show n-grams measured using Pointwise Mutual Information\n",
        "\n",
        "from nltk.collocations import *\n",
        "bigram_measures = nltk.collocations.BigramAssocMeasures()\n",
        "trigram_measures = nltk.collocations.TrigramAssocMeasures()\n",
        "\n",
        "#finder = BigramCollocationFinder.from_words(nltk.corpus.genesis.words('english-web.txt'))\n",
        "finder = BigramCollocationFinder.from_words(text1)\n",
        "\n",
        "finder.nbest(bigram_measures.pmi, 10)"
      ],
      "execution_count": null,
      "outputs": [
        {
          "output_type": "execute_result",
          "data": {
            "text/plain": [
              "[(',)', 'Star'),\n",
              " ('.--\"', 'Whose'),\n",
              " ('103', 'Measurement'),\n",
              " ('11', 'Nightgown'),\n",
              " ('12', 'Biographical'),\n",
              " ('29', 'Enter'),\n",
              " ('37', 'Sunset'),\n",
              " ('38', 'Dusk'),\n",
              " ('46', 'Surmises'),\n",
              " ('58', 'Brit')]"
            ]
          },
          "metadata": {
            "tags": []
          },
          "execution_count": 10
        }
      ]
    },
    {
      "cell_type": "markdown",
      "metadata": {
        "id": "KJ57fYl_syJR"
      },
      "source": [
        "... making PMI more interpretable, print out only n-grams which apear about a certain threshold "
      ]
    },
    {
      "cell_type": "code",
      "metadata": {
        "id": "8L3mlQCGsyJR",
        "outputId": "fa483bc2-14aa-4643-be0c-20d41eeb7357",
        "colab": {
          "base_uri": "https://localhost:8080/",
          "height": 187
        }
      },
      "source": [
        "freq_threshold = 30\n",
        "finder = BigramCollocationFinder.from_words(text1)\n",
        "finder.apply_freq_filter(freq_threshold)\n",
        "finder.nbest(bigram_measures.pmi, 10)"
      ],
      "execution_count": null,
      "outputs": [
        {
          "output_type": "execute_result",
          "data": {
            "text/plain": [
              "[('Moby', 'Dick'),\n",
              " ('Sperm', 'Whale'),\n",
              " ('White', 'Whale'),\n",
              " ('Right', 'Whale'),\n",
              " ('Captain', 'Peleg'),\n",
              " (',\"', 'said'),\n",
              " ('!\"', 'cried'),\n",
              " ('each', 'other'),\n",
              " (',\"', 'cried'),\n",
              " ('on', 'board')]"
            ]
          },
          "metadata": {
            "tags": []
          },
          "execution_count": 11
        }
      ]
    },
    {
      "cell_type": "markdown",
      "metadata": {
        "id": "MicxTCPasyJU"
      },
      "source": [
        "### Exercise 3: Interpret the variation in pmi based on frequency threshold?"
      ]
    },
    {
      "cell_type": "code",
      "metadata": {
        "id": "znicrPcHf6Md",
        "outputId": "be3674ce-206a-4b3c-d9af-52235d8db10a",
        "colab": {
          "base_uri": "https://localhost:8080/",
          "height": 187
        }
      },
      "source": [
        "# Your code goes here\n",
        "freq_threshold = 100\n",
        "finder = BigramCollocationFinder.from_words(text1)\n",
        "finder.apply_freq_filter(freq_threshold)\n",
        "finder.nbest(bigram_measures.pmi, 10)"
      ],
      "execution_count": null,
      "outputs": [
        {
          "output_type": "execute_result",
          "data": {
            "text/plain": [
              "[('Sperm', 'Whale'),\n",
              " (',\"', 'said'),\n",
              " ('?\"', '\"'),\n",
              " ('have', 'been'),\n",
              " ('don', \"'\"),\n",
              " (\"'\", 'll'),\n",
              " (\"'\", 's'),\n",
              " ('at', 'last'),\n",
              " (\"'\", 't'),\n",
              " ('had', 'been')]"
            ]
          },
          "metadata": {
            "tags": []
          },
          "execution_count": 12
        }
      ]
    },
    {
      "cell_type": "code",
      "metadata": {
        "id": "v05j_B273EXl",
        "outputId": "146e9823-3734-4fb3-f36e-4eedff69906b",
        "colab": {
          "base_uri": "https://localhost:8080/",
          "height": 187
        }
      },
      "source": [
        "# Your code goes here\n",
        "freq_threshold = 10\n",
        "finder = BigramCollocationFinder.from_words(text1)\n",
        "finder.apply_freq_filter(freq_threshold)\n",
        "finder.nbest(bigram_measures.pmi, 10)"
      ],
      "execution_count": null,
      "outputs": [
        {
          "output_type": "execute_result",
          "data": {
            "text/plain": [
              "[('.*', '*'),\n",
              " ('Cape', 'Horn'),\n",
              " ('New', 'Bedford'),\n",
              " ('Moby', 'Dick'),\n",
              " ('she', 'blows'),\n",
              " (\",'\", 'says'),\n",
              " (\".'\", '\"\\''),\n",
              " ('chief', 'mate'),\n",
              " ('years', 'ago'),\n",
              " ('lower', 'jaw')]"
            ]
          },
          "metadata": {
            "tags": []
          },
          "execution_count": 13
        }
      ]
    },
    {
      "cell_type": "markdown",
      "metadata": {
        "id": "_rMfBL2G2sc6"
      },
      "source": [
        "Hint: Change frequency threshold to 100 and 10"
      ]
    },
    {
      "cell_type": "markdown",
      "metadata": {
        "id": "uGsBiblqWpdG"
      },
      "source": [
        "*Please write your interpretation here*\n",
        "\n",
        "Frequency threshold is a limit below which all the co-occurrences are ignored. If we set it as 30, then all the bigram co-occurrences that lie below 30 are ignored. \n",
        "We can see if we go on either extreme i.e. 10 or 100, we tend to get the less important bigrams that may occur less frequently (10) or more frequency (100). \n",
        "This frequency threshold is a term frequency of a given bigram.\n",
        "Furthermore, you can read more about term frequency (tf) and inverse document frequency (idf). "
      ]
    },
    {
      "cell_type": "markdown",
      "metadata": {
        "id": "sz0TZdMTcsH-"
      },
      "source": [
        "## Pointwise Mutual Information (PMI)"
      ]
    },
    {
      "cell_type": "code",
      "metadata": {
        "id": "fRrh1llsex_1",
        "outputId": "a9d204e0-9d17-41f5-9e15-b176d9046b0c",
        "colab": {
          "base_uri": "https://localhost:8080/",
          "height": 119
        }
      },
      "source": [
        "import nltk\n",
        "from nltk.collocations import *\n",
        "from nltk.tokenize import word_tokenize\n",
        "\n",
        "text = \"eat sleep code repeat sleep dream code repeat\"\n",
        "\n",
        "Bigram_measures = nltk.collocations.BigramAssocMeasures()\n",
        "finder = BigramCollocationFinder.from_words(word_tokenize(text))\n",
        "\n",
        "for i in finder.score_ngrams(Bigram_measures.pmi):\n",
        "    print(i)"
      ],
      "execution_count": null,
      "outputs": [
        {
          "output_type": "stream",
          "text": [
            "(('code', 'repeat'), 2.0)\n",
            "(('dream', 'code'), 2.0)\n",
            "(('eat', 'sleep'), 2.0)\n",
            "(('sleep', 'dream'), 2.0)\n",
            "(('repeat', 'sleep'), 1.0)\n",
            "(('sleep', 'code'), 1.0)\n"
          ],
          "name": "stdout"
        }
      ]
    },
    {
      "cell_type": "markdown",
      "metadata": {
        "id": "XaOnODVifDkG"
      },
      "source": [
        "### Exercise 4: What role does PMI may play in language modelling?"
      ]
    },
    {
      "cell_type": "markdown",
      "metadata": {
        "id": "MT_VkuAfgRUx"
      },
      "source": [
        "*Please write your answer here*\n",
        "\n",
        "If PMI of the given bigram is more then they are more likely to occur together in the wild. Hence, we can leverage this while assigning the conditional probability of a word based on its context (previous word). Likewise, the probability of the sentence can be calculated which is the multiplication of probabilities of each word in a sentence."
      ]
    },
    {
      "cell_type": "markdown",
      "metadata": {
        "id": "IOdBaoatsyJZ"
      },
      "source": [
        "\n",
        "# Word Vectors"
      ]
    },
    {
      "cell_type": "code",
      "metadata": {
        "scrolled": true,
        "id": "L__0nWIZsyJZ",
        "outputId": "ee42a244-bf04-40a8-edab-01c549f101a5",
        "colab": {
          "base_uri": "https://localhost:8080/",
          "height": 122
        }
      },
      "source": [
        "# example of a sparse word vector\n",
        "\n",
        "from sklearn.feature_extraction.text import CountVectorizer\n",
        " \n",
        "corpus = [\n",
        "'All my cats in a row.',\n",
        "'When my cat sits down, she looks like a Furby toy!',\n",
        "'The cat from outer space',\n",
        "'Sunshine loves to sit like this for some reason.'\n",
        "]\n",
        "vectorizer = CountVectorizer()\n",
        "print(vectorizer.toarray())\n",
        "print(vectorizer.vocabulary_)"
      ],
      "execution_count": 12,
      "outputs": [
        {
          "output_type": "error",
          "ename": "AttributeError",
          "evalue": "'CountVectorizer' object has no attribute 'toarray'",
          "traceback": [
            "\u001b[1;31m---------------------------------------------------------------------------\u001b[0m",
            "\u001b[1;31mAttributeError\u001b[0m                            Traceback (most recent call last)",
            "\u001b[1;32m<ipython-input-12-d7a8a4e19c7b>\u001b[0m in \u001b[0;36m<module>\u001b[1;34m\u001b[0m\n\u001b[0;32m     10\u001b[0m ]\n\u001b[0;32m     11\u001b[0m \u001b[0mvectorizer\u001b[0m \u001b[1;33m=\u001b[0m \u001b[0mCountVectorizer\u001b[0m\u001b[1;33m(\u001b[0m\u001b[1;33m)\u001b[0m\u001b[1;33m\u001b[0m\u001b[1;33m\u001b[0m\u001b[0m\n\u001b[1;32m---> 12\u001b[1;33m \u001b[0mprint\u001b[0m\u001b[1;33m(\u001b[0m\u001b[0mvectorizer\u001b[0m\u001b[1;33m.\u001b[0m\u001b[0mtoarray\u001b[0m\u001b[1;33m(\u001b[0m\u001b[1;33m)\u001b[0m\u001b[1;33m)\u001b[0m\u001b[1;33m\u001b[0m\u001b[1;33m\u001b[0m\u001b[0m\n\u001b[0m\u001b[0;32m     13\u001b[0m \u001b[0mprint\u001b[0m\u001b[1;33m(\u001b[0m\u001b[0mvectorizer\u001b[0m\u001b[1;33m.\u001b[0m\u001b[0mvocabulary_\u001b[0m\u001b[1;33m)\u001b[0m\u001b[1;33m\u001b[0m\u001b[1;33m\u001b[0m\u001b[0m\n",
            "\u001b[1;31mAttributeError\u001b[0m: 'CountVectorizer' object has no attribute 'toarray'"
          ]
        }
      ]
    },
    {
      "cell_type": "markdown",
      "metadata": {
        "id": "4WrLXrZb4pr0"
      },
      "source": [
        "### Exercise 5: Write your intepretation of above vector representation"
      ]
    },
    {
      "cell_type": "markdown",
      "metadata": {
        "id": "mJm03kGF9Jop"
      },
      "source": [
        "*Please write your answer here*\n",
        "\n",
        "It's a vector representation of each sentence based on the vocabulary in Corpus. Each column represents a word from the vocabulary and 1 indicates presence or absence of that word. \n",
        "E.g. Word \"cat\" has an index 1. As it is present in sentences 2 and 3, we can see value 1 at index 1 of both sentences.  "
      ]
    },
    {
      "cell_type": "markdown",
      "metadata": {
        "id": "gzmlV3WVsyJb"
      },
      "source": [
        "## Word Co-occurrence Matrix in sparse CRS (Compressed Sparse Row) format\n",
        "\n"
      ]
    },
    {
      "cell_type": "code",
      "metadata": {
        "id": "gBdNRjtDsyJb",
        "outputId": "eb532c4f-62b8-45bb-ef1e-7bb11ccb2865",
        "colab": {
          "base_uri": "https://localhost:8080/",
          "height": 454
        }
      },
      "source": [
        "from sklearn.feature_extraction.text import CountVectorizer\n",
        "\n",
        "docs = ['the cat lies on the map',\n",
        "        'the cat lies on the floor',\n",
        "        'an cat sits near the floor']\n",
        "        \n",
        "# create your bag of words model using only unigrams\n",
        "count_model = CountVectorizer(ngram_range=(1,1)) # default unigram model\n",
        "X = count_model.fit_transform(docs)\n",
        "\n",
        "# print the vocab & thier corrosponding index\n",
        "print(count_model.vocabulary_)\n",
        "\n",
        "# print the BOW\n",
        "print(X)\n",
        "\n",
        "# Co-occurance matrix calculation\n",
        "\n",
        "X[X > 0] = 1 # run this line if you don't want extra within-text cooccurence if\n",
        "# you don't want co-occurrence that are spurious from the own text, set \n",
        "# occurrence that is greater that 1 to 1\n",
        "\n",
        "Xc = (X.T * X) # this is co-occurrence matrix in sparse csr format\n",
        "\n",
        "Xc.setdiag(0) # sometimes you want to fill same word cooccurence to 0\n",
        "\n",
        "# print out matrix in dense format\n",
        "print(Xc.todense()) \n"
      ],
      "execution_count": null,
      "outputs": [
        {
          "output_type": "stream",
          "text": [
            "{'the': 8, 'cat': 1, 'lies': 3, 'on': 6, 'map': 4, 'floor': 2, 'an': 0, 'sits': 7, 'near': 5}\n",
            "  (0, 8)\t2\n",
            "  (0, 1)\t1\n",
            "  (0, 3)\t1\n",
            "  (0, 6)\t1\n",
            "  (0, 4)\t1\n",
            "  (1, 8)\t2\n",
            "  (1, 1)\t1\n",
            "  (1, 3)\t1\n",
            "  (1, 6)\t1\n",
            "  (1, 2)\t1\n",
            "  (2, 8)\t1\n",
            "  (2, 1)\t1\n",
            "  (2, 2)\t1\n",
            "  (2, 0)\t1\n",
            "  (2, 7)\t1\n",
            "  (2, 5)\t1\n",
            "[[0 1 1 0 0 1 0 1 1]\n",
            " [1 0 2 2 1 1 2 1 3]\n",
            " [1 2 0 1 0 1 1 1 2]\n",
            " [0 2 1 0 1 0 2 0 2]\n",
            " [0 1 0 1 0 0 1 0 1]\n",
            " [1 1 1 0 0 0 0 1 1]\n",
            " [0 2 1 2 1 0 0 0 2]\n",
            " [1 1 1 0 0 1 0 0 1]\n",
            " [1 3 2 2 1 1 2 1 0]]\n"
          ],
          "name": "stdout"
        }
      ]
    },
    {
      "cell_type": "markdown",
      "metadata": {
        "id": "dG3kSJqCsyJf"
      },
      "source": [
        "### Exercise 6: Explain the matrix!"
      ]
    },
    {
      "cell_type": "markdown",
      "metadata": {
        "id": "zy4JB5y1ifNT"
      },
      "source": [
        "*Write your answer here*\n",
        "\n",
        "It’s a co-occurrence matrix, showing how words appear in the corpus (docs) given a specific context window. In this example unigrams are used (window of 1 word after and before). The word \"an\" index=0, and \"cat\" index=1 appeared once in the same context."
      ]
    },
    {
      "cell_type": "markdown",
      "metadata": {
        "id": "KwP5JerFsyJl"
      },
      "source": [
        "# Word2Vec\n",
        "\n",
        "Mikolov, Tomas; et al. \"Efficient Estimation of Word Representations in Vector Space\". arXiv:1301.3781\n",
        "\n",
        "Word2vec is a group of related models that are used to produce word embeddings. These models are shallow, two-layer neural networks that are trained to reconstruct linguistic contexts of words. Word2vec takes as its input a large corpus of text and produces a vector space, typically of several hundred dimensions, with each unique word in the corpus being assigned a corresponding vector in the space. Word vectors are positioned in the vector space such that words that share common contexts in the corpus are located in close proximity to one another in the space.[Wikipedia]"
      ]
    },
    {
      "cell_type": "code",
      "metadata": {
        "id": "FC77cEZwsyJo",
        "outputId": "ee79384b-58fc-47e6-94ea-85b455b148e9",
        "colab": {
          "base_uri": "https://localhost:8080/",
          "height": 71
        }
      },
      "source": [
        "# gensim - open-source vector space modeling and topic modeling toolkit\n",
        "\n",
        "import gensim\n",
        "from nltk.corpus import brown\n",
        "model = gensim.models.Word2Vec(brown.sents())\n",
        "model.save('brown.embedding')"
      ],
      "execution_count": null,
      "outputs": [
        {
          "output_type": "stream",
          "text": [
            "/usr/local/lib/python3.6/dist-packages/smart_open/smart_open_lib.py:252: UserWarning: This function is deprecated, use smart_open.open instead. See the migration notes for details: https://github.com/RaRe-Technologies/smart_open/blob/master/README.rst#migrating-to-the-new-open-function\n",
            "  'See the migration notes for details: %s' % _MIGRATION_NOTES_URL\n"
          ],
          "name": "stderr"
        }
      ]
    },
    {
      "cell_type": "code",
      "metadata": {
        "id": "KCn-mlETsyJq",
        "outputId": "fa42834c-1eb3-4019-ba62-ceafd65ee735",
        "colab": {
          "base_uri": "https://localhost:8080/",
          "height": 71
        }
      },
      "source": [
        "new_model = gensim.models.Word2Vec.load('brown.embedding')"
      ],
      "execution_count": null,
      "outputs": [
        {
          "output_type": "stream",
          "text": [
            "/usr/local/lib/python3.6/dist-packages/smart_open/smart_open_lib.py:252: UserWarning: This function is deprecated, use smart_open.open instead. See the migration notes for details: https://github.com/RaRe-Technologies/smart_open/blob/master/README.rst#migrating-to-the-new-open-function\n",
            "  'See the migration notes for details: %s' % _MIGRATION_NOTES_URL\n"
          ],
          "name": "stderr"
        }
      ]
    },
    {
      "cell_type": "code",
      "metadata": {
        "id": "Mqa-VdVFsyJu",
        "outputId": "6cbb90ca-b373-4dad-bf46-c2eb7e768f85",
        "colab": {
          "base_uri": "https://localhost:8080/",
          "height": 88
        }
      },
      "source": [
        "# word vector dimensionality\n",
        "\n",
        "len(new_model['university'])"
      ],
      "execution_count": null,
      "outputs": [
        {
          "output_type": "stream",
          "text": [
            "/usr/local/lib/python3.6/dist-packages/ipykernel_launcher.py:3: DeprecationWarning: Call to deprecated `__getitem__` (Method will be removed in 4.0.0, use self.wv.__getitem__() instead).\n",
            "  This is separate from the ipykernel package so we can avoid doing imports until\n"
          ],
          "name": "stderr"
        },
        {
          "output_type": "execute_result",
          "data": {
            "text/plain": [
              "100"
            ]
          },
          "metadata": {
            "tags": []
          },
          "execution_count": 20
        }
      ]
    },
    {
      "cell_type": "code",
      "metadata": {
        "id": "k66-_Z3VsyJx",
        "outputId": "47f14ee1-54ed-4e09-c896-f5bc6499fbbd",
        "colab": {
          "base_uri": "https://localhost:8080/",
          "height": 122
        }
      },
      "source": [
        "# show word similarity between words, calculated on the non-zero word vectors\n",
        "\n",
        "new_model.similarity('university','school')"
      ],
      "execution_count": null,
      "outputs": [
        {
          "output_type": "stream",
          "text": [
            "/usr/local/lib/python3.6/dist-packages/ipykernel_launcher.py:3: DeprecationWarning: Call to deprecated `similarity` (Method will be removed in 4.0.0, use self.wv.similarity() instead).\n",
            "  This is separate from the ipykernel package so we can avoid doing imports until\n",
            "/usr/local/lib/python3.6/dist-packages/gensim/matutils.py:737: FutureWarning: Conversion of the second argument of issubdtype from `int` to `np.signedinteger` is deprecated. In future, it will be treated as `np.int64 == np.dtype(int).type`.\n",
            "  if np.issubdtype(vec.dtype, np.int):\n"
          ],
          "name": "stderr"
        },
        {
          "output_type": "execute_result",
          "data": {
            "text/plain": [
              "0.84544945"
            ]
          },
          "metadata": {
            "tags": []
          },
          "execution_count": 21
        }
      ]
    },
    {
      "cell_type": "markdown",
      "metadata": {
        "id": "8-caXf8dsyJ0"
      },
      "source": [
        "### Exercise 7: Calculate and interpret the similarity between (bank, river) and (bank, deposit)? How will you handle word sense disambiguation?"
      ]
    },
    {
      "cell_type": "code",
      "metadata": {
        "id": "9bFxvlPBsyJ1",
        "outputId": "009b43bc-7bc1-4c11-821d-5b58d4ac45a5",
        "colab": {
          "base_uri": "https://localhost:8080/",
          "height": 173
        }
      },
      "source": [
        "# Your code goes here\n",
        "print(new_model.similarity('bank','river'))\n",
        "print(new_model.similarity('bank','deposit'))\n"
      ],
      "execution_count": null,
      "outputs": [
        {
          "output_type": "stream",
          "text": [
            "0.92647356\n",
            "0.8754487\n"
          ],
          "name": "stdout"
        },
        {
          "output_type": "stream",
          "text": [
            "/usr/local/lib/python3.6/dist-packages/ipykernel_launcher.py:2: DeprecationWarning: Call to deprecated `similarity` (Method will be removed in 4.0.0, use self.wv.similarity() instead).\n",
            "  \n",
            "/usr/local/lib/python3.6/dist-packages/gensim/matutils.py:737: FutureWarning: Conversion of the second argument of issubdtype from `int` to `np.signedinteger` is deprecated. In future, it will be treated as `np.int64 == np.dtype(int).type`.\n",
            "  if np.issubdtype(vec.dtype, np.int):\n",
            "/usr/local/lib/python3.6/dist-packages/ipykernel_launcher.py:3: DeprecationWarning: Call to deprecated `similarity` (Method will be removed in 4.0.0, use self.wv.similarity() instead).\n",
            "  This is separate from the ipykernel package so we can avoid doing imports until\n"
          ],
          "name": "stderr"
        }
      ]
    },
    {
      "cell_type": "markdown",
      "metadata": {
        "id": "fsBoLdrspReJ"
      },
      "source": [
        "*Your answer goes here*\n",
        "\n",
        "Wordnet could be used to avoid ambiguity.Check http://wordnetweb.princeton.edu/perl/webwn?o2=&o0=1&o8=1&o1=1&o7=&o5=&o9=&o6=&o3=&o4=&s=bank&i=0&h=000000000000000000#c"
      ]
    },
    {
      "cell_type": "code",
      "metadata": {
        "id": "rp3mhluasLgO",
        "outputId": "67e9f20e-27e6-4eda-885c-4c94a57d2ef8",
        "colab": {
          "base_uri": "https://localhost:8080/",
          "height": 204
        }
      },
      "source": [
        "# # download the Google newsW1v model from \n",
        "! wget \"https://s3.amazonaws.com/dl4j-distribution/GoogleNews-vectors-negative300.bin.gz\" # This may take a while depending upon your internet speed"
      ],
      "execution_count": null,
      "outputs": [
        {
          "output_type": "stream",
          "text": [
            "--2020-09-28 17:11:35--  https://s3.amazonaws.com/dl4j-distribution/GoogleNews-vectors-negative300.bin.gz\n",
            "Resolving s3.amazonaws.com (s3.amazonaws.com)... 52.217.80.14\n",
            "Connecting to s3.amazonaws.com (s3.amazonaws.com)|52.217.80.14|:443... connected.\n",
            "HTTP request sent, awaiting response... 200 OK\n",
            "Length: 1647046227 (1.5G) [application/x-gzip]\n",
            "Saving to: ‘GoogleNews-vectors-negative300.bin.gz’\n",
            "\n",
            "GoogleNews-vectors- 100%[===================>]   1.53G  16.2MB/s    in 1m 48s  \n",
            "\n",
            "2020-09-28 17:13:24 (14.5 MB/s) - ‘GoogleNews-vectors-negative300.bin.gz’ saved [1647046227/1647046227]\n",
            "\n"
          ],
          "name": "stdout"
        }
      ]
    },
    {
      "cell_type": "code",
      "metadata": {
        "id": "fydqymFy5aen",
        "outputId": "1f245b9c-d1a8-4a82-9c39-1915091751a5",
        "colab": {
          "base_uri": "https://localhost:8080/",
          "height": 34
        }
      },
      "source": [
        "# Mount your drive to the colab notebook\n",
        "# To avoid multiple downloads, we mount the drive\n",
        "\n",
        "from google.colab import drive\n",
        "drive.mount(\"/content/drive\") #authorization is required here\n",
        "\n",
        "# If this does not work you may execute next cell"
      ],
      "execution_count": null,
      "outputs": [
        {
          "output_type": "stream",
          "text": [
            "Mounted at /content/drive\n"
          ],
          "name": "stdout"
        }
      ]
    },
    {
      "cell_type": "code",
      "metadata": {
        "id": "uI0xARyk17jN",
        "outputId": "43d9846a-db9d-4715-a992-5e6712bf535a",
        "colab": {
          "base_uri": "https://localhost:8080/",
          "height": 71
        }
      },
      "source": [
        "from nltk.data import find\n",
        "import gensim\n",
        "from gensim.models.word2vec import Word2Vec\n",
        "\n",
        "# Uncomment this code if you are using drive mount\n",
        "# Mention path where GoogleNews-vectors-negative300.bin.gz file is downloaded (it should be on the same loacation where your colab notebook is)\n",
        "filename = '/content/drive/My Drive/Colab Notebooks/GoogleNews-vectors-negative300.bin.gz'\n",
        "\n",
        "## Uncomment if drive mount did not work for you\n",
        "# filename = 'GoogleNews-vectors-negative300.bin.gz'\n",
        "\n",
        "model = gensim.models.KeyedVectors.load_word2vec_format(filename, binary=True)\n",
        "\n"
      ],
      "execution_count": null,
      "outputs": [
        {
          "output_type": "stream",
          "text": [
            "/usr/local/lib/python3.6/dist-packages/smart_open/smart_open_lib.py:252: UserWarning: This function is deprecated, use smart_open.open instead. See the migration notes for details: https://github.com/RaRe-Technologies/smart_open/blob/master/README.rst#migrating-to-the-new-open-function\n",
            "  'See the migration notes for details: %s' % _MIGRATION_NOTES_URL\n"
          ],
          "name": "stderr"
        }
      ]
    },
    {
      "cell_type": "code",
      "metadata": {
        "id": "TtL1KKXI163E",
        "outputId": "b91aece4-9674-4da1-d278-e67a3dc07b3f",
        "colab": {
          "base_uri": "https://localhost:8080/",
          "height": 34
        }
      },
      "source": [
        "# number of entries in the Word2Vec matrix\n",
        "\n",
        "len(model.vocab)"
      ],
      "execution_count": null,
      "outputs": [
        {
          "output_type": "execute_result",
          "data": {
            "text/plain": [
              "3000000"
            ]
          },
          "metadata": {
            "tags": []
          },
          "execution_count": 25
        }
      ]
    },
    {
      "cell_type": "code",
      "metadata": {
        "id": "adh9rqHl16Hs",
        "outputId": "45cd4e5c-ae71-47a4-a2e6-de8ed23953f3",
        "colab": {
          "base_uri": "https://localhost:8080/",
          "height": 34
        }
      },
      "source": [
        "# dimensionality of of the dense word vectors\n",
        "\n",
        "len(model['university'])"
      ],
      "execution_count": null,
      "outputs": [
        {
          "output_type": "execute_result",
          "data": {
            "text/plain": [
              "300"
            ]
          },
          "metadata": {
            "tags": []
          },
          "execution_count": 26
        }
      ]
    },
    {
      "cell_type": "code",
      "metadata": {
        "id": "CXPkB68psyKB",
        "outputId": "3926c3e0-afc4-4b92-f1e4-05964b20120e",
        "colab": {
          "base_uri": "https://localhost:8080/",
          "height": 241
        }
      },
      "source": [
        "# most similar words based on Word2Vec\n",
        "\n",
        "model.most_similar(positive=['soccer'], topn = 10)"
      ],
      "execution_count": null,
      "outputs": [
        {
          "output_type": "stream",
          "text": [
            "/usr/local/lib/python3.6/dist-packages/gensim/matutils.py:737: FutureWarning: Conversion of the second argument of issubdtype from `int` to `np.signedinteger` is deprecated. In future, it will be treated as `np.int64 == np.dtype(int).type`.\n",
            "  if np.issubdtype(vec.dtype, np.int):\n"
          ],
          "name": "stderr"
        },
        {
          "output_type": "execute_result",
          "data": {
            "text/plain": [
              "[('Soccer', 0.7622618675231934),\n",
              " ('football', 0.7313547730445862),\n",
              " ('basketball', 0.681098461151123),\n",
              " ('volleyball', 0.664727509021759),\n",
              " ('softball', 0.6443414688110352),\n",
              " ('lacrosse', 0.643805980682373),\n",
              " ('water_polo', 0.6297686100006104),\n",
              " ('hockey', 0.6270937919616699),\n",
              " ('tennis', 0.6163382530212402),\n",
              " ('futbol', 0.6026160717010498)]"
            ]
          },
          "metadata": {
            "tags": []
          },
          "execution_count": 27
        }
      ]
    },
    {
      "cell_type": "code",
      "metadata": {
        "id": "ybTqgcpnsyKH",
        "outputId": "bfea14e9-a42f-4f33-912b-401599aba797",
        "colab": {
          "base_uri": "https://localhost:8080/",
          "height": 123
        }
      },
      "source": [
        "# most dissimilar entry among provided words\n",
        "\n",
        "model.doesnt_match('wrestling cooking dinner potato'.split())"
      ],
      "execution_count": null,
      "outputs": [
        {
          "output_type": "stream",
          "text": [
            "/usr/local/lib/python3.6/dist-packages/gensim/models/keyedvectors.py:895: FutureWarning: arrays to stack must be passed as a \"sequence\" type such as list or tuple. Support for non-sequence iterables such as generators is deprecated as of NumPy 1.16 and will raise an error in the future.\n",
            "  vectors = vstack(self.word_vec(word, use_norm=True) for word in used_words).astype(REAL)\n",
            "/usr/local/lib/python3.6/dist-packages/gensim/matutils.py:737: FutureWarning: Conversion of the second argument of issubdtype from `int` to `np.signedinteger` is deprecated. In future, it will be treated as `np.int64 == np.dtype(int).type`.\n",
            "  if np.issubdtype(vec.dtype, np.int):\n"
          ],
          "name": "stderr"
        },
        {
          "output_type": "execute_result",
          "data": {
            "application/vnd.google.colaboratory.intrinsic+json": {
              "type": "string"
            },
            "text/plain": [
              "'wrestling'"
            ]
          },
          "metadata": {
            "tags": []
          },
          "execution_count": 28
        }
      ]
    },
    {
      "cell_type": "markdown",
      "metadata": {
        "id": "ZkIPGmXlsyKL"
      },
      "source": [
        "## Vector operations"
      ]
    },
    {
      "cell_type": "code",
      "metadata": {
        "id": "tjThcGUPsyKM",
        "outputId": "503c4efc-1d58-4617-f795-7462af17becf",
        "colab": {
          "base_uri": "https://localhost:8080/",
          "height": 88
        }
      },
      "source": [
        "model.most_similar(positive=['woman','king'], negative=['man'], topn = 1)"
      ],
      "execution_count": null,
      "outputs": [
        {
          "output_type": "stream",
          "text": [
            "/usr/local/lib/python3.6/dist-packages/gensim/matutils.py:737: FutureWarning: Conversion of the second argument of issubdtype from `int` to `np.signedinteger` is deprecated. In future, it will be treated as `np.int64 == np.dtype(int).type`.\n",
            "  if np.issubdtype(vec.dtype, np.int):\n"
          ],
          "name": "stderr"
        },
        {
          "output_type": "execute_result",
          "data": {
            "text/plain": [
              "[('queen', 0.7118192911148071)]"
            ]
          },
          "metadata": {
            "tags": []
          },
          "execution_count": 71
        }
      ]
    },
    {
      "cell_type": "code",
      "metadata": {
        "id": "gT7SN3jrsyKO",
        "outputId": "7973a3e2-e428-427e-efaa-acc67cdaf800",
        "colab": {
          "base_uri": "https://localhost:8080/",
          "height": 88
        }
      },
      "source": [
        "model.most_similar(positive=['Delhi','Russia'], negative=['Mosco'], topn = 1)"
      ],
      "execution_count": null,
      "outputs": [
        {
          "output_type": "stream",
          "text": [
            "/usr/local/lib/python3.6/dist-packages/gensim/matutils.py:737: FutureWarning: Conversion of the second argument of issubdtype from `int` to `np.signedinteger` is deprecated. In future, it will be treated as `np.int64 == np.dtype(int).type`.\n",
            "  if np.issubdtype(vec.dtype, np.int):\n"
          ],
          "name": "stderr"
        },
        {
          "output_type": "execute_result",
          "data": {
            "text/plain": [
              "[('India', 0.6403084993362427)]"
            ]
          },
          "metadata": {
            "tags": []
          },
          "execution_count": 72
        }
      ]
    },
    {
      "cell_type": "markdown",
      "metadata": {
        "id": "BXzCXSfYsyKP"
      },
      "source": [
        "### Excercise 8: Can you think of similar examples?\n",
        "\n",
        "Actor - male + female?\n",
        "\n",
        "batman - bat + spider?\n",
        "\n",
        "summer - sun + cold?"
      ]
    },
    {
      "cell_type": "markdown",
      "metadata": {
        "id": "TCUGMLUpNewy"
      },
      "source": [
        "*Guess the result here before executing the code*"
      ]
    },
    {
      "cell_type": "code",
      "metadata": {
        "id": "KLKf_Yh_syKR",
        "outputId": "e7a719e5-2d60-43cc-b6d1-0c8b8374e44a",
        "colab": {
          "base_uri": "https://localhost:8080/",
          "height": 122
        }
      },
      "source": [
        "# Your code goes here\n",
        "print(model.most_similar(positive=['Actor','female'], negative=['male'], topn = 1))\n",
        "print(model.most_similar(positive=['batman','spider'], negative=['man'], topn = 1))\n",
        "print(model.most_similar(positive=['summer','cold'], negative=['sun'], topn = 1))"
      ],
      "execution_count": null,
      "outputs": [
        {
          "output_type": "stream",
          "text": [
            "/usr/local/lib/python3.6/dist-packages/gensim/matutils.py:737: FutureWarning: Conversion of the second argument of issubdtype from `int` to `np.signedinteger` is deprecated. In future, it will be treated as `np.int64 == np.dtype(int).type`.\n",
            "  if np.issubdtype(vec.dtype, np.int):\n"
          ],
          "name": "stderr"
        },
        {
          "output_type": "stream",
          "text": [
            "[('Actress', 0.7435436844825745)]\n",
            "[('spiders', 0.5383533835411072)]\n",
            "[('winter', 0.5884253978729248)]\n"
          ],
          "name": "stdout"
        }
      ]
    },
    {
      "cell_type": "markdown",
      "metadata": {
        "id": "GNAd3mz_dnkZ"
      },
      "source": [
        "# Visualizing Vector Space"
      ]
    },
    {
      "cell_type": "code",
      "metadata": {
        "id": "c1OBxo1Cdm5-",
        "outputId": "bcea86ba-14e9-4f98-c142-7aaf1395ae5f",
        "colab": {
          "base_uri": "https://localhost:8080/",
          "height": 265
        }
      },
      "source": [
        "import numpy as np\n",
        "labels = []\n",
        "count = 0\n",
        "max_count = 50\n",
        "X = np.zeros(shape=(max_count,len(model['university'])))\n",
        "\n",
        "for term in model.vocab:\n",
        "    X[count] = model[term]\n",
        "    labels.append(term)\n",
        "    count+= 1\n",
        "    if count >= max_count: break\n",
        "\n",
        "# It is recommended to use PCA first to reduce to ~50 dimensions\n",
        "from sklearn.decomposition import PCA\n",
        "pca = PCA(n_components=50)\n",
        "X_50 = pca.fit_transform(X)\n",
        "\n",
        "# Using TSNE to further reduce to 2 dimensions\n",
        "from sklearn.manifold import TSNE\n",
        "model_tsne = TSNE(n_components=2, random_state=0)\n",
        "Y = model_tsne.fit_transform(X_50)\n",
        "\n",
        "# Show the scatter plot\n",
        "import matplotlib.pyplot as plt\n",
        "plt.scatter(Y[:,0], Y[:,1], 20)\n",
        "\n",
        "# Add labels\n",
        "for label, x, y in zip(labels, Y[:, 0], Y[:, 1]):\n",
        "    plt.annotate(label, xy = (x,y), xytext = (0, 0), textcoords = 'offset points', size = 10)\n",
        "\n",
        "plt.show()\n"
      ],
      "execution_count": null,
      "outputs": [
        {
          "output_type": "display_data",
          "data": {
            "image/png": "[encoded data removed]",
            "text/plain": [
              "<Figure size 432x288 with 1 Axes>"
            ]
          },
          "metadata": {
            "tags": [],
            "needs_background": "light"
          }
        }
      ]
    }
  ]
}