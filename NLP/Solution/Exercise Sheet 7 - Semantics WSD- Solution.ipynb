{
  "nbformat": 4,
  "nbformat_minor": 0,
  "metadata": {
    "colab": {
      "name": "Exercise Sheet 7 - Semantics: WSD - Solution.ipynb",
      "provenance": [],
      "collapsed_sections": []
    },
    "kernelspec": {
      "display_name": "Python 3",
      "language": "python",
      "name": "python3"
    }
  },
  "cells": [
    {
      "cell_type": "markdown",
      "metadata": {
        "id": "oLvj82Fpdsvl"
      },
      "source": [
        "# Exercise Sheet 7 - Semantics: WSD"
      ]
    },
    {
      "cell_type": "markdown",
      "metadata": {
        "id": "ycUr3uVq6HRI"
      },
      "source": [
        "## Learning Objectives\n",
        "\n",
        "In this lab we are going to:\n",
        "\n",
        "- Explore word sense disambiguation (WSD) with Wordnet/NLTK\n",
        "- WSD using the lesk algotithm\n"
      ]
    },
    {
      "cell_type": "markdown",
      "metadata": {
        "id": "A39A9lvRX0z5"
      },
      "source": [
        "-------\n",
        "## WSD using WordNet\n",
        "\n",
        "WSD is identifying which sense of a word (i.e. meaning) is used in a sentence, when the word has multiple meanings.\n",
        "\n",
        "Princeton WordNet (WN) is one of the most important resources for natural language processing. It is a manually created resource that has been used in many different tasks and applications across linguistics and natural language processing. WordNet’s hierarchical structure makes it a useful tool for many semantic applications and it also plays a vital role in modern deep learning based NLP systems."
      ]
    },
    {
      "cell_type": "code",
      "metadata": {
        "id": "pgBC1FruXlR1"
      },
      "source": [
        "#setting the stage, as usual with colab ;)\n",
        "import nltk\n",
        "nltk.download('all')"
      ],
      "execution_count": null,
      "outputs": []
    },
    {
      "cell_type": "code",
      "metadata": {
        "id": "QuhytYh1YHtH"
      },
      "source": [
        "# importing WN\n",
        "from nltk.corpus import wordnet as wn"
      ],
      "execution_count": 3,
      "outputs": []
    },
    {
      "cell_type": "markdown",
      "metadata": {
        "id": "AScx6TfXeWfU"
      },
      "source": [
        "\"**Synset** is a special kind of a simple interface that is present in NLTK to look up words in WordNet. Synset instances are the groupings of synonymous words that express the same concept.\" "
      ]
    },
    {
      "cell_type": "code",
      "metadata": {
        "id": "exYbrwxKYHtO",
        "outputId": "35085801-b7ea-48b0-d52d-04e71f54c8e4",
        "colab": {
          "base_uri": "https://localhost:8080/"
        }
      },
      "source": [
        "# Look up a word using synsets()\n",
        "wn.synsets('car')"
      ],
      "execution_count": 4,
      "outputs": [
        {
          "output_type": "execute_result",
          "data": {
            "text/plain": [
              "[Synset('car.n.01'),\n",
              " Synset('car.n.02'),\n",
              " Synset('car.n.03'),\n",
              " Synset('car.n.04'),\n",
              " Synset('cable_car.n.01')]"
            ]
          },
          "metadata": {
            "tags": []
          },
          "execution_count": 4
        }
      ]
    },
    {
      "cell_type": "markdown",
      "metadata": {
        "id": "kpfn0pzue1Kp"
      },
      "source": [
        "Notice the part of speech which is represented by \"n\" in this example. You can also get the POS using \".pos()\".\n",
        "\n",
        "**Exercise 0** \n",
        "\n",
        "play around with this interface and try a word that can be both a verb and a noun. What comes to my mind is \"break\". Can you come up with another one and check it?"
      ]
    },
    {
      "cell_type": "code",
      "metadata": {
        "id": "efLVVAgXTAX4",
        "outputId": "571f222c-65fd-47e8-a966-7851bfbe7182",
        "colab": {
          "base_uri": "https://localhost:8080/"
        }
      },
      "source": [
        "wn.synsets('break')"
      ],
      "execution_count": 5,
      "outputs": [
        {
          "output_type": "execute_result",
          "data": {
            "text/plain": [
              "[Synset('interruption.n.02'),\n",
              " Synset('break.n.02'),\n",
              " Synset('fault.n.04'),\n",
              " Synset('rupture.n.02'),\n",
              " Synset('respite.n.02'),\n",
              " Synset('breakage.n.03'),\n",
              " Synset('pause.n.01'),\n",
              " Synset('fracture.n.01'),\n",
              " Synset('break.n.09'),\n",
              " Synset('break.n.10'),\n",
              " Synset('break.n.11'),\n",
              " Synset('break.n.12'),\n",
              " Synset('break.n.13'),\n",
              " Synset('break.n.14'),\n",
              " Synset('open_frame.n.01'),\n",
              " Synset('break.n.16'),\n",
              " Synset('interrupt.v.04'),\n",
              " Synset('break.v.02'),\n",
              " Synset('break.v.03'),\n",
              " Synset('break.v.04'),\n",
              " Synset('break.v.05'),\n",
              " Synset('transgress.v.01'),\n",
              " Synset('break.v.07'),\n",
              " Synset('break.v.08'),\n",
              " Synset('break.v.09'),\n",
              " Synset('break.v.10'),\n",
              " Synset('break_in.v.01'),\n",
              " Synset('break_in.v.06'),\n",
              " Synset('violate.v.01'),\n",
              " Synset('better.v.01'),\n",
              " Synset('unwrap.v.02'),\n",
              " Synset('break.v.16'),\n",
              " Synset('fail.v.04'),\n",
              " Synset('break.v.18'),\n",
              " Synset('break.v.19'),\n",
              " Synset('break.v.20'),\n",
              " Synset('dampen.v.07'),\n",
              " Synset('break.v.22'),\n",
              " Synset('break.v.23'),\n",
              " Synset('break.v.24'),\n",
              " Synset('break.v.25'),\n",
              " Synset('break.v.26'),\n",
              " Synset('break.v.27'),\n",
              " Synset('break.v.28'),\n",
              " Synset('break.v.29'),\n",
              " Synset('break.v.30'),\n",
              " Synset('separate.v.08'),\n",
              " Synset('demote.v.01'),\n",
              " Synset('bankrupt.v.01'),\n",
              " Synset('break.v.34'),\n",
              " Synset('break.v.35'),\n",
              " Synset('collapse.v.01'),\n",
              " Synset('break_dance.v.01'),\n",
              " Synset('break.v.38'),\n",
              " Synset('break.v.39'),\n",
              " Synset('break.v.40'),\n",
              " Synset('break.v.41'),\n",
              " Synset('break.v.42'),\n",
              " Synset('break.v.43'),\n",
              " Synset('break.v.44'),\n",
              " Synset('break.v.45'),\n",
              " Synset('break.v.46'),\n",
              " Synset('pause.v.02'),\n",
              " Synset('break.v.48'),\n",
              " Synset('break.v.49'),\n",
              " Synset('break.v.50'),\n",
              " Synset('break.v.51'),\n",
              " Synset('break.v.52'),\n",
              " Synset('break.v.53'),\n",
              " Synset('crack.v.01'),\n",
              " Synset('break.v.55'),\n",
              " Synset('break.v.56'),\n",
              " Synset('fracture.v.06'),\n",
              " Synset('break.v.58'),\n",
              " Synset('break.v.59')]"
            ]
          },
          "metadata": {
            "tags": []
          },
          "execution_count": 5
        }
      ]
    },
    {
      "cell_type": "markdown",
      "metadata": {
        "id": "RuzVwzw3vnRR"
      },
      "source": [
        "**Exercise 1**\n",
        "\n",
        "For each entry in the \"car\" synsets print out the following:\n",
        "- name of the synset - synset.name()\n",
        "- definition of the synset\n",
        "- examples of the synset"
      ]
    },
    {
      "cell_type": "code",
      "metadata": {
        "id": "r0QeOL9jYHtZ",
        "outputId": "28b505f8-cc77-4eaa-b0ec-583d2066ea85",
        "colab": {
          "base_uri": "https://localhost:8080/"
        }
      },
      "source": [
        "# your code goes here\n",
        "\n",
        "car_syns=wn.synsets('car')\n",
        "\n",
        "for syn in car_syns:\n",
        "   print(syn.name())\n",
        "   print(syn.definition())\n",
        "   print(syn.examples())\n",
        "   print('\\n')"
      ],
      "execution_count": 6,
      "outputs": [
        {
          "output_type": "stream",
          "text": [
            "car.n.01\n",
            "a motor vehicle with four wheels; usually propelled by an internal combustion engine\n",
            "['he needs a car to get to work']\n",
            "\n",
            "\n",
            "car.n.02\n",
            "a wheeled vehicle adapted to the rails of railroad\n",
            "['three cars had jumped the rails']\n",
            "\n",
            "\n",
            "car.n.03\n",
            "the compartment that is suspended from an airship and that carries personnel and the cargo and the power plant\n",
            "[]\n",
            "\n",
            "\n",
            "car.n.04\n",
            "where passengers ride up and down\n",
            "['the car was on the top floor']\n",
            "\n",
            "\n",
            "cable_car.n.01\n",
            "a conveyance for passengers or freight on a cable railway\n",
            "['they took a cable car to the top of the mountain']\n",
            "\n",
            "\n"
          ],
          "name": "stdout"
        }
      ]
    },
    {
      "cell_type": "markdown",
      "metadata": {
        "id": "pMjp6SXZYHtT"
      },
      "source": [
        "### Lemmas, Synonymys and Antonyms\n",
        "In order to check how many meanings does the word \"car\" have? We can use lemma_names() which provides us with \"synonym set\", a collection of synonymous words (or \"lemmas\")"
      ]
    },
    {
      "cell_type": "code",
      "metadata": {
        "id": "JgHqI93dYHtV",
        "outputId": "c0ffc609-f60b-46ab-fcd1-075947385cbf",
        "colab": {
          "base_uri": "https://localhost:8080/"
        }
      },
      "source": [
        "wn.synset('car.n.01').lemma_names()"
      ],
      "execution_count": 7,
      "outputs": [
        {
          "output_type": "execute_result",
          "data": {
            "text/plain": [
              "['car', 'auto', 'automobile', 'machine', 'motorcar']"
            ]
          },
          "metadata": {
            "tags": []
          },
          "execution_count": 7
        }
      ]
    },
    {
      "cell_type": "markdown",
      "metadata": {
        "id": "Cd50BAAvYHtc"
      },
      "source": [
        "You can get all the synonyms of a given word as follows:"
      ]
    },
    {
      "cell_type": "code",
      "metadata": {
        "id": "Zs2zqHFfYHtd",
        "outputId": "77c56508-92bb-448f-c7b8-34e09d5af8d8",
        "colab": {
          "base_uri": "https://localhost:8080/"
        }
      },
      "source": [
        "synonyms = []\n",
        "\n",
        "for synset in wn.synsets(\"nice\"):\n",
        "    print(synset)\n",
        "    for lemmas in synset.lemmas():\n",
        "        synonyms.append(lemmas.name())\n",
        "    print(set(synonyms))\n",
        "    synonyms = []"
      ],
      "execution_count": 8,
      "outputs": [
        {
          "output_type": "stream",
          "text": [
            "Synset('nice.n.01')\n",
            "{'Nice'}\n",
            "Synset('nice.a.01')\n",
            "{'nice'}\n",
            "Synset('decent.s.01')\n",
            "{'decent', 'nice'}\n",
            "Synset('nice.s.03')\n",
            "{'skillful', 'nice'}\n",
            "Synset('dainty.s.04')\n",
            "{'squeamish', 'overnice', 'dainty', 'prissy', 'nice'}\n",
            "Synset('courteous.s.01')\n",
            "{'courteous', 'gracious', 'nice'}\n"
          ],
          "name": "stdout"
        }
      ]
    },
    {
      "cell_type": "markdown",
      "metadata": {
        "id": "lk33UNGUYHth"
      },
      "source": [
        "**Exercise 2**\n",
        "\n",
        "Extend previous code to obtain antonyms of a synset."
      ]
    },
    {
      "cell_type": "code",
      "metadata": {
        "id": "9MgM2UfXVUcT",
        "outputId": "f1166b95-a839-4009-e99e-4250365aed22",
        "colab": {
          "base_uri": "https://localhost:8080/"
        }
      },
      "source": [
        "antonyms = []\n",
        "for syn in wn.synsets('nice'): # try 'good' instead of 'nice'\n",
        "  print(syn)\n",
        "  for lemma in syn.lemmas():\n",
        "    if lemma.antonyms():\n",
        "      antonyms.append(lemma.antonyms()[0].name())\n",
        "    \n",
        "  print(antonyms)\n",
        "\n",
        "# note: you can convert this as a function that takes an input word and returns a list of antonyms"
      ],
      "execution_count": 28,
      "outputs": [
        {
          "output_type": "stream",
          "text": [
            "Synset('nice.n.01')\n",
            "[]\n",
            "Synset('nice.a.01')\n",
            "['nasty']\n",
            "Synset('decent.s.01')\n",
            "['nasty']\n",
            "Synset('nice.s.03')\n",
            "['nasty']\n",
            "Synset('dainty.s.04')\n",
            "['nasty']\n",
            "Synset('courteous.s.01')\n",
            "['nasty']\n"
          ],
          "name": "stdout"
        }
      ]
    },
    {
      "cell_type": "markdown",
      "metadata": {
        "id": "ZkmbSF6QYHtm"
      },
      "source": [
        "### Hyponyms and hypernyms\n",
        "\n",
        "Now that we have seen how to get synonyms, we might also be interested in the hypernyms and hyponyms of a given word."
      ]
    },
    {
      "cell_type": "code",
      "metadata": {
        "id": "49O9YKwBYHtr",
        "outputId": "a30103e7-1803-4e12-d993-d6f2e3c71c45",
        "colab": {
          "base_uri": "https://localhost:8080/"
        }
      },
      "source": [
        "wn.synsets('printer')"
      ],
      "execution_count": 29,
      "outputs": [
        {
          "output_type": "execute_result",
          "data": {
            "text/plain": [
              "[Synset('printer.n.01'), Synset('printer.n.02'), Synset('printer.n.03')]"
            ]
          },
          "metadata": {
            "tags": []
          },
          "execution_count": 29
        }
      ]
    },
    {
      "cell_type": "code",
      "metadata": {
        "id": "ulgxVc7QYHtu",
        "outputId": "a433c6eb-a784-4fa3-9234-32e40c0c0f9c",
        "colab": {
          "base_uri": "https://localhost:8080/"
        }
      },
      "source": [
        "wn.synset('printer.n.03').lemmas()"
      ],
      "execution_count": 30,
      "outputs": [
        {
          "output_type": "execute_result",
          "data": {
            "text/plain": [
              "[Lemma('printer.n.03.printer'), Lemma('printer.n.03.printing_machine')]"
            ]
          },
          "metadata": {
            "tags": []
          },
          "execution_count": 30
        }
      ]
    },
    {
      "cell_type": "code",
      "metadata": {
        "id": "000AL8DCYHt0",
        "outputId": "b7f00884-0f44-47e7-806b-099bd7409f64",
        "colab": {
          "base_uri": "https://localhost:8080/"
        }
      },
      "source": [
        "machine_that_prints = wn.synset('printer.n.03')\n",
        "for synset in machine_that_prints.hyponyms():\n",
        "    for lemma in synset.lemmas():\n",
        "        print(lemma.name())"
      ],
      "execution_count": 31,
      "outputs": [
        {
          "output_type": "stream",
          "text": [
            "addressing_machine\n",
            "Addressograph\n",
            "character_printer\n",
            "character-at-a-time_printer\n",
            "serial_printer\n",
            "electrostatic_printer\n",
            "impact_printer\n",
            "line_printer\n",
            "line-at-a-time_printer\n",
            "page_printer\n",
            "page-at-a-time_printer\n",
            "printer\n",
            "thermal_printer\n",
            "typesetting_machine\n"
          ],
          "name": "stdout"
        }
      ]
    },
    {
      "cell_type": "markdown",
      "metadata": {
        "id": "aBi9uK1sYHt4"
      },
      "source": [
        "**Exercise 3**\n",
        "\n",
        "Can you make a one liner out of the previous example?"
      ]
    },
    {
      "cell_type": "code",
      "metadata": {
        "id": "YaAKOyQoYHt6",
        "outputId": "c7b87099-e376-4e3e-aca0-1f54d6f1311b",
        "colab": {
          "base_uri": "https://localhost:8080/"
        }
      },
      "source": [
        "# your code goes here\n",
        "[lemma.name() for synset in  wn.synset('printer.n.03').hyponyms() for lemma in synset.lemmas()]"
      ],
      "execution_count": 33,
      "outputs": [
        {
          "output_type": "execute_result",
          "data": {
            "text/plain": [
              "['addressing_machine',\n",
              " 'Addressograph',\n",
              " 'character_printer',\n",
              " 'character-at-a-time_printer',\n",
              " 'serial_printer',\n",
              " 'electrostatic_printer',\n",
              " 'impact_printer',\n",
              " 'line_printer',\n",
              " 'line-at-a-time_printer',\n",
              " 'page_printer',\n",
              " 'page-at-a-time_printer',\n",
              " 'printer',\n",
              " 'thermal_printer',\n",
              " 'typesetting_machine']"
            ]
          },
          "metadata": {
            "tags": []
          },
          "execution_count": 33
        }
      ]
    },
    {
      "cell_type": "markdown",
      "metadata": {
        "id": "R_ndaHPAYHt9"
      },
      "source": [
        "Similarly, we can get the hypernyms. I used a one liner here as follows:"
      ]
    },
    {
      "cell_type": "code",
      "metadata": {
        "id": "iJHizo1tYHt9",
        "outputId": "d74b688a-067a-4375-b39e-89003ef6ce57",
        "colab": {
          "base_uri": "https://localhost:8080/"
        }
      },
      "source": [
        "[lemma.name() for synset in  machine_that_prints.hypernyms() for lemma in synset.lemmas()]"
      ],
      "execution_count": 34,
      "outputs": [
        {
          "output_type": "execute_result",
          "data": {
            "text/plain": [
              "['machine']"
            ]
          },
          "metadata": {
            "tags": []
          },
          "execution_count": 34
        }
      ]
    },
    {
      "cell_type": "markdown",
      "metadata": {
        "id": "m8JxPSY6YHuC"
      },
      "source": [
        "In this case, a more general term of printer.n.03/\"printing_machine\" is just a machine.\n"
      ]
    },
    {
      "cell_type": "markdown",
      "metadata": {
        "id": "Ns8iGLPepypA"
      },
      "source": [
        "We can also get the lowest common hypernym between two word senses. For example, we can get the lowest common hypernym between \"truck.n.01\" and limousine.n.01 as follows:"
      ]
    },
    {
      "cell_type": "code",
      "metadata": {
        "id": "RntD069RqKZj",
        "outputId": "4e7c5190-cc4e-47c6-c157-cd8717227d71",
        "colab": {
          "base_uri": "https://localhost:8080/"
        }
      },
      "source": [
        "truck = wn.synset('truck.n.01')\n",
        "limousine = wn.synset('limousine.n.01')\n",
        "truck.lowest_common_hypernyms(limousine)"
      ],
      "execution_count": 35,
      "outputs": [
        {
          "output_type": "execute_result",
          "data": {
            "text/plain": [
              "[Synset('motor_vehicle.n.01')]"
            ]
          },
          "metadata": {
            "tags": []
          },
          "execution_count": 35
        }
      ]
    },
    {
      "cell_type": "markdown",
      "metadata": {
        "id": "hP0rGI5MYHuC"
      },
      "source": [
        "### WN hierarcy\n",
        "The hypernym path of a certain entity can be traced using the hypernym_paths() method which returns a list of lists. Each list starts at the root hypernym and ends with the original Synset. "
      ]
    },
    {
      "cell_type": "code",
      "metadata": {
        "id": "ep3RI4BFYHuD",
        "outputId": "ab4ad530-3a26-4afa-b5bf-5893bfc15f69",
        "colab": {
          "base_uri": "https://localhost:8080/"
        }
      },
      "source": [
        "for synset in machine_that_prints.hypernym_paths()[0]:\n",
        "    print(synset.name())"
      ],
      "execution_count": 36,
      "outputs": [
        {
          "output_type": "stream",
          "text": [
            "entity.n.01\n",
            "physical_entity.n.01\n",
            "object.n.01\n",
            "whole.n.02\n",
            "artifact.n.01\n",
            "instrumentality.n.03\n",
            "device.n.01\n",
            "machine.n.01\n",
            "printer.n.03\n"
          ],
          "name": "stdout"
        }
      ]
    },
    {
      "cell_type": "markdown",
      "metadata": {
        "id": "frdxkYAkYHuH"
      },
      "source": [
        "### Meronymie \n",
        "\n",
        "We might be interested in looking at the part of something. to achieve that using WN and NLTK, we can take advantage of two functions which are:\n",
        "- part_meronyms() - obtains parts,\n",
        "- substance_meronyms() - obtains substances\n",
        "\n",
        "Let us check the parts of a \"car\""
      ]
    },
    {
      "cell_type": "code",
      "metadata": {
        "id": "gUQYDNjtYHuI",
        "outputId": "20a8a6f2-778e-4ecd-8908-49a4734c7672",
        "colab": {
          "base_uri": "https://localhost:8080/"
        }
      },
      "source": [
        "tree = wn.synset('car.n.01')\n",
        "\n",
        "for meronym in tree.part_meronyms():\n",
        "    print(meronym.name())"
      ],
      "execution_count": 37,
      "outputs": [
        {
          "output_type": "stream",
          "text": [
            "accelerator.n.01\n",
            "air_bag.n.01\n",
            "auto_accessory.n.01\n",
            "automobile_engine.n.01\n",
            "automobile_horn.n.01\n",
            "buffer.n.06\n",
            "bumper.n.02\n",
            "car_door.n.01\n",
            "car_mirror.n.01\n",
            "car_seat.n.01\n",
            "car_window.n.01\n",
            "fender.n.01\n",
            "first_gear.n.01\n",
            "floorboard.n.02\n",
            "gasoline_engine.n.01\n",
            "glove_compartment.n.01\n",
            "grille.n.02\n",
            "high_gear.n.01\n",
            "hood.n.09\n",
            "luggage_compartment.n.01\n",
            "rear_window.n.01\n",
            "reverse.n.02\n",
            "roof.n.02\n",
            "running_board.n.01\n",
            "stabilizer_bar.n.01\n",
            "sunroof.n.01\n",
            "tail_fin.n.02\n",
            "third_gear.n.01\n",
            "window.n.02\n"
          ],
          "name": "stdout"
        }
      ]
    },
    {
      "cell_type": "markdown",
      "metadata": {
        "id": "_21nj2zRYHuL"
      },
      "source": [
        "**Exercise 4** \n",
        "\n",
        "obtain the substances of \"tree.n.02\""
      ]
    },
    {
      "cell_type": "code",
      "metadata": {
        "id": "t17Pr7VrYHuM",
        "outputId": "8aa4c72c-7422-43e7-d7da-1ed02fba867d",
        "colab": {
          "base_uri": "https://localhost:8080/"
        }
      },
      "source": [
        "#your code goes here\n",
        "tree = wn.synset('tree.n.02')\n",
        "print(tree.substance_meronyms())"
      ],
      "execution_count": 40,
      "outputs": [
        {
          "output_type": "stream",
          "text": [
            "[]\n"
          ],
          "name": "stdout"
        }
      ]
    },
    {
      "cell_type": "markdown",
      "metadata": {
        "id": "gp26Di4IYHuP"
      },
      "source": [
        "### Other lexical relations:\n",
        "There are other relations such as:\n",
        "- Holonym — denotes a membership to something\n",
        "- Entailment — denotes how verbs are involved\n",
        "\n",
        "they can be obtained as follows:"
      ]
    },
    {
      "cell_type": "code",
      "metadata": {
        "id": "o562lV61YHuP",
        "outputId": "fc74dd66-76b4-4287-f9a0-4ec2432ec82b",
        "colab": {
          "base_uri": "https://localhost:8080/"
        }
      },
      "source": [
        "wn.synset('atom.n.01').part_holonyms()"
      ],
      "execution_count": 41,
      "outputs": [
        {
          "output_type": "execute_result",
          "data": {
            "text/plain": [
              "[Synset('chemical_element.n.01'), Synset('molecule.n.01')]"
            ]
          },
          "metadata": {
            "tags": []
          },
          "execution_count": 41
        }
      ]
    },
    {
      "cell_type": "code",
      "metadata": {
        "id": "TZFwx37FYHuT",
        "outputId": "e7eec6d6-2420-4ce5-cc4b-5066e95ebb03",
        "colab": {
          "base_uri": "https://localhost:8080/"
        }
      },
      "source": [
        "wn.synset('hydrogen.n.01').substance_holonyms()"
      ],
      "execution_count": 42,
      "outputs": [
        {
          "output_type": "execute_result",
          "data": {
            "text/plain": [
              "[Synset('water.n.01')]"
            ]
          },
          "metadata": {
            "tags": []
          },
          "execution_count": 42
        }
      ]
    },
    {
      "cell_type": "code",
      "metadata": {
        "id": "umG9rwxyYHuW",
        "outputId": "4a3a9f9b-9828-4724-d58d-0688ff269251",
        "colab": {
          "base_uri": "https://localhost:8080/"
        }
      },
      "source": [
        "wn.synset('eat.v.01').entailments()"
      ],
      "execution_count": 43,
      "outputs": [
        {
          "output_type": "execute_result",
          "data": {
            "text/plain": [
              "[Synset('chew.v.01'), Synset('swallow.v.01')]"
            ]
          },
          "metadata": {
            "tags": []
          },
          "execution_count": 43
        }
      ]
    },
    {
      "cell_type": "markdown",
      "metadata": {
        "id": "1oTttEMEYHuZ"
      },
      "source": [
        "### Similarity\n",
        "\n",
        "We can measure the similarity between two word senses based on the shortest path that connects the senses by employing the hypernym/hypnoym relations.\n",
        "\n",
        "For example, let us check the similarity between \"truck\" and \"limousine\". We can employ \"path_similarity\" which measures the similarity of synsets based on the shortest path between them and returns a score between 0 and 1 where 0 if not similar at all, 1 if perfectly similar."
      ]
    },
    {
      "cell_type": "code",
      "metadata": {
        "id": "nzoBF31hYHua"
      },
      "source": [
        "truck = wn.synset('truck.n.01')\n",
        "limousine = wn.synset('limousine.n.01')"
      ],
      "execution_count": 44,
      "outputs": []
    },
    {
      "cell_type": "code",
      "metadata": {
        "id": "oAHeO2l7oi8a",
        "outputId": "b11f3003-9bf0-43db-cfba-41257469d3c0",
        "colab": {
          "base_uri": "https://localhost:8080/"
        }
      },
      "source": [
        "truck.path_similarity(limousine) # 0.25"
      ],
      "execution_count": 45,
      "outputs": [
        {
          "output_type": "execute_result",
          "data": {
            "text/plain": [
              "0.25"
            ]
          },
          "metadata": {
            "tags": []
          },
          "execution_count": 45
        }
      ]
    },
    {
      "cell_type": "markdown",
      "metadata": {
        "id": "wRHq24cWYHud"
      },
      "source": [
        "**Exercise 5** \n",
        "\n",
        "Get the similarity (of the first sense) between the words \"train, car, vehicle, horse, animal and atom\". Which pair has the highest similarity?"
      ]
    },
    {
      "cell_type": "code",
      "metadata": {
        "id": "awohaWVUYHue",
        "outputId": "17bf2468-091a-4b51-9cae-5c6f9e2e2c86",
        "colab": {
          "base_uri": "https://localhost:8080/"
        }
      },
      "source": [
        "#your code goes here\n",
        "train = wn.synset('train.n.01')\n",
        "car = wn.synset('car.n.01')\n",
        "vehicle = wn.synset('vehicle.n.01')\n",
        "horse = wn.synset('horse.n.01')\n",
        "animal = wn.synset('animal.n.01')\n",
        "atom = wn.synset('atom.n.01')\n",
        "\n",
        "print(\"Car => Train: {}\".format(car.path_similarity(train)))\n",
        "print(\"Car => vehicle: {}\".format(car.path_similarity(vehicle)))\n",
        "print(\"Car => horse: {}\".format(car.path_similarity(horse)))\n",
        "# do that for all pairs"
      ],
      "execution_count": 47,
      "outputs": [
        {
          "output_type": "stream",
          "text": [
            "Car => Train: 0.125\n",
            "Car => vehicle: 0.2\n",
            "Car => horse: 0.05263157894736842\n"
          ],
          "name": "stdout"
        }
      ]
    },
    {
      "cell_type": "markdown",
      "metadata": {
        "id": "EuijwKXpYHu6"
      },
      "source": [
        "-----------------\n",
        "## WSD using the Lesk Algorithm\n",
        "\n",
        "The Lesk algorithm is based on the assumption that words in a given \"neighborhood\" (section of text) will tend to share a common topic. A simplified version of the Lesk algorithm is to compare the dictionary definition of an ambiguous word with the terms contained in its neighborhood (Source:wiki)."
      ]
    },
    {
      "cell_type": "code",
      "metadata": {
        "id": "jqfs3w17YHu4",
        "outputId": "9871d896-5b15-404d-c54a-79d429778e53",
        "colab": {
          "base_uri": "https://localhost:8080/"
        }
      },
      "source": [
        "from nltk.wsd import lesk\n",
        "sent = 'I went to the bank to deposit my money'\n",
        "ambiguous = 'money'\n",
        "lesk(sent, ambiguous)"
      ],
      "execution_count": 48,
      "outputs": [
        {
          "output_type": "execute_result",
          "data": {
            "text/plain": [
              "Synset('money.n.03')"
            ]
          },
          "metadata": {
            "tags": []
          },
          "execution_count": 48
        }
      ]
    },
    {
      "cell_type": "code",
      "metadata": {
        "id": "gL6zc00qYHu7",
        "outputId": "89c8f439-0b5e-4460-a042-c91bdd8f2b86",
        "colab": {
          "base_uri": "https://localhost:8080/",
          "height": 35
        }
      },
      "source": [
        "lesk(sent, ambiguous).definition()"
      ],
      "execution_count": 49,
      "outputs": [
        {
          "output_type": "execute_result",
          "data": {
            "application/vnd.google.colaboratory.intrinsic+json": {
              "type": "string"
            },
            "text/plain": [
              "'the official currency issued by a government or national bank'"
            ]
          },
          "metadata": {
            "tags": []
          },
          "execution_count": 49
        }
      ]
    },
    {
      "cell_type": "markdown",
      "metadata": {
        "id": "JQ1-CBmKYHu-"
      },
      "source": [
        "**Exercise 6**\n",
        "\n",
        "Write a code that takes a sentence, a word to be disambiguated and a specified POS and get the disambiguated synset and its definition."
      ]
    },
    {
      "cell_type": "code",
      "metadata": {
        "id": "2RVttlaMYHu-",
        "outputId": "4c4e4470-1400-4c73-a9d4-eb8740c8c59f",
        "colab": {
          "base_uri": "https://localhost:8080/"
        }
      },
      "source": [
        "# your code goes here\n",
        "def disambig(sent, word, pos):\n",
        "  lesk_syn = lesk(sent, word, pos=pos)\n",
        "  lesk_def = lesk_syn.definition()\n",
        "\n",
        "  return lesk_syn, lesk_def\n",
        "\n",
        "print(disambig(\"Put this mug on the brown table.\", \"table\", 'n'))\n",
        "print(disambig(\"It is time to take a short break after this long meeting\", \"break\", 'n'))\n"
      ],
      "execution_count": 54,
      "outputs": [
        {
          "output_type": "stream",
          "text": [
            "(Synset('table.n.05'), 'a company of people assembled at a table for a meal or game')\n",
            "(Synset('rupture.n.02'), 'a personal or social separation (as between opposing factions)')\n"
          ],
          "name": "stdout"
        }
      ]
    }
  ]
}