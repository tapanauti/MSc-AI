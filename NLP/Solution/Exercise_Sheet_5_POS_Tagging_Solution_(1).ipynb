{
  "nbformat": 4,
  "nbformat_minor": 0,
  "metadata": {
    "colab": {
      "name": "Exercise Sheet 5 - POS Tagging - Solution .ipynb",
      "provenance": [],
      "collapsed_sections": []
    },
    "kernelspec": {
      "display_name": "Python 3",
      "language": "python",
      "name": "python3"
    },
    "language_info": {
      "codemirror_mode": {
        "name": "ipython",
        "version": 3
      },
      "file_extension": ".py",
      "mimetype": "text/x-python",
      "name": "python",
      "nbconvert_exporter": "python",
      "pygments_lexer": "ipython3",
      "version": "3.7.4"
    }
  },
  "cells": [
    {
      "cell_type": "markdown",
      "metadata": {
        "id": "F-HXJjMYiWmd"
      },
      "source": [
        "# Exercise Sheet 5 - POS Tagging"
      ]
    },
    {
      "cell_type": "markdown",
      "metadata": {
        "id": "ycUr3uVq6HRI"
      },
      "source": [
        "## Learning Objectives\n",
        "\n",
        "In this lab we are going to:\n",
        "\n",
        "- Explore POS Tagging using NLTK <br>\n",
        "- Hidden Markov Models (HMM) <br>\n",
        "- Learn POS tagging with HMM"
      ]
    },
    {
      "cell_type": "markdown",
      "metadata": {
        "id": "MRYvTYQI6HRJ"
      },
      "source": [
        "----------------\n",
        "## POS Tagging \n",
        "\n",
        "### Approaches\n",
        "\n",
        "In POS tagging, we have a sentence X, and want to predict the part of speech of each word in the sentence Y. This can be done in different ways:\n",
        " \n",
        "1- Pointwise prediction: a classifier that predicts each word individually such as perceptron. <br>\n",
        "2- Generative sequence models: a probabilistic model that assigns probabilities to sequence of words such as Hidden Markov Model.** [the focus of this lab]** <br>\n",
        "3- Discriminative sequence models: predict whole sequence with a classifier such as conditional random fields (CRF). <br>\n",
        "\n",
        "### Tags Set\n",
        "The most common tags sets are:\n",
        "\n",
        "1- <a href= \"http://ucrel.lancs.ac.uk/claws5tags.html\">Claws5</a>: 62 different tags <br>\n",
        "2- <a href=\"https://www.ling.upenn.edu/courses/Fall_2003/ling001/penn_treebank_pos.html\">Penn Treebank</a>: 45 different tags (Most widely used currently) <br>\n",
        "3- <a href = \"http://www.comp.leeds.ac.uk/ccalas/tagsets/brown.html\">The Brown Corpus tagset</a>: (87 tags)\n",
        "\n"
      ]
    },
    {
      "cell_type": "markdown",
      "metadata": {
        "id": "2_zZOmHY6HRK"
      },
      "source": [
        "\n",
        "### NLTK POS Tagging\n",
        "\n",
        "The NLTK tagger can be used as follows:\n"
      ]
    },
    {
      "cell_type": "code",
      "metadata": {
        "id": "d_qQ7aQEULv5",
        "outputId": "ae1e0245-f43b-4d21-a8db-c59bbd3acc9e",
        "colab": {
          "base_uri": "https://localhost:8080/"
        }
      },
      "source": [
        "#setting the stage ;)\n",
        "# if you encounter some errors related to missing nltk packages run the following commands\n",
        "\n",
        "import nltk\n",
        "nltk.download('all')"
      ],
      "execution_count": 1,
      "outputs": [
        {
          "output_type": "stream",
          "text": [
            "[nltk_data] Downloading collection 'all'\n",
            "[nltk_data]    | \n",
            "[nltk_data]    | Downloading package abc to /root/nltk_data...\n",
            "[nltk_data]    |   Package abc is already up-to-date!\n",
            "[nltk_data]    | Downloading package alpino to /root/nltk_data...\n",
            "[nltk_data]    |   Package alpino is already up-to-date!\n",
            "[nltk_data]    | Downloading package biocreative_ppi to\n",
            "[nltk_data]    |     /root/nltk_data...\n",
            "[nltk_data]    |   Package biocreative_ppi is already up-to-date!\n",
            "[nltk_data]    | Downloading package brown to /root/nltk_data...\n",
            "[nltk_data]    |   Package brown is already up-to-date!\n",
            "[nltk_data]    | Downloading package brown_tei to /root/nltk_data...\n",
            "[nltk_data]    |   Package brown_tei is already up-to-date!\n",
            "[nltk_data]    | Downloading package cess_cat to /root/nltk_data...\n",
            "[nltk_data]    |   Package cess_cat is already up-to-date!\n",
            "[nltk_data]    | Downloading package cess_esp to /root/nltk_data...\n",
            "[nltk_data]    |   Package cess_esp is already up-to-date!\n",
            "[nltk_data]    | Downloading package chat80 to /root/nltk_data...\n",
            "[nltk_data]    |   Package chat80 is already up-to-date!\n",
            "[nltk_data]    | Downloading package city_database to\n",
            "[nltk_data]    |     /root/nltk_data...\n",
            "[nltk_data]    |   Package city_database is already up-to-date!\n",
            "[nltk_data]    | Downloading package cmudict to /root/nltk_data...\n",
            "[nltk_data]    |   Package cmudict is already up-to-date!\n",
            "[nltk_data]    | Downloading package comparative_sentences to\n",
            "[nltk_data]    |     /root/nltk_data...\n",
            "[nltk_data]    |   Package comparative_sentences is already up-to-\n",
            "[nltk_data]    |       date!\n",
            "[nltk_data]    | Downloading package comtrans to /root/nltk_data...\n",
            "[nltk_data]    |   Package comtrans is already up-to-date!\n",
            "[nltk_data]    | Downloading package conll2000 to /root/nltk_data...\n",
            "[nltk_data]    |   Package conll2000 is already up-to-date!\n",
            "[nltk_data]    | Downloading package conll2002 to /root/nltk_data...\n",
            "[nltk_data]    |   Package conll2002 is already up-to-date!\n",
            "[nltk_data]    | Downloading package conll2007 to /root/nltk_data...\n",
            "[nltk_data]    |   Package conll2007 is already up-to-date!\n",
            "[nltk_data]    | Downloading package crubadan to /root/nltk_data...\n",
            "[nltk_data]    |   Package crubadan is already up-to-date!\n",
            "[nltk_data]    | Downloading package dependency_treebank to\n",
            "[nltk_data]    |     /root/nltk_data...\n",
            "[nltk_data]    |   Package dependency_treebank is already up-to-date!\n",
            "[nltk_data]    | Downloading package dolch to /root/nltk_data...\n",
            "[nltk_data]    |   Package dolch is already up-to-date!\n",
            "[nltk_data]    | Downloading package europarl_raw to\n",
            "[nltk_data]    |     /root/nltk_data...\n",
            "[nltk_data]    |   Package europarl_raw is already up-to-date!\n",
            "[nltk_data]    | Downloading package floresta to /root/nltk_data...\n",
            "[nltk_data]    |   Package floresta is already up-to-date!\n",
            "[nltk_data]    | Downloading package framenet_v15 to\n",
            "[nltk_data]    |     /root/nltk_data...\n",
            "[nltk_data]    |   Package framenet_v15 is already up-to-date!\n",
            "[nltk_data]    | Downloading package framenet_v17 to\n",
            "[nltk_data]    |     /root/nltk_data...\n",
            "[nltk_data]    |   Package framenet_v17 is already up-to-date!\n",
            "[nltk_data]    | Downloading package gazetteers to /root/nltk_data...\n",
            "[nltk_data]    |   Package gazetteers is already up-to-date!\n",
            "[nltk_data]    | Downloading package genesis to /root/nltk_data...\n",
            "[nltk_data]    |   Package genesis is already up-to-date!\n",
            "[nltk_data]    | Downloading package gutenberg to /root/nltk_data...\n",
            "[nltk_data]    |   Package gutenberg is already up-to-date!\n",
            "[nltk_data]    | Downloading package ieer to /root/nltk_data...\n",
            "[nltk_data]    |   Package ieer is already up-to-date!\n",
            "[nltk_data]    | Downloading package inaugural to /root/nltk_data...\n",
            "[nltk_data]    |   Package inaugural is already up-to-date!\n",
            "[nltk_data]    | Downloading package indian to /root/nltk_data...\n",
            "[nltk_data]    |   Package indian is already up-to-date!\n",
            "[nltk_data]    | Downloading package jeita to /root/nltk_data...\n",
            "[nltk_data]    |   Package jeita is already up-to-date!\n",
            "[nltk_data]    | Downloading package kimmo to /root/nltk_data...\n",
            "[nltk_data]    |   Package kimmo is already up-to-date!\n",
            "[nltk_data]    | Downloading package knbc to /root/nltk_data...\n",
            "[nltk_data]    |   Package knbc is already up-to-date!\n",
            "[nltk_data]    | Downloading package lin_thesaurus to\n",
            "[nltk_data]    |     /root/nltk_data...\n",
            "[nltk_data]    |   Package lin_thesaurus is already up-to-date!\n",
            "[nltk_data]    | Downloading package mac_morpho to /root/nltk_data...\n",
            "[nltk_data]    |   Package mac_morpho is already up-to-date!\n",
            "[nltk_data]    | Downloading package machado to /root/nltk_data...\n",
            "[nltk_data]    |   Package machado is already up-to-date!\n",
            "[nltk_data]    | Downloading package masc_tagged to /root/nltk_data...\n",
            "[nltk_data]    |   Package masc_tagged is already up-to-date!\n",
            "[nltk_data]    | Downloading package moses_sample to\n",
            "[nltk_data]    |     /root/nltk_data...\n",
            "[nltk_data]    |   Package moses_sample is already up-to-date!\n",
            "[nltk_data]    | Downloading package movie_reviews to\n",
            "[nltk_data]    |     /root/nltk_data...\n",
            "[nltk_data]    |   Package movie_reviews is already up-to-date!\n",
            "[nltk_data]    | Downloading package names to /root/nltk_data...\n",
            "[nltk_data]    |   Package names is already up-to-date!\n",
            "[nltk_data]    | Downloading package nombank.1.0 to /root/nltk_data...\n",
            "[nltk_data]    |   Package nombank.1.0 is already up-to-date!\n",
            "[nltk_data]    | Downloading package nps_chat to /root/nltk_data...\n",
            "[nltk_data]    |   Package nps_chat is already up-to-date!\n",
            "[nltk_data]    | Downloading package omw to /root/nltk_data...\n",
            "[nltk_data]    |   Package omw is already up-to-date!\n",
            "[nltk_data]    | Downloading package opinion_lexicon to\n",
            "[nltk_data]    |     /root/nltk_data...\n",
            "[nltk_data]    |   Package opinion_lexicon is already up-to-date!\n",
            "[nltk_data]    | Downloading package paradigms to /root/nltk_data...\n",
            "[nltk_data]    |   Package paradigms is already up-to-date!\n",
            "[nltk_data]    | Downloading package pil to /root/nltk_data...\n",
            "[nltk_data]    |   Package pil is already up-to-date!\n",
            "[nltk_data]    | Downloading package pl196x to /root/nltk_data...\n",
            "[nltk_data]    |   Package pl196x is already up-to-date!\n",
            "[nltk_data]    | Downloading package ppattach to /root/nltk_data...\n",
            "[nltk_data]    |   Package ppattach is already up-to-date!\n",
            "[nltk_data]    | Downloading package problem_reports to\n",
            "[nltk_data]    |     /root/nltk_data...\n",
            "[nltk_data]    |   Package problem_reports is already up-to-date!\n",
            "[nltk_data]    | Downloading package propbank to /root/nltk_data...\n",
            "[nltk_data]    |   Package propbank is already up-to-date!\n",
            "[nltk_data]    | Downloading package ptb to /root/nltk_data...\n",
            "[nltk_data]    |   Package ptb is already up-to-date!\n",
            "[nltk_data]    | Downloading package product_reviews_1 to\n",
            "[nltk_data]    |     /root/nltk_data...\n",
            "[nltk_data]    |   Package product_reviews_1 is already up-to-date!\n",
            "[nltk_data]    | Downloading package product_reviews_2 to\n",
            "[nltk_data]    |     /root/nltk_data...\n",
            "[nltk_data]    |   Package product_reviews_2 is already up-to-date!\n",
            "[nltk_data]    | Downloading package pros_cons to /root/nltk_data...\n",
            "[nltk_data]    |   Package pros_cons is already up-to-date!\n",
            "[nltk_data]    | Downloading package qc to /root/nltk_data...\n",
            "[nltk_data]    |   Package qc is already up-to-date!\n",
            "[nltk_data]    | Downloading package reuters to /root/nltk_data...\n",
            "[nltk_data]    |   Package reuters is already up-to-date!\n",
            "[nltk_data]    | Downloading package rte to /root/nltk_data...\n",
            "[nltk_data]    |   Package rte is already up-to-date!\n",
            "[nltk_data]    | Downloading package semcor to /root/nltk_data...\n",
            "[nltk_data]    |   Package semcor is already up-to-date!\n",
            "[nltk_data]    | Downloading package senseval to /root/nltk_data...\n",
            "[nltk_data]    |   Package senseval is already up-to-date!\n",
            "[nltk_data]    | Downloading package sentiwordnet to\n",
            "[nltk_data]    |     /root/nltk_data...\n",
            "[nltk_data]    |   Package sentiwordnet is already up-to-date!\n",
            "[nltk_data]    | Downloading package sentence_polarity to\n",
            "[nltk_data]    |     /root/nltk_data...\n",
            "[nltk_data]    |   Package sentence_polarity is already up-to-date!\n",
            "[nltk_data]    | Downloading package shakespeare to /root/nltk_data...\n",
            "[nltk_data]    |   Package shakespeare is already up-to-date!\n",
            "[nltk_data]    | Downloading package sinica_treebank to\n",
            "[nltk_data]    |     /root/nltk_data...\n",
            "[nltk_data]    |   Package sinica_treebank is already up-to-date!\n",
            "[nltk_data]    | Downloading package smultron to /root/nltk_data...\n",
            "[nltk_data]    |   Package smultron is already up-to-date!\n",
            "[nltk_data]    | Downloading package state_union to /root/nltk_data...\n",
            "[nltk_data]    |   Package state_union is already up-to-date!\n",
            "[nltk_data]    | Downloading package stopwords to /root/nltk_data...\n",
            "[nltk_data]    |   Package stopwords is already up-to-date!\n",
            "[nltk_data]    | Downloading package subjectivity to\n",
            "[nltk_data]    |     /root/nltk_data...\n",
            "[nltk_data]    |   Package subjectivity is already up-to-date!\n",
            "[nltk_data]    | Downloading package swadesh to /root/nltk_data...\n",
            "[nltk_data]    |   Package swadesh is already up-to-date!\n",
            "[nltk_data]    | Downloading package switchboard to /root/nltk_data...\n",
            "[nltk_data]    |   Package switchboard is already up-to-date!\n",
            "[nltk_data]    | Downloading package timit to /root/nltk_data...\n",
            "[nltk_data]    |   Package timit is already up-to-date!\n",
            "[nltk_data]    | Downloading package toolbox to /root/nltk_data...\n",
            "[nltk_data]    |   Package toolbox is already up-to-date!\n",
            "[nltk_data]    | Downloading package treebank to /root/nltk_data...\n",
            "[nltk_data]    |   Package treebank is already up-to-date!\n",
            "[nltk_data]    | Downloading package twitter_samples to\n",
            "[nltk_data]    |     /root/nltk_data...\n",
            "[nltk_data]    |   Package twitter_samples is already up-to-date!\n",
            "[nltk_data]    | Downloading package udhr to /root/nltk_data...\n",
            "[nltk_data]    |   Package udhr is already up-to-date!\n",
            "[nltk_data]    | Downloading package udhr2 to /root/nltk_data...\n",
            "[nltk_data]    |   Package udhr2 is already up-to-date!\n",
            "[nltk_data]    | Downloading package unicode_samples to\n",
            "[nltk_data]    |     /root/nltk_data...\n",
            "[nltk_data]    |   Package unicode_samples is already up-to-date!\n",
            "[nltk_data]    | Downloading package universal_treebanks_v20 to\n",
            "[nltk_data]    |     /root/nltk_data...\n",
            "[nltk_data]    |   Package universal_treebanks_v20 is already up-to-\n",
            "[nltk_data]    |       date!\n",
            "[nltk_data]    | Downloading package verbnet to /root/nltk_data...\n",
            "[nltk_data]    |   Package verbnet is already up-to-date!\n",
            "[nltk_data]    | Downloading package verbnet3 to /root/nltk_data...\n",
            "[nltk_data]    |   Package verbnet3 is already up-to-date!\n",
            "[nltk_data]    | Downloading package webtext to /root/nltk_data...\n",
            "[nltk_data]    |   Package webtext is already up-to-date!\n",
            "[nltk_data]    | Downloading package wordnet to /root/nltk_data...\n",
            "[nltk_data]    |   Package wordnet is already up-to-date!\n",
            "[nltk_data]    | Downloading package wordnet_ic to /root/nltk_data...\n",
            "[nltk_data]    |   Package wordnet_ic is already up-to-date!\n",
            "[nltk_data]    | Downloading package words to /root/nltk_data...\n",
            "[nltk_data]    |   Package words is already up-to-date!\n",
            "[nltk_data]    | Downloading package ycoe to /root/nltk_data...\n",
            "[nltk_data]    |   Package ycoe is already up-to-date!\n",
            "[nltk_data]    | Downloading package rslp to /root/nltk_data...\n",
            "[nltk_data]    |   Package rslp is already up-to-date!\n",
            "[nltk_data]    | Downloading package maxent_treebank_pos_tagger to\n",
            "[nltk_data]    |     /root/nltk_data...\n",
            "[nltk_data]    |   Package maxent_treebank_pos_tagger is already up-\n",
            "[nltk_data]    |       to-date!\n",
            "[nltk_data]    | Downloading package universal_tagset to\n",
            "[nltk_data]    |     /root/nltk_data...\n",
            "[nltk_data]    |   Package universal_tagset is already up-to-date!\n",
            "[nltk_data]    | Downloading package maxent_ne_chunker to\n",
            "[nltk_data]    |     /root/nltk_data...\n",
            "[nltk_data]    |   Package maxent_ne_chunker is already up-to-date!\n",
            "[nltk_data]    | Downloading package punkt to /root/nltk_data...\n",
            "[nltk_data]    |   Package punkt is already up-to-date!\n",
            "[nltk_data]    | Downloading package book_grammars to\n",
            "[nltk_data]    |     /root/nltk_data...\n",
            "[nltk_data]    |   Package book_grammars is already up-to-date!\n",
            "[nltk_data]    | Downloading package sample_grammars to\n",
            "[nltk_data]    |     /root/nltk_data...\n",
            "[nltk_data]    |   Package sample_grammars is already up-to-date!\n",
            "[nltk_data]    | Downloading package spanish_grammars to\n",
            "[nltk_data]    |     /root/nltk_data...\n",
            "[nltk_data]    |   Package spanish_grammars is already up-to-date!\n",
            "[nltk_data]    | Downloading package basque_grammars to\n",
            "[nltk_data]    |     /root/nltk_data...\n",
            "[nltk_data]    |   Package basque_grammars is already up-to-date!\n",
            "[nltk_data]    | Downloading package large_grammars to\n",
            "[nltk_data]    |     /root/nltk_data...\n",
            "[nltk_data]    |   Package large_grammars is already up-to-date!\n",
            "[nltk_data]    | Downloading package tagsets to /root/nltk_data...\n",
            "[nltk_data]    |   Package tagsets is already up-to-date!\n",
            "[nltk_data]    | Downloading package snowball_data to\n",
            "[nltk_data]    |     /root/nltk_data...\n",
            "[nltk_data]    |   Package snowball_data is already up-to-date!\n",
            "[nltk_data]    | Downloading package bllip_wsj_no_aux to\n",
            "[nltk_data]    |     /root/nltk_data...\n",
            "[nltk_data]    |   Package bllip_wsj_no_aux is already up-to-date!\n",
            "[nltk_data]    | Downloading package word2vec_sample to\n",
            "[nltk_data]    |     /root/nltk_data...\n",
            "[nltk_data]    |   Package word2vec_sample is already up-to-date!\n",
            "[nltk_data]    | Downloading package panlex_swadesh to\n",
            "[nltk_data]    |     /root/nltk_data...\n",
            "[nltk_data]    |   Package panlex_swadesh is already up-to-date!\n",
            "[nltk_data]    | Downloading package mte_teip5 to /root/nltk_data...\n",
            "[nltk_data]    |   Package mte_teip5 is already up-to-date!\n",
            "[nltk_data]    | Downloading package averaged_perceptron_tagger to\n",
            "[nltk_data]    |     /root/nltk_data...\n",
            "[nltk_data]    |   Package averaged_perceptron_tagger is already up-\n",
            "[nltk_data]    |       to-date!\n",
            "[nltk_data]    | Downloading package averaged_perceptron_tagger_ru to\n",
            "[nltk_data]    |     /root/nltk_data...\n",
            "[nltk_data]    |   Package averaged_perceptron_tagger_ru is already\n",
            "[nltk_data]    |       up-to-date!\n",
            "[nltk_data]    | Downloading package perluniprops to\n",
            "[nltk_data]    |     /root/nltk_data...\n",
            "[nltk_data]    |   Package perluniprops is already up-to-date!\n",
            "[nltk_data]    | Downloading package nonbreaking_prefixes to\n",
            "[nltk_data]    |     /root/nltk_data...\n",
            "[nltk_data]    |   Package nonbreaking_prefixes is already up-to-date!\n",
            "[nltk_data]    | Downloading package vader_lexicon to\n",
            "[nltk_data]    |     /root/nltk_data...\n",
            "[nltk_data]    |   Package vader_lexicon is already up-to-date!\n",
            "[nltk_data]    | Downloading package porter_test to /root/nltk_data...\n",
            "[nltk_data]    |   Package porter_test is already up-to-date!\n",
            "[nltk_data]    | Downloading package wmt15_eval to /root/nltk_data...\n",
            "[nltk_data]    |   Package wmt15_eval is already up-to-date!\n",
            "[nltk_data]    | Downloading package mwa_ppdb to /root/nltk_data...\n",
            "[nltk_data]    |   Package mwa_ppdb is already up-to-date!\n",
            "[nltk_data]    | \n",
            "[nltk_data]  Done downloading collection all\n"
          ],
          "name": "stdout"
        },
        {
          "output_type": "execute_result",
          "data": {
            "text/plain": [
              "True"
            ]
          },
          "metadata": {
            "tags": []
          },
          "execution_count": 1
        }
      ]
    },
    {
      "cell_type": "code",
      "metadata": {
        "id": "O6ilQWhx6HRL",
        "outputId": "14381d51-0139-4722-a9eb-b75388f2c768",
        "colab": {
          "base_uri": "https://localhost:8080/"
        }
      },
      "source": [
        "from nltk.tokenize import word_tokenize\n",
        "\n",
        "text = word_tokenize(\"And now for something completely different\")\n",
        "nltk.pos_tag(text)"
      ],
      "execution_count": 2,
      "outputs": [
        {
          "output_type": "execute_result",
          "data": {
            "text/plain": [
              "[('And', 'CC'),\n",
              " ('now', 'RB'),\n",
              " ('for', 'IN'),\n",
              " ('something', 'NN'),\n",
              " ('completely', 'RB'),\n",
              " ('different', 'JJ')]"
            ]
          },
          "metadata": {
            "tags": []
          },
          "execution_count": 2
        }
      ]
    },
    {
      "cell_type": "markdown",
      "metadata": {
        "id": "ewPLRHIu6HRO"
      },
      "source": [
        "The brown corpus has been manually tagged with part-of-speech tags which is useful for testing taggers and for training statistical taggers. In order to read a tagged corpus we can use:"
      ]
    },
    {
      "cell_type": "code",
      "metadata": {
        "id": "YcBdV6f46HRP",
        "outputId": "fb108f65-bc25-4c77-8884-4ef1dd93c6fc",
        "colab": {
          "base_uri": "https://localhost:8080/"
        }
      },
      "source": [
        "from nltk.corpus import brown\n",
        "\n",
        "print (brown.tagged_words())"
      ],
      "execution_count": 3,
      "outputs": [
        {
          "output_type": "stream",
          "text": [
            "[('The', 'AT'), ('Fulton', 'NP-TL'), ...]\n"
          ],
          "name": "stdout"
        }
      ]
    },
    {
      "cell_type": "markdown",
      "metadata": {
        "id": "IXqMWjxi6HRS"
      },
      "source": [
        "**Exercise 1:**\n",
        "Count each POS tag assigned to the word **(ignore case)** \"world\" in the **news** category of the brown corpus."
      ]
    },
    {
      "cell_type": "code",
      "metadata": {
        "id": "4IhUjs9cVXyt",
        "outputId": "a92361cb-eede-4b5c-c1c5-5d4e90e88d73",
        "colab": {
          "base_uri": "https://localhost:8080/"
        }
      },
      "source": [
        "#your code goes here; output should be: NN: 37, NN-TL: 9\n",
        "tagged_words = brown.tagged_words(categories=['news'])\n",
        "counts = dict()\n",
        "\n",
        "for word, tag in tagged_words:\n",
        "  if word.lower() == 'world':\n",
        "    if tag in counts:\n",
        "      counts[tag] += 1\n",
        "    else:\n",
        "      counts[tag] = 1\n",
        "\n",
        "print(counts)"
      ],
      "execution_count": 4,
      "outputs": [
        {
          "output_type": "stream",
          "text": [
            "{'NN': 37, 'NN-TL': 9}\n"
          ],
          "name": "stdout"
        }
      ]
    },
    {
      "cell_type": "code",
      "metadata": {
        "id": "kct2gOzexNm5",
        "outputId": "468ec55b-e557-4068-a32b-7f99ebeb4127",
        "colab": {
          "base_uri": "https://localhost:8080/"
        }
      },
      "source": [
        "# one-liner implementation using Counter\n",
        "from collections import Counter\n",
        "Counter([tag for (word, tag) in brown.tagged_words(categories=['news']) if word.lower() == 'world'])"
      ],
      "execution_count": 5,
      "outputs": [
        {
          "output_type": "execute_result",
          "data": {
            "text/plain": [
              "Counter({'NN': 37, 'NN-TL': 9})"
            ]
          },
          "metadata": {
            "tags": []
          },
          "execution_count": 5
        }
      ]
    },
    {
      "cell_type": "code",
      "metadata": {
        "id": "bX2FXFGNyeG9",
        "outputId": "02f20178-4e82-45c2-a1dd-8993822e0f93",
        "colab": {
          "base_uri": "https://localhost:8080/"
        }
      },
      "source": [
        "# using ConditionalFreqDist in nltk\n",
        "tagged_words = brown.tagged_words(categories=['news'])\n",
        "# lower case 'world'\n",
        "tagged_words = [(word.lower(), tag) for (word, tag) in tagged_words]\n",
        "# use cond. freq. dist. given the tag\n",
        "cfd = nltk.ConditionalFreqDist(tagged_words)\n",
        "cfd['world']"
      ],
      "execution_count": 6,
      "outputs": [
        {
          "output_type": "execute_result",
          "data": {
            "text/plain": [
              "FreqDist({'NN': 37, 'NN-TL': 9})"
            ]
          },
          "metadata": {
            "tags": []
          },
          "execution_count": 6
        }
      ]
    },
    {
      "cell_type": "markdown",
      "metadata": {
        "id": "mEFQen596HRT"
      },
      "source": [
        "**Exercise 2:**\n",
        "can you get the frequency distribution of each tag in the brown corpus?  "
      ]
    },
    {
      "cell_type": "code",
      "metadata": {
        "id": "tyBqwho6VzhC",
        "outputId": "6a739115-f705-4665-fcd9-79f4c4641712",
        "colab": {
          "base_uri": "https://localhost:8080/"
        }
      },
      "source": [
        "#your code goes here; output should be \n",
        "#[('NN', 152470),('IN', 120557),('AT', 97959),....]\n",
        "tagged_words = brown.tagged_words()\n",
        "counts = dict()\n",
        "\n",
        "for word, tag in tagged_words:\n",
        "  if tag in counts:\n",
        "    counts[tag] += 1\n",
        "  else:\n",
        "    counts[tag] = 1\n",
        "\n",
        "sorted_counts = sorted(counts.items(), key=lambda c: c[1], reverse=True)\n",
        "sorted_counts[:5]"
      ],
      "execution_count": 7,
      "outputs": [
        {
          "output_type": "execute_result",
          "data": {
            "text/plain": [
              "[('NN', 152470), ('IN', 120557), ('AT', 97959), ('JJ', 64028), ('.', 60638)]"
            ]
          },
          "metadata": {
            "tags": []
          },
          "execution_count": 7
        }
      ]
    },
    {
      "cell_type": "code",
      "metadata": {
        "id": "ba8pghSvyzAL",
        "outputId": "61fbe835-0f50-4504-9a4f-7629af50c0ce",
        "colab": {
          "base_uri": "https://localhost:8080/"
        }
      },
      "source": [
        "# using Counter and map\n",
        "Counter(map(lambda x: x[1], brown.tagged_words())).most_common(5)"
      ],
      "execution_count": 8,
      "outputs": [
        {
          "output_type": "execute_result",
          "data": {
            "text/plain": [
              "[('NN', 152470), ('IN', 120557), ('AT', 97959), ('JJ', 64028), ('.', 60638)]"
            ]
          },
          "metadata": {
            "tags": []
          },
          "execution_count": 8
        }
      ]
    },
    {
      "cell_type": "code",
      "metadata": {
        "id": "8aUUynabzTLV",
        "outputId": "836fd569-f313-40a9-aee9-a2dc8bfb0c60",
        "colab": {
          "base_uri": "https://localhost:8080/"
        }
      },
      "source": [
        "# using FreqDist in nltk\n",
        "tagged_words = brown.tagged_words()\n",
        "words, tags = zip(*tagged_words)\n",
        "freq_dist = nltk.FreqDist(tags)\n",
        "freq_dist.most_common(5)"
      ],
      "execution_count": 9,
      "outputs": [
        {
          "output_type": "execute_result",
          "data": {
            "text/plain": [
              "[('NN', 152470), ('IN', 120557), ('AT', 97959), ('JJ', 64028), ('.', 60638)]"
            ]
          },
          "metadata": {
            "tags": []
          },
          "execution_count": 9
        }
      ]
    },
    {
      "cell_type": "markdown",
      "metadata": {
        "id": "irYKYRLeiWm2"
      },
      "source": [
        "**Exercise 3:**\n",
        "What are the most common verbs in **fiction** category in the brown corpus? "
      ]
    },
    {
      "cell_type": "code",
      "metadata": {
        "id": "OFjpO4XpzkHK",
        "outputId": "a182993f-b24c-48b9-b87b-032a07fc924c",
        "colab": {
          "base_uri": "https://localhost:8080/"
        }
      },
      "source": [
        "#your code goes here; output should be \n",
        "#['came': 'VBD', 'curled': 'VBD', 'ki-yi-ing': 'VBG',....]\n",
        "\n",
        "tagged_words = brown.tagged_words(categories=['fiction'])\n",
        "counts = dict()\n",
        "\n",
        "for word, tag in tagged_words:\n",
        "  if tag.startswith('VB'):\n",
        "    if (word, tag) in counts:\n",
        "      counts[(word, tag)] += 1\n",
        "    else:\n",
        "      counts[(word, tag)] = 1\n",
        "\n",
        "sorted_counts = sorted(counts.items(), key=lambda c: c[1], reverse=True)\n",
        "sorted_counts[:5]"
      ],
      "execution_count": 10,
      "outputs": [
        {
          "output_type": "execute_result",
          "data": {
            "text/plain": [
              "[(('said', 'VBD'), 177),\n",
              " (('came', 'VBD'), 91),\n",
              " (('went', 'VBD'), 79),\n",
              " (('get', 'VB'), 78),\n",
              " (('know', 'VB'), 74)]"
            ]
          },
          "metadata": {
            "tags": []
          },
          "execution_count": 10
        }
      ]
    },
    {
      "cell_type": "code",
      "metadata": {
        "id": "5WeTZ4cRzkmO",
        "outputId": "3963f5a6-f3e7-41a6-9615-f130cc0b2275",
        "colab": {
          "base_uri": "https://localhost:8080/"
        }
      },
      "source": [
        "# one-liner using Counter and list comprehension\n",
        "Counter([(word, tag) for (word, tag) in brown.tagged_words(categories=['fiction']) if tag.startswith('VB')]).most_common(5)"
      ],
      "execution_count": 11,
      "outputs": [
        {
          "output_type": "execute_result",
          "data": {
            "text/plain": [
              "[(('said', 'VBD'), 177),\n",
              " (('came', 'VBD'), 91),\n",
              " (('went', 'VBD'), 79),\n",
              " (('get', 'VB'), 78),\n",
              " (('know', 'VB'), 74)]"
            ]
          },
          "metadata": {
            "tags": []
          },
          "execution_count": 11
        }
      ]
    },
    {
      "cell_type": "code",
      "metadata": {
        "id": "Y9OYyFT2iWm3",
        "outputId": "519d9e3e-7944-4fe7-c231-dba1576350b3",
        "colab": {
          "base_uri": "https://localhost:8080/"
        }
      },
      "source": [
        "# using FreqDist in nltk\n",
        "tagged_words = brown.tagged_words(categories='fiction')\n",
        "tagged_words = [(word, tag) for (word, tag) in tagged_words if tag.startswith('VB')]\n",
        "freq_dist = nltk.FreqDist(tagged_words)\n",
        "freq_dist.most_common(5)"
      ],
      "execution_count": 12,
      "outputs": [
        {
          "output_type": "execute_result",
          "data": {
            "text/plain": [
              "[(('said', 'VBD'), 177),\n",
              " (('came', 'VBD'), 91),\n",
              " (('went', 'VBD'), 79),\n",
              " (('get', 'VB'), 78),\n",
              " (('know', 'VB'), 74)]"
            ]
          },
          "metadata": {
            "tags": []
          },
          "execution_count": 12
        }
      ]
    },
    {
      "cell_type": "markdown",
      "metadata": {
        "id": "5e75mJQ26HRU"
      },
      "source": [
        "-----------------------\n",
        "## Hidden Markov Model\n",
        "\n",
        "The sequence of tags can be veiwed as a Markov chain so let us explore the construction and solution of a Hidden Markov Model. Consider that we have an HMM with hidden states Noun, Verb, Adj and the following transition probability where $p(Y_{i+1}|Y_i)$ is the probability of state $Y_{i+1}$ occuring after $Y_i$ and the table of probabilities is as follows:\n",
        "\n",
        "\n",
        "\n",
        "| $p(Y_{i+1}|Y_i)$ | $Y_{i+1}$=Noun | $Y_{i+1}$=Verb | $Y_{i+1}$=Adj |\n",
        "|:-----------------|:--------------:|:--------------:|:-------------:|\n",
        "| $Y_i$=Start      |  0.5           |  0.4           | 0.1           |\n",
        "| $Y_i$=Noun       |  0.3           |  0.5           | 0.2           |\n",
        "| $Y_i$=Verb       |  0.7           |  0.2           | 0.1           |\n",
        "| $Y_i$=Adj        |  0.8           |  0.1           | 0.1           |\n",
        "\n",
        "Furthermore, consider that the model has a vocabulary as follows, with the probability of $p(X_i|Y_i)$ as follows \n",
        "\n",
        "| $p(X_i|Y_i)$ | cats | dogs | drink | water | milk | fresh |\n",
        "|:-------------|:----:|:----:|:-----:|:-----:|:----:|:-----:|\n",
        "| $Y_i$=Noun   | 0.2  | 0.2  |  0.2  | 0.2   | 0.1  | 0.0   |\n",
        "| $Y_i$=Verb   | 0.1  | 0.1  | 0.4   | 0.2   | 0.1  | 0.1   |\n",
        "| $Y_i$=Adj    | 0.0  | 0.0  | 0.2   | 0.0   | 0.2  | 0.8   |\n"
      ]
    },
    {
      "cell_type": "code",
      "metadata": {
        "id": "EjWdJu-36HRW"
      },
      "source": [
        "all_tags = [\"start\",\"noun\",\"verb\",\"adj\"]\n",
        "all_words = [\"cats\",\"dogs\",\"drink\",\"water\",\"milk\",\"fresh\"]"
      ],
      "execution_count": 13,
      "outputs": []
    },
    {
      "cell_type": "code",
      "metadata": {
        "id": "a2NB3y1M1NzC"
      },
      "source": [
        "transitions = {\n",
        "  'start': {'noun': 0.5, 'verb': 0.4, 'adj': 0.1, 'start': 0.0},\n",
        "  'noun': {'noun': 0.3, 'verb': 0.5, 'adj': 0.2, 'start': 0.0},\n",
        "  'verb': {'noun': 0.7, 'verb': 0.2, 'adj': 0.1, 'start': 0.0},\n",
        "  'adj': {'noun': 0.8, 'verb': 0.1, 'adj': 0.1, 'start': 0.0},\n",
        "}\n",
        "\n",
        "emissions = {\n",
        "  'noun': {'cats': 0.2, 'dogs': 0.2, 'drink': 0.2, 'fresh': 0.0, 'milk': 0.1, 'water': 0.2},\n",
        "  'verb': {'cats': 0.1, 'dogs': 0.1, 'drink': 0.4, 'fresh': 0.1, 'milk': 0.1, 'water': 0.2},\n",
        "  'adj': {'cats': 0.0, 'dogs': 0.0, 'drink': 0.2, 'fresh': 0.8, 'milk': 0.2, 'water': 0.0},\n",
        "  'start': {'cats': 0.0, 'dogs': 0.0, 'drink': 0.0, 'fresh': 0.0, 'milk': 0.0, 'water': 0.0},\n",
        "}\n"
      ],
      "execution_count": 14,
      "outputs": []
    },
    {
      "cell_type": "markdown",
      "metadata": {
        "id": "XtxiCCz-6HRV"
      },
      "source": [
        "**Exercise 4:**\n",
        "\n",
        "Implement the above table and write a function that takes a sequence of words and a sequence of part-of-speech tags and returns the probability using the above model. Calculate the probability of the sentence \"cats drink fresh milk\" given the tags \"noun verb adj noun\""
      ]
    },
    {
      "cell_type": "code",
      "metadata": {
        "id": "w5LuZ9y06HRY",
        "outputId": "b524c589-5c97-4627-acb7-aee66556126b",
        "colab": {
          "base_uri": "https://localhost:8080/"
        }
      },
      "source": [
        "# refer to slides 12-17 in Week 5 Lecture\n",
        "\n",
        "def hmm_prob_with_state(words, tags):\n",
        "    prob = 1.0\n",
        "    \n",
        "    prev_tag = 'start'   # same as t0 on slide 14\n",
        "\n",
        "    for tag, word in zip(tags, words):\n",
        "      prob = prob * transitions[prev_tag][tag] * emissions[tag][word]\n",
        "      prev_tag = tag\n",
        "\n",
        "    return prob\n",
        "\n",
        "print(hmm_prob_with_state([\"cats\",\"drink\",\"fresh\",\"milk\"],\n",
        "                          [\"noun\",\"verb\",\"adj\",\"noun\"]))\n",
        "#expected output should be 0.000128"
      ],
      "execution_count": 15,
      "outputs": [
        {
          "output_type": "stream",
          "text": [
            "0.00012800000000000005\n"
          ],
          "name": "stdout"
        }
      ]
    },
    {
      "cell_type": "markdown",
      "metadata": {
        "id": "vyF63Mt76HRc"
      },
      "source": [
        "**Exercise 5:**\n",
        "\n",
        "Using the Forward (dynamic programming) algorithm, write a function that calculates the likelihood of a sequence of words. Find the probability of the sentence \"Cats drink fresh milk\""
      ]
    },
    {
      "cell_type": "code",
      "metadata": {
        "id": "mfp_tl3m6HRd",
        "outputId": "92fc7915-93e6-46a8-ba10-013a56101c86",
        "colab": {
          "base_uri": "https://localhost:8080/"
        }
      },
      "source": [
        "# refer to slides 36-40\n",
        "def hmm_lm(words):\n",
        "    probs = {tag:[0] for tag in all_tags}\n",
        "\n",
        "    # probs[t][i] = probability that word at position i has tag t\n",
        "    probs['start'][0] = 1\n",
        "\n",
        "    for i, word in enumerate(words):\n",
        "      for tag in all_tags:  # find the probabilty of each tag given current word\n",
        "        probs[tag].append(0)\n",
        "        if tag != \"start\":\n",
        "          for prev_tag in all_tags: # find the probability of each tag given previous tag (law of total probability)\n",
        "            probs[tag][i+1] += probs[prev_tag][i] * transitions[prev_tag][tag]\n",
        "          probs[tag][i+1] *= emissions[tag][word]\n",
        "\n",
        "    # sum to get the probability of the last word with each tag\n",
        "    return sum(probs[tag][-1] for tag in all_tags)\n",
        "  \n",
        "print(hmm_lm([\"cats\",\"drink\",\"fresh\",\"milk\"]))\n",
        "#expected output should be 0.00057068"
      ],
      "execution_count": 16,
      "outputs": [
        {
          "output_type": "stream",
          "text": [
            "0.0005706800000000003\n"
          ],
          "name": "stdout"
        }
      ]
    },
    {
      "cell_type": "markdown",
      "metadata": {
        "id": "IxY-BPjN6HRg"
      },
      "source": [
        "**Exercise 6:**\n",
        "\n",
        "Write a function that finds the most likely sequence of part-of-speech tags for a given sequence of words using the Viterbi algorithm."
      ]
    },
    {
      "cell_type": "code",
      "metadata": {
        "id": "Hcz9PXFi6HRg",
        "outputId": "697e17d3-e187-4a1b-d924-44ea47043724",
        "colab": {
          "base_uri": "https://localhost:8080/"
        }
      },
      "source": [
        "# viterbi algorithm implemented as modified version of the forward algorithm\n",
        "def hmm_map(words):\n",
        "    probs = {tag:[0] for tag in all_tags}\n",
        "\n",
        "    # probs[t][i] stores the probability of word at position i has tag t; same as mem table in the slides\n",
        "    probs['start'][0] = 1\n",
        "\n",
        "    # viterbi[i][tag] stores the best tag sequence till position i; same as y table in the slides\n",
        "    viterbi = [{tag: [] for tag in all_tags}]\n",
        "\n",
        "    for i, word in enumerate(words):\n",
        "      viterbi.append({}) # state in dp-table\n",
        "\n",
        "      for tag in all_tags:  # find the probabilty of each tag given current word\n",
        "        probs[tag].append(0)\n",
        "        # modify the forward algorithm here; instead of calculating the sum, find the max. probability so far\n",
        "        if tag != \"start\":\n",
        "          best_tag = ''\n",
        "          best_prob = 0.0\n",
        "          for prev_tag in all_tags: # find the best probability so far\n",
        "            curr_prob = probs[prev_tag][i] * transitions[prev_tag][tag]\n",
        "            if curr_prob > best_prob:\n",
        "              best_prob = curr_prob\n",
        "              best_tag = prev_tag\n",
        "          probs[tag][i+1] = transitions[best_tag][tag] * emissions[tag][word]\n",
        "          \n",
        "          # save the transition to the dp-table\n",
        "          viterbi[i+1][tag] = viterbi[i][best_tag] + [tag]\n",
        "    \n",
        "    # return the best tag sequence based on the best last word\n",
        "    best_prob = 0.0\n",
        "    best_tag = ''\n",
        "\n",
        "    for tag in all_tags:\n",
        "      prob = probs[tag][-1]\n",
        "      if prob > best_prob:\n",
        "        best_prob = prob\n",
        "        best_tag = tag\n",
        "    \n",
        "    return viterbi[-1][best_tag]\n",
        "\n",
        "print(hmm_map([\"cats\",\"drink\",\"fresh\",\"milk\"]))"
      ],
      "execution_count": 17,
      "outputs": [
        {
          "output_type": "stream",
          "text": [
            "['noun', 'verb', 'adj', 'noun']\n"
          ],
          "name": "stdout"
        }
      ]
    },
    {
      "cell_type": "code",
      "metadata": {
        "id": "YZvjhTqG9KH9",
        "outputId": "82632cbb-b0b4-4c88-bb56-fd18f7c75b04",
        "colab": {
          "base_uri": "https://localhost:8080/"
        }
      },
      "source": [
        "# recursive algorithm for hmm (without dp)\n",
        "def pi(words, s, i):\n",
        "  if i == 0 and s == \"start\":\n",
        "    return 1.0\n",
        "  \n",
        "  if i == 0:\n",
        "    return 0.0\n",
        "\n",
        "  best_prob = 0.0\n",
        "  best_tag = ''\n",
        "\n",
        "  for t in all_tags:\n",
        "    prob = transitions[t][s] * emissions[s][words[i]] * pi(words, t, i-1)\n",
        "    if prob > best_prob:\n",
        "      best_prob = prob\n",
        "      best_tag = t\n",
        "  \n",
        "  return best_prob\n",
        "\n",
        "words = [\"cats\",\"drink\",\"fresh\",\"milk\"]\n",
        "\n",
        "best_prob = 0.0\n",
        "for tag in all_tags:\n",
        "  best_prob = max(best_prob, pi(words, tag, len(words)-1))\n",
        "\n",
        "print(best_prob)"
      ],
      "execution_count": 18,
      "outputs": [
        {
          "output_type": "stream",
          "text": [
            "0.0012800000000000005\n"
          ],
          "name": "stdout"
        }
      ]
    },
    {
      "cell_type": "code",
      "metadata": {
        "id": "MHPkqwJ653CT",
        "outputId": "d2361b91-dc92-45ae-940e-94bc86562a7d",
        "colab": {
          "base_uri": "https://localhost:8080/"
        }
      },
      "source": [
        "# recursive algorithm with dp-table mem\n",
        "mem = dict()\n",
        "\n",
        "def pi(words, s, i):\n",
        "  if i == 0 and s == \"start\":\n",
        "    return 1.0\n",
        "  \n",
        "  if i == 0:\n",
        "    return 0.0\n",
        "\n",
        "  if (s, i) in mem:     # memoization / caching / dynamic programming\n",
        "    return mem[(s, i)]\n",
        "\n",
        "  best_prob = 0.0\n",
        "  best_tag = ''\n",
        "\n",
        "  for t in all_tags:\n",
        "    prob = transitions[t][s] * emissions[s][words[i]] * pi(words, t, i-1)\n",
        "    if prob > best_prob:\n",
        "      best_prob = prob\n",
        "      best_tag = t\n",
        "  \n",
        "  mem[(s, i)] = best_prob  # save result to dp table\n",
        "\n",
        "  return mem[(s, i)]\n",
        "\n",
        "words = [\"cats\",\"drink\",\"fresh\",\"milk\"]\n",
        "\n",
        "best_prob = 0.0\n",
        "for tag in all_tags:\n",
        "  best_prob = max(best_prob, pi(words, tag, len(words)-1))\n",
        "\n",
        "print(best_prob)"
      ],
      "execution_count": 19,
      "outputs": [
        {
          "output_type": "stream",
          "text": [
            "0.0012800000000000005\n"
          ],
          "name": "stdout"
        }
      ]
    },
    {
      "cell_type": "markdown",
      "metadata": {
        "id": "8Lqo9lLBA0GY"
      },
      "source": [
        "In the above two solutions we only print the max. probability associated with the best tags but not the actual tags themselves. To get the actual tags, we need to save them at each position i."
      ]
    },
    {
      "cell_type": "code",
      "metadata": {
        "id": "h9tJ2qr6BHhk",
        "outputId": "a5aebe58-677e-4f65-8eab-388ec5d6a410",
        "colab": {
          "base_uri": "https://localhost:8080/"
        }
      },
      "source": [
        "# recursive algorithm with dp-table mem and viterbi table\n",
        "\n",
        "def pi(words, s, i):\n",
        "  if i == 0 and s == \"start\":\n",
        "    return 1.0\n",
        "  \n",
        "  if i == 0:\n",
        "    return 0.0\n",
        "\n",
        "  if (s, i) in mem:     # memoization / caching / dynamic programming\n",
        "    return mem[(s, i)]\n",
        "\n",
        "  best_prob = 0.0\n",
        "  best_tag = ''\n",
        "\n",
        "  for t in all_tags:\n",
        "    prob = transitions[t][s] * emissions[s][words[i]] * pi(words, t, i-1)\n",
        "    if prob > best_prob:\n",
        "      best_prob = prob\n",
        "      best_tag = t\n",
        "  \n",
        "  mem[(s, i)] = best_prob  # save best probability the to dp table\n",
        "\n",
        "  if best_tag != '':\n",
        "    viterbi[i][s] = viterbi[i-1][best_tag] + [s]   # save the best tag state to the dp-table\n",
        "\n",
        "  return mem[(s, i)]\n",
        "\n",
        "\n",
        "\n",
        "words = [\"\", \"cats\",\"drink\",\"fresh\",\"milk\"]   # add a dummy string at the start to match with the 'start' tag\n",
        "\n",
        "mem = dict()\n",
        "viterbi = [{tag: [] for tag in all_tags} for i in range(len(words))]\n",
        "\n",
        "best_prob = 0.0\n",
        "best_seq = []\n",
        "\n",
        "for tag in all_tags:\n",
        "  prob = pi(words, tag, len(words)-1)\n",
        "  if best_prob < prob:\n",
        "    best_prob = prob\n",
        "    best_seq = viterbi[-1][tag]\n",
        "\n",
        "print(best_prob)\n",
        "print(best_seq)"
      ],
      "execution_count": 20,
      "outputs": [
        {
          "output_type": "stream",
          "text": [
            "0.00012800000000000008\n",
            "['noun', 'verb', 'adj', 'noun']\n"
          ],
          "name": "stdout"
        }
      ]
    },
    {
      "cell_type": "markdown",
      "metadata": {
        "id": "6hoxYGEA6HRj"
      },
      "source": [
        "**Exercise 7:**\n",
        "\n",
        "Consider the following corpus:"
      ]
    },
    {
      "cell_type": "code",
      "metadata": {
        "id": "HQgecDP_iviU"
      },
      "source": [
        "sentences = [\n",
        "    [\"cats\",\"drink\",\"milk\"],\n",
        "    [\"dogs\",\"drink\",\"water\"],\n",
        "    [\"fresh\",\"milk\"],\n",
        "    [\"dogs\",\"drink\",\"fresh\",\"milk\"],\n",
        "    [\"cats\",\"milk\"]\n",
        "]\n",
        "\n",
        "tagged = [\n",
        "    [\"noun\",\"verb\",\"noun\"],\n",
        "    [\"noun\",\"verb\",\"noun\"],\n",
        "    [\"adj\",\"noun\"],\n",
        "    [\"noun\",\"verb\",\"adj\",\"noun\"],\n",
        "    [\"noun\",\"noun\"]\n",
        "]"
      ],
      "execution_count": 21,
      "outputs": []
    },
    {
      "cell_type": "markdown",
      "metadata": {
        "id": "POEj0zpO6HRm"
      },
      "source": [
        "Write a function that learns the emission and transition probabilities for the Hidden Markov Model"
      ]
    },
    {
      "cell_type": "code",
      "metadata": {
        "id": "tU4rcM7L6HRn",
        "outputId": "2b63b9a5-51b3-4c09-b888-e39960869d1c",
        "colab": {
          "base_uri": "https://localhost:8080/"
        }
      },
      "source": [
        "# refer to slides 44-47\n",
        "def hmm_learn(sentences, tagged):\n",
        "    transitions = {t:{t2:0.0 for t2 in all_tags} for t in all_tags}\n",
        "    emissions    = {t:{w:0.0 for w in all_words} for t in all_tags}\n",
        "\n",
        "    transition_counts = {t:{t2:0 for t2 in all_tags} for t in all_tags}\n",
        "    emission_counts    = {t:{w:0 for w in all_words} for t in all_tags}\n",
        "    \n",
        "    # count all tag transitions and word emissions\n",
        "    for sentence, tags in zip(sentences, tagged):\n",
        "      prev = 'start'\n",
        "      \n",
        "      for word, tag in zip(sentence, tags):\n",
        "        transition_counts[prev][tag] += 1\n",
        "        emission_counts[tag][word] += 1\n",
        "        prev = tag\n",
        "\n",
        "    # normalize counts to get transition and emission probabilities\n",
        "    for tag in all_tags:\n",
        "      transition_from = sum(transition_counts[tag].values())\n",
        "\n",
        "      if transition_from > 0:  # avoid dividing by zero\n",
        "        for next_tag in all_tags:\n",
        "          transitions[tag][next_tag] = transition_counts[tag][next_tag] / transition_from\n",
        "      \n",
        "      emission_from = sum(emission_counts[tag].values())\n",
        "      if emission_from > 0:   # avoid dividing by zero\n",
        "        for word in all_words:\n",
        "          emissions[tag][word] = emission_counts[tag][word] / emission_from\n",
        "      \n",
        "    return transitions, emissions\n",
        "\n",
        "transitions, emissions = hmm_learn(sentences, tagged)\n",
        "\n",
        "import pprint\n",
        "print('Transitions')\n",
        "pprint.pprint(transitions)\n",
        "print('\\n')\n",
        "print('Emissions')\n",
        "pprint.pprint(emissions)"
      ],
      "execution_count": 22,
      "outputs": [
        {
          "output_type": "stream",
          "text": [
            "Transitions\n",
            "{'adj': {'adj': 0.0, 'noun': 1.0, 'start': 0.0, 'verb': 0.0},\n",
            " 'noun': {'adj': 0.0, 'noun': 0.25, 'start': 0.0, 'verb': 0.75},\n",
            " 'start': {'adj': 0.2, 'noun': 0.8, 'start': 0.0, 'verb': 0.0},\n",
            " 'verb': {'adj': 0.3333333333333333,\n",
            "          'noun': 0.6666666666666666,\n",
            "          'start': 0.0,\n",
            "          'verb': 0.0}}\n",
            "\n",
            "\n",
            "Emissions\n",
            "{'adj': {'cats': 0.0,\n",
            "         'dogs': 0.0,\n",
            "         'drink': 0.0,\n",
            "         'fresh': 1.0,\n",
            "         'milk': 0.0,\n",
            "         'water': 0.0},\n",
            " 'noun': {'cats': 0.2222222222222222,\n",
            "          'dogs': 0.2222222222222222,\n",
            "          'drink': 0.0,\n",
            "          'fresh': 0.0,\n",
            "          'milk': 0.4444444444444444,\n",
            "          'water': 0.1111111111111111},\n",
            " 'start': {'cats': 0.0,\n",
            "           'dogs': 0.0,\n",
            "           'drink': 0.0,\n",
            "           'fresh': 0.0,\n",
            "           'milk': 0.0,\n",
            "           'water': 0.0},\n",
            " 'verb': {'cats': 0.0,\n",
            "          'dogs': 0.0,\n",
            "          'drink': 1.0,\n",
            "          'fresh': 0.0,\n",
            "          'milk': 0.0,\n",
            "          'water': 0.0}}\n"
          ],
          "name": "stdout"
        }
      ]
    },
    {
      "cell_type": "markdown",
      "metadata": {
        "id": "ZAqqsXeI6HRp"
      },
      "source": [
        "**Exercise 8:**\n",
        "\n",
        "Using the probability matrices you calculated in exercise 7, show that the probability of the sentence \"fresh fresh milk\" is zero. Suggest how you could change your calculation in exercise 7 to ensure that no sentence produces zero probability?"
      ]
    },
    {
      "cell_type": "code",
      "metadata": {
        "id": "aPH76Y2Y5emd",
        "outputId": "d12cbbdb-d78d-493d-e5f2-db7caa0a641c",
        "colab": {
          "base_uri": "https://localhost:8080/"
        }
      },
      "source": [
        "transitions, emissions = hmm_learn(sentences, tagged)\n",
        "tag_transition, word_transition = hmm_learn(sentences, tagged)\n",
        "print(hmm_lm([\"fresh\",\"fresh\",\"milk\"]))"
      ],
      "execution_count": 23,
      "outputs": [
        {
          "output_type": "stream",
          "text": [
            "0.0\n"
          ],
          "name": "stdout"
        }
      ]
    },
    {
      "cell_type": "code",
      "metadata": {
        "id": "b-MS1noO6HRq",
        "outputId": "e75e3174-cf2a-47b6-e7e5-9dc99e096cdc",
        "colab": {
          "base_uri": "https://localhost:8080/"
        }
      },
      "source": [
        "def hmm_learn2(sentences, tagged):\n",
        "    transitions = {t:{t2:0.0 for t2 in all_tags} for t in all_tags}\n",
        "    emissions    = {t:{w:0.0 for w in all_words} for t in all_tags}\n",
        "\n",
        "    transition_counts = {t:{t2:1 for t2 in all_tags} for t in all_tags} # add-one to avoid zero probability\n",
        "    emission_counts    = {t:{w:1 for w in all_words} for t in all_tags} # add-one to avoid zero probability\n",
        "    \n",
        "    # count all tag transitions and word emissions\n",
        "    for sentence, tags in zip(sentences, tagged):\n",
        "      prev = 'start'\n",
        "      \n",
        "      for word, tag in zip(sentence, tags):\n",
        "        transition_counts[prev][tag] += 1\n",
        "        emission_counts[tag][word] += 1\n",
        "        prev = tag\n",
        "\n",
        "    for tag in all_tags:\n",
        "      transition_from = sum(transition_counts[tag].values())\n",
        "      if transition_from > 0: # avoid dividing by zero\n",
        "        for next_tag in all_tags:\n",
        "          transitions[tag][next_tag] = transition_counts[tag][next_tag] / transition_from\n",
        "      \n",
        "      emission_from = sum(emission_counts[tag].values())\n",
        "      if emission_from > 0: # avoid dividing by zero\n",
        "        for word in all_words:\n",
        "          emissions[tag][word] = emission_counts[tag][word] / emission_from\n",
        "      \n",
        "    return transitions, emissions\n",
        "\n",
        "transitions, emissions = hmm_learn2(sentences, tagged)\n",
        "print(hmm_lm([\"fresh\",\"fresh\",\"milk\"]))"
      ],
      "execution_count": 24,
      "outputs": [
        {
          "output_type": "stream",
          "text": [
            "0.003020545852657478\n"
          ],
          "name": "stdout"
        }
      ]
    },
    {
      "cell_type": "code",
      "metadata": {
        "id": "OWN5uBCxKSfG"
      },
      "source": [
        ""
      ],
      "execution_count": 24,
      "outputs": []
    }
  ]
}